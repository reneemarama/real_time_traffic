{
 "cells": [
  {
   "cell_type": "code",
   "execution_count": 1,
   "metadata": {},
   "outputs": [
    {
     "name": "stderr",
     "output_type": "stream",
     "text": [
      "/Users/rwilkening/opt/anaconda3/lib/python3.7/site-packages/statsmodels/tools/_testing.py:19: FutureWarning: pandas.util.testing is deprecated. Use the functions in the public API at pandas.testing instead.\n",
      "  import pandas.util.testing as tm\n"
     ]
    }
   ],
   "source": [
    "    #General\n",
    "import pandas as pd\n",
    "import numpy as np\n",
    "\n",
    "\n",
    "    #Plotting\n",
    "import matplotlib.pyplot as plt\n",
    "import seaborn as sns\n",
    "\n",
    "    #nltk and regex packages\n",
    "import regex as re\n",
    "from nltk.tokenize import RegexpTokenizer\n",
    "from nltk.corpus import stopwords\n",
    "from nltk.stem import WordNetLemmatizer\n",
    "from nltk.sentiment.vader import SentimentIntensityAnalyzer\n",
    "\n",
    "\n",
    "    #Sklearn Packages\n",
    "from sklearn.feature_extraction.text import CountVectorizer, TfidfVectorizer\n",
    "from sklearn.feature_extraction import stop_words, text\n",
    "\n",
    "%config InlineBackend.figure_format = 'retina'"
   ]
  },
  {
   "cell_type": "code",
   "execution_count": 24,
   "metadata": {},
   "outputs": [],
   "source": [
    "df = pd.read_csv(\"./Datasets/big_df.csv\")"
   ]
  },
  {
   "cell_type": "code",
   "execution_count": 25,
   "metadata": {},
   "outputs": [
    {
     "data": {
      "text/html": [
       "<div>\n",
       "<style scoped>\n",
       "    .dataframe tbody tr th:only-of-type {\n",
       "        vertical-align: middle;\n",
       "    }\n",
       "\n",
       "    .dataframe tbody tr th {\n",
       "        vertical-align: top;\n",
       "    }\n",
       "\n",
       "    .dataframe thead th {\n",
       "        text-align: right;\n",
       "    }\n",
       "</style>\n",
       "<table border=\"1\" class=\"dataframe\">\n",
       "  <thead>\n",
       "    <tr style=\"text-align: right;\">\n",
       "      <th></th>\n",
       "      <th>screen_name</th>\n",
       "      <th>username</th>\n",
       "      <th>user_id</th>\n",
       "      <th>tweet_id</th>\n",
       "      <th>tweet_url</th>\n",
       "      <th>timestamp</th>\n",
       "      <th>timestamp_epochs</th>\n",
       "      <th>text</th>\n",
       "      <th>text_html</th>\n",
       "      <th>links</th>\n",
       "      <th>...</th>\n",
       "      <th>img_urls</th>\n",
       "      <th>video_url</th>\n",
       "      <th>likes</th>\n",
       "      <th>retweets</th>\n",
       "      <th>replies</th>\n",
       "      <th>is_replied</th>\n",
       "      <th>is_reply_to</th>\n",
       "      <th>parent_tweet_id</th>\n",
       "      <th>reply_to_users</th>\n",
       "      <th>query</th>\n",
       "    </tr>\n",
       "  </thead>\n",
       "  <tbody>\n",
       "    <tr>\n",
       "      <th>0</th>\n",
       "      <td>EPCFIRM</td>\n",
       "      <td>EPCF #GreenNewDeal #SunriseMovement</td>\n",
       "      <td>836834627771850752</td>\n",
       "      <td>1188564512669962240</td>\n",
       "      <td>/EPCFIRM/status/1188564512669962240</td>\n",
       "      <td>2019-10-27 21:13:56</td>\n",
       "      <td>1572210836</td>\n",
       "      <td>Our hearts go out to Californians affected by ...</td>\n",
       "      <td>&lt;p class=\"TweetTextSize js-tweet-text tweet-te...</td>\n",
       "      <td>[]</td>\n",
       "      <td>...</td>\n",
       "      <td>['https://pbs.twimg.com/media/EH6hH4FVAAA6ZA_....</td>\n",
       "      <td>NaN</td>\n",
       "      <td>8</td>\n",
       "      <td>1</td>\n",
       "      <td>1</td>\n",
       "      <td>True</td>\n",
       "      <td>False</td>\n",
       "      <td>NaN</td>\n",
       "      <td>[]</td>\n",
       "      <td>saddleridgefire</td>\n",
       "    </tr>\n",
       "    <tr>\n",
       "      <th>1</th>\n",
       "      <td>jsingpubhealth</td>\n",
       "      <td>Jason Singson</td>\n",
       "      <td>3320904614</td>\n",
       "      <td>1188545671076298752</td>\n",
       "      <td>/jsingpubhealth/status/1188545671076298752</td>\n",
       "      <td>2019-10-27 19:59:04</td>\n",
       "      <td>1572206344</td>\n",
       "      <td>From the #SaddleridgeFire to the #KincadeFire,...</td>\n",
       "      <td>&lt;p class=\"TweetTextSize js-tweet-text tweet-te...</td>\n",
       "      <td>['https://twitter.com/CAgovernor/status/118852...</td>\n",
       "      <td>...</td>\n",
       "      <td>[]</td>\n",
       "      <td>NaN</td>\n",
       "      <td>1</td>\n",
       "      <td>0</td>\n",
       "      <td>0</td>\n",
       "      <td>False</td>\n",
       "      <td>False</td>\n",
       "      <td>NaN</td>\n",
       "      <td>[]</td>\n",
       "      <td>saddleridgefire</td>\n",
       "    </tr>\n",
       "  </tbody>\n",
       "</table>\n",
       "<p>2 rows × 22 columns</p>\n",
       "</div>"
      ],
      "text/plain": [
       "      screen_name                             username             user_id  \\\n",
       "0         EPCFIRM  EPCF #GreenNewDeal #SunriseMovement  836834627771850752   \n",
       "1  jsingpubhealth                        Jason Singson          3320904614   \n",
       "\n",
       "              tweet_id                                   tweet_url  \\\n",
       "0  1188564512669962240         /EPCFIRM/status/1188564512669962240   \n",
       "1  1188545671076298752  /jsingpubhealth/status/1188545671076298752   \n",
       "\n",
       "             timestamp  timestamp_epochs  \\\n",
       "0  2019-10-27 21:13:56        1572210836   \n",
       "1  2019-10-27 19:59:04        1572206344   \n",
       "\n",
       "                                                text  \\\n",
       "0  Our hearts go out to Californians affected by ...   \n",
       "1  From the #SaddleridgeFire to the #KincadeFire,...   \n",
       "\n",
       "                                           text_html  \\\n",
       "0  <p class=\"TweetTextSize js-tweet-text tweet-te...   \n",
       "1  <p class=\"TweetTextSize js-tweet-text tweet-te...   \n",
       "\n",
       "                                               links  ...  \\\n",
       "0                                                 []  ...   \n",
       "1  ['https://twitter.com/CAgovernor/status/118852...  ...   \n",
       "\n",
       "                                            img_urls  video_url likes  \\\n",
       "0  ['https://pbs.twimg.com/media/EH6hH4FVAAA6ZA_....        NaN     8   \n",
       "1                                                 []        NaN     1   \n",
       "\n",
       "   retweets  replies  is_replied  is_reply_to  parent_tweet_id  \\\n",
       "0         1        1        True        False              NaN   \n",
       "1         0        0       False        False              NaN   \n",
       "\n",
       "   reply_to_users            query  \n",
       "0              []  saddleridgefire  \n",
       "1              []  saddleridgefire  \n",
       "\n",
       "[2 rows x 22 columns]"
      ]
     },
     "execution_count": 25,
     "metadata": {},
     "output_type": "execute_result"
    }
   ],
   "source": [
    "df.head(2)"
   ]
  },
  {
   "cell_type": "code",
   "execution_count": 26,
   "metadata": {},
   "outputs": [],
   "source": [
    "text_df = df[['text', 'query']]"
   ]
  },
  {
   "cell_type": "code",
   "execution_count": 27,
   "metadata": {},
   "outputs": [
    {
     "data": {
      "text/html": [
       "<div>\n",
       "<style scoped>\n",
       "    .dataframe tbody tr th:only-of-type {\n",
       "        vertical-align: middle;\n",
       "    }\n",
       "\n",
       "    .dataframe tbody tr th {\n",
       "        vertical-align: top;\n",
       "    }\n",
       "\n",
       "    .dataframe thead th {\n",
       "        text-align: right;\n",
       "    }\n",
       "</style>\n",
       "<table border=\"1\" class=\"dataframe\">\n",
       "  <thead>\n",
       "    <tr style=\"text-align: right;\">\n",
       "      <th></th>\n",
       "      <th>text</th>\n",
       "      <th>query</th>\n",
       "    </tr>\n",
       "  </thead>\n",
       "  <tbody>\n",
       "    <tr>\n",
       "      <th>0</th>\n",
       "      <td>Our hearts go out to Californians affected by ...</td>\n",
       "      <td>saddleridgefire</td>\n",
       "    </tr>\n",
       "    <tr>\n",
       "      <th>1</th>\n",
       "      <td>From the #SaddleridgeFire to the #KincadeFire,...</td>\n",
       "      <td>saddleridgefire</td>\n",
       "    </tr>\n",
       "    <tr>\n",
       "      <th>2</th>\n",
       "      <td>Our #SaddleridgeFire leaped a 12 lane major fr...</td>\n",
       "      <td>saddleridgefire</td>\n",
       "    </tr>\n",
       "    <tr>\n",
       "      <th>3</th>\n",
       "      <td>Good Morning, Sam!\\nAll is well here. However,...</td>\n",
       "      <td>saddleridgefire</td>\n",
       "    </tr>\n",
       "    <tr>\n",
       "      <th>4</th>\n",
       "      <td>Was your property or home damaged by the #Sadd...</td>\n",
       "      <td>saddleridgefire</td>\n",
       "    </tr>\n",
       "    <tr>\n",
       "      <th>...</th>\n",
       "      <td>...</td>\n",
       "      <td>...</td>\n",
       "    </tr>\n",
       "    <tr>\n",
       "      <th>9175</th>\n",
       "      <td>Former state lawmaker says he's got a plan to ...</td>\n",
       "      <td>KNX1070</td>\n",
       "    </tr>\n",
       "    <tr>\n",
       "      <th>9176</th>\n",
       "      <td>Totally makes sense to do this midday</td>\n",
       "      <td>KNX1070</td>\n",
       "    </tr>\n",
       "    <tr>\n",
       "      <th>9177</th>\n",
       "      <td>A Sanford, Maine mom says her 9-year-old birac...</td>\n",
       "      <td>KNX1070</td>\n",
       "    </tr>\n",
       "    <tr>\n",
       "      <th>9178</th>\n",
       "      <td>I noticed it in Anaheim Hills, it looks crazy!</td>\n",
       "      <td>KNX1070</td>\n",
       "    </tr>\n",
       "    <tr>\n",
       "      <th>9179</th>\n",
       "      <td>The copyright owners of the \"Charlie Brown Chr...</td>\n",
       "      <td>KNX1070</td>\n",
       "    </tr>\n",
       "  </tbody>\n",
       "</table>\n",
       "<p>9180 rows × 2 columns</p>\n",
       "</div>"
      ],
      "text/plain": [
       "                                                   text            query\n",
       "0     Our hearts go out to Californians affected by ...  saddleridgefire\n",
       "1     From the #SaddleridgeFire to the #KincadeFire,...  saddleridgefire\n",
       "2     Our #SaddleridgeFire leaped a 12 lane major fr...  saddleridgefire\n",
       "3     Good Morning, Sam!\\nAll is well here. However,...  saddleridgefire\n",
       "4     Was your property or home damaged by the #Sadd...  saddleridgefire\n",
       "...                                                 ...              ...\n",
       "9175  Former state lawmaker says he's got a plan to ...          KNX1070\n",
       "9176             Totally makes sense to do this midday           KNX1070\n",
       "9177  A Sanford, Maine mom says her 9-year-old birac...          KNX1070\n",
       "9178     I noticed it in Anaheim Hills, it looks crazy!          KNX1070\n",
       "9179  The copyright owners of the \"Charlie Brown Chr...          KNX1070\n",
       "\n",
       "[9180 rows x 2 columns]"
      ]
     },
     "execution_count": 27,
     "metadata": {},
     "output_type": "execute_result"
    }
   ],
   "source": [
    "text_df"
   ]
  },
  {
   "cell_type": "code",
   "execution_count": 12,
   "metadata": {},
   "outputs": [],
   "source": [
    "# text_df['hashtags'] = "
   ]
  },
  {
   "cell_type": "code",
   "execution_count": 22,
   "metadata": {},
   "outputs": [
    {
     "data": {
      "text/plain": [
       "'From the #SaddleridgeFire to the #KincadeFire, as well as many emerging small/large fires today, we have quickly seen how California can be brought to a halt. Public health/EP/EMS departments are going to be in overdrive. We must be realistic about our future.https://twitter.com/CAgovernor/status/1188523109051027456\\xa0…'"
      ]
     },
     "execution_count": 22,
     "metadata": {},
     "output_type": "execute_result"
    }
   ],
   "source": [
    "text_df.iloc[1, :]['text']"
   ]
  },
  {
   "cell_type": "markdown",
   "metadata": {},
   "source": [
    "#### Pulling Out Hashtags From Text"
   ]
  },
  {
   "cell_type": "code",
   "execution_count": 20,
   "metadata": {},
   "outputs": [],
   "source": [
    "#Adapted from: https://gist.github.com/mahmoud/237eb20108b5805aed5f\n",
    "\n",
    "hashtag_re = re.compile(\"(?:^|\\s)[＃#]{1}(\\w+)\", re.UNICODE)"
   ]
  },
  {
   "cell_type": "markdown",
   "metadata": {},
   "source": [
    "#### Pulling out the hashtags for specified .iloc"
   ]
  },
  {
   "cell_type": "code",
   "execution_count": 23,
   "metadata": {},
   "outputs": [
    {
     "data": {
      "text/plain": [
       "['SaddleridgeFire', 'KincadeFire']"
      ]
     },
     "execution_count": 23,
     "metadata": {},
     "output_type": "execute_result"
    }
   ],
   "source": [
    "hashtag_re.findall(text_df.iloc[1, :]['text'])"
   ]
  },
  {
   "cell_type": "code",
   "execution_count": 68,
   "metadata": {},
   "outputs": [],
   "source": [
    "text_df['hashtags'] = None\n",
    "\n",
    "for n in range(len(text_df['text'])):\n",
    "    \n",
    "    try: \n",
    "        text_df['hashtags'] = hashtag_re.findall(text_df.iloc[n,:]['text'])\n",
    "        \n",
    "    except:\n",
    "        pass"
   ]
  },
  {
   "cell_type": "markdown",
   "metadata": {},
   "source": [
    "#### Checking to See if it Worked"
   ]
  },
  {
   "cell_type": "code",
   "execution_count": 71,
   "metadata": {},
   "outputs": [
    {
     "data": {
      "text/plain": [
       "['wildfires',\n",
       " 'ClimateChange',\n",
       " 'ClimateCrisis',\n",
       " 'MinesFire',\n",
       " 'TickFire',\n",
       " 'KincadeFire',\n",
       " 'SaddleRidgeFire',\n",
       " 'RawsonFire',\n",
       " 'SkyFire',\n",
       " 'SawdayFire',\n",
       " 'MillerFire',\n",
       " 'PalisadesFirepic']"
      ]
     },
     "execution_count": 71,
     "metadata": {},
     "output_type": "execute_result"
    }
   ],
   "source": [
    "text_df.hashtags[0]"
   ]
  },
  {
   "cell_type": "code",
   "execution_count": 72,
   "metadata": {},
   "outputs": [
    {
     "data": {
      "text/plain": [
       "'Our hearts go out to Californians affected by #wildfires. #ClimateChange is real.  Scientists say the #ClimateCrisis is fueling wildfires nationwide. #MinesFire @nytimes\\n#TickFire #KincadeFire #SaddleRidgeFire #RawsonFire #SkyFire #SawdayFire #MillerFire #PalisadesFirepic.twitter.com/Q4NQAQpaEc'"
      ]
     },
     "execution_count": 72,
     "metadata": {},
     "output_type": "execute_result"
    }
   ],
   "source": [
    "text_df.text[0]"
   ]
  },
  {
   "cell_type": "code",
   "execution_count": 87,
   "metadata": {},
   "outputs": [
    {
     "data": {
      "text/plain": [
       "['wildfires',\n",
       " 'ClimateChange',\n",
       " 'ClimateCrisis',\n",
       " 'MinesFire',\n",
       " 'TickFire',\n",
       " 'KincadeFire',\n",
       " 'SaddleRidgeFire',\n",
       " 'RawsonFire',\n",
       " 'SkyFire',\n",
       " 'SawdayFire',\n",
       " 'MillerFire',\n",
       " 'PalisadesFirepic']"
      ]
     },
     "execution_count": 87,
     "metadata": {},
     "output_type": "execute_result"
    }
   ],
   "source": [
    "hashtag_re.findall(text_df.iloc[0,:]['text'])"
   ]
  },
  {
   "cell_type": "markdown",
   "metadata": {},
   "source": [
    "#### Pulling out the Mentions:"
   ]
  },
  {
   "cell_type": "code",
   "execution_count": 74,
   "metadata": {},
   "outputs": [],
   "source": [
    "#Adapted from: https://gist.github.com/mahmoud/237eb20108b5805aed5f\n",
    "\n",
    "mention_re = re.compile(\"(?:^|\\s)[＠ @]{1}([^\\s#<>[\\]|{}]+)\", re.UNICODE)"
   ]
  },
  {
   "cell_type": "code",
   "execution_count": null,
   "metadata": {},
   "outputs": [],
   "source": [
    "mention_re.findall(text_df.iloc[0,:]['text'])"
   ]
  },
  {
   "cell_type": "code",
   "execution_count": null,
   "metadata": {},
   "outputs": [],
   "source": [
    "text_df['mentions'] = None"
   ]
  },
  {
   "cell_type": "markdown",
   "metadata": {},
   "source": [
    "## <span style ='color:red'> Fix, doesn't output anything to the mentions column, but when tested individually it works"
   ]
  },
  {
   "cell_type": "code",
   "execution_count": 83,
   "metadata": {},
   "outputs": [],
   "source": [
    "for n in range(len(text_df['text'])):\n",
    "    \n",
    "    try: \n",
    "        text_df['mentions'] = mention_re.findall(text_df.iloc[n,:]['text'])\n",
    "        \n",
    "    except:\n",
    "        pass"
   ]
  },
  {
   "cell_type": "code",
   "execution_count": 85,
   "metadata": {},
   "outputs": [
    {
     "data": {
      "text/plain": [
       "Series([], Name: mentions, dtype: int64)"
      ]
     },
     "execution_count": 85,
     "metadata": {},
     "output_type": "execute_result"
    }
   ],
   "source": [
    "text_df['mentions'].value_counts()"
   ]
  },
  {
   "cell_type": "code",
   "execution_count": null,
   "metadata": {},
   "outputs": [],
   "source": []
  }
 ],
 "metadata": {
  "kernelspec": {
   "display_name": "Python 3",
   "language": "python",
   "name": "python3"
  },
  "language_info": {
   "codemirror_mode": {
    "name": "ipython",
    "version": 3
   },
   "file_extension": ".py",
   "mimetype": "text/x-python",
   "name": "python",
   "nbconvert_exporter": "python",
   "pygments_lexer": "ipython3",
   "version": "3.7.4"
  }
 },
 "nbformat": 4,
 "nbformat_minor": 2
}
