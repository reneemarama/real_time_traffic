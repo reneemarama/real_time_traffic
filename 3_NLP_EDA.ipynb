{
 "cells": [
  {
   "cell_type": "code",
   "execution_count": 42,
   "metadata": {},
   "outputs": [],
   "source": [
    "    #General\n",
    "import pandas as pd\n",
    "import numpy as np\n",
    "\n",
    "\n",
    "    #Plotting\n",
    "import matplotlib.pyplot as plt\n",
    "import seaborn as sns\n",
    "\n",
    "    #nltk and regex packages\n",
    "import regex as re\n",
    "from nltk.tokenize import RegexpTokenizer\n",
    "from nltk.corpus import stopwords\n",
    "from nltk.stem import WordNetLemmatizer\n",
    "from nltk.sentiment.vader import SentimentIntensityAnalyzer\n",
    "\n",
    "    #Word Vectors\n",
    "import gensim\n",
    "\n",
    "\n",
    "    #Sklearn Packages\n",
    "from sklearn.feature_extraction.text import CountVectorizer, TfidfVectorizer\n",
    "from sklearn.feature_extraction import stop_words, text\n",
    "\n",
    "%config InlineBackend.figure_format = 'retina'"
   ]
  },
  {
   "cell_type": "code",
   "execution_count": 75,
   "metadata": {},
   "outputs": [],
   "source": [
    "df = pd.read_csv(\"./Datasets/big_df.csv\")"
   ]
  },
  {
   "cell_type": "code",
   "execution_count": 76,
   "metadata": {
    "scrolled": true
   },
   "outputs": [
    {
     "data": {
      "text/html": [
       "<div>\n",
       "<style scoped>\n",
       "    .dataframe tbody tr th:only-of-type {\n",
       "        vertical-align: middle;\n",
       "    }\n",
       "\n",
       "    .dataframe tbody tr th {\n",
       "        vertical-align: top;\n",
       "    }\n",
       "\n",
       "    .dataframe thead th {\n",
       "        text-align: right;\n",
       "    }\n",
       "</style>\n",
       "<table border=\"1\" class=\"dataframe\">\n",
       "  <thead>\n",
       "    <tr style=\"text-align: right;\">\n",
       "      <th></th>\n",
       "      <th>screen_name</th>\n",
       "      <th>username</th>\n",
       "      <th>user_id</th>\n",
       "      <th>tweet_id</th>\n",
       "      <th>tweet_url</th>\n",
       "      <th>timestamp</th>\n",
       "      <th>timestamp_epochs</th>\n",
       "      <th>text</th>\n",
       "      <th>text_html</th>\n",
       "      <th>links</th>\n",
       "      <th>...</th>\n",
       "      <th>img_urls</th>\n",
       "      <th>video_url</th>\n",
       "      <th>likes</th>\n",
       "      <th>retweets</th>\n",
       "      <th>replies</th>\n",
       "      <th>is_replied</th>\n",
       "      <th>is_reply_to</th>\n",
       "      <th>parent_tweet_id</th>\n",
       "      <th>reply_to_users</th>\n",
       "      <th>query</th>\n",
       "    </tr>\n",
       "  </thead>\n",
       "  <tbody>\n",
       "    <tr>\n",
       "      <th>0</th>\n",
       "      <td>EPCFIRM</td>\n",
       "      <td>EPCF #GreenNewDeal #SunriseMovement</td>\n",
       "      <td>836834627771850752</td>\n",
       "      <td>1188564512669962240</td>\n",
       "      <td>/EPCFIRM/status/1188564512669962240</td>\n",
       "      <td>2019-10-27 21:13:56</td>\n",
       "      <td>1572210836</td>\n",
       "      <td>Our hearts go out to Californians affected by ...</td>\n",
       "      <td>&lt;p class=\"TweetTextSize js-tweet-text tweet-te...</td>\n",
       "      <td>[]</td>\n",
       "      <td>...</td>\n",
       "      <td>['https://pbs.twimg.com/media/EH6hH4FVAAA6ZA_....</td>\n",
       "      <td>NaN</td>\n",
       "      <td>8</td>\n",
       "      <td>1</td>\n",
       "      <td>1</td>\n",
       "      <td>True</td>\n",
       "      <td>False</td>\n",
       "      <td>NaN</td>\n",
       "      <td>[]</td>\n",
       "      <td>saddleridgefire</td>\n",
       "    </tr>\n",
       "    <tr>\n",
       "      <th>1</th>\n",
       "      <td>jsingpubhealth</td>\n",
       "      <td>Jason Singson</td>\n",
       "      <td>3320904614</td>\n",
       "      <td>1188545671076298752</td>\n",
       "      <td>/jsingpubhealth/status/1188545671076298752</td>\n",
       "      <td>2019-10-27 19:59:04</td>\n",
       "      <td>1572206344</td>\n",
       "      <td>From the #SaddleridgeFire to the #KincadeFire,...</td>\n",
       "      <td>&lt;p class=\"TweetTextSize js-tweet-text tweet-te...</td>\n",
       "      <td>['https://twitter.com/CAgovernor/status/118852...</td>\n",
       "      <td>...</td>\n",
       "      <td>[]</td>\n",
       "      <td>NaN</td>\n",
       "      <td>1</td>\n",
       "      <td>0</td>\n",
       "      <td>0</td>\n",
       "      <td>False</td>\n",
       "      <td>False</td>\n",
       "      <td>NaN</td>\n",
       "      <td>[]</td>\n",
       "      <td>saddleridgefire</td>\n",
       "    </tr>\n",
       "  </tbody>\n",
       "</table>\n",
       "<p>2 rows × 22 columns</p>\n",
       "</div>"
      ],
      "text/plain": [
       "      screen_name                             username             user_id  \\\n",
       "0         EPCFIRM  EPCF #GreenNewDeal #SunriseMovement  836834627771850752   \n",
       "1  jsingpubhealth                        Jason Singson          3320904614   \n",
       "\n",
       "              tweet_id                                   tweet_url  \\\n",
       "0  1188564512669962240         /EPCFIRM/status/1188564512669962240   \n",
       "1  1188545671076298752  /jsingpubhealth/status/1188545671076298752   \n",
       "\n",
       "             timestamp  timestamp_epochs  \\\n",
       "0  2019-10-27 21:13:56        1572210836   \n",
       "1  2019-10-27 19:59:04        1572206344   \n",
       "\n",
       "                                                text  \\\n",
       "0  Our hearts go out to Californians affected by ...   \n",
       "1  From the #SaddleridgeFire to the #KincadeFire,...   \n",
       "\n",
       "                                           text_html  \\\n",
       "0  <p class=\"TweetTextSize js-tweet-text tweet-te...   \n",
       "1  <p class=\"TweetTextSize js-tweet-text tweet-te...   \n",
       "\n",
       "                                               links  ...  \\\n",
       "0                                                 []  ...   \n",
       "1  ['https://twitter.com/CAgovernor/status/118852...  ...   \n",
       "\n",
       "                                            img_urls  video_url likes  \\\n",
       "0  ['https://pbs.twimg.com/media/EH6hH4FVAAA6ZA_....        NaN     8   \n",
       "1                                                 []        NaN     1   \n",
       "\n",
       "   retweets  replies  is_replied  is_reply_to  parent_tweet_id  \\\n",
       "0         1        1        True        False              NaN   \n",
       "1         0        0       False        False              NaN   \n",
       "\n",
       "   reply_to_users            query  \n",
       "0              []  saddleridgefire  \n",
       "1              []  saddleridgefire  \n",
       "\n",
       "[2 rows x 22 columns]"
      ]
     },
     "execution_count": 76,
     "metadata": {},
     "output_type": "execute_result"
    }
   ],
   "source": [
    "df.head(2)"
   ]
  },
  {
   "cell_type": "code",
   "execution_count": 77,
   "metadata": {},
   "outputs": [
    {
     "data": {
      "text/plain": [
       "Index(['screen_name', 'username', 'user_id', 'tweet_id', 'tweet_url',\n",
       "       'timestamp', 'timestamp_epochs', 'text', 'text_html', 'links',\n",
       "       'hashtags', 'has_media', 'img_urls', 'video_url', 'likes', 'retweets',\n",
       "       'replies', 'is_replied', 'is_reply_to', 'parent_tweet_id',\n",
       "       'reply_to_users', 'query'],\n",
       "      dtype='object')"
      ]
     },
     "execution_count": 77,
     "metadata": {},
     "output_type": "execute_result"
    }
   ],
   "source": [
    "df.columns"
   ]
  },
  {
   "cell_type": "markdown",
   "metadata": {},
   "source": [
    "#### Creating a DateFrame with Just Text and Query Columns"
   ]
  },
  {
   "cell_type": "code",
   "execution_count": 78,
   "metadata": {},
   "outputs": [],
   "source": [
    "text_df = df[['text', 'query', 'hashtags']]"
   ]
  },
  {
   "cell_type": "code",
   "execution_count": 79,
   "metadata": {},
   "outputs": [
    {
     "data": {
      "text/html": [
       "<div>\n",
       "<style scoped>\n",
       "    .dataframe tbody tr th:only-of-type {\n",
       "        vertical-align: middle;\n",
       "    }\n",
       "\n",
       "    .dataframe tbody tr th {\n",
       "        vertical-align: top;\n",
       "    }\n",
       "\n",
       "    .dataframe thead th {\n",
       "        text-align: right;\n",
       "    }\n",
       "</style>\n",
       "<table border=\"1\" class=\"dataframe\">\n",
       "  <thead>\n",
       "    <tr style=\"text-align: right;\">\n",
       "      <th></th>\n",
       "      <th>text</th>\n",
       "      <th>query</th>\n",
       "      <th>hashtags</th>\n",
       "    </tr>\n",
       "  </thead>\n",
       "  <tbody>\n",
       "    <tr>\n",
       "      <th>0</th>\n",
       "      <td>Our hearts go out to Californians affected by ...</td>\n",
       "      <td>saddleridgefire</td>\n",
       "      <td>['wildfires', 'ClimateChange', 'ClimateCrisis'...</td>\n",
       "    </tr>\n",
       "    <tr>\n",
       "      <th>1</th>\n",
       "      <td>From the #SaddleridgeFire to the #KincadeFire,...</td>\n",
       "      <td>saddleridgefire</td>\n",
       "      <td>['SaddleridgeFire', 'KincadeFire']</td>\n",
       "    </tr>\n",
       "    <tr>\n",
       "      <th>2</th>\n",
       "      <td>Our #SaddleridgeFire leaped a 12 lane major fr...</td>\n",
       "      <td>saddleridgefire</td>\n",
       "      <td>['SaddleridgeFire']</td>\n",
       "    </tr>\n",
       "    <tr>\n",
       "      <th>3</th>\n",
       "      <td>Good Morning, Sam!\\nAll is well here. However,...</td>\n",
       "      <td>saddleridgefire</td>\n",
       "      <td>['SaddleridgeFire']</td>\n",
       "    </tr>\n",
       "    <tr>\n",
       "      <th>4</th>\n",
       "      <td>Was your property or home damaged by the #Sadd...</td>\n",
       "      <td>saddleridgefire</td>\n",
       "      <td>['SaddleRidgeFire']</td>\n",
       "    </tr>\n",
       "  </tbody>\n",
       "</table>\n",
       "</div>"
      ],
      "text/plain": [
       "                                                text            query  \\\n",
       "0  Our hearts go out to Californians affected by ...  saddleridgefire   \n",
       "1  From the #SaddleridgeFire to the #KincadeFire,...  saddleridgefire   \n",
       "2  Our #SaddleridgeFire leaped a 12 lane major fr...  saddleridgefire   \n",
       "3  Good Morning, Sam!\\nAll is well here. However,...  saddleridgefire   \n",
       "4  Was your property or home damaged by the #Sadd...  saddleridgefire   \n",
       "\n",
       "                                            hashtags  \n",
       "0  ['wildfires', 'ClimateChange', 'ClimateCrisis'...  \n",
       "1                 ['SaddleridgeFire', 'KincadeFire']  \n",
       "2                                ['SaddleridgeFire']  \n",
       "3                                ['SaddleridgeFire']  \n",
       "4                                ['SaddleRidgeFire']  "
      ]
     },
     "execution_count": 79,
     "metadata": {},
     "output_type": "execute_result"
    }
   ],
   "source": [
    "text_df.head()"
   ]
  },
  {
   "cell_type": "code",
   "execution_count": 80,
   "metadata": {},
   "outputs": [
    {
     "data": {
      "text/plain": [
       "(9180, 3)"
      ]
     },
     "execution_count": 80,
     "metadata": {},
     "output_type": "execute_result"
    }
   ],
   "source": [
    "text_df.shape"
   ]
  },
  {
   "cell_type": "code",
   "execution_count": 81,
   "metadata": {},
   "outputs": [
    {
     "data": {
      "text/plain": [
       "text        105\n",
       "query         0\n",
       "hashtags      0\n",
       "dtype: int64"
      ]
     },
     "execution_count": 81,
     "metadata": {},
     "output_type": "execute_result"
    }
   ],
   "source": [
    "text_df.isnull().sum()"
   ]
  },
  {
   "cell_type": "markdown",
   "metadata": {},
   "source": [
    "#### Dropping Rows With Nulls"
   ]
  },
  {
   "cell_type": "code",
   "execution_count": 91,
   "metadata": {},
   "outputs": [
    {
     "name": "stderr",
     "output_type": "stream",
     "text": [
      "/Users/rwilkening/opt/anaconda3/lib/python3.7/site-packages/ipykernel_launcher.py:1: SettingWithCopyWarning: \n",
      "A value is trying to be set on a copy of a slice from a DataFrame\n",
      "\n",
      "See the caveats in the documentation: https://pandas.pydata.org/pandas-docs/stable/user_guide/indexing.html#returning-a-view-versus-a-copy\n",
      "  \"\"\"Entry point for launching an IPython kernel.\n"
     ]
    }
   ],
   "source": [
    "text_df.dropna(inplace=True)\n",
    "text_df.reset_index(drop = True, inplace=True)"
   ]
  },
  {
   "cell_type": "code",
   "execution_count": 92,
   "metadata": {},
   "outputs": [
    {
     "data": {
      "text/plain": [
       "text        0\n",
       "query       0\n",
       "hashtags    0\n",
       "dtype: int64"
      ]
     },
     "execution_count": 92,
     "metadata": {},
     "output_type": "execute_result"
    }
   ],
   "source": [
    "text_df.isnull().sum()"
   ]
  },
  {
   "cell_type": "code",
   "execution_count": 93,
   "metadata": {},
   "outputs": [
    {
     "data": {
      "text/plain": [
       "'From the #SaddleridgeFire to the #KincadeFire, as well as many emerging small/large fires today, we have quickly seen how California can be brought to a halt. Public health/EP/EMS departments are going to be in overdrive. We must be realistic about our future.https://twitter.com/CAgovernor/status/1188523109051027456\\xa0…'"
      ]
     },
     "execution_count": 93,
     "metadata": {},
     "output_type": "execute_result"
    }
   ],
   "source": [
    "text_df.iloc[1, :]['text']"
   ]
  },
  {
   "cell_type": "markdown",
   "metadata": {},
   "source": [
    "#### Making the `text` lower case"
   ]
  },
  {
   "cell_type": "code",
   "execution_count": 99,
   "metadata": {},
   "outputs": [
    {
     "name": "stderr",
     "output_type": "stream",
     "text": [
      "/Users/rwilkening/opt/anaconda3/lib/python3.7/site-packages/ipykernel_launcher.py:1: SettingWithCopyWarning: \n",
      "A value is trying to be set on a copy of a slice from a DataFrame.\n",
      "Try using .loc[row_indexer,col_indexer] = value instead\n",
      "\n",
      "See the caveats in the documentation: https://pandas.pydata.org/pandas-docs/stable/user_guide/indexing.html#returning-a-view-versus-a-copy\n",
      "  \"\"\"Entry point for launching an IPython kernel.\n"
     ]
    },
    {
     "data": {
      "text/plain": [
       "0       our hearts go out to californians affected by ...\n",
       "1       from the #saddleridgefire to the #kincadefire,...\n",
       "2       our #saddleridgefire leaped a 12 lane major fr...\n",
       "3       good morning, sam!\\nall is well here. however,...\n",
       "4       was your property or home damaged by the #sadd...\n",
       "                              ...                        \n",
       "9070    former state lawmaker says he's got a plan to ...\n",
       "9071               totally makes sense to do this midday \n",
       "9072    a sanford, maine mom says her 9-year-old birac...\n",
       "9073       i noticed it in anaheim hills, it looks crazy!\n",
       "9074    the copyright owners of the \"charlie brown chr...\n",
       "Name: text, Length: 9075, dtype: object"
      ]
     },
     "execution_count": 99,
     "metadata": {},
     "output_type": "execute_result"
    }
   ],
   "source": [
    "text_df['text'] = [x.lower() for x in text_df['text']]\n",
    "text_df['text']"
   ]
  },
  {
   "cell_type": "markdown",
   "metadata": {},
   "source": [
    "#### Pulling Out Hashtags From Text"
   ]
  },
  {
   "cell_type": "code",
   "execution_count": 11,
   "metadata": {},
   "outputs": [],
   "source": [
    "#Adapted from: https://gist.github.com/mahmoud/237eb20108b5805aed5f\n",
    "\n",
    "# hashtag_re = re.compile(\"(?:^|\\s)[＃#]{1}(\\w+)\", re.UNICODE)"
   ]
  },
  {
   "cell_type": "markdown",
   "metadata": {},
   "source": [
    "#### Pulling out the hashtags for specified .iloc"
   ]
  },
  {
   "cell_type": "code",
   "execution_count": 12,
   "metadata": {},
   "outputs": [],
   "source": [
    "# hashtag_re.findall(text_df.iloc[1, :]['text'])"
   ]
  },
  {
   "cell_type": "code",
   "execution_count": 13,
   "metadata": {},
   "outputs": [],
   "source": [
    "# text_df['hashtags'] = None\n",
    "\n",
    "# for n in range(len(text_df['text'])):\n",
    "    \n",
    "#     try: \n",
    "#         text_df['hashtags'] = hashtag_re.findall(text_df.iloc[n,:]['text'])\n",
    "        \n",
    "#     except:\n",
    "#         pass"
   ]
  },
  {
   "cell_type": "markdown",
   "metadata": {},
   "source": [
    "#### Removing pic.twitter.com and https://twitter.com stings "
   ]
  },
  {
   "cell_type": "code",
   "execution_count": 14,
   "metadata": {},
   "outputs": [
    {
     "name": "stderr",
     "output_type": "stream",
     "text": [
      "/Users/rwilkening/opt/anaconda3/lib/python3.7/site-packages/ipykernel_launcher.py:6: SettingWithCopyWarning: \n",
      "A value is trying to be set on a copy of a slice from a DataFrame.\n",
      "Try using .loc[row_indexer,col_indexer] = value instead\n",
      "\n",
      "See the caveats in the documentation: https://pandas.pydata.org/pandas-docs/stable/user_guide/indexing.html#returning-a-view-versus-a-copy\n",
      "  \n"
     ]
    }
   ],
   "source": [
    "# this pattern deletes pic.twitter.com and https://twitter.com strings\n",
    "\n",
    "\n",
    "# z = text_df['text'][0]\n",
    "del_pattern = '(pic\\.twitter\\.com.*)|(https:[\\/][\\/]twitter\\.com.*)'\n",
    "text_df['text'] = text_df['text'].apply(lambda x: re.sub(del_pattern, '', x))\n",
    "\n",
    "# re.sub(del_pattern, '', z)"
   ]
  },
  {
   "cell_type": "code",
   "execution_count": 15,
   "metadata": {},
   "outputs": [
    {
     "data": {
      "text/plain": [
       "'Our hearts go out to Californians affected by #wildfires. #ClimateChange is real.  Scientists say the #ClimateCrisis is fueling wildfires nationwide. #MinesFire @nytimes\\n#TickFire #KincadeFire #SaddleRidgeFire #RawsonFire #SkyFire #SawdayFire #MillerFire #PalisadesFire'"
      ]
     },
     "execution_count": 15,
     "metadata": {},
     "output_type": "execute_result"
    }
   ],
   "source": [
    "z = text_df['text'][0]\n",
    "re.sub(del_pattern, '', z)"
   ]
  },
  {
   "cell_type": "code",
   "execution_count": 16,
   "metadata": {
    "scrolled": true
   },
   "outputs": [],
   "source": [
    "# deleting the pic.twitter.com and https://twitter.com strings form text_df['text']\n",
    "# text_df['text'] = text_df['text'].apply(lambda x: re.sub(del_pattern, '', x))"
   ]
  },
  {
   "cell_type": "code",
   "execution_count": 17,
   "metadata": {},
   "outputs": [],
   "source": [
    "# This is to grab all mentions that start with an '@'\n",
    "pattern_mentions = \"[\\@][\\w]+\""
   ]
  },
  {
   "cell_type": "code",
   "execution_count": 18,
   "metadata": {},
   "outputs": [
    {
     "name": "stderr",
     "output_type": "stream",
     "text": [
      "/Users/rwilkening/opt/anaconda3/lib/python3.7/site-packages/ipykernel_launcher.py:2: SettingWithCopyWarning: \n",
      "A value is trying to be set on a copy of a slice from a DataFrame.\n",
      "Try using .loc[row_indexer,col_indexer] = value instead\n",
      "\n",
      "See the caveats in the documentation: https://pandas.pydata.org/pandas-docs/stable/user_guide/indexing.html#returning-a-view-versus-a-copy\n",
      "  \n"
     ]
    }
   ],
   "source": [
    "# Converting 'text' column as strings, just as a precaution\n",
    "text_df['text'] = text_df['text'].astype(str)"
   ]
  },
  {
   "cell_type": "code",
   "execution_count": 19,
   "metadata": {},
   "outputs": [
    {
     "name": "stderr",
     "output_type": "stream",
     "text": [
      "/Users/rwilkening/opt/anaconda3/lib/python3.7/site-packages/ipykernel_launcher.py:2: SettingWithCopyWarning: \n",
      "A value is trying to be set on a copy of a slice from a DataFrame.\n",
      "Try using .loc[row_indexer,col_indexer] = value instead\n",
      "\n",
      "See the caveats in the documentation: https://pandas.pydata.org/pandas-docs/stable/user_guide/indexing.html#returning-a-view-versus-a-copy\n",
      "  \n"
     ]
    }
   ],
   "source": [
    "# Creating a 'mentions' column that has each text's mentions\n",
    "text_df['mentions'] = text_df['text'].apply(lambda x: ' '.join(re.findall(pattern_mentions, x)))"
   ]
  },
  {
   "cell_type": "code",
   "execution_count": 20,
   "metadata": {},
   "outputs": [
    {
     "data": {
      "text/html": [
       "<div>\n",
       "<style scoped>\n",
       "    .dataframe tbody tr th:only-of-type {\n",
       "        vertical-align: middle;\n",
       "    }\n",
       "\n",
       "    .dataframe tbody tr th {\n",
       "        vertical-align: top;\n",
       "    }\n",
       "\n",
       "    .dataframe thead th {\n",
       "        text-align: right;\n",
       "    }\n",
       "</style>\n",
       "<table border=\"1\" class=\"dataframe\">\n",
       "  <thead>\n",
       "    <tr style=\"text-align: right;\">\n",
       "      <th></th>\n",
       "      <th>text</th>\n",
       "      <th>query</th>\n",
       "      <th>hashtags</th>\n",
       "      <th>mentions</th>\n",
       "    </tr>\n",
       "  </thead>\n",
       "  <tbody>\n",
       "    <tr>\n",
       "      <th>0</th>\n",
       "      <td>Our hearts go out to Californians affected by ...</td>\n",
       "      <td>saddleridgefire</td>\n",
       "      <td>['wildfires', 'ClimateChange', 'ClimateCrisis'...</td>\n",
       "      <td>@nytimes</td>\n",
       "    </tr>\n",
       "    <tr>\n",
       "      <th>1</th>\n",
       "      <td>From the #SaddleridgeFire to the #KincadeFire,...</td>\n",
       "      <td>saddleridgefire</td>\n",
       "      <td>['SaddleridgeFire', 'KincadeFire']</td>\n",
       "      <td></td>\n",
       "    </tr>\n",
       "    <tr>\n",
       "      <th>2</th>\n",
       "      <td>Our #SaddleridgeFire leaped a 12 lane major fr...</td>\n",
       "      <td>saddleridgefire</td>\n",
       "      <td>['SaddleridgeFire']</td>\n",
       "      <td></td>\n",
       "    </tr>\n",
       "    <tr>\n",
       "      <th>3</th>\n",
       "      <td>Good Morning, Sam!\\nAll is well here. However,...</td>\n",
       "      <td>saddleridgefire</td>\n",
       "      <td>['SaddleridgeFire']</td>\n",
       "      <td></td>\n",
       "    </tr>\n",
       "    <tr>\n",
       "      <th>4</th>\n",
       "      <td>Was your property or home damaged by the #Sadd...</td>\n",
       "      <td>saddleridgefire</td>\n",
       "      <td>['SaddleRidgeFire']</td>\n",
       "      <td>@211LACounty</td>\n",
       "    </tr>\n",
       "    <tr>\n",
       "      <th>...</th>\n",
       "      <td>...</td>\n",
       "      <td>...</td>\n",
       "      <td>...</td>\n",
       "      <td>...</td>\n",
       "    </tr>\n",
       "    <tr>\n",
       "      <th>9070</th>\n",
       "      <td>Former state lawmaker says he's got a plan to ...</td>\n",
       "      <td>KNX1070</td>\n",
       "      <td>[]</td>\n",
       "      <td>@mikegatto @KNX1070</td>\n",
       "    </tr>\n",
       "    <tr>\n",
       "      <th>9071</th>\n",
       "      <td>Totally makes sense to do this midday</td>\n",
       "      <td>KNX1070</td>\n",
       "      <td>[]</td>\n",
       "      <td></td>\n",
       "    </tr>\n",
       "    <tr>\n",
       "      <th>9072</th>\n",
       "      <td>A Sanford, Maine mom says her 9-year-old birac...</td>\n",
       "      <td>KNX1070</td>\n",
       "      <td>[]</td>\n",
       "      <td></td>\n",
       "    </tr>\n",
       "    <tr>\n",
       "      <th>9073</th>\n",
       "      <td>I noticed it in Anaheim Hills, it looks crazy!</td>\n",
       "      <td>KNX1070</td>\n",
       "      <td>[]</td>\n",
       "      <td></td>\n",
       "    </tr>\n",
       "    <tr>\n",
       "      <th>9074</th>\n",
       "      <td>The copyright owners of the \"Charlie Brown Chr...</td>\n",
       "      <td>KNX1070</td>\n",
       "      <td>[]</td>\n",
       "      <td></td>\n",
       "    </tr>\n",
       "  </tbody>\n",
       "</table>\n",
       "<p>9075 rows × 4 columns</p>\n",
       "</div>"
      ],
      "text/plain": [
       "                                                   text            query  \\\n",
       "0     Our hearts go out to Californians affected by ...  saddleridgefire   \n",
       "1     From the #SaddleridgeFire to the #KincadeFire,...  saddleridgefire   \n",
       "2     Our #SaddleridgeFire leaped a 12 lane major fr...  saddleridgefire   \n",
       "3     Good Morning, Sam!\\nAll is well here. However,...  saddleridgefire   \n",
       "4     Was your property or home damaged by the #Sadd...  saddleridgefire   \n",
       "...                                                 ...              ...   \n",
       "9070  Former state lawmaker says he's got a plan to ...          KNX1070   \n",
       "9071             Totally makes sense to do this midday           KNX1070   \n",
       "9072  A Sanford, Maine mom says her 9-year-old birac...          KNX1070   \n",
       "9073     I noticed it in Anaheim Hills, it looks crazy!          KNX1070   \n",
       "9074  The copyright owners of the \"Charlie Brown Chr...          KNX1070   \n",
       "\n",
       "                                               hashtags             mentions  \n",
       "0     ['wildfires', 'ClimateChange', 'ClimateCrisis'...             @nytimes  \n",
       "1                    ['SaddleridgeFire', 'KincadeFire']                       \n",
       "2                                   ['SaddleridgeFire']                       \n",
       "3                                   ['SaddleridgeFire']                       \n",
       "4                                   ['SaddleRidgeFire']         @211LACounty  \n",
       "...                                                 ...                  ...  \n",
       "9070                                                 []  @mikegatto @KNX1070  \n",
       "9071                                                 []                       \n",
       "9072                                                 []                       \n",
       "9073                                                 []                       \n",
       "9074                                                 []                       \n",
       "\n",
       "[9075 rows x 4 columns]"
      ]
     },
     "execution_count": 20,
     "metadata": {},
     "output_type": "execute_result"
    }
   ],
   "source": [
    "text_df"
   ]
  },
  {
   "cell_type": "code",
   "execution_count": 21,
   "metadata": {},
   "outputs": [],
   "source": [
    "# hashtag_re.findall(text_df.iloc[0,:]['text'])"
   ]
  },
  {
   "cell_type": "markdown",
   "metadata": {},
   "source": [
    "#### Pulling out the Mentions"
   ]
  },
  {
   "cell_type": "code",
   "execution_count": 22,
   "metadata": {},
   "outputs": [],
   "source": [
    "#Adapted from: https://gist.github.com/mahmoud/237eb20108b5805aed5f\n",
    "\n",
    "mention_re = re.compile(\"(?:^|\\s)[＠ @]{1}([^\\s#<>[\\]|{}]+)\", re.UNICODE)"
   ]
  },
  {
   "cell_type": "markdown",
   "metadata": {},
   "source": [
    "#### Testing the Mentions on One Row"
   ]
  },
  {
   "cell_type": "code",
   "execution_count": 23,
   "metadata": {},
   "outputs": [
    {
     "data": {
      "text/plain": [
       "'#RT @CAL_FIRE: #SaddleRidgeFire off Saddle Ridge Rd, Sylmar in Los Angeles County is 8,799 acres and 95% contained. Unified Command: @LAFD, @LACOFD and @Angeles_NF'"
      ]
     },
     "execution_count": 23,
     "metadata": {},
     "output_type": "execute_result"
    }
   ],
   "source": [
    "text_df.text[249]"
   ]
  },
  {
   "cell_type": "code",
   "execution_count": 24,
   "metadata": {},
   "outputs": [
    {
     "data": {
      "text/plain": [
       "['CAL_FIRE:', 'LAFD,', 'LACOFD', 'Angeles_NF']"
      ]
     },
     "execution_count": 24,
     "metadata": {},
     "output_type": "execute_result"
    }
   ],
   "source": [
    "mention_re.findall(text_df.iloc[249,:]['text'])"
   ]
  },
  {
   "cell_type": "markdown",
   "metadata": {},
   "source": [
    "#### Creating a Mentions Column Where the Default is None"
   ]
  },
  {
   "cell_type": "code",
   "execution_count": 25,
   "metadata": {},
   "outputs": [
    {
     "name": "stderr",
     "output_type": "stream",
     "text": [
      "/Users/rwilkening/opt/anaconda3/lib/python3.7/site-packages/ipykernel_launcher.py:1: SettingWithCopyWarning: \n",
      "A value is trying to be set on a copy of a slice from a DataFrame.\n",
      "Try using .loc[row_indexer,col_indexer] = value instead\n",
      "\n",
      "See the caveats in the documentation: https://pandas.pydata.org/pandas-docs/stable/user_guide/indexing.html#returning-a-view-versus-a-copy\n",
      "  \"\"\"Entry point for launching an IPython kernel.\n"
     ]
    }
   ],
   "source": [
    "text_df['mentions'] = None"
   ]
  },
  {
   "cell_type": "code",
   "execution_count": 26,
   "metadata": {},
   "outputs": [],
   "source": [
    "# # [tokenizer.tokenize(posts) for posts in text_df['hashtags']]\n",
    "\n",
    "# for posts in text_df['hashtags']:\n",
    "\n",
    "#     try:\n",
    "#         tokenizer.tokenize(posts)\n",
    "#     except:\n",
    "#         pass\n",
    "\n",
    "# # women_post_tokens = [tokenizer.tokenize(posts) for posts in df[df['subreddit_target'] ==1]['all_text'] ]"
   ]
  },
  {
   "cell_type": "code",
   "execution_count": 27,
   "metadata": {},
   "outputs": [
    {
     "data": {
      "text/plain": [
       "0       ['wildfires', 'ClimateChange', 'ClimateCrisis'...\n",
       "1                      ['SaddleridgeFire', 'KincadeFire']\n",
       "2                                     ['SaddleridgeFire']\n",
       "3                                     ['SaddleridgeFire']\n",
       "4                                     ['SaddleRidgeFire']\n",
       "                              ...                        \n",
       "9070                                                   []\n",
       "9071                                                   []\n",
       "9072                                                   []\n",
       "9073                                                   []\n",
       "9074                                                   []\n",
       "Name: hashtags, Length: 9075, dtype: object"
      ]
     },
     "execution_count": 27,
     "metadata": {},
     "output_type": "execute_result"
    }
   ],
   "source": [
    "text_df['hashtags']"
   ]
  },
  {
   "cell_type": "markdown",
   "metadata": {},
   "source": [
    "--- "
   ]
  },
  {
   "cell_type": "markdown",
   "metadata": {},
   "source": [
    "---"
   ]
  },
  {
   "cell_type": "markdown",
   "metadata": {},
   "source": [
    "## Tokenizing"
   ]
  },
  {
   "cell_type": "markdown",
   "metadata": {},
   "source": [
    "#### Declaring Tokenizing Function:"
   ]
  },
  {
   "cell_type": "code",
   "execution_count": 34,
   "metadata": {},
   "outputs": [],
   "source": [
    "tokenizer = RegexpTokenizer(r'\\s+', gaps=True)\n",
    "\n",
    "def tokenizing_function(col):\n",
    "\n",
    "    string = ''\n",
    "    \n",
    "    try:\n",
    "    \n",
    "        for post in df[col]:\n",
    "            string += ' ' + post\n",
    "            \n",
    "    except:\n",
    "        pass\n",
    "    \n",
    "    all_tokens = tokenizer.tokenize(string)\n",
    "    \n",
    "    return all_tokens\n",
    "\n",
    "hash_tokens = tokenizing_function('hashtags')"
   ]
  },
  {
   "cell_type": "code",
   "execution_count": 35,
   "metadata": {},
   "outputs": [],
   "source": [
    "hash_tokens = tokenizing_function('hashtags')"
   ]
  },
  {
   "cell_type": "markdown",
   "metadata": {},
   "source": [
    "## CVEC"
   ]
  },
  {
   "cell_type": "markdown",
   "metadata": {},
   "source": [
    "### Declaring CVEC Function:"
   ]
  },
  {
   "cell_type": "code",
   "execution_count": 36,
   "metadata": {},
   "outputs": [
    {
     "data": {
      "text/html": [
       "<div>\n",
       "<style scoped>\n",
       "    .dataframe tbody tr th:only-of-type {\n",
       "        vertical-align: middle;\n",
       "    }\n",
       "\n",
       "    .dataframe tbody tr th {\n",
       "        vertical-align: top;\n",
       "    }\n",
       "\n",
       "    .dataframe thead th {\n",
       "        text-align: right;\n",
       "    }\n",
       "</style>\n",
       "<table border=\"1\" class=\"dataframe\">\n",
       "  <thead>\n",
       "    <tr style=\"text-align: right;\">\n",
       "      <th></th>\n",
       "      <th>00</th>\n",
       "      <th>000</th>\n",
       "      <th>00001582_saddleridge</th>\n",
       "      <th>00am</th>\n",
       "      <th>00pm</th>\n",
       "      <th>01</th>\n",
       "      <th>02</th>\n",
       "      <th>0297</th>\n",
       "      <th>03</th>\n",
       "      <th>04</th>\n",
       "      <th>...</th>\n",
       "      <th>yucaipa</th>\n",
       "      <th>yup</th>\n",
       "      <th>yxfgt6nc</th>\n",
       "      <th>zacktawataritv</th>\n",
       "      <th>zacktawataritvhttps</th>\n",
       "      <th>zero</th>\n",
       "      <th>zip</th>\n",
       "      <th>zone</th>\n",
       "      <th>zones</th>\n",
       "      <th>zoo</th>\n",
       "    </tr>\n",
       "  </thead>\n",
       "  <tbody>\n",
       "    <tr>\n",
       "      <th>0</th>\n",
       "      <td>0</td>\n",
       "      <td>0</td>\n",
       "      <td>0</td>\n",
       "      <td>0</td>\n",
       "      <td>0</td>\n",
       "      <td>0</td>\n",
       "      <td>0</td>\n",
       "      <td>0</td>\n",
       "      <td>0</td>\n",
       "      <td>0</td>\n",
       "      <td>...</td>\n",
       "      <td>0</td>\n",
       "      <td>0</td>\n",
       "      <td>0</td>\n",
       "      <td>0</td>\n",
       "      <td>0</td>\n",
       "      <td>0</td>\n",
       "      <td>0</td>\n",
       "      <td>0</td>\n",
       "      <td>0</td>\n",
       "      <td>0</td>\n",
       "    </tr>\n",
       "    <tr>\n",
       "      <th>1</th>\n",
       "      <td>0</td>\n",
       "      <td>0</td>\n",
       "      <td>0</td>\n",
       "      <td>0</td>\n",
       "      <td>0</td>\n",
       "      <td>0</td>\n",
       "      <td>0</td>\n",
       "      <td>0</td>\n",
       "      <td>0</td>\n",
       "      <td>0</td>\n",
       "      <td>...</td>\n",
       "      <td>0</td>\n",
       "      <td>0</td>\n",
       "      <td>0</td>\n",
       "      <td>0</td>\n",
       "      <td>0</td>\n",
       "      <td>0</td>\n",
       "      <td>0</td>\n",
       "      <td>0</td>\n",
       "      <td>0</td>\n",
       "      <td>0</td>\n",
       "    </tr>\n",
       "    <tr>\n",
       "      <th>2</th>\n",
       "      <td>0</td>\n",
       "      <td>0</td>\n",
       "      <td>0</td>\n",
       "      <td>0</td>\n",
       "      <td>0</td>\n",
       "      <td>0</td>\n",
       "      <td>0</td>\n",
       "      <td>0</td>\n",
       "      <td>0</td>\n",
       "      <td>0</td>\n",
       "      <td>...</td>\n",
       "      <td>0</td>\n",
       "      <td>0</td>\n",
       "      <td>0</td>\n",
       "      <td>0</td>\n",
       "      <td>0</td>\n",
       "      <td>0</td>\n",
       "      <td>0</td>\n",
       "      <td>0</td>\n",
       "      <td>0</td>\n",
       "      <td>0</td>\n",
       "    </tr>\n",
       "    <tr>\n",
       "      <th>3</th>\n",
       "      <td>0</td>\n",
       "      <td>0</td>\n",
       "      <td>0</td>\n",
       "      <td>0</td>\n",
       "      <td>0</td>\n",
       "      <td>0</td>\n",
       "      <td>0</td>\n",
       "      <td>0</td>\n",
       "      <td>0</td>\n",
       "      <td>0</td>\n",
       "      <td>...</td>\n",
       "      <td>0</td>\n",
       "      <td>0</td>\n",
       "      <td>0</td>\n",
       "      <td>0</td>\n",
       "      <td>0</td>\n",
       "      <td>0</td>\n",
       "      <td>0</td>\n",
       "      <td>0</td>\n",
       "      <td>0</td>\n",
       "      <td>0</td>\n",
       "    </tr>\n",
       "    <tr>\n",
       "      <th>4</th>\n",
       "      <td>0</td>\n",
       "      <td>0</td>\n",
       "      <td>0</td>\n",
       "      <td>0</td>\n",
       "      <td>0</td>\n",
       "      <td>0</td>\n",
       "      <td>0</td>\n",
       "      <td>0</td>\n",
       "      <td>0</td>\n",
       "      <td>0</td>\n",
       "      <td>...</td>\n",
       "      <td>0</td>\n",
       "      <td>0</td>\n",
       "      <td>0</td>\n",
       "      <td>0</td>\n",
       "      <td>0</td>\n",
       "      <td>0</td>\n",
       "      <td>0</td>\n",
       "      <td>0</td>\n",
       "      <td>0</td>\n",
       "      <td>0</td>\n",
       "    </tr>\n",
       "    <tr>\n",
       "      <th>...</th>\n",
       "      <td>...</td>\n",
       "      <td>...</td>\n",
       "      <td>...</td>\n",
       "      <td>...</td>\n",
       "      <td>...</td>\n",
       "      <td>...</td>\n",
       "      <td>...</td>\n",
       "      <td>...</td>\n",
       "      <td>...</td>\n",
       "      <td>...</td>\n",
       "      <td>...</td>\n",
       "      <td>...</td>\n",
       "      <td>...</td>\n",
       "      <td>...</td>\n",
       "      <td>...</td>\n",
       "      <td>...</td>\n",
       "      <td>...</td>\n",
       "      <td>...</td>\n",
       "      <td>...</td>\n",
       "      <td>...</td>\n",
       "      <td>...</td>\n",
       "    </tr>\n",
       "    <tr>\n",
       "      <th>9070</th>\n",
       "      <td>0</td>\n",
       "      <td>0</td>\n",
       "      <td>0</td>\n",
       "      <td>0</td>\n",
       "      <td>0</td>\n",
       "      <td>0</td>\n",
       "      <td>0</td>\n",
       "      <td>0</td>\n",
       "      <td>0</td>\n",
       "      <td>0</td>\n",
       "      <td>...</td>\n",
       "      <td>0</td>\n",
       "      <td>0</td>\n",
       "      <td>0</td>\n",
       "      <td>0</td>\n",
       "      <td>0</td>\n",
       "      <td>0</td>\n",
       "      <td>0</td>\n",
       "      <td>0</td>\n",
       "      <td>0</td>\n",
       "      <td>0</td>\n",
       "    </tr>\n",
       "    <tr>\n",
       "      <th>9071</th>\n",
       "      <td>0</td>\n",
       "      <td>0</td>\n",
       "      <td>0</td>\n",
       "      <td>0</td>\n",
       "      <td>0</td>\n",
       "      <td>0</td>\n",
       "      <td>0</td>\n",
       "      <td>0</td>\n",
       "      <td>0</td>\n",
       "      <td>0</td>\n",
       "      <td>...</td>\n",
       "      <td>0</td>\n",
       "      <td>0</td>\n",
       "      <td>0</td>\n",
       "      <td>0</td>\n",
       "      <td>0</td>\n",
       "      <td>0</td>\n",
       "      <td>0</td>\n",
       "      <td>0</td>\n",
       "      <td>0</td>\n",
       "      <td>0</td>\n",
       "    </tr>\n",
       "    <tr>\n",
       "      <th>9072</th>\n",
       "      <td>0</td>\n",
       "      <td>0</td>\n",
       "      <td>0</td>\n",
       "      <td>0</td>\n",
       "      <td>0</td>\n",
       "      <td>0</td>\n",
       "      <td>0</td>\n",
       "      <td>0</td>\n",
       "      <td>0</td>\n",
       "      <td>0</td>\n",
       "      <td>...</td>\n",
       "      <td>0</td>\n",
       "      <td>0</td>\n",
       "      <td>0</td>\n",
       "      <td>0</td>\n",
       "      <td>0</td>\n",
       "      <td>0</td>\n",
       "      <td>0</td>\n",
       "      <td>0</td>\n",
       "      <td>0</td>\n",
       "      <td>0</td>\n",
       "    </tr>\n",
       "    <tr>\n",
       "      <th>9073</th>\n",
       "      <td>0</td>\n",
       "      <td>0</td>\n",
       "      <td>0</td>\n",
       "      <td>0</td>\n",
       "      <td>0</td>\n",
       "      <td>0</td>\n",
       "      <td>0</td>\n",
       "      <td>0</td>\n",
       "      <td>0</td>\n",
       "      <td>0</td>\n",
       "      <td>...</td>\n",
       "      <td>0</td>\n",
       "      <td>0</td>\n",
       "      <td>0</td>\n",
       "      <td>0</td>\n",
       "      <td>0</td>\n",
       "      <td>0</td>\n",
       "      <td>0</td>\n",
       "      <td>0</td>\n",
       "      <td>0</td>\n",
       "      <td>0</td>\n",
       "    </tr>\n",
       "    <tr>\n",
       "      <th>9074</th>\n",
       "      <td>0</td>\n",
       "      <td>0</td>\n",
       "      <td>0</td>\n",
       "      <td>0</td>\n",
       "      <td>0</td>\n",
       "      <td>0</td>\n",
       "      <td>0</td>\n",
       "      <td>0</td>\n",
       "      <td>0</td>\n",
       "      <td>0</td>\n",
       "      <td>...</td>\n",
       "      <td>0</td>\n",
       "      <td>0</td>\n",
       "      <td>0</td>\n",
       "      <td>0</td>\n",
       "      <td>0</td>\n",
       "      <td>0</td>\n",
       "      <td>0</td>\n",
       "      <td>0</td>\n",
       "      <td>0</td>\n",
       "      <td>0</td>\n",
       "    </tr>\n",
       "  </tbody>\n",
       "</table>\n",
       "<p>9075 rows × 3812 columns</p>\n",
       "</div>"
      ],
      "text/plain": [
       "      00  000  00001582_saddleridge  00am  00pm  01  02  0297  03  04  ...  \\\n",
       "0      0    0                     0     0     0   0   0     0   0   0  ...   \n",
       "1      0    0                     0     0     0   0   0     0   0   0  ...   \n",
       "2      0    0                     0     0     0   0   0     0   0   0  ...   \n",
       "3      0    0                     0     0     0   0   0     0   0   0  ...   \n",
       "4      0    0                     0     0     0   0   0     0   0   0  ...   \n",
       "...   ..  ...                   ...   ...   ...  ..  ..   ...  ..  ..  ...   \n",
       "9070   0    0                     0     0     0   0   0     0   0   0  ...   \n",
       "9071   0    0                     0     0     0   0   0     0   0   0  ...   \n",
       "9072   0    0                     0     0     0   0   0     0   0   0  ...   \n",
       "9073   0    0                     0     0     0   0   0     0   0   0  ...   \n",
       "9074   0    0                     0     0     0   0   0     0   0   0  ...   \n",
       "\n",
       "      yucaipa  yup  yxfgt6nc  zacktawataritv  zacktawataritvhttps  zero  zip  \\\n",
       "0           0    0         0               0                    0     0    0   \n",
       "1           0    0         0               0                    0     0    0   \n",
       "2           0    0         0               0                    0     0    0   \n",
       "3           0    0         0               0                    0     0    0   \n",
       "4           0    0         0               0                    0     0    0   \n",
       "...       ...  ...       ...             ...                  ...   ...  ...   \n",
       "9070        0    0         0               0                    0     0    0   \n",
       "9071        0    0         0               0                    0     0    0   \n",
       "9072        0    0         0               0                    0     0    0   \n",
       "9073        0    0         0               0                    0     0    0   \n",
       "9074        0    0         0               0                    0     0    0   \n",
       "\n",
       "      zone  zones  zoo  \n",
       "0        0      0    0  \n",
       "1        0      0    0  \n",
       "2        0      0    0  \n",
       "3        0      0    0  \n",
       "4        0      0    0  \n",
       "...    ...    ...  ...  \n",
       "9070     0      0    0  \n",
       "9071     0      0    0  \n",
       "9072     0      0    0  \n",
       "9073     0      0    0  \n",
       "9074     0      0    0  \n",
       "\n",
       "[9075 rows x 3812 columns]"
      ]
     },
     "execution_count": 36,
     "metadata": {},
     "output_type": "execute_result"
    }
   ],
   "source": [
    "cvec = CountVectorizer(stop_words= 'english', min_df=5)\n",
    "\n",
    "def cvec_function(col):\n",
    "    col_cvec_matrix = cvec.fit_transform(text_df[col])\n",
    "\n",
    "    #Convert to DataFrame\n",
    "    col_cvec_df = pd.DataFrame(col_cvec_matrix.toarray(),\n",
    "                          columns=cvec.get_feature_names())\n",
    "    return col_cvec_df\n",
    "\n",
    "cvec_function('text')"
   ]
  },
  {
   "cell_type": "markdown",
   "metadata": {},
   "source": [
    "#### Calling CVEC function with `text` column:"
   ]
  },
  {
   "cell_type": "code",
   "execution_count": 100,
   "metadata": {},
   "outputs": [],
   "source": [
    "text_cvec = cvec_function('text')"
   ]
  },
  {
   "cell_type": "markdown",
   "metadata": {},
   "source": [
    "### Top 50 words in text"
   ]
  },
  {
   "cell_type": "code",
   "execution_count": 168,
   "metadata": {},
   "outputs": [],
   "source": [
    "top_words = text_cvec.sum().sort_values(ascending=False).head(50)"
   ]
  },
  {
   "cell_type": "code",
   "execution_count": 167,
   "metadata": {},
   "outputs": [
    {
     "name": "stderr",
     "output_type": "stream",
     "text": [
      "/Users/rwilkening/opt/anaconda3/lib/python3.7/site-packages/ipykernel_launcher.py:21: DeprecationWarning: Call to deprecated `most_similar` (Method will be removed in 4.0.0, use self.wv.most_similar() instead).\n"
     ]
    },
    {
     "data": {
      "text/plain": [
       "[('driver', 0.7992774844169617),\n",
       " ('taxi', 0.7635014057159424),\n",
       " ('cars', 0.7435533404350281),\n",
       " ('truck', 0.7435256242752075),\n",
       " ('motorcycle', 0.7088671922683716),\n",
       " ('vehicle', 0.6889256238937378),\n",
       " ('racing', 0.6746527552604675),\n",
       " ('passenger', 0.6717368960380554),\n",
       " ('stock', 0.6547423005104065),\n",
       " ('trucks', 0.6501966714859009)]"
      ]
     },
     "execution_count": 167,
     "metadata": {},
     "output_type": "execute_result"
    }
   ],
   "source": [
    "# Import Word2Vec\n",
    "from gensim.models.word2vec import Word2Vec\n",
    "\n",
    "# If you want to use gensim's data, import their downloader\n",
    "# and load it.\n",
    "import gensim.downloader as api\n",
    "corpus = api.load('text8')\n",
    "\n",
    "# If you have your own iterable corpus of cleaned data, you can \n",
    "# read it in as corpus and pass that in.\n",
    "\n",
    "# Train a model! \n",
    "model = Word2Vec(corpus,      # Corpus of data.\n",
    "                 size=100,    # How many dimensions do you want in your word vector?\n",
    "                 window=5,    # How many \"context words\" do you want?\n",
    "                 min_count=1, # Ignores words below this threshold.\n",
    "                 sg=0,        # SG = 1 uses SkipGram, SG = 0 uses CBOW (default).\n",
    "                 workers=4)   # Number of \"worker threads\" to use (parallelizes process).\n",
    "\n",
    "# Do what you'd like to do with your data!\n",
    "model.most_similar(\"car\")"
   ]
  },
  {
   "cell_type": "markdown",
   "metadata": {},
   "source": [
    "### Displaying the most similar to all the top words:"
   ]
  },
  {
   "cell_type": "code",
   "execution_count": 176,
   "metadata": {},
   "outputs": [
    {
     "name": "stderr",
     "output_type": "stream",
     "text": [
      "/Users/rwilkening/opt/anaconda3/lib/python3.7/site-packages/ipykernel_launcher.py:3: DeprecationWarning: Call to deprecated `most_similar` (Method will be removed in 4.0.0, use self.wv.most_similar() instead).\n",
      "  This is separate from the ipykernel package so we can avoid doing imports until\n"
     ]
    },
    {
     "name": "stdout",
     "output_type": "stream",
     "text": [
      "word: com [('org', 0.8835672736167908), ('www', 0.8178542852401733), ('info', 0.8163278102874756), ('yahoo', 0.8129258155822754), ('http', 0.8124989867210388), ('faq', 0.8049891591072083), ('skydivingmovies', 0.7923030853271484), ('website', 0.7843674421310425), ('blog', 0.7700207233428955), ('archive', 0.7588902711868286)]\n",
      "-------\n",
      "word: twitter [('amminadab', 0.6934950947761536), ('covets', 0.6524245142936707), ('wraps', 0.6413664817810059), ('hephthalite', 0.6392537355422974), ('trekked', 0.6334550380706787), ('palatinates', 0.629637598991394), ('filipp', 0.6244513988494873), ('revolve', 0.6206804513931274), ('njessi', 0.6201038360595703), ('mindlessly', 0.6157722473144531)]\n",
      "-------\n",
      "word: https [('ftp', 0.8911775350570679), ('edu', 0.8650883436203003), ('gov', 0.8435155153274536), ('http', 0.8371896743774414), ('msn', 0.8367120027542114), ('openoffice', 0.8282307386398315), ('globalsecurity', 0.8268226385116577), ('utexas', 0.8258215188980103), ('whatsnew', 0.8199779987335205), ('iptables', 0.8151876926422119)]\n",
      "-------\n",
      "word: pic [('stockepedia', 0.8706662654876709), ('tta', 0.8704559803009033), ('pertundere', 0.8671317100524902), ('nanoacre', 0.8658421039581299), ('cbr', 0.8650335073471069), ('pbd', 0.8644139766693115), ('qbe', 0.8626093864440918), ('jmho', 0.8614455461502075), ('fsck', 0.8607438206672668), ('rtsp', 0.8606165647506714)]\n",
      "-------\n",
      "word: status [('autonomy', 0.7084431648254395), ('jurisdiction', 0.705306887626648), ('membership', 0.6736828684806824), ('authority', 0.669963002204895), ('citizenship', 0.6688408255577087), ('sovereignty', 0.6646437644958496), ('obligations', 0.6487895250320435), ('recognition', 0.6472594738006592), ('acceptance', 0.6434307098388672), ('scope', 0.6269940137863159)]\n",
      "-------\n",
      "word: la [('du', 0.8754174709320068), ('le', 0.8737316727638245), ('de', 0.837030291557312), ('sur', 0.8356038331985474), ('les', 0.8049110770225525), ('ne', 0.8016554713249207), ('espa', 0.7975055575370789), ('di', 0.7902481555938721), ('paz', 0.7882630228996277), ('des', 0.7713097929954529)]\n",
      "-------\n",
      "word: traffic [('transport', 0.8008981347084045), ('freight', 0.7827801704406738), ('lanes', 0.7624883055686951), ('trains', 0.7560325264930725), ('transportation', 0.7435329556465149), ('cable', 0.7388577461242676), ('commuter', 0.7385822534561157), ('navigation', 0.7369863986968994), ('congestion', 0.7255010604858398), ('rail', 0.7253612279891968)]\n",
      "-------\n",
      "word: news [('cnn', 0.7924310564994812), ('bbc', 0.7323470711708069), ('coverage', 0.7240930795669556), ('newspaper', 0.7187438607215881), ('pbs', 0.7106488943099976), ('forum', 0.7077664136886597), ('weekly', 0.7061466574668884), ('usenet', 0.6919317245483398), ('abc', 0.686970591545105), ('blog', 0.6834092140197754)]\n",
      "-------\n",
      "word: ca [('circa', 0.7788615822792053), ('felicita', 0.7407106161117554), ('candaule', 0.7132402658462524), ('barcaccia', 0.670413076877594), ('ce', 0.6676204800605774), ('estepa', 0.6667032241821289), ('dardashti', 0.6663941144943237), ('alzira', 0.6564748287200928), ('fl', 0.6494016051292419), ('latm', 0.6478396654129028)]\n",
      "-------\n",
      "word: http [('www', 0.9409534931182861), ('org', 0.8765221238136292), ('edu', 0.8598526120185852), ('https', 0.8371897339820862), ('utexas', 0.8259972333908081), ('com', 0.8124989867210388), ('gov', 0.7965885400772095), ('ftp', 0.7808507680892944), ('wustl', 0.7777367830276489), ('htm', 0.7715831995010376)]\n",
      "-------\n",
      "word: thank [('sano', 0.8175818920135498), ('dare', 0.8069853782653809), ('sanon', 0.8034444451332092), ('starveling', 0.7979324460029602), ('sez', 0.7849777936935425), ('sorry', 0.78086918592453), ('yeah', 0.7735474109649658), ('okay', 0.769866943359375), ('sucka', 0.7684197425842285), ('youd', 0.7677326202392578)]\n",
      "-------\n",
      "word: west [('east', 0.8650858998298645), ('south', 0.7851817011833191), ('northwest', 0.7431591749191284), ('north', 0.7361398935317993), ('southeast', 0.7276663184165955), ('southwest', 0.7126171588897705), ('northeast', 0.711755633354187), ('southern', 0.6846432685852051), ('peninsula', 0.6599022746086121), ('rhine', 0.655805230140686)]\n",
      "-------\n",
      "word: county [('borough', 0.8333237171173096), ('district', 0.821066677570343), ('township', 0.8116154670715332), ('counties', 0.8113343715667725), ('maryland', 0.799804151058197), ('kentucky', 0.7988712787628174), ('connecticut', 0.7976129055023193), ('ontario', 0.785139799118042), ('michigan', 0.7707262635231018), ('saskatchewan', 0.7656170129776001)]\n",
      "-------\n",
      "word: lanes [('tunnels', 0.8062865734100342), ('routes', 0.7964755296707153), ('roads', 0.7798492908477783), ('trains', 0.7768369317054749), ('traffic', 0.7624883055686951), ('freeways', 0.7338759899139404), ('crossings', 0.7254961133003235), ('trails', 0.7224788665771484), ('buses', 0.7198195457458496), ('interchanges', 0.7178069353103638)]\n",
      "-------\n",
      "word: closed [('suspended', 0.5966215133666992), ('empty', 0.5915353298187256), ('blocked', 0.5860708951950073), ('loaded', 0.5772844552993774), ('enclosed', 0.5765226483345032), ('continuous', 0.573850154876709), ('open', 0.566985547542572), ('rotated', 0.5610790848731995), ('grid', 0.5587589740753174), ('opened', 0.5539556741714478)]\n",
      "-------\n",
      "word: update [('dns', 0.7272160053253174), ('ldap', 0.711013913154602), ('api', 0.7098478078842163), ('upload', 0.7089868783950806), ('irc', 0.7008320093154907), ('edit', 0.6983909606933594), ('install', 0.6908168792724609), ('server', 0.6833094358444214), ('file', 0.6827623844146729), ('updates', 0.6764578819274902)]\n",
      "-------\n",
      "word: rd [('nd', 0.8469922542572021), ('eleventh', 0.7591367959976196), ('tenth', 0.7278282642364502), ('th', 0.7244350910186768), ('eighth', 0.712584376335144), ('fifteenth', 0.7098585963249207), ('twelfth', 0.7092101573944092), ('seventh', 0.708142876625061), ('ninth', 0.7068144083023071), ('fourteenth', 0.7034646272659302)]\n",
      "-------\n",
      "word: california [('florida', 0.8220003247261047), ('texas', 0.8184759616851807), ('arizona', 0.7883317470550537), ('ohio', 0.7752439975738525), ('colorado', 0.7714802026748657), ('nevada', 0.7674524188041687), ('oregon', 0.7627280950546265), ('michigan', 0.7623128890991211), ('arkansas', 0.7501136064529419), ('wisconsin', 0.7383424043655396)]\n",
      "-------\n",
      "word: www [('http', 0.9409534931182861), ('edu', 0.8793098330497742), ('org', 0.8592864871025085), ('utexas', 0.8399357795715332), ('gov', 0.8396778702735901), ('com', 0.8178542852401733), ('https', 0.8117536902427673), ('htm', 0.8047641515731812), ('wustl', 0.7938370108604431), ('canr', 0.7813199758529663)]\n",
      "-------\n",
      "word: just [('simply', 0.6110917329788208), ('exactly', 0.607077956199646), ('anything', 0.5860714316368103), ('actually', 0.5733102560043335), ('only', 0.5726423263549805), ('really', 0.5697351694107056), ('something', 0.5696629285812378), ('straight', 0.5544689297676086), ('everything', 0.5478377342224121), ('whole', 0.5372524261474609)]\n",
      "-------\n",
      "word: ly [('zn', 0.8272364139556885), ('gy', 0.8239774107933044), ('dy', 0.8217895030975342), ('ke', 0.8129608631134033), ('lat', 0.8103669881820679), ('sn', 0.809582531452179), ('pentane', 0.8093440532684326), ('bd', 0.808379590511322), ('ver', 0.8083782196044922), ('memm', 0.8082101345062256)]\n",
      "-------\n",
      "word: open [('closed', 0.566985547542572), ('free', 0.542617917060852), ('empty', 0.4975976049900055), ('exit', 0.46386221051216125), ('active', 0.4528687596321106), ('door', 0.4500480890274048), ('optional', 0.43102043867111206), ('atm', 0.42953717708587646), ('enter', 0.42704570293426514), ('destination', 0.4232218563556671)]\n",
      "-------\n",
      "word: los [('angeles', 0.8017566204071045), ('altos', 0.7492642402648926), ('alamos', 0.6918858289718628), ('anaheim', 0.6790251731872559), ('san', 0.673565685749054), ('las', 0.6719601154327393), ('pasadena', 0.6662855744361877), ('wattersons', 0.6418075561523438), ('alamitos', 0.6412599682807922), ('vegas', 0.6324160695075989)]\n",
      "-------\n",
      "word: bit [('processor', 0.7876803874969482), ('byte', 0.7851735949516296), ('kb', 0.7761826515197754), ('cpu', 0.760810136795044), ('bytes', 0.7496274709701538), ('bits', 0.7446078658103943), ('kilobytes', 0.7335322499275208), ('mb', 0.7237565517425537), ('floppy', 0.7210984230041504), ('disk', 0.7120405435562134)]\n",
      "-------\n",
      "word: angeles [('altos', 0.866308331489563), ('los', 0.8017566204071045), ('horcones', 0.7690892815589905), ('alamitos', 0.7680612206459045), ('alamos', 0.76421058177948), ('trabajos', 0.7633402347564697), ('gatos', 0.7427588105201721), ('heterodoxos', 0.7406455874443054), ('patricios', 0.7363438606262207), ('monjes', 0.7340192794799805)]\n",
      "-------\n",
      "word: blvd [('utica', 0.7604992985725403), ('roosters', 0.7579536437988281), ('liv', 0.7539291381835938), ('lynchburg', 0.7527003288269043), ('nagashi', 0.7526460886001587), ('atland', 0.7517993450164795), ('woodlawn', 0.7496442198753357), ('biltmore', 0.7457846999168396), ('shakuntala', 0.7439814209938049), ('chimborazo', 0.7423422336578369)]\n",
      "-------\n",
      "word: acres [('kilometres', 0.8331426382064819), ('mph', 0.7829043865203857), ('acre', 0.7760708332061768), ('kilometers', 0.7742416262626648), ('sq', 0.7567110061645508), ('miles', 0.7541033029556274), ('hectares', 0.7424472570419312), ('km', 0.7253106832504272), ('kilometer', 0.7249276638031006), ('totalling', 0.722650408744812)]\n",
      "-------\n",
      "word: south [('north', 0.9089257121086121), ('west', 0.7851817607879639), ('southwest', 0.7364694476127625), ('southern', 0.7324512004852295), ('southeast', 0.7305770516395569), ('northeast', 0.7146279215812683), ('eurasia', 0.6968454122543335), ('northwest', 0.6964889764785767), ('northern', 0.6896815896034241), ('gettingaround', 0.6665431261062622)]\n",
      "-------\n",
      "word: canyon [('sands', 0.7613046765327454), ('boulder', 0.7592809200286865), ('creek', 0.7461522221565247), ('towers', 0.7460340261459351), ('gorge', 0.7455892562866211), ('portage', 0.7418171167373657), ('dome', 0.7342177629470825), ('caverns', 0.732951283454895), ('butte', 0.726355791091919), ('fountains', 0.7250415682792664)]\n",
      "-------\n",
      "word: sr [('bert', 0.889864444732666), ('edwards', 0.8852444887161255), ('craig', 0.8830416202545166), ('hayes', 0.8807930946350098), ('laurie', 0.8766037225723267), ('richards', 0.8753484487533569), ('jr', 0.8746540546417236), ('garrett', 0.8744824528694153), ('johnston', 0.8734167218208313), ('elliott', 0.8727716207504272)]\n",
      "-------\n",
      "word: north [('south', 0.9089256525039673), ('west', 0.7361398935317993), ('southwest', 0.7202949523925781), ('northwest', 0.6883440613746643), ('southern', 0.6882921457290649), ('southeast', 0.6847801208496094), ('eurasia', 0.678836464881897), ('northeast', 0.6738369464874268), ('continent', 0.6552779674530029), ('northern', 0.6535751819610596)]\n",
      "-------\n",
      "word: lane [('glen', 0.7521597146987915), ('boulevard', 0.721616804599762), ('oakland', 0.7092856168746948), ('hill', 0.7069577574729919), ('avenue', 0.7053519487380981), ('riverside', 0.7011778950691223), ('reeves', 0.7009679079055786), ('barton', 0.6994393467903137), ('cove', 0.6975871324539185), ('delhomme', 0.6974973082542419)]\n",
      "-------\n",
      "word: contained [('contains', 0.6803760528564453), ('included', 0.6300511360168457), ('containing', 0.6175248622894287), ('printed', 0.6169971227645874), ('collected', 0.6035021543502808), ('includes', 0.5898550748825073), ('published', 0.5622995495796204), ('produced', 0.5552701354026794), ('contain', 0.5546005964279175), ('incorporates', 0.5538417100906372)]\n",
      "-------\n",
      "word: sb [('aq', 0.8584882020950317), ('gs', 0.8580161929130554), ('serine', 0.8458833694458008), ('longrightarrow', 0.8440765142440796), ('bd', 0.8410079479217529), ('octahedra', 0.8397510051727295), ('sx', 0.8397407531738281), ('mmdf', 0.8369085788726807), ('zn', 0.8335710167884827), ('qd', 0.8335617184638977)]\n",
      "-------\n",
      "word: people [('persons', 0.6694411039352417), ('citizens', 0.6693811416625977), ('residents', 0.6527523398399353), ('individuals', 0.6424086689949036), ('jews', 0.6143132448196411), ('participants', 0.6108162999153137), ('blacks', 0.6080880165100098), ('americans', 0.5976663827896118), ('men', 0.5865175724029541), ('tourists', 0.5784013271331787)]\n",
      "-------\n",
      "word: ave [('clifton', 0.8220636248588562), ('rochester', 0.8204303979873657), ('kensington', 0.8117691278457642), ('camden', 0.8095568418502808), ('nottingham', 0.8065221309661865), ('utica', 0.8063404560089111), ('oxfordshire', 0.8039250373840332), ('dorchester', 0.8017309904098511), ('lakeland', 0.8001438975334167), ('surrey', 0.7994794845581055)]\n",
      "-------\n",
      "word: near [('nearby', 0.7068005800247192), ('mount', 0.6539062857627869), ('cemetery', 0.6301366686820984), ('heights', 0.620193600654602), ('valley', 0.6196430325508118), ('overlooking', 0.6186459064483643), ('citadel', 0.6172001361846924), ('estuary', 0.6134957671165466), ('harbour', 0.6105128526687622), ('ridge', 0.610303521156311)]\n",
      "-------\n",
      "word: blocked [('fed', 0.7439451217651367), ('lifted', 0.7425145506858826), ('guarded', 0.7340447306632996), ('manipulated', 0.7288556694984436), ('monitored', 0.7210608720779419), ('routed', 0.7202329635620117), ('cleared', 0.7192717790603638), ('handled', 0.7184125185012817), ('checked', 0.7154393792152405), ('terminated', 0.7125900983810425)]\n",
      "-------\n"
     ]
    }
   ],
   "source": [
    "for words in top_words.index:\n",
    "    try:\n",
    "        print(\"word:\", words, model.most_similar(words))\n",
    "        print(\"-------\")\n",
    "    except:\n",
    "        pass"
   ]
  },
  {
   "cell_type": "markdown",
   "metadata": {},
   "source": [
    "## <span style ='color:red'> If we can do the above but with the hashtags, then re-query with the hashtags/mentions, that'd be so cool!!! Also, use the cleaning from the other notebook, possibly look at doing more EDA\n",
    " "
   ]
  }
 ],
 "metadata": {
  "kernelspec": {
   "display_name": "Python 3",
   "language": "python",
   "name": "python3"
  },
  "language_info": {
   "codemirror_mode": {
    "name": "ipython",
    "version": 3
   },
   "file_extension": ".py",
   "mimetype": "text/x-python",
   "name": "python",
   "nbconvert_exporter": "python",
   "pygments_lexer": "ipython3",
   "version": "3.7.4"
  }
 },
 "nbformat": 4,
 "nbformat_minor": 4
}
