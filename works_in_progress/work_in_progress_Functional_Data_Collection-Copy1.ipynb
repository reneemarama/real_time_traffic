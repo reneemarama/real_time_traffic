{
 "cells": [
  {
   "cell_type": "markdown",
   "metadata": {},
   "source": [
    "# Data Collection"
   ]
  },
  {
   "cell_type": "markdown",
   "metadata": {},
   "source": [
    "### Installing Libraries and Packages"
   ]
  },
  {
   "cell_type": "code",
   "execution_count": 1,
   "metadata": {},
   "outputs": [],
   "source": [
    "#!pip install twitterscraper"
   ]
  },
  {
   "cell_type": "code",
   "execution_count": 1,
   "metadata": {},
   "outputs": [
    {
     "name": "stderr",
     "output_type": "stream",
     "text": [
      "INFO: {'User-Agent': 'Mozilla/5.0 (Windows NT 5.2; RW; rv:7.0a1) Gecko/20091211 SeaMonkey/9.23a1pre'}\n"
     ]
    }
   ],
   "source": [
    "from twitterscraper import query_tweets\n",
    "import datetime as dt\n",
    "import pandas as pd\n",
    "from bs4 import BeautifulSoup\n",
    "import warnings\n",
    "\n",
    "warnings.filterwarnings('ignore')"
   ]
  },
  {
   "cell_type": "markdown",
   "metadata": {},
   "source": [
    "### Reading in Starter CSV \n",
    "\n",
    "Has formatted twitter headers created in previous notebook which each scrape will append to."
   ]
  },
  {
   "cell_type": "code",
   "execution_count": 11,
   "metadata": {},
   "outputs": [
    {
     "data": {
      "text/html": [
       "<div>\n",
       "<style scoped>\n",
       "    .dataframe tbody tr th:only-of-type {\n",
       "        vertical-align: middle;\n",
       "    }\n",
       "\n",
       "    .dataframe tbody tr th {\n",
       "        vertical-align: top;\n",
       "    }\n",
       "\n",
       "    .dataframe thead th {\n",
       "        text-align: right;\n",
       "    }\n",
       "</style>\n",
       "<table border=\"1\" class=\"dataframe\">\n",
       "  <thead>\n",
       "    <tr style=\"text-align: right;\">\n",
       "      <th></th>\n",
       "      <th>screen_name</th>\n",
       "      <th>username</th>\n",
       "      <th>user_id</th>\n",
       "      <th>tweet_id</th>\n",
       "      <th>tweet_url</th>\n",
       "      <th>timestamp</th>\n",
       "      <th>timestamp_epochs</th>\n",
       "      <th>text</th>\n",
       "      <th>text_html</th>\n",
       "      <th>links</th>\n",
       "      <th>...</th>\n",
       "      <th>img_urls</th>\n",
       "      <th>video_url</th>\n",
       "      <th>likes</th>\n",
       "      <th>retweets</th>\n",
       "      <th>replies</th>\n",
       "      <th>is_replied</th>\n",
       "      <th>is_reply_to</th>\n",
       "      <th>parent_tweet_id</th>\n",
       "      <th>reply_to_users</th>\n",
       "      <th>query</th>\n",
       "    </tr>\n",
       "  </thead>\n",
       "  <tbody>\n",
       "  </tbody>\n",
       "</table>\n",
       "<p>0 rows × 22 columns</p>\n",
       "</div>"
      ],
      "text/plain": [
       "Empty DataFrame\n",
       "Columns: [screen_name, username, user_id, tweet_id, tweet_url, timestamp, timestamp_epochs, text, text_html, links, hashtags, has_media, img_urls, video_url, likes, retweets, replies, is_replied, is_reply_to, parent_tweet_id, reply_to_users, query]\n",
       "Index: []\n",
       "\n",
       "[0 rows x 22 columns]"
      ]
     },
     "execution_count": 11,
     "metadata": {},
     "output_type": "execute_result"
    }
   ],
   "source": [
    "starter_df = pd.read_csv('twitter_header.csv')\n",
    "starter_df"
   ]
  },
  {
   "cell_type": "markdown",
   "metadata": {},
   "source": [
    "### Defining a function that will pull tweets "
   ]
  },
  {
   "cell_type": "markdown",
   "metadata": {},
   "source": [
    "### <span style ='color:red'> Renee, Update what limit_num does in docstring"
   ]
  },
  {
   "cell_type": "code",
   "execution_count": 12,
   "metadata": {},
   "outputs": [],
   "source": [
    "def get_tweets(query, start_date, endding_date, limit_num = 1, language = \"english\"):\n",
    "    \"\"\"\n",
    "    \n",
    "    Pulls tweets from twitter ... and \n",
    "    \n",
    "    \n",
    "    Parameters: \n",
    "    \n",
    "    query: the query statement we want to pull from twitter, must be in quotes.\n",
    "    start_date: formated as a tuple, pulls from said start date. Format as i.e.: (2019, 10, 10).\n",
    "    end_date: formated as a tuple, pulls from said start date, Format as i.e.: (2019, 10, 31).\n",
    "    limit_num: the default is 2_000, idk what it does \n",
    "    language: the default is english, pulls only tweets in said language. \n",
    "    \"\"\"\n",
    "    \n",
    "    global starter_df\n",
    "    \n",
    "    #unpacks the date tuples to later be formated using the \n",
    "    start_yr, start_month, start_day = start_date \n",
    "    end_yr, end_month, end_day = endding_date\n",
    "\n",
    "    #Reformats dates,unpacked above, into twitter query format\n",
    "    begin_date = dt.date(start_yr, start_month, start_day)\n",
    "    end_date = dt.date(end_yr, end_month, end_day)\n",
    "    \n",
    "    \n",
    "    #Using try and except statements in cases there's any date or others issues\n",
    "    \n",
    "    try:\n",
    "\n",
    "        #Pulling from twitter\n",
    "        tweets = query_tweets(query, begindate = begin_date, enddate = end_date, limit = limit_num, lang = language)\n",
    "        \n",
    "        #Creates DataFrame From tweets\n",
    "        twitter_df = pd.DataFrame(t.__dict__ for t in tweets)\n",
    "    \n",
    "        #Creates a column with the query name as it's value\n",
    "        twitter_df['query'] = query\n",
    "        \n",
    "        \n",
    "        #concatenates the twitter_df to the starter_df\n",
    "        starter_df = pd.concat([starter_df, twitter_df])\n",
    "        \n",
    "        \n",
    "    except:\n",
    "        print(f\"An exception has been for {query}\")"
   ]
  },
  {
   "cell_type": "markdown",
   "metadata": {},
   "source": [
    "#### Calling the get_tweets function that populates the starter_df"
   ]
  },
  {
   "cell_type": "code",
   "execution_count": 13,
   "metadata": {},
   "outputs": [
    {
     "name": "stderr",
     "output_type": "stream",
     "text": [
      "INFO: queries: ['saddleridgefire since:2019-10-10 until:2019-10-11', 'saddleridgefire since:2019-10-11 until:2019-10-12', 'saddleridgefire since:2019-10-12 until:2019-10-13', 'saddleridgefire since:2019-10-13 until:2019-10-14', 'saddleridgefire since:2019-10-14 until:2019-10-15', 'saddleridgefire since:2019-10-15 until:2019-10-16', 'saddleridgefire since:2019-10-16 until:2019-10-17', 'saddleridgefire since:2019-10-17 until:2019-10-18', 'saddleridgefire since:2019-10-18 until:2019-10-19', 'saddleridgefire since:2019-10-19 until:2019-10-20', 'saddleridgefire since:2019-10-20 until:2019-10-21', 'saddleridgefire since:2019-10-21 until:2019-10-22', 'saddleridgefire since:2019-10-22 until:2019-10-23', 'saddleridgefire since:2019-10-23 until:2019-10-24', 'saddleridgefire since:2019-10-24 until:2019-10-25', 'saddleridgefire since:2019-10-25 until:2019-10-26', 'saddleridgefire since:2019-10-26 until:2019-10-27', 'saddleridgefire since:2019-10-27 until:2019-10-28', 'saddleridgefire since:2019-10-28 until:2019-10-29', 'saddleridgefire since:2019-10-29 until:2019-10-31']\n",
      "INFO: Querying saddleridgefire since:2019-10-11 until:2019-10-12\n",
      "INFO: Querying saddleridgefire since:2019-10-12 until:2019-10-13\n",
      "INFO: Querying saddleridgefire since:2019-10-10 until:2019-10-11\n",
      "INFO: Querying saddleridgefire since:2019-10-17 until:2019-10-18\n",
      "INFO: Querying saddleridgefire since:2019-10-13 until:2019-10-14\n",
      "INFO: Querying saddleridgefire since:2019-10-14 until:2019-10-15\n",
      "INFO: Querying saddleridgefire since:2019-10-15 until:2019-10-16\n",
      "INFO: Querying saddleridgefire since:2019-10-16 until:2019-10-17\n",
      "INFO: Querying saddleridgefire since:2019-10-18 until:2019-10-19\n",
      "INFO: Querying saddleridgefire since:2019-10-19 until:2019-10-20\n",
      "INFO: Querying saddleridgefire since:2019-10-20 until:2019-10-21\n",
      "INFO: Querying saddleridgefire since:2019-10-21 until:2019-10-22\n",
      "INFO: Querying saddleridgefire since:2019-10-22 until:2019-10-23\n",
      "INFO: Querying saddleridgefire since:2019-10-23 until:2019-10-24\n",
      "INFO: Querying saddleridgefire since:2019-10-24 until:2019-10-25\n",
      "INFO: Scraping tweets from https://twitter.com/search?f=tweets&vertical=default&q=saddleridgefire%20since%3A2019-10-11%20until%3A2019-10-12&l=english\n",
      "INFO: Scraping tweets from https://twitter.com/search?f=tweets&vertical=default&q=saddleridgefire%20since%3A2019-10-10%20until%3A2019-10-11&l=english\n",
      "INFO: Scraping tweets from https://twitter.com/search?f=tweets&vertical=default&q=saddleridgefire%20since%3A2019-10-12%20until%3A2019-10-13&l=english\n",
      "INFO: Scraping tweets from https://twitter.com/search?f=tweets&vertical=default&q=saddleridgefire%20since%3A2019-10-15%20until%3A2019-10-16&l=english\n",
      "INFO: Querying saddleridgefire since:2019-10-25 until:2019-10-26\n",
      "INFO: Scraping tweets from https://twitter.com/search?f=tweets&vertical=default&q=saddleridgefire%20since%3A2019-10-13%20until%3A2019-10-14&l=english\n",
      "INFO: Scraping tweets from https://twitter.com/search?f=tweets&vertical=default&q=saddleridgefire%20since%3A2019-10-16%20until%3A2019-10-17&l=english\n",
      "INFO: Scraping tweets from https://twitter.com/search?f=tweets&vertical=default&q=saddleridgefire%20since%3A2019-10-14%20until%3A2019-10-15&l=english\n",
      "INFO: Querying saddleridgefire since:2019-10-26 until:2019-10-27\n",
      "INFO: Querying saddleridgefire since:2019-10-27 until:2019-10-28\n",
      "INFO: Querying saddleridgefire since:2019-10-28 until:2019-10-29\n",
      "INFO: Querying saddleridgefire since:2019-10-29 until:2019-10-31\n",
      "INFO: Scraping tweets from https://twitter.com/search?f=tweets&vertical=default&q=saddleridgefire%20since%3A2019-10-17%20until%3A2019-10-18&l=english\n",
      "INFO: Scraping tweets from https://twitter.com/search?f=tweets&vertical=default&q=saddleridgefire%20since%3A2019-10-19%20until%3A2019-10-20&l=english\n",
      "INFO: Scraping tweets from https://twitter.com/search?f=tweets&vertical=default&q=saddleridgefire%20since%3A2019-10-18%20until%3A2019-10-19&l=english\n",
      "INFO: Scraping tweets from https://twitter.com/search?f=tweets&vertical=default&q=saddleridgefire%20since%3A2019-10-21%20until%3A2019-10-22&l=english\n",
      "INFO: Scraping tweets from https://twitter.com/search?f=tweets&vertical=default&q=saddleridgefire%20since%3A2019-10-20%20until%3A2019-10-21&l=english\n",
      "INFO: Scraping tweets from https://twitter.com/search?f=tweets&vertical=default&q=saddleridgefire%20since%3A2019-10-22%20until%3A2019-10-23&l=english\n",
      "INFO: Scraping tweets from https://twitter.com/search?f=tweets&vertical=default&q=saddleridgefire%20since%3A2019-10-23%20until%3A2019-10-24&l=english\n",
      "INFO: Scraping tweets from https://twitter.com/search?f=tweets&vertical=default&q=saddleridgefire%20since%3A2019-10-24%20until%3A2019-10-25&l=english\n",
      "INFO: Using proxy 92.247.2.26:21231\n",
      "INFO: Using proxy 92.247.2.26:21231\n",
      "INFO: Using proxy 92.247.2.26:21231\n",
      "INFO: Using proxy 92.247.2.26:21231\n",
      "INFO: Using proxy 92.247.2.26:21231\n",
      "INFO: Scraping tweets from https://twitter.com/search?f=tweets&vertical=default&q=saddleridgefire%20since%3A2019-10-25%20until%3A2019-10-26&l=english\n",
      "INFO: Using proxy 92.247.2.26:21231\n",
      "INFO: Using proxy 92.247.2.26:21231\n",
      "INFO: Scraping tweets from https://twitter.com/search?f=tweets&vertical=default&q=saddleridgefire%20since%3A2019-10-26%20until%3A2019-10-27&l=english\n",
      "INFO: Scraping tweets from https://twitter.com/search?f=tweets&vertical=default&q=saddleridgefire%20since%3A2019-10-28%20until%3A2019-10-29&l=english\n",
      "INFO: Scraping tweets from https://twitter.com/search?f=tweets&vertical=default&q=saddleridgefire%20since%3A2019-10-27%20until%3A2019-10-28&l=english\n",
      "INFO: Scraping tweets from https://twitter.com/search?f=tweets&vertical=default&q=saddleridgefire%20since%3A2019-10-29%20until%3A2019-10-31&l=english\n",
      "INFO: Using proxy 92.247.2.26:21231\n",
      "INFO: Using proxy 92.247.2.26:21231\n",
      "INFO: Using proxy 92.247.2.26:21231\n",
      "INFO: Using proxy 92.247.2.26:21231\n",
      "INFO: Using proxy 92.247.2.26:21231\n",
      "INFO: Using proxy 92.247.2.26:21231\n",
      "INFO: Using proxy 92.247.2.26:21231\n",
      "INFO: Using proxy 92.247.2.26:21231\n",
      "INFO: Using proxy 92.247.2.26:21231\n",
      "INFO: Using proxy 92.247.2.26:21231\n",
      "INFO: Using proxy 92.247.2.26:21231\n",
      "INFO: Using proxy 92.247.2.26:21231\n",
      "INFO: Using proxy 92.247.2.26:21231\n",
      "INFO: Retrying... (Attempts left: 50)\n",
      "INFO: Scraping tweets from https://twitter.com/search?f=tweets&vertical=default&q=saddleridgefire%20since%3A2019-10-10%20until%3A2019-10-11&l=english\n",
      "INFO: Using proxy 186.233.98.173:23500\n",
      "INFO: Got 9 tweets for saddleridgefire%20since%3A2019-10-27%20until%3A2019-10-28.\n",
      "INFO: Got 9 tweets (9 new).\n",
      "INFO: Retrying... (Attempts left: 49)\n",
      "INFO: Scraping tweets from https://twitter.com/search?f=tweets&vertical=default&q=saddleridgefire%20since%3A2019-10-10%20until%3A2019-10-11&l=english\n",
      "INFO: Using proxy 201.151.79.30:8080\n",
      "INFO: Got 12 tweets for saddleridgefire%20since%3A2019-10-23%20until%3A2019-10-24.\n",
      "INFO: Got 21 tweets (12 new).\n",
      "INFO: Got 12 tweets for saddleridgefire%20since%3A2019-10-26%20until%3A2019-10-27.\n",
      "INFO: Got 33 tweets (12 new).\n",
      "INFO: Got 15 tweets for saddleridgefire%20since%3A2019-10-24%20until%3A2019-10-25.\n",
      "INFO: Got 48 tweets (15 new).\n",
      "INFO: Retrying... (Attempts left: 48)\n",
      "INFO: Scraping tweets from https://twitter.com/search?f=tweets&vertical=default&q=saddleridgefire%20since%3A2019-10-10%20until%3A2019-10-11&l=english\n",
      "INFO: Using proxy 94.130.125.217:1080\n",
      "INFO: Got 19 tweets for saddleridgefire%20since%3A2019-10-13%20until%3A2019-10-14.\n",
      "INFO: Got 67 tweets (19 new).\n",
      "INFO: Got 20 tweets for saddleridgefire%20since%3A2019-10-25%20until%3A2019-10-26.\n",
      "INFO: Got 87 tweets (20 new).\n",
      "INFO: Got 20 tweets for saddleridgefire%20since%3A2019-10-18%20until%3A2019-10-19.\n",
      "INFO: Got 107 tweets (20 new).\n",
      "INFO: Got 17 tweets for saddleridgefire%20since%3A2019-10-19%20until%3A2019-10-20.\n",
      "INFO: Got 124 tweets (17 new).\n",
      "INFO: Got 19 tweets for saddleridgefire%20since%3A2019-10-12%20until%3A2019-10-13.\n",
      "INFO: Got 143 tweets (19 new).\n",
      "INFO: Got 19 tweets for saddleridgefire%20since%3A2019-10-28%20until%3A2019-10-29.\n",
      "INFO: Got 162 tweets (19 new).\n",
      "INFO: Got 15 tweets for saddleridgefire%20since%3A2019-10-15%20until%3A2019-10-16.\n",
      "INFO: Got 177 tweets (15 new).\n",
      "INFO: Got 16 tweets for saddleridgefire%20since%3A2019-10-14%20until%3A2019-10-15.\n",
      "INFO: Got 18 tweets for saddleridgefire%20since%3A2019-10-29%20until%3A2019-10-31.\n",
      "INFO: Got 195 tweets (18 new).\n"
     ]
    },
    {
     "name": "stderr",
     "output_type": "stream",
     "text": [
      "INFO: Got 211 tweets (16 new).\n",
      "INFO: Got 19 tweets for saddleridgefire%20since%3A2019-10-22%20until%3A2019-10-23.\n",
      "INFO: Got 230 tweets (19 new).\n",
      "INFO: Got 19 tweets for saddleridgefire%20since%3A2019-10-17%20until%3A2019-10-18.\n",
      "INFO: Got 18 tweets for saddleridgefire%20since%3A2019-10-21%20until%3A2019-10-22.\n",
      "INFO: Got 18 tweets for saddleridgefire%20since%3A2019-10-16%20until%3A2019-10-17.\n",
      "INFO: Got 248 tweets (18 new).\n",
      "INFO: Got 266 tweets (18 new).\n",
      "INFO: Got 285 tweets (19 new).\n",
      "INFO: Got 17 tweets for saddleridgefire%20since%3A2019-10-11%20until%3A2019-10-12.\n",
      "INFO: Got 302 tweets (17 new).\n",
      "INFO: Got 17 tweets for saddleridgefire%20since%3A2019-10-20%20until%3A2019-10-21.\n",
      "INFO: Got 319 tweets (17 new).\n",
      "INFO: Retrying... (Attempts left: 47)\n",
      "INFO: Scraping tweets from https://twitter.com/search?f=tweets&vertical=default&q=saddleridgefire%20since%3A2019-10-10%20until%3A2019-10-11&l=english\n",
      "INFO: Using proxy 200.142.120.90:60471\n",
      "INFO: Retrying... (Attempts left: 46)\n",
      "INFO: Scraping tweets from https://twitter.com/search?f=tweets&vertical=default&q=saddleridgefire%20since%3A2019-10-10%20until%3A2019-10-11&l=english\n",
      "INFO: Using proxy 200.14.249.91:80\n",
      "INFO: Retrying... (Attempts left: 45)\n",
      "INFO: Scraping tweets from https://twitter.com/search?f=tweets&vertical=default&q=saddleridgefire%20since%3A2019-10-10%20until%3A2019-10-11&l=english\n",
      "INFO: Using proxy 204.15.243.233:58159\n",
      "INFO: Retrying... (Attempts left: 44)\n",
      "INFO: Scraping tweets from https://twitter.com/search?f=tweets&vertical=default&q=saddleridgefire%20since%3A2019-10-10%20until%3A2019-10-11&l=english\n",
      "INFO: Using proxy 14.102.40.169:44047\n",
      "INFO: Retrying... (Attempts left: 43)\n",
      "INFO: Scraping tweets from https://twitter.com/search?f=tweets&vertical=default&q=saddleridgefire%20since%3A2019-10-10%20until%3A2019-10-11&l=english\n",
      "INFO: Using proxy 193.110.115.220:3128\n",
      "INFO: Retrying... (Attempts left: 42)\n",
      "INFO: Scraping tweets from https://twitter.com/search?f=tweets&vertical=default&q=saddleridgefire%20since%3A2019-10-10%20until%3A2019-10-11&l=english\n",
      "INFO: Using proxy 157.245.203.75:8118\n",
      "INFO: Retrying... (Attempts left: 41)\n",
      "INFO: Scraping tweets from https://twitter.com/search?f=tweets&vertical=default&q=saddleridgefire%20since%3A2019-10-10%20until%3A2019-10-11&l=english\n",
      "INFO: Using proxy 80.191.174.220:8080\n",
      "INFO: Retrying... (Attempts left: 40)\n",
      "INFO: Scraping tweets from https://twitter.com/search?f=tweets&vertical=default&q=saddleridgefire%20since%3A2019-10-10%20until%3A2019-10-11&l=english\n",
      "INFO: Using proxy 171.100.13.246:56050\n",
      "INFO: Retrying... (Attempts left: 39)\n",
      "INFO: Scraping tweets from https://twitter.com/search?f=tweets&vertical=default&q=saddleridgefire%20since%3A2019-10-10%20until%3A2019-10-11&l=english\n",
      "INFO: Using proxy 186.146.2.111:60837\n",
      "INFO: Retrying... (Attempts left: 38)\n",
      "INFO: Scraping tweets from https://twitter.com/search?f=tweets&vertical=default&q=saddleridgefire%20since%3A2019-10-10%20until%3A2019-10-11&l=english\n",
      "INFO: Using proxy 178.128.225.24:8118\n",
      "INFO: Retrying... (Attempts left: 37)\n",
      "INFO: Scraping tweets from https://twitter.com/search?f=tweets&vertical=default&q=saddleridgefire%20since%3A2019-10-10%20until%3A2019-10-11&l=english\n",
      "INFO: Using proxy 200.29.24.36:57900\n",
      "INFO: Retrying... (Attempts left: 36)\n",
      "INFO: Scraping tweets from https://twitter.com/search?f=tweets&vertical=default&q=saddleridgefire%20since%3A2019-10-10%20until%3A2019-10-11&l=english\n",
      "INFO: Using proxy 162.243.87.75:3128\n",
      "INFO: Retrying... (Attempts left: 35)\n",
      "INFO: Scraping tweets from https://twitter.com/search?f=tweets&vertical=default&q=saddleridgefire%20since%3A2019-10-10%20until%3A2019-10-11&l=english\n",
      "INFO: Using proxy 200.41.94.121:41310\n",
      "INFO: Retrying... (Attempts left: 34)\n",
      "INFO: Scraping tweets from https://twitter.com/search?f=tweets&vertical=default&q=saddleridgefire%20since%3A2019-10-10%20until%3A2019-10-11&l=english\n",
      "INFO: Using proxy 163.172.98.25:80\n",
      "INFO: Retrying... (Attempts left: 33)\n",
      "INFO: Scraping tweets from https://twitter.com/search?f=tweets&vertical=default&q=saddleridgefire%20since%3A2019-10-10%20until%3A2019-10-11&l=english\n",
      "INFO: Using proxy 5.141.244.28:8080\n",
      "INFO: Retrying... (Attempts left: 32)\n",
      "INFO: Scraping tweets from https://twitter.com/search?f=tweets&vertical=default&q=saddleridgefire%20since%3A2019-10-10%20until%3A2019-10-11&l=english\n",
      "INFO: Using proxy 36.37.112.210:42883\n",
      "INFO: Retrying... (Attempts left: 31)\n",
      "INFO: Scraping tweets from https://twitter.com/search?f=tweets&vertical=default&q=saddleridgefire%20since%3A2019-10-10%20until%3A2019-10-11&l=english\n",
      "INFO: Using proxy 45.70.208.42:55443\n",
      "INFO: Retrying... (Attempts left: 30)\n",
      "INFO: Scraping tweets from https://twitter.com/search?f=tweets&vertical=default&q=saddleridgefire%20since%3A2019-10-10%20until%3A2019-10-11&l=english\n",
      "INFO: Using proxy 160.2.52.234:8080\n",
      "INFO: Retrying... (Attempts left: 29)\n",
      "INFO: Scraping tweets from https://twitter.com/search?f=tweets&vertical=default&q=saddleridgefire%20since%3A2019-10-10%20until%3A2019-10-11&l=english\n",
      "INFO: Using proxy 109.200.227.36:53281\n",
      "INFO: Retrying... (Attempts left: 28)\n",
      "INFO: Scraping tweets from https://twitter.com/search?f=tweets&vertical=default&q=saddleridgefire%20since%3A2019-10-10%20until%3A2019-10-11&l=english\n",
      "INFO: Using proxy 109.232.106.236:47524\n",
      "INFO: Retrying... (Attempts left: 27)\n",
      "INFO: Scraping tweets from https://twitter.com/search?f=tweets&vertical=default&q=saddleridgefire%20since%3A2019-10-10%20until%3A2019-10-11&l=english\n",
      "INFO: Using proxy 159.192.97.181:23500\n",
      "INFO: Retrying... (Attempts left: 26)\n",
      "INFO: Scraping tweets from https://twitter.com/search?f=tweets&vertical=default&q=saddleridgefire%20since%3A2019-10-10%20until%3A2019-10-11&l=english\n",
      "INFO: Using proxy 125.26.99.212:51591\n",
      "INFO: Retrying... (Attempts left: 25)\n",
      "INFO: Scraping tweets from https://twitter.com/search?f=tweets&vertical=default&q=saddleridgefire%20since%3A2019-10-10%20until%3A2019-10-11&l=english\n",
      "INFO: Using proxy 46.20.59.243:47497\n",
      "INFO: Retrying... (Attempts left: 24)\n",
      "INFO: Scraping tweets from https://twitter.com/search?f=tweets&vertical=default&q=saddleridgefire%20since%3A2019-10-10%20until%3A2019-10-11&l=english\n",
      "INFO: Using proxy 113.130.126.212:55763\n",
      "INFO: Retrying... (Attempts left: 23)\n",
      "INFO: Scraping tweets from https://twitter.com/search?f=tweets&vertical=default&q=saddleridgefire%20since%3A2019-10-10%20until%3A2019-10-11&l=english\n",
      "INFO: Using proxy 94.153.169.22:59177\n",
      "INFO: Retrying... (Attempts left: 22)\n",
      "INFO: Scraping tweets from https://twitter.com/search?f=tweets&vertical=default&q=saddleridgefire%20since%3A2019-10-10%20until%3A2019-10-11&l=english\n",
      "INFO: Using proxy 186.219.210.86:33668\n",
      "INFO: Retrying... (Attempts left: 21)\n",
      "INFO: Scraping tweets from https://twitter.com/search?f=tweets&vertical=default&q=saddleridgefire%20since%3A2019-10-10%20until%3A2019-10-11&l=english\n",
      "INFO: Using proxy 91.190.85.97:34286\n",
      "INFO: Retrying... (Attempts left: 20)\n",
      "INFO: Scraping tweets from https://twitter.com/search?f=tweets&vertical=default&q=saddleridgefire%20since%3A2019-10-10%20until%3A2019-10-11&l=english\n",
      "INFO: Using proxy 103.247.216.114:8080\n",
      "INFO: Retrying... (Attempts left: 19)\n",
      "INFO: Scraping tweets from https://twitter.com/search?f=tweets&vertical=default&q=saddleridgefire%20since%3A2019-10-10%20until%3A2019-10-11&l=english\n",
      "INFO: Using proxy 188.134.16.191:43665\n",
      "INFO: Retrying... (Attempts left: 18)\n",
      "INFO: Scraping tweets from https://twitter.com/search?f=tweets&vertical=default&q=saddleridgefire%20since%3A2019-10-10%20until%3A2019-10-11&l=english\n",
      "INFO: Using proxy 95.80.252.189:52371\n",
      "INFO: Retrying... (Attempts left: 17)\n",
      "INFO: Scraping tweets from https://twitter.com/search?f=tweets&vertical=default&q=saddleridgefire%20since%3A2019-10-10%20until%3A2019-10-11&l=english\n",
      "INFO: Using proxy 14.162.146.38:46812\n",
      "INFO: Retrying... (Attempts left: 16)\n",
      "INFO: Scraping tweets from https://twitter.com/search?f=tweets&vertical=default&q=saddleridgefire%20since%3A2019-10-10%20until%3A2019-10-11&l=english\n",
      "INFO: Using proxy 185.61.92.228:33060\n",
      "INFO: Retrying... (Attempts left: 15)\n",
      "INFO: Scraping tweets from https://twitter.com/search?f=tweets&vertical=default&q=saddleridgefire%20since%3A2019-10-10%20until%3A2019-10-11&l=english\n",
      "INFO: Using proxy 118.173.232.170:44029\n",
      "INFO: Retrying... (Attempts left: 14)\n"
     ]
    },
    {
     "name": "stderr",
     "output_type": "stream",
     "text": [
      "INFO: Scraping tweets from https://twitter.com/search?f=tweets&vertical=default&q=saddleridgefire%20since%3A2019-10-10%20until%3A2019-10-11&l=english\n",
      "INFO: Using proxy 87.99.93.100:43944\n",
      "INFO: Retrying... (Attempts left: 13)\n",
      "INFO: Scraping tweets from https://twitter.com/search?f=tweets&vertical=default&q=saddleridgefire%20since%3A2019-10-10%20until%3A2019-10-11&l=english\n",
      "INFO: Using proxy 118.174.232.237:48665\n",
      "INFO: Retrying... (Attempts left: 12)\n",
      "INFO: Scraping tweets from https://twitter.com/search?f=tweets&vertical=default&q=saddleridgefire%20since%3A2019-10-10%20until%3A2019-10-11&l=english\n",
      "INFO: Using proxy 176.101.89.226:33470\n",
      "INFO: Retrying... (Attempts left: 11)\n",
      "INFO: Scraping tweets from https://twitter.com/search?f=tweets&vertical=default&q=saddleridgefire%20since%3A2019-10-10%20until%3A2019-10-11&l=english\n",
      "INFO: Using proxy 119.82.252.122:36182\n",
      "INFO: Retrying... (Attempts left: 10)\n",
      "INFO: Scraping tweets from https://twitter.com/search?f=tweets&vertical=default&q=saddleridgefire%20since%3A2019-10-10%20until%3A2019-10-11&l=english\n",
      "INFO: Using proxy 196.2.14.250:41612\n",
      "INFO: Retrying... (Attempts left: 9)\n",
      "INFO: Scraping tweets from https://twitter.com/search?f=tweets&vertical=default&q=saddleridgefire%20since%3A2019-10-10%20until%3A2019-10-11&l=english\n",
      "INFO: Using proxy 103.78.80.194:33442\n",
      "INFO: Retrying... (Attempts left: 8)\n",
      "INFO: Scraping tweets from https://twitter.com/search?f=tweets&vertical=default&q=saddleridgefire%20since%3A2019-10-10%20until%3A2019-10-11&l=english\n",
      "INFO: Using proxy 93.78.238.94:41258\n",
      "INFO: Retrying... (Attempts left: 7)\n",
      "INFO: Scraping tweets from https://twitter.com/search?f=tweets&vertical=default&q=saddleridgefire%20since%3A2019-10-10%20until%3A2019-10-11&l=english\n",
      "INFO: Using proxy 201.62.56.49:35816\n",
      "INFO: Retrying... (Attempts left: 6)\n",
      "INFO: Scraping tweets from https://twitter.com/search?f=tweets&vertical=default&q=saddleridgefire%20since%3A2019-10-10%20until%3A2019-10-11&l=english\n",
      "INFO: Using proxy 112.78.191.38:8080\n",
      "INFO: Retrying... (Attempts left: 5)\n",
      "INFO: Scraping tweets from https://twitter.com/search?f=tweets&vertical=default&q=saddleridgefire%20since%3A2019-10-10%20until%3A2019-10-11&l=english\n",
      "INFO: Using proxy 170.82.73.140:53281\n",
      "INFO: Retrying... (Attempts left: 4)\n",
      "INFO: Scraping tweets from https://twitter.com/search?f=tweets&vertical=default&q=saddleridgefire%20since%3A2019-10-10%20until%3A2019-10-11&l=english\n",
      "INFO: Using proxy 5.138.170.213:53281\n",
      "INFO: Retrying... (Attempts left: 3)\n",
      "INFO: Scraping tweets from https://twitter.com/search?f=tweets&vertical=default&q=saddleridgefire%20since%3A2019-10-10%20until%3A2019-10-11&l=english\n",
      "INFO: Using proxy 89.218.5.106:35286\n",
      "INFO: Retrying... (Attempts left: 2)\n",
      "INFO: Scraping tweets from https://twitter.com/search?f=tweets&vertical=default&q=saddleridgefire%20since%3A2019-10-10%20until%3A2019-10-11&l=english\n",
      "INFO: Using proxy 92.255.248.230:45906\n",
      "INFO: Retrying... (Attempts left: 1)\n",
      "INFO: Scraping tweets from https://twitter.com/search?f=tweets&vertical=default&q=saddleridgefire%20since%3A2019-10-10%20until%3A2019-10-11&l=english\n",
      "INFO: Using proxy 202.74.243.38:32449\n",
      "INFO: Got 0 tweets for saddleridgefire%20since%3A2019-10-10%20until%3A2019-10-11.\n",
      "INFO: Got 319 tweets (0 new).\n"
     ]
    }
   ],
   "source": [
    "get_tweets(\"saddleridgefire\", (2019, 10, 10), (2019, 10, 31))"
   ]
  },
  {
   "cell_type": "markdown",
   "metadata": {},
   "source": [
    "#### Viewing starter_df"
   ]
  },
  {
   "cell_type": "code",
   "execution_count": 15,
   "metadata": {},
   "outputs": [
    {
     "data": {
      "text/html": [
       "<div>\n",
       "<style scoped>\n",
       "    .dataframe tbody tr th:only-of-type {\n",
       "        vertical-align: middle;\n",
       "    }\n",
       "\n",
       "    .dataframe tbody tr th {\n",
       "        vertical-align: top;\n",
       "    }\n",
       "\n",
       "    .dataframe thead th {\n",
       "        text-align: right;\n",
       "    }\n",
       "</style>\n",
       "<table border=\"1\" class=\"dataframe\">\n",
       "  <thead>\n",
       "    <tr style=\"text-align: right;\">\n",
       "      <th></th>\n",
       "      <th>screen_name</th>\n",
       "      <th>username</th>\n",
       "      <th>user_id</th>\n",
       "      <th>tweet_id</th>\n",
       "      <th>tweet_url</th>\n",
       "      <th>timestamp</th>\n",
       "      <th>timestamp_epochs</th>\n",
       "      <th>text</th>\n",
       "      <th>text_html</th>\n",
       "      <th>links</th>\n",
       "      <th>...</th>\n",
       "      <th>img_urls</th>\n",
       "      <th>video_url</th>\n",
       "      <th>likes</th>\n",
       "      <th>retweets</th>\n",
       "      <th>replies</th>\n",
       "      <th>is_replied</th>\n",
       "      <th>is_reply_to</th>\n",
       "      <th>parent_tweet_id</th>\n",
       "      <th>reply_to_users</th>\n",
       "      <th>query</th>\n",
       "    </tr>\n",
       "  </thead>\n",
       "  <tbody>\n",
       "    <tr>\n",
       "      <th>0</th>\n",
       "      <td>EPCFIRM</td>\n",
       "      <td>EPCF #GreenNewDeal #SunriseMovement</td>\n",
       "      <td>836834627771850752</td>\n",
       "      <td>1188564512669962240</td>\n",
       "      <td>/EPCFIRM/status/1188564512669962240</td>\n",
       "      <td>2019-10-27 21:13:56</td>\n",
       "      <td>1572210836</td>\n",
       "      <td>Our hearts go out to Californians affected by ...</td>\n",
       "      <td>&lt;p class=\"TweetTextSize js-tweet-text tweet-te...</td>\n",
       "      <td>[]</td>\n",
       "      <td>...</td>\n",
       "      <td>[https://pbs.twimg.com/media/EH6hH4FVAAA6ZA_.jpg]</td>\n",
       "      <td></td>\n",
       "      <td>8</td>\n",
       "      <td>1</td>\n",
       "      <td>1</td>\n",
       "      <td>True</td>\n",
       "      <td>False</td>\n",
       "      <td></td>\n",
       "      <td>[]</td>\n",
       "      <td>saddleridgefire</td>\n",
       "    </tr>\n",
       "    <tr>\n",
       "      <th>1</th>\n",
       "      <td>jsingpubhealth</td>\n",
       "      <td>Jason Singson</td>\n",
       "      <td>3320904614</td>\n",
       "      <td>1188545671076298752</td>\n",
       "      <td>/jsingpubhealth/status/1188545671076298752</td>\n",
       "      <td>2019-10-27 19:59:04</td>\n",
       "      <td>1572206344</td>\n",
       "      <td>From the #SaddleridgeFire to the #KincadeFire,...</td>\n",
       "      <td>&lt;p class=\"TweetTextSize js-tweet-text tweet-te...</td>\n",
       "      <td>[https://twitter.com/CAgovernor/status/1188523...</td>\n",
       "      <td>...</td>\n",
       "      <td>[]</td>\n",
       "      <td></td>\n",
       "      <td>1</td>\n",
       "      <td>0</td>\n",
       "      <td>0</td>\n",
       "      <td>False</td>\n",
       "      <td>False</td>\n",
       "      <td></td>\n",
       "      <td>[]</td>\n",
       "      <td>saddleridgefire</td>\n",
       "    </tr>\n",
       "    <tr>\n",
       "      <th>2</th>\n",
       "      <td>BrandyCGrote</td>\n",
       "      <td>Brandy Grote</td>\n",
       "      <td>898902973</td>\n",
       "      <td>1188517925503635456</td>\n",
       "      <td>/BrandyCGrote/status/1188517925503635456</td>\n",
       "      <td>2019-10-27 18:08:49</td>\n",
       "      <td>1572199729</td>\n",
       "      <td>Our #SaddleridgeFire leaped a 12 lane major fr...</td>\n",
       "      <td>&lt;p class=\"TweetTextSize js-tweet-text tweet-te...</td>\n",
       "      <td>[]</td>\n",
       "      <td>...</td>\n",
       "      <td>[]</td>\n",
       "      <td></td>\n",
       "      <td>1</td>\n",
       "      <td>1</td>\n",
       "      <td>0</td>\n",
       "      <td>False</td>\n",
       "      <td>True</td>\n",
       "      <td>1188495676969119744</td>\n",
       "      <td>[{'screen_name': 'BillMendocino', 'user_id': '...</td>\n",
       "      <td>saddleridgefire</td>\n",
       "    </tr>\n",
       "    <tr>\n",
       "      <th>3</th>\n",
       "      <td>mlzema</td>\n",
       "      <td>Mark In SoCal</td>\n",
       "      <td>18340526</td>\n",
       "      <td>1188515108562931714</td>\n",
       "      <td>/mlzema/status/1188515108562931714</td>\n",
       "      <td>2019-10-27 17:57:38</td>\n",
       "      <td>1572199058</td>\n",
       "      <td>Good Morning, Sam!\\nAll is well here. However,...</td>\n",
       "      <td>&lt;p class=\"TweetTextSize js-tweet-text tweet-te...</td>\n",
       "      <td>[https://twitter.com/Sam17970863/status/118851...</td>\n",
       "      <td>...</td>\n",
       "      <td>[]</td>\n",
       "      <td></td>\n",
       "      <td>1</td>\n",
       "      <td>0</td>\n",
       "      <td>0</td>\n",
       "      <td>False</td>\n",
       "      <td>False</td>\n",
       "      <td></td>\n",
       "      <td>[]</td>\n",
       "      <td>saddleridgefire</td>\n",
       "    </tr>\n",
       "    <tr>\n",
       "      <th>4</th>\n",
       "      <td>LVTIA</td>\n",
       "      <td>LVTIA</td>\n",
       "      <td>87142711</td>\n",
       "      <td>1188502337867829248</td>\n",
       "      <td>/LVTIA/status/1188502337867829248</td>\n",
       "      <td>2019-10-27 17:06:53</td>\n",
       "      <td>1572196013</td>\n",
       "      <td>Was your property or home damaged by the #Sadd...</td>\n",
       "      <td>&lt;p class=\"TweetTextSize js-tweet-text tweet-te...</td>\n",
       "      <td>[https://www.211la.org/fire-saddleridge]</td>\n",
       "      <td>...</td>\n",
       "      <td>[]</td>\n",
       "      <td></td>\n",
       "      <td>0</td>\n",
       "      <td>0</td>\n",
       "      <td>0</td>\n",
       "      <td>False</td>\n",
       "      <td>False</td>\n",
       "      <td></td>\n",
       "      <td>[]</td>\n",
       "      <td>saddleridgefire</td>\n",
       "    </tr>\n",
       "  </tbody>\n",
       "</table>\n",
       "<p>5 rows × 22 columns</p>\n",
       "</div>"
      ],
      "text/plain": [
       "      screen_name                             username             user_id  \\\n",
       "0         EPCFIRM  EPCF #GreenNewDeal #SunriseMovement  836834627771850752   \n",
       "1  jsingpubhealth                        Jason Singson          3320904614   \n",
       "2    BrandyCGrote                         Brandy Grote           898902973   \n",
       "3          mlzema                        Mark In SoCal            18340526   \n",
       "4           LVTIA                                LVTIA            87142711   \n",
       "\n",
       "              tweet_id                                   tweet_url  \\\n",
       "0  1188564512669962240         /EPCFIRM/status/1188564512669962240   \n",
       "1  1188545671076298752  /jsingpubhealth/status/1188545671076298752   \n",
       "2  1188517925503635456    /BrandyCGrote/status/1188517925503635456   \n",
       "3  1188515108562931714          /mlzema/status/1188515108562931714   \n",
       "4  1188502337867829248           /LVTIA/status/1188502337867829248   \n",
       "\n",
       "            timestamp timestamp_epochs  \\\n",
       "0 2019-10-27 21:13:56       1572210836   \n",
       "1 2019-10-27 19:59:04       1572206344   \n",
       "2 2019-10-27 18:08:49       1572199729   \n",
       "3 2019-10-27 17:57:38       1572199058   \n",
       "4 2019-10-27 17:06:53       1572196013   \n",
       "\n",
       "                                                text  \\\n",
       "0  Our hearts go out to Californians affected by ...   \n",
       "1  From the #SaddleridgeFire to the #KincadeFire,...   \n",
       "2  Our #SaddleridgeFire leaped a 12 lane major fr...   \n",
       "3  Good Morning, Sam!\\nAll is well here. However,...   \n",
       "4  Was your property or home damaged by the #Sadd...   \n",
       "\n",
       "                                           text_html  \\\n",
       "0  <p class=\"TweetTextSize js-tweet-text tweet-te...   \n",
       "1  <p class=\"TweetTextSize js-tweet-text tweet-te...   \n",
       "2  <p class=\"TweetTextSize js-tweet-text tweet-te...   \n",
       "3  <p class=\"TweetTextSize js-tweet-text tweet-te...   \n",
       "4  <p class=\"TweetTextSize js-tweet-text tweet-te...   \n",
       "\n",
       "                                               links  ...  \\\n",
       "0                                                 []  ...   \n",
       "1  [https://twitter.com/CAgovernor/status/1188523...  ...   \n",
       "2                                                 []  ...   \n",
       "3  [https://twitter.com/Sam17970863/status/118851...  ...   \n",
       "4           [https://www.211la.org/fire-saddleridge]  ...   \n",
       "\n",
       "                                            img_urls video_url likes retweets  \\\n",
       "0  [https://pbs.twimg.com/media/EH6hH4FVAAA6ZA_.jpg]               8        1   \n",
       "1                                                 []               1        0   \n",
       "2                                                 []               1        1   \n",
       "3                                                 []               1        0   \n",
       "4                                                 []               0        0   \n",
       "\n",
       "  replies is_replied is_reply_to      parent_tweet_id  \\\n",
       "0       1       True       False                        \n",
       "1       0      False       False                        \n",
       "2       0      False        True  1188495676969119744   \n",
       "3       0      False       False                        \n",
       "4       0      False       False                        \n",
       "\n",
       "                                      reply_to_users            query  \n",
       "0                                                 []  saddleridgefire  \n",
       "1                                                 []  saddleridgefire  \n",
       "2  [{'screen_name': 'BillMendocino', 'user_id': '...  saddleridgefire  \n",
       "3                                                 []  saddleridgefire  \n",
       "4                                                 []  saddleridgefire  \n",
       "\n",
       "[5 rows x 22 columns]"
      ]
     },
     "execution_count": 15,
     "metadata": {},
     "output_type": "execute_result"
    }
   ],
   "source": [
    "starter_df.head()"
   ]
  },
  {
   "cell_type": "code",
   "execution_count": 16,
   "metadata": {},
   "outputs": [],
   "source": [
    "query_list = [(\"saddleridgefire\", (2019, 10, 10), (2019, 10, 31)), \"tickfire\"]"
   ]
  },
  {
   "cell_type": "code",
   "execution_count": null,
   "metadata": {},
   "outputs": [],
   "source": []
  },
  {
   "cell_type": "code",
   "execution_count": 21,
   "metadata": {},
   "outputs": [],
   "source": [
    "def get_many_tweets(queries_list, start, end, pull_amount = 2_000, lang='english'):\n",
    "    \"\"\"\n",
    "    Pass in a list of queries where each will be pulled from get_tweets(). All tweets must have the same dates.\n",
    "    \n",
    "    query_list: A list of queries, in quotations, to be passed through get_tweets().\n",
    "    start_date: the beggining day to pull tweets formatted as i.e.: (2019, 10, 31)\n",
    "    end_date: the ending day to pull tweets formatted as i.e.: (2019, 11, 30)\n",
    "    pull_amount: default is 2_000\n",
    "    lang: default is english\n",
    "    \n",
    "    \"\"\"\n",
    "    \n",
    "    \n",
    "    for queries in queries_list:\n",
    "        get_tweets(queries, start, end, pull_amount, pull_amount, lang)"
   ]
  },
  {
   "cell_type": "code",
   "execution_count": 22,
   "metadata": {},
   "outputs": [
    {
     "ename": "TypeError",
     "evalue": "get_tweets() takes from 3 to 5 positional arguments but 6 were given",
     "output_type": "error",
     "traceback": [
      "\u001b[0;31m---------------------------------------------------------------------------\u001b[0m",
      "\u001b[0;31mTypeError\u001b[0m                                 Traceback (most recent call last)",
      "\u001b[0;32m<ipython-input-22-8dc3988408c5>\u001b[0m in \u001b[0;36m<module>\u001b[0;34m\u001b[0m\n\u001b[0;32m----> 1\u001b[0;31m \u001b[0mget_many_tweets\u001b[0m\u001b[0;34m(\u001b[0m\u001b[0mquery_list\u001b[0m\u001b[0;34m,\u001b[0m \u001b[0;34m(\u001b[0m\u001b[0;36m2019\u001b[0m\u001b[0;34m,\u001b[0m \u001b[0;36m10\u001b[0m\u001b[0;34m,\u001b[0m \u001b[0;36m10\u001b[0m\u001b[0;34m)\u001b[0m\u001b[0;34m,\u001b[0m \u001b[0;34m(\u001b[0m\u001b[0;36m2019\u001b[0m\u001b[0;34m,\u001b[0m \u001b[0;36m10\u001b[0m\u001b[0;34m,\u001b[0m \u001b[0;36m31\u001b[0m\u001b[0;34m)\u001b[0m\u001b[0;34m)\u001b[0m\u001b[0;34m\u001b[0m\u001b[0;34m\u001b[0m\u001b[0m\n\u001b[0m",
      "\u001b[0;32m<ipython-input-21-7a8a7fc59189>\u001b[0m in \u001b[0;36mget_many_tweets\u001b[0;34m(queries_list, start, end, pull_amount, lang)\u001b[0m\n\u001b[1;32m     13\u001b[0m \u001b[0;34m\u001b[0m\u001b[0m\n\u001b[1;32m     14\u001b[0m     \u001b[0;32mfor\u001b[0m \u001b[0mqueries\u001b[0m \u001b[0;32min\u001b[0m \u001b[0mqueries_list\u001b[0m\u001b[0;34m:\u001b[0m\u001b[0;34m\u001b[0m\u001b[0;34m\u001b[0m\u001b[0m\n\u001b[0;32m---> 15\u001b[0;31m         \u001b[0mget_tweets\u001b[0m\u001b[0;34m(\u001b[0m\u001b[0mqueries\u001b[0m\u001b[0;34m,\u001b[0m \u001b[0mstart\u001b[0m\u001b[0;34m,\u001b[0m \u001b[0mend\u001b[0m\u001b[0;34m,\u001b[0m \u001b[0mpull_amount\u001b[0m\u001b[0;34m,\u001b[0m \u001b[0mpull_amount\u001b[0m\u001b[0;34m,\u001b[0m \u001b[0mlang\u001b[0m\u001b[0;34m)\u001b[0m\u001b[0;34m\u001b[0m\u001b[0;34m\u001b[0m\u001b[0m\n\u001b[0m",
      "\u001b[0;31mTypeError\u001b[0m: get_tweets() takes from 3 to 5 positional arguments but 6 were given"
     ]
    }
   ],
   "source": [
    "get_many_tweets(query_list, (2019, 10, 10), (2019, 10, 31))"
   ]
  },
  {
   "cell_type": "code",
   "execution_count": 20,
   "metadata": {},
   "outputs": [
    {
     "data": {
      "text/plain": [
       "array(['saddleridgefire'], dtype=object)"
      ]
     },
     "execution_count": 20,
     "metadata": {},
     "output_type": "execute_result"
    }
   ],
   "source": [
    "starter_df['query'].unique()"
   ]
  },
  {
   "cell_type": "markdown",
   "metadata": {},
   "source": [
    "## Reference Code is Below"
   ]
  },
  {
   "cell_type": "code",
   "execution_count": null,
   "metadata": {},
   "outputs": [],
   "source": [
    "tweet_list"
   ]
  },
  {
   "cell_type": "code",
   "execution_count": null,
   "metadata": {},
   "outputs": [],
   "source": [
    "begin_date_sr_fire = dt.date(2019, 10, 10)\n",
    "end_date_sr_fire = dt.date(2019, 10, 31)"
   ]
  },
  {
   "cell_type": "code",
   "execution_count": null,
   "metadata": {},
   "outputs": [],
   "source": [
    "limit_sr_fire = 2000"
   ]
  },
  {
   "cell_type": "code",
   "execution_count": null,
   "metadata": {},
   "outputs": [],
   "source": [
    "lang ='english'"
   ]
  },
  {
   "cell_type": "code",
   "execution_count": null,
   "metadata": {},
   "outputs": [],
   "source": [
    "sr_fire_tweets = query_tweets(\"saddleridgefire\", begindate = begin_date_sr_fire, enddate = end_date_sr_fire, limit = limit_sr_fire, lang = lang)"
   ]
  },
  {
   "cell_type": "code",
   "execution_count": null,
   "metadata": {},
   "outputs": [],
   "source": [
    "df_sr_fire_tweets = pd.DataFrame(t.__dict__ for t in sr_fire_tweets)"
   ]
  },
  {
   "cell_type": "code",
   "execution_count": null,
   "metadata": {},
   "outputs": [],
   "source": [
    "df_sr_fire_tweets.columns"
   ]
  },
  {
   "cell_type": "code",
   "execution_count": null,
   "metadata": {},
   "outputs": [],
   "source": [
    "df_sr_fire_tweets"
   ]
  },
  {
   "cell_type": "markdown",
   "metadata": {},
   "source": [
    "### Querying '#TickFire' October 24, 2019 - October 31, 2019"
   ]
  },
  {
   "cell_type": "code",
   "execution_count": null,
   "metadata": {},
   "outputs": [],
   "source": [
    "begin_date_t_fire = dt.date(2019, 10, 4)"
   ]
  },
  {
   "cell_type": "code",
   "execution_count": null,
   "metadata": {},
   "outputs": [],
   "source": [
    "end_date_t_fire = dt.date(2019, 10, 31)"
   ]
  },
  {
   "cell_type": "code",
   "execution_count": null,
   "metadata": {},
   "outputs": [],
   "source": [
    "limit_t_fire = 2000"
   ]
  },
  {
   "cell_type": "code",
   "execution_count": null,
   "metadata": {},
   "outputs": [],
   "source": [
    "lang ='english'"
   ]
  },
  {
   "cell_type": "code",
   "execution_count": null,
   "metadata": {},
   "outputs": [],
   "source": [
    "t_fire_tweets = query_tweets(\"tickfire\", begindate = begin_date_t_fire, enddate = end_date_t_fire, limit = limit_t_fire, lang = lang)"
   ]
  },
  {
   "cell_type": "code",
   "execution_count": null,
   "metadata": {},
   "outputs": [],
   "source": [
    "df_t_fire_tweets = pd.DataFrame(t.__dict__ for t in t_fire_tweets)"
   ]
  },
  {
   "cell_type": "code",
   "execution_count": null,
   "metadata": {},
   "outputs": [],
   "source": [
    "df_t_fire_tweets.head()"
   ]
  },
  {
   "cell_type": "code",
   "execution_count": null,
   "metadata": {},
   "outputs": [],
   "source": [
    "df_t_fire_tweets.shape"
   ]
  },
  {
   "cell_type": "markdown",
   "metadata": {},
   "source": [
    "### Querying '#GettyFire' October 28, 2019 - November 6, 2019"
   ]
  },
  {
   "cell_type": "code",
   "execution_count": null,
   "metadata": {},
   "outputs": [],
   "source": [
    "begin_date_g_fire = dt.date(2019, 10, 28)"
   ]
  },
  {
   "cell_type": "code",
   "execution_count": null,
   "metadata": {},
   "outputs": [],
   "source": [
    "end_date_g_fire = dt.date(2019, 11, 6)"
   ]
  },
  {
   "cell_type": "code",
   "execution_count": null,
   "metadata": {},
   "outputs": [],
   "source": [
    "limit_g_fire = 2000"
   ]
  },
  {
   "cell_type": "code",
   "execution_count": null,
   "metadata": {},
   "outputs": [],
   "source": [
    "lang ='english'"
   ]
  },
  {
   "cell_type": "code",
   "execution_count": null,
   "metadata": {},
   "outputs": [],
   "source": [
    "g_fire_tweets = query_tweets(\"gettyfire\", begindate = begin_date_g_fire, enddate = end_date_g_fire, limit = limit_g_fire, lang = lang)"
   ]
  },
  {
   "cell_type": "code",
   "execution_count": null,
   "metadata": {},
   "outputs": [],
   "source": [
    "df_g_fire_tweets = pd.DataFrame(t.__dict__ for t in g_fire_tweets)"
   ]
  },
  {
   "cell_type": "code",
   "execution_count": null,
   "metadata": {},
   "outputs": [],
   "source": [
    "df_g_fire_tweets.head()"
   ]
  },
  {
   "cell_type": "code",
   "execution_count": null,
   "metadata": {},
   "outputs": [],
   "source": [
    "df_g_fire_tweets.shape"
   ]
  },
  {
   "cell_type": "markdown",
   "metadata": {},
   "source": [
    "### Querying '#LATraffic' October 10, 2019 - November 6, 2019"
   ]
  },
  {
   "cell_type": "code",
   "execution_count": null,
   "metadata": {},
   "outputs": [],
   "source": [
    "begin_date_la_traffic = dt.date(2019, 10, 10)"
   ]
  },
  {
   "cell_type": "code",
   "execution_count": null,
   "metadata": {},
   "outputs": [],
   "source": [
    "end_date_la_traffic = dt.date(2019, 11, 6)"
   ]
  },
  {
   "cell_type": "code",
   "execution_count": null,
   "metadata": {},
   "outputs": [],
   "source": [
    "limit_la_traffic = 2000"
   ]
  },
  {
   "cell_type": "code",
   "execution_count": null,
   "metadata": {},
   "outputs": [],
   "source": [
    "lang ='english'"
   ]
  },
  {
   "cell_type": "code",
   "execution_count": null,
   "metadata": {},
   "outputs": [],
   "source": [
    "la_traffic_tweets = query_tweets(\"latraffic\", begindate = begin_date_la_traffic, enddate = end_date_la_traffic, limit = limit_la_traffic, lang = lang)"
   ]
  },
  {
   "cell_type": "code",
   "execution_count": null,
   "metadata": {},
   "outputs": [],
   "source": [
    "df_la_traffic_tweets = pd.DataFrame(t.__dict__ for t in la_traffic_tweets)"
   ]
  },
  {
   "cell_type": "code",
   "execution_count": null,
   "metadata": {},
   "outputs": [],
   "source": [
    "df_la_traffic_tweets.head()"
   ]
  },
  {
   "cell_type": "code",
   "execution_count": null,
   "metadata": {},
   "outputs": [],
   "source": [
    "df_la_traffic_tweets.shape"
   ]
  },
  {
   "cell_type": "markdown",
   "metadata": {},
   "source": [
    "### Querying \"@CHPSouthern\" October 10, 2019 - November 6, 2019"
   ]
  },
  {
   "cell_type": "code",
   "execution_count": null,
   "metadata": {},
   "outputs": [],
   "source": [
    "limit_chp_southern = 2000"
   ]
  },
  {
   "cell_type": "code",
   "execution_count": null,
   "metadata": {},
   "outputs": [],
   "source": [
    "lang ='english'"
   ]
  },
  {
   "cell_type": "code",
   "execution_count": null,
   "metadata": {},
   "outputs": [],
   "source": [
    "chp_southern_tweets = query_tweets('CHPsouthern', begindate = begin_date_la_traffic, enddate = end_date_la_traffic, limit = limit_chp_southern, lang = lang)"
   ]
  },
  {
   "cell_type": "code",
   "execution_count": null,
   "metadata": {},
   "outputs": [],
   "source": [
    "df_chp_southern_tweets = pd.DataFrame(t.__dict__ for t in chp_southern_tweets)"
   ]
  },
  {
   "cell_type": "code",
   "execution_count": null,
   "metadata": {},
   "outputs": [],
   "source": [
    "df_chp_southern_tweets.head()"
   ]
  },
  {
   "cell_type": "code",
   "execution_count": null,
   "metadata": {},
   "outputs": [],
   "source": [
    "df_chp_southern_tweets.shape"
   ]
  },
  {
   "cell_type": "code",
   "execution_count": null,
   "metadata": {},
   "outputs": [],
   "source": []
  }
 ],
 "metadata": {
  "kernelspec": {
   "display_name": "Python 3",
   "language": "python",
   "name": "python3"
  },
  "language_info": {
   "codemirror_mode": {
    "name": "ipython",
    "version": 3
   },
   "file_extension": ".py",
   "mimetype": "text/x-python",
   "name": "python",
   "nbconvert_exporter": "python",
   "pygments_lexer": "ipython3",
   "version": "3.7.4"
  }
 },
 "nbformat": 4,
 "nbformat_minor": 4
}
