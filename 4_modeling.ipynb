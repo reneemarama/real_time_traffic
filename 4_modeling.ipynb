{
 "cells": [
  {
   "cell_type": "code",
   "execution_count": 1,
   "metadata": {},
   "outputs": [
    {
     "name": "stderr",
     "output_type": "stream",
     "text": [
      "/Users/rwilkening/opt/anaconda3/lib/python3.7/site-packages/statsmodels/tools/_testing.py:19: FutureWarning: pandas.util.testing is deprecated. Use the functions in the public API at pandas.testing instead.\n",
      "  import pandas.util.testing as tm\n"
     ]
    }
   ],
   "source": [
    "import pandas as pd\n",
    "import nltk\n",
    "import numpy as np\n",
    "import regex as re\n",
    "import matplotlib.pyplot as plt\n",
    "import seaborn as sns\n",
    "%matplotlib inline\n",
    "\n",
    "# from nltk.stem import WordNetLemmatizer\n",
    "# from nltk.tokenize import RegexpTokenizer\n",
    "# from nltk.stem.porter import PorterStemmer\n",
    "from sklearn.model_selection import train_test_split, GridSearchCV\n",
    "from sklearn.metrics import confusion_matrix, accuracy_score\n",
    "from sklearn.tree import DecisionTreeClassifier\n",
    "from sklearn.ensemble import RandomForestClassifier, ExtraTreesClassifier\n",
    "\n",
    "from sklearn.pipeline import Pipeline\n",
    "from sklearn.linear_model import LogisticRegression\n",
    "from sklearn.tree import DecisionTreeClassifier\n",
    "\n",
    "from sklearn.feature_extraction.text import CountVectorizer, TfidfVectorizer"
   ]
  },
  {
   "cell_type": "code",
   "execution_count": 2,
   "metadata": {},
   "outputs": [],
   "source": [
    "df_text_query = pd.read_csv('./Datasets/modeling_csv')"
   ]
  },
  {
   "cell_type": "markdown",
   "metadata": {},
   "source": [
    "### Setting up data for modeling"
   ]
  },
  {
   "cell_type": "code",
   "execution_count": 3,
   "metadata": {},
   "outputs": [],
   "source": [
    "X = df_text_query['text']\n",
    "y = df_text_query['is_road_closed']"
   ]
  },
  {
   "cell_type": "code",
   "execution_count": 4,
   "metadata": {},
   "outputs": [
    {
     "data": {
      "text/plain": [
       "dtype('O')"
      ]
     },
     "execution_count": 4,
     "metadata": {},
     "output_type": "execute_result"
    }
   ],
   "source": [
    "X.dtypes"
   ]
  },
  {
   "cell_type": "code",
   "execution_count": 5,
   "metadata": {},
   "outputs": [
    {
     "data": {
      "text/plain": [
       "dtype('int64')"
      ]
     },
     "execution_count": 5,
     "metadata": {},
     "output_type": "execute_result"
    }
   ],
   "source": [
    "y.dtypes"
   ]
  },
  {
   "cell_type": "code",
   "execution_count": 6,
   "metadata": {},
   "outputs": [],
   "source": [
    "## Train, test and split the data\n",
    "X_train, X_test, y_train, y_test = train_test_split(X,\n",
    "                                                    y,\n",
    "                                                    test_size=0.33,\n",
    "                                                    stratify=y,\n",
    "                                                    random_state=42)"
   ]
  },
  {
   "cell_type": "code",
   "execution_count": 7,
   "metadata": {},
   "outputs": [
    {
     "data": {
      "text/plain": [
       "0    2892\n",
       "1     103\n",
       "Name: is_road_closed, dtype: int64"
      ]
     },
     "execution_count": 7,
     "metadata": {},
     "output_type": "execute_result"
    }
   ],
   "source": [
    "## Baseline Predictions\n",
    "y_test.value_counts()"
   ]
  },
  {
   "cell_type": "code",
   "execution_count": 8,
   "metadata": {},
   "outputs": [
    {
     "data": {
      "text/plain": [
       "0    0.965609\n",
       "1    0.034391\n",
       "Name: is_road_closed, dtype: float64"
      ]
     },
     "execution_count": 8,
     "metadata": {},
     "output_type": "execute_result"
    }
   ],
   "source": [
    "y_test.value_counts(normalize=True)"
   ]
  },
  {
   "cell_type": "markdown",
   "metadata": {},
   "source": [
    "## CountVectorization/Logistic Regression Model"
   ]
  },
  {
   "cell_type": "code",
   "execution_count": 9,
   "metadata": {},
   "outputs": [],
   "source": [
    "pipe = Pipeline([\n",
    "    ('cvec', CountVectorizer()),\n",
    "    ('logreg', LogisticRegression(solver = 'lbfgs'))\n",
    "])\n",
    "\n",
    "params = {\n",
    "    'cvec__stop_words' : [None, 'english'],\n",
    "    'logreg__penalty' : ['none','l2'],\n",
    "    'cvec__max_features': [2000, 3000, 4000, 5000],\n",
    "    'cvec__min_df': [2, 3],\n",
    "    'cvec__max_df': [.9, .95],\n",
    "    'cvec__ngram_range': [(1,1), (1,2)]\n",
    "}"
   ]
  },
  {
   "cell_type": "code",
   "execution_count": 10,
   "metadata": {},
   "outputs": [],
   "source": [
    "gs = GridSearchCV(pipe, # what object are we optimizing?\n",
    "                  params, # what parameters values are we searching?\n",
    "                  cv=5) # 5-fold cross-validation."
   ]
  },
  {
   "cell_type": "code",
   "execution_count": 11,
   "metadata": {},
   "outputs": [
    {
     "data": {
      "text/plain": [
       "GridSearchCV(cv=5, error_score='raise-deprecating',\n",
       "             estimator=Pipeline(memory=None,\n",
       "                                steps=[('cvec',\n",
       "                                        CountVectorizer(analyzer='word',\n",
       "                                                        binary=False,\n",
       "                                                        decode_error='strict',\n",
       "                                                        dtype=<class 'numpy.int64'>,\n",
       "                                                        encoding='utf-8',\n",
       "                                                        input='content',\n",
       "                                                        lowercase=True,\n",
       "                                                        max_df=1.0,\n",
       "                                                        max_features=None,\n",
       "                                                        min_df=1,\n",
       "                                                        ngram_range=(1, 1),\n",
       "                                                        preprocessor=None,\n",
       "                                                        stop_words=None,\n",
       "                                                        strip_accents=None,\n",
       "                                                        tok...\n",
       "                                                           verbose=0,\n",
       "                                                           warm_start=False))],\n",
       "                                verbose=False),\n",
       "             iid='warn', n_jobs=None,\n",
       "             param_grid={'cvec__max_df': [0.9, 0.95],\n",
       "                         'cvec__max_features': [2000, 3000, 4000, 5000],\n",
       "                         'cvec__min_df': [2, 3],\n",
       "                         'cvec__ngram_range': [(1, 1), (1, 2)],\n",
       "                         'cvec__stop_words': [None, 'english'],\n",
       "                         'logreg__penalty': ['none', 'l2']},\n",
       "             pre_dispatch='2*n_jobs', refit=True, return_train_score=False,\n",
       "             scoring=None, verbose=0)"
      ]
     },
     "execution_count": 11,
     "metadata": {},
     "output_type": "execute_result"
    }
   ],
   "source": [
    "# Fit GridSearch to training data.\n",
    "gs.fit(X_train, y_train)"
   ]
  },
  {
   "cell_type": "code",
   "execution_count": 12,
   "metadata": {},
   "outputs": [],
   "source": [
    "# Save best model as gs_model.\n",
    "gs_model = gs.best_estimator_"
   ]
  },
  {
   "cell_type": "code",
   "execution_count": 13,
   "metadata": {},
   "outputs": [
    {
     "data": {
      "text/plain": [
       "0.9993421052631579"
      ]
     },
     "execution_count": 13,
     "metadata": {},
     "output_type": "execute_result"
    }
   ],
   "source": [
    "# Score model on training set.\n",
    "gs_model.score(X_train, y_train)"
   ]
  },
  {
   "cell_type": "code",
   "execution_count": 14,
   "metadata": {},
   "outputs": [
    {
     "data": {
      "text/plain": [
       "0.9863105175292154"
      ]
     },
     "execution_count": 14,
     "metadata": {},
     "output_type": "execute_result"
    }
   ],
   "source": [
    "# Score model on testing set.\n",
    "gs_model.score(X_test, y_test)"
   ]
  },
  {
   "cell_type": "code",
   "execution_count": 15,
   "metadata": {},
   "outputs": [],
   "source": [
    "preds = gs.best_estimator_.predict(X_test)"
   ]
  },
  {
   "cell_type": "markdown",
   "metadata": {},
   "source": [
    "#### Look at the coefficients of CountVectorization/Logistic Regression Model"
   ]
  },
  {
   "cell_type": "code",
   "execution_count": 16,
   "metadata": {},
   "outputs": [],
   "source": [
    "# look at the coefficients\n",
    "coefs = gs.best_estimator_.named_steps['logreg'].coef_[0]\n",
    "features = gs.best_estimator_.named_steps['cvec'].get_feature_names()"
   ]
  },
  {
   "cell_type": "code",
   "execution_count": 17,
   "metadata": {},
   "outputs": [],
   "source": [
    "coef_df = pd.DataFrame({'features' : features,\n",
    "             'coefficients': coefs})"
   ]
  },
  {
   "cell_type": "code",
   "execution_count": 18,
   "metadata": {},
   "outputs": [
    {
     "data": {
      "text/html": [
       "<div>\n",
       "<style scoped>\n",
       "    .dataframe tbody tr th:only-of-type {\n",
       "        vertical-align: middle;\n",
       "    }\n",
       "\n",
       "    .dataframe tbody tr th {\n",
       "        vertical-align: top;\n",
       "    }\n",
       "\n",
       "    .dataframe thead th {\n",
       "        text-align: right;\n",
       "    }\n",
       "</style>\n",
       "<table border=\"1\" class=\"dataframe\">\n",
       "  <thead>\n",
       "    <tr style=\"text-align: right;\">\n",
       "      <th></th>\n",
       "      <th>features</th>\n",
       "      <th>coefficients</th>\n",
       "    </tr>\n",
       "  </thead>\n",
       "  <tbody>\n",
       "    <tr>\n",
       "      <th>3567</th>\n",
       "      <td>road</td>\n",
       "      <td>2.615889</td>\n",
       "    </tr>\n",
       "    <tr>\n",
       "      <th>3569</th>\n",
       "      <td>road closures</td>\n",
       "      <td>1.678941</td>\n",
       "    </tr>\n",
       "    <tr>\n",
       "      <th>1107</th>\n",
       "      <td>closures</td>\n",
       "      <td>1.657915</td>\n",
       "    </tr>\n",
       "    <tr>\n",
       "      <th>2147</th>\n",
       "      <td>hwy</td>\n",
       "      <td>1.527241</td>\n",
       "    </tr>\n",
       "    <tr>\n",
       "      <th>661</th>\n",
       "      <td>avenue</td>\n",
       "      <td>1.439073</td>\n",
       "    </tr>\n",
       "    <tr>\n",
       "      <th>...</th>\n",
       "      <td>...</td>\n",
       "      <td>...</td>\n",
       "    </tr>\n",
       "    <tr>\n",
       "      <th>2464</th>\n",
       "      <td>la</td>\n",
       "      <td>-0.688243</td>\n",
       "    </tr>\n",
       "    <tr>\n",
       "      <th>3887</th>\n",
       "      <td>south near</td>\n",
       "      <td>-0.722229</td>\n",
       "    </tr>\n",
       "    <tr>\n",
       "      <th>1538</th>\n",
       "      <td>escondido</td>\n",
       "      <td>-0.738734</td>\n",
       "    </tr>\n",
       "    <tr>\n",
       "      <th>3105</th>\n",
       "      <td>open</td>\n",
       "      <td>-0.782942</td>\n",
       "    </tr>\n",
       "    <tr>\n",
       "      <th>2930</th>\n",
       "      <td>north at</td>\n",
       "      <td>-0.803113</td>\n",
       "    </tr>\n",
       "  </tbody>\n",
       "</table>\n",
       "<p>5000 rows × 2 columns</p>\n",
       "</div>"
      ],
      "text/plain": [
       "           features  coefficients\n",
       "3567           road      2.615889\n",
       "3569  road closures      1.678941\n",
       "1107       closures      1.657915\n",
       "2147            hwy      1.527241\n",
       "661          avenue      1.439073\n",
       "...             ...           ...\n",
       "2464             la     -0.688243\n",
       "3887     south near     -0.722229\n",
       "1538      escondido     -0.738734\n",
       "3105           open     -0.782942\n",
       "2930       north at     -0.803113\n",
       "\n",
       "[5000 rows x 2 columns]"
      ]
     },
     "execution_count": 18,
     "metadata": {},
     "output_type": "execute_result"
    }
   ],
   "source": [
    "coef_df.sort_values('coefficients', ascending = False)"
   ]
  },
  {
   "cell_type": "markdown",
   "metadata": {},
   "source": [
    "#### Evaluation and Confusion Matrix of CountVectorization/Logistic Regression Model"
   ]
  },
  {
   "cell_type": "code",
   "execution_count": 19,
   "metadata": {},
   "outputs": [
    {
     "name": "stdout",
     "output_type": "stream",
     "text": [
      "Accuracy Score: 0.9863105175292154\n"
     ]
    },
    {
     "data": {
      "text/html": [
       "<div>\n",
       "<style scoped>\n",
       "    .dataframe tbody tr th:only-of-type {\n",
       "        vertical-align: middle;\n",
       "    }\n",
       "\n",
       "    .dataframe tbody tr th {\n",
       "        vertical-align: top;\n",
       "    }\n",
       "\n",
       "    .dataframe thead th {\n",
       "        text-align: right;\n",
       "    }\n",
       "</style>\n",
       "<table border=\"1\" class=\"dataframe\">\n",
       "  <thead>\n",
       "    <tr style=\"text-align: right;\">\n",
       "      <th></th>\n",
       "      <th>Predicted open</th>\n",
       "      <th>Predicted is_road_closed</th>\n",
       "    </tr>\n",
       "  </thead>\n",
       "  <tbody>\n",
       "    <tr>\n",
       "      <th>Actual open</th>\n",
       "      <td>2886</td>\n",
       "      <td>6</td>\n",
       "    </tr>\n",
       "    <tr>\n",
       "      <th>Actual is_road_closed</th>\n",
       "      <td>35</td>\n",
       "      <td>68</td>\n",
       "    </tr>\n",
       "  </tbody>\n",
       "</table>\n",
       "</div>"
      ],
      "text/plain": [
       "                       Predicted open  Predicted is_road_closed\n",
       "Actual open                      2886                         6\n",
       "Actual is_road_closed              35                        68"
      ]
     },
     "execution_count": 19,
     "metadata": {},
     "output_type": "execute_result"
    }
   ],
   "source": [
    "def nice_conmat(y_test, preds, classes):\n",
    "    conmat = confusion_matrix(y_test, preds)\n",
    "    \n",
    "    print(f'Accuracy Score: {accuracy_score(y_test, preds)}')\n",
    "    return pd.DataFrame(conmat, columns=['Predicted ' +class_ for class_ in classes], \\\n",
    "                index=['Actual '+ class_ for class_ in classes])\n",
    "\n",
    "nice_conmat(y_test, preds, ['open', 'is_road_closed'])"
   ]
  },
  {
   "cell_type": "code",
   "execution_count": 20,
   "metadata": {},
   "outputs": [],
   "source": [
    "TN = 2886\n",
    "FN = 35\n",
    "FP = 6\n",
    "TP = 68"
   ]
  },
  {
   "cell_type": "code",
   "execution_count": 21,
   "metadata": {},
   "outputs": [
    {
     "data": {
      "text/plain": [
       "0.6601941747572816"
      ]
     },
     "execution_count": 21,
     "metadata": {},
     "output_type": "execute_result"
    }
   ],
   "source": [
    "# Recall / Sensitivity for CountVect/LogReg\n",
    "TP / (TP + FN)"
   ]
  },
  {
   "cell_type": "code",
   "execution_count": 22,
   "metadata": {},
   "outputs": [
    {
     "data": {
      "text/plain": [
       "0.9979253112033195"
      ]
     },
     "execution_count": 22,
     "metadata": {},
     "output_type": "execute_result"
    }
   ],
   "source": [
    "# Specificity for CountVect/LogReg\n",
    "TN / (FP + TN)"
   ]
  },
  {
   "cell_type": "markdown",
   "metadata": {},
   "source": [
    "## TFIDF/Logistic Regression Model"
   ]
  },
  {
   "cell_type": "code",
   "execution_count": 23,
   "metadata": {},
   "outputs": [],
   "source": [
    "pipe_v2 = Pipeline([\n",
    "    ('tfidf', TfidfVectorizer()),\n",
    "    ('logreg', LogisticRegression(solver = 'lbfgs'))\n",
    "])\n",
    "\n",
    "params_2 = {\n",
    "    'logreg__penalty' : ['none','l2'],\n",
    "}"
   ]
  },
  {
   "cell_type": "code",
   "execution_count": 24,
   "metadata": {},
   "outputs": [],
   "source": [
    "gs_2 = GridSearchCV(pipe_v2, # what object are we optimizing?\n",
    "                  params_2, # what parameters values are we searching?\n",
    "                  cv=5) # 5-fold cross-validation."
   ]
  },
  {
   "cell_type": "code",
   "execution_count": 25,
   "metadata": {},
   "outputs": [
    {
     "data": {
      "text/plain": [
       "GridSearchCV(cv=5, error_score='raise-deprecating',\n",
       "             estimator=Pipeline(memory=None,\n",
       "                                steps=[('tfidf',\n",
       "                                        TfidfVectorizer(analyzer='word',\n",
       "                                                        binary=False,\n",
       "                                                        decode_error='strict',\n",
       "                                                        dtype=<class 'numpy.float64'>,\n",
       "                                                        encoding='utf-8',\n",
       "                                                        input='content',\n",
       "                                                        lowercase=True,\n",
       "                                                        max_df=1.0,\n",
       "                                                        max_features=None,\n",
       "                                                        min_df=1,\n",
       "                                                        ngram_range=(1, 1),\n",
       "                                                        norm='l2',\n",
       "                                                        preprocessor=None,\n",
       "                                                        smooth_idf=True,\n",
       "                                                        stop_word...\n",
       "                                                           fit_intercept=True,\n",
       "                                                           intercept_scaling=1,\n",
       "                                                           l1_ratio=None,\n",
       "                                                           max_iter=100,\n",
       "                                                           multi_class='warn',\n",
       "                                                           n_jobs=None,\n",
       "                                                           penalty='l2',\n",
       "                                                           random_state=None,\n",
       "                                                           solver='lbfgs',\n",
       "                                                           tol=0.0001,\n",
       "                                                           verbose=0,\n",
       "                                                           warm_start=False))],\n",
       "                                verbose=False),\n",
       "             iid='warn', n_jobs=None,\n",
       "             param_grid={'logreg__penalty': ['none', 'l2']},\n",
       "             pre_dispatch='2*n_jobs', refit=True, return_train_score=False,\n",
       "             scoring=None, verbose=0)"
      ]
     },
     "execution_count": 25,
     "metadata": {},
     "output_type": "execute_result"
    }
   ],
   "source": [
    "# Fit GridSearch to training data.\n",
    "gs_2.fit(X_train, y_train)"
   ]
  },
  {
   "cell_type": "code",
   "execution_count": 26,
   "metadata": {},
   "outputs": [],
   "source": [
    "# Save best model as gs_model.\n",
    "gs_2_model = gs_2.best_estimator_"
   ]
  },
  {
   "cell_type": "code",
   "execution_count": 27,
   "metadata": {},
   "outputs": [
    {
     "data": {
      "text/plain": [
       "1.0"
      ]
     },
     "execution_count": 27,
     "metadata": {},
     "output_type": "execute_result"
    }
   ],
   "source": [
    "# Score model on training set.\n",
    "gs_2_model.score(X_train, y_train)"
   ]
  },
  {
   "cell_type": "code",
   "execution_count": 28,
   "metadata": {},
   "outputs": [
    {
     "data": {
      "text/plain": [
       "0.9853088480801335"
      ]
     },
     "execution_count": 28,
     "metadata": {},
     "output_type": "execute_result"
    }
   ],
   "source": [
    "# Score model on testing set.\n",
    "gs_2_model.score(X_test, y_test)"
   ]
  },
  {
   "cell_type": "code",
   "execution_count": 29,
   "metadata": {},
   "outputs": [],
   "source": [
    "preds_tfidf = gs_2.best_estimator_.predict(X_test)"
   ]
  },
  {
   "cell_type": "code",
   "execution_count": 30,
   "metadata": {},
   "outputs": [
    {
     "name": "stdout",
     "output_type": "stream",
     "text": [
      "Accuracy Score: 0.9853088480801335\n"
     ]
    },
    {
     "data": {
      "text/html": [
       "<div>\n",
       "<style scoped>\n",
       "    .dataframe tbody tr th:only-of-type {\n",
       "        vertical-align: middle;\n",
       "    }\n",
       "\n",
       "    .dataframe tbody tr th {\n",
       "        vertical-align: top;\n",
       "    }\n",
       "\n",
       "    .dataframe thead th {\n",
       "        text-align: right;\n",
       "    }\n",
       "</style>\n",
       "<table border=\"1\" class=\"dataframe\">\n",
       "  <thead>\n",
       "    <tr style=\"text-align: right;\">\n",
       "      <th></th>\n",
       "      <th>Predicted open</th>\n",
       "      <th>Predicted is_road_closed</th>\n",
       "    </tr>\n",
       "  </thead>\n",
       "  <tbody>\n",
       "    <tr>\n",
       "      <th>Actual open</th>\n",
       "      <td>2874</td>\n",
       "      <td>18</td>\n",
       "    </tr>\n",
       "    <tr>\n",
       "      <th>Actual is_road_closed</th>\n",
       "      <td>26</td>\n",
       "      <td>77</td>\n",
       "    </tr>\n",
       "  </tbody>\n",
       "</table>\n",
       "</div>"
      ],
      "text/plain": [
       "                       Predicted open  Predicted is_road_closed\n",
       "Actual open                      2874                        18\n",
       "Actual is_road_closed              26                        77"
      ]
     },
     "execution_count": 30,
     "metadata": {},
     "output_type": "execute_result"
    }
   ],
   "source": [
    "def nice_conmat(y_test, preds_tfidf, classes):\n",
    "    conmat = confusion_matrix(y_test, preds_tfidf)\n",
    "    \n",
    "    print(f'Accuracy Score: {accuracy_score(y_test, preds_tfidf)}')\n",
    "    return pd.DataFrame(conmat, columns=['Predicted ' +class_ for class_ in classes], \\\n",
    "                index=['Actual '+ class_ for class_ in classes])\n",
    "\n",
    "nice_conmat(y_test, preds_tfidf, ['open', 'is_road_closed'])"
   ]
  },
  {
   "cell_type": "code",
   "execution_count": 31,
   "metadata": {},
   "outputs": [],
   "source": [
    "TN_tfidf = 2874\n",
    "FN_tfidf = 26\n",
    "FP_tfidf = 18\n",
    "TP_tfidf = 77"
   ]
  },
  {
   "cell_type": "code",
   "execution_count": 32,
   "metadata": {},
   "outputs": [
    {
     "data": {
      "text/plain": [
       "0.7475728155339806"
      ]
     },
     "execution_count": 32,
     "metadata": {},
     "output_type": "execute_result"
    }
   ],
   "source": [
    "# Recall / Sensitivity for TFIDFt/LogReg\n",
    "TP_tfidf / (TP_tfidf + FN_tfidf)"
   ]
  },
  {
   "cell_type": "code",
   "execution_count": 33,
   "metadata": {},
   "outputs": [
    {
     "data": {
      "text/plain": [
       "0.9937759336099585"
      ]
     },
     "execution_count": 33,
     "metadata": {},
     "output_type": "execute_result"
    }
   ],
   "source": [
    "# Specificity for TFIDF/LogReg\n",
    "TN_tfidf / (FP_tfidf + TN_tfidf)"
   ]
  },
  {
   "cell_type": "code",
   "execution_count": 34,
   "metadata": {},
   "outputs": [
    {
     "data": {
      "text/plain": [
       "0.8105263157894737"
      ]
     },
     "execution_count": 34,
     "metadata": {},
     "output_type": "execute_result"
    }
   ],
   "source": [
    "#Precision = TruePositives / (TruePositives + FalsePositives)\n",
    "TP_tfidf / (TP_tfidf + FP_tfidf)"
   ]
  },
  {
   "cell_type": "markdown",
   "metadata": {},
   "source": [
    "## Filtering True Positives"
   ]
  },
  {
   "cell_type": "code",
   "execution_count": 35,
   "metadata": {},
   "outputs": [
    {
     "data": {
      "text/html": [
       "<div>\n",
       "<style scoped>\n",
       "    .dataframe tbody tr th:only-of-type {\n",
       "        vertical-align: middle;\n",
       "    }\n",
       "\n",
       "    .dataframe tbody tr th {\n",
       "        vertical-align: top;\n",
       "    }\n",
       "\n",
       "    .dataframe thead th {\n",
       "        text-align: right;\n",
       "    }\n",
       "</style>\n",
       "<table border=\"1\" class=\"dataframe\">\n",
       "  <thead>\n",
       "    <tr style=\"text-align: right;\">\n",
       "      <th></th>\n",
       "      <th>Unnamed: 0</th>\n",
       "      <th>username</th>\n",
       "      <th>text</th>\n",
       "      <th>hashtags</th>\n",
       "      <th>query</th>\n",
       "      <th>is_road_closed</th>\n",
       "    </tr>\n",
       "  </thead>\n",
       "  <tbody>\n",
       "    <tr>\n",
       "      <th>0</th>\n",
       "      <td>0</td>\n",
       "      <td>EPCF #GreenNewDeal #SunriseMovement</td>\n",
       "      <td>our hearts go out to californians affected by ...</td>\n",
       "      <td>['wildfires', 'ClimateChange', 'ClimateCrisis'...</td>\n",
       "      <td>saddleridgefire</td>\n",
       "      <td>0</td>\n",
       "    </tr>\n",
       "    <tr>\n",
       "      <th>1</th>\n",
       "      <td>1</td>\n",
       "      <td>Jason Singson</td>\n",
       "      <td>from the #saddleridgefire to the #kincadefire,...</td>\n",
       "      <td>['SaddleridgeFire', 'KincadeFire']</td>\n",
       "      <td>saddleridgefire</td>\n",
       "      <td>0</td>\n",
       "    </tr>\n",
       "    <tr>\n",
       "      <th>2</th>\n",
       "      <td>2</td>\n",
       "      <td>Brandy Grote</td>\n",
       "      <td>our #saddleridgefire leaped a 12 lane major fr...</td>\n",
       "      <td>['SaddleridgeFire']</td>\n",
       "      <td>saddleridgefire</td>\n",
       "      <td>0</td>\n",
       "    </tr>\n",
       "    <tr>\n",
       "      <th>3</th>\n",
       "      <td>3</td>\n",
       "      <td>Mark In SoCal</td>\n",
       "      <td>good morning, sam!\\nall is well here. however,...</td>\n",
       "      <td>['SaddleridgeFire']</td>\n",
       "      <td>saddleridgefire</td>\n",
       "      <td>0</td>\n",
       "    </tr>\n",
       "    <tr>\n",
       "      <th>4</th>\n",
       "      <td>4</td>\n",
       "      <td>LVTIA</td>\n",
       "      <td>was your property or home damaged by the #sadd...</td>\n",
       "      <td>['SaddleRidgeFire']</td>\n",
       "      <td>saddleridgefire</td>\n",
       "      <td>0</td>\n",
       "    </tr>\n",
       "    <tr>\n",
       "      <th>...</th>\n",
       "      <td>...</td>\n",
       "      <td>...</td>\n",
       "      <td>...</td>\n",
       "      <td>...</td>\n",
       "      <td>...</td>\n",
       "      <td>...</td>\n",
       "    </tr>\n",
       "    <tr>\n",
       "      <th>9070</th>\n",
       "      <td>9175</td>\n",
       "      <td>Claudia Peschiutta</td>\n",
       "      <td>former state lawmaker says hes got a plan to c...</td>\n",
       "      <td>[]</td>\n",
       "      <td>KNX1070</td>\n",
       "      <td>0</td>\n",
       "    </tr>\n",
       "    <tr>\n",
       "      <th>9071</th>\n",
       "      <td>9176</td>\n",
       "      <td>Eden</td>\n",
       "      <td>totally makes sense to do this midday</td>\n",
       "      <td>[]</td>\n",
       "      <td>KNX1070</td>\n",
       "      <td>0</td>\n",
       "    </tr>\n",
       "    <tr>\n",
       "      <th>9072</th>\n",
       "      <td>9177</td>\n",
       "      <td>KNX 1070 NEWSRADIO</td>\n",
       "      <td>a sanford, maine mom says her 9-year-old birac...</td>\n",
       "      <td>[]</td>\n",
       "      <td>KNX1070</td>\n",
       "      <td>0</td>\n",
       "    </tr>\n",
       "    <tr>\n",
       "      <th>9073</th>\n",
       "      <td>9178</td>\n",
       "      <td>Andy</td>\n",
       "      <td>i noticed it in anaheim hills, it looks crazy!</td>\n",
       "      <td>[]</td>\n",
       "      <td>KNX1070</td>\n",
       "      <td>0</td>\n",
       "    </tr>\n",
       "    <tr>\n",
       "      <th>9074</th>\n",
       "      <td>9179</td>\n",
       "      <td>KNX 1070 NEWSRADIO</td>\n",
       "      <td>the copyright owners of the \"charlie brown chr...</td>\n",
       "      <td>[]</td>\n",
       "      <td>KNX1070</td>\n",
       "      <td>0</td>\n",
       "    </tr>\n",
       "  </tbody>\n",
       "</table>\n",
       "<p>9075 rows × 6 columns</p>\n",
       "</div>"
      ],
      "text/plain": [
       "      Unnamed: 0                             username  \\\n",
       "0              0  EPCF #GreenNewDeal #SunriseMovement   \n",
       "1              1                        Jason Singson   \n",
       "2              2                         Brandy Grote   \n",
       "3              3                        Mark In SoCal   \n",
       "4              4                                LVTIA   \n",
       "...          ...                                  ...   \n",
       "9070        9175                   Claudia Peschiutta   \n",
       "9071        9176                                 Eden   \n",
       "9072        9177                   KNX 1070 NEWSRADIO   \n",
       "9073        9178                                 Andy   \n",
       "9074        9179                   KNX 1070 NEWSRADIO   \n",
       "\n",
       "                                                   text  \\\n",
       "0     our hearts go out to californians affected by ...   \n",
       "1     from the #saddleridgefire to the #kincadefire,...   \n",
       "2     our #saddleridgefire leaped a 12 lane major fr...   \n",
       "3     good morning, sam!\\nall is well here. however,...   \n",
       "4     was your property or home damaged by the #sadd...   \n",
       "...                                                 ...   \n",
       "9070  former state lawmaker says hes got a plan to c...   \n",
       "9071             totally makes sense to do this midday    \n",
       "9072  a sanford, maine mom says her 9-year-old birac...   \n",
       "9073     i noticed it in anaheim hills, it looks crazy!   \n",
       "9074  the copyright owners of the \"charlie brown chr...   \n",
       "\n",
       "                                               hashtags            query  \\\n",
       "0     ['wildfires', 'ClimateChange', 'ClimateCrisis'...  saddleridgefire   \n",
       "1                    ['SaddleridgeFire', 'KincadeFire']  saddleridgefire   \n",
       "2                                   ['SaddleridgeFire']  saddleridgefire   \n",
       "3                                   ['SaddleridgeFire']  saddleridgefire   \n",
       "4                                   ['SaddleRidgeFire']  saddleridgefire   \n",
       "...                                                 ...              ...   \n",
       "9070                                                 []          KNX1070   \n",
       "9071                                                 []          KNX1070   \n",
       "9072                                                 []          KNX1070   \n",
       "9073                                                 []          KNX1070   \n",
       "9074                                                 []          KNX1070   \n",
       "\n",
       "      is_road_closed  \n",
       "0                  0  \n",
       "1                  0  \n",
       "2                  0  \n",
       "3                  0  \n",
       "4                  0  \n",
       "...              ...  \n",
       "9070               0  \n",
       "9071               0  \n",
       "9072               0  \n",
       "9073               0  \n",
       "9074               0  \n",
       "\n",
       "[9075 rows x 6 columns]"
      ]
     },
     "execution_count": 35,
     "metadata": {},
     "output_type": "execute_result"
    }
   ],
   "source": [
    "df_text_query"
   ]
  },
  {
   "cell_type": "code",
   "execution_count": 36,
   "metadata": {},
   "outputs": [
    {
     "data": {
      "text/plain": [
       "2995"
      ]
     },
     "execution_count": 36,
     "metadata": {},
     "output_type": "execute_result"
    }
   ],
   "source": [
    "len(preds_tfidf)"
   ]
  },
  {
   "cell_type": "code",
   "execution_count": 37,
   "metadata": {},
   "outputs": [],
   "source": [
    "x_test_indices = list(X_test.index)"
   ]
  },
  {
   "cell_type": "code",
   "execution_count": 38,
   "metadata": {},
   "outputs": [
    {
     "data": {
      "text/html": [
       "<div>\n",
       "<style scoped>\n",
       "    .dataframe tbody tr th:only-of-type {\n",
       "        vertical-align: middle;\n",
       "    }\n",
       "\n",
       "    .dataframe tbody tr th {\n",
       "        vertical-align: top;\n",
       "    }\n",
       "\n",
       "    .dataframe thead th {\n",
       "        text-align: right;\n",
       "    }\n",
       "</style>\n",
       "<table border=\"1\" class=\"dataframe\">\n",
       "  <thead>\n",
       "    <tr style=\"text-align: right;\">\n",
       "      <th></th>\n",
       "      <th>Unnamed: 0</th>\n",
       "      <th>username</th>\n",
       "      <th>text</th>\n",
       "      <th>hashtags</th>\n",
       "      <th>query</th>\n",
       "      <th>is_road_closed</th>\n",
       "    </tr>\n",
       "  </thead>\n",
       "  <tbody>\n",
       "    <tr>\n",
       "      <th>8334</th>\n",
       "      <td>8433</td>\n",
       "      <td>KNX 1070 NEWSRADIO</td>\n",
       "      <td>watch video of alanis morissette sharing her n...</td>\n",
       "      <td>[]</td>\n",
       "      <td>KNX1070</td>\n",
       "      <td>0</td>\n",
       "    </tr>\n",
       "    <tr>\n",
       "      <th>6077</th>\n",
       "      <td>6162</td>\n",
       "      <td>LACoFD Incident Alerts</td>\n",
       "      <td>they’re engines equipped with cafs (compressed...</td>\n",
       "      <td>[]</td>\n",
       "      <td>LACoFD911</td>\n",
       "      <td>0</td>\n",
       "    </tr>\n",
       "    <tr>\n",
       "      <th>7186</th>\n",
       "      <td>7271</td>\n",
       "      <td>Brian Douglas</td>\n",
       "      <td>brush fire burning in the ventura riverbed has...</td>\n",
       "      <td>['101fwy']</td>\n",
       "      <td>KNX1070</td>\n",
       "      <td>0</td>\n",
       "    </tr>\n",
       "    <tr>\n",
       "      <th>1724</th>\n",
       "      <td>1724</td>\n",
       "      <td>AJ Tenney</td>\n",
       "      <td>lost out on two days of work due to the #tickf...</td>\n",
       "      <td>['TickFire']</td>\n",
       "      <td>tickfire</td>\n",
       "      <td>0</td>\n",
       "    </tr>\n",
       "    <tr>\n",
       "      <th>394</th>\n",
       "      <td>394</td>\n",
       "      <td>AI6YR</td>\n",
       "      <td>#tickfire some confusion over the 23121 coltra...</td>\n",
       "      <td>['TickFire', 'SaddleRidgeFire']</td>\n",
       "      <td>saddleridgefire</td>\n",
       "      <td>0</td>\n",
       "    </tr>\n",
       "  </tbody>\n",
       "</table>\n",
       "</div>"
      ],
      "text/plain": [
       "      Unnamed: 0                username  \\\n",
       "8334        8433      KNX 1070 NEWSRADIO   \n",
       "6077        6162  LACoFD Incident Alerts   \n",
       "7186        7271           Brian Douglas   \n",
       "1724        1724               AJ Tenney   \n",
       "394          394                   AI6YR   \n",
       "\n",
       "                                                   text  \\\n",
       "8334  watch video of alanis morissette sharing her n...   \n",
       "6077  they’re engines equipped with cafs (compressed...   \n",
       "7186  brush fire burning in the ventura riverbed has...   \n",
       "1724  lost out on two days of work due to the #tickf...   \n",
       "394   #tickfire some confusion over the 23121 coltra...   \n",
       "\n",
       "                             hashtags            query  is_road_closed  \n",
       "8334                               []          KNX1070               0  \n",
       "6077                               []        LACoFD911               0  \n",
       "7186                       ['101fwy']          KNX1070               0  \n",
       "1724                     ['TickFire']         tickfire               0  \n",
       "394   ['TickFire', 'SaddleRidgeFire']  saddleridgefire               0  "
      ]
     },
     "execution_count": 38,
     "metadata": {},
     "output_type": "execute_result"
    }
   ],
   "source": [
    "x_test_df = df_text_query.loc[x_test_indices, :]\n",
    "x_test_df.head()"
   ]
  },
  {
   "cell_type": "code",
   "execution_count": 39,
   "metadata": {},
   "outputs": [],
   "source": [
    "x_test_df['y_preds'] = preds_tfidf"
   ]
  },
  {
   "cell_type": "code",
   "execution_count": 40,
   "metadata": {},
   "outputs": [],
   "source": [
    "road_closed_true = (x_test_df['is_road_closed'] == 1)\n",
    "road_closed_pred = (x_test_df['y_preds'] == 1)\n",
    "\n",
    "X_test_true_pos = x_test_df[road_closed_true & road_closed_pred]"
   ]
  },
  {
   "cell_type": "code",
   "execution_count": 41,
   "metadata": {},
   "outputs": [
    {
     "data": {
      "text/html": [
       "<div>\n",
       "<style scoped>\n",
       "    .dataframe tbody tr th:only-of-type {\n",
       "        vertical-align: middle;\n",
       "    }\n",
       "\n",
       "    .dataframe tbody tr th {\n",
       "        vertical-align: top;\n",
       "    }\n",
       "\n",
       "    .dataframe thead th {\n",
       "        text-align: right;\n",
       "    }\n",
       "</style>\n",
       "<table border=\"1\" class=\"dataframe\">\n",
       "  <thead>\n",
       "    <tr style=\"text-align: right;\">\n",
       "      <th></th>\n",
       "      <th>Unnamed: 0</th>\n",
       "      <th>username</th>\n",
       "      <th>text</th>\n",
       "      <th>hashtags</th>\n",
       "      <th>query</th>\n",
       "      <th>is_road_closed</th>\n",
       "      <th>y_preds</th>\n",
       "    </tr>\n",
       "  </thead>\n",
       "  <tbody>\n",
       "    <tr>\n",
       "      <th>6572</th>\n",
       "      <td>6657</td>\n",
       "      <td>Go511</td>\n",
       "      <td>sigalert in fountain valley \\ni-405 north, jus...</td>\n",
       "      <td>['1', '2']</td>\n",
       "      <td>Go511</td>\n",
       "      <td>1</td>\n",
       "      <td>1</td>\n",
       "    </tr>\n",
       "    <tr>\n",
       "      <th>4405</th>\n",
       "      <td>4462</td>\n",
       "      <td>Caltrans District 7</td>\n",
       "      <td>wb 210 from grand ave to citrus ave - the # 4 ...</td>\n",
       "      <td>['Glendorapic']</td>\n",
       "      <td>CaltransDist7</td>\n",
       "      <td>1</td>\n",
       "      <td>1</td>\n",
       "    </tr>\n",
       "    <tr>\n",
       "      <th>4388</th>\n",
       "      <td>4445</td>\n",
       "      <td>Caltrans District 7</td>\n",
       "      <td>all caltrans planned lane closures for constru...</td>\n",
       "      <td>[]</td>\n",
       "      <td>CaltransDist7</td>\n",
       "      <td>1</td>\n",
       "      <td>1</td>\n",
       "    </tr>\n",
       "    <tr>\n",
       "      <th>9020</th>\n",
       "      <td>9125</td>\n",
       "      <td>scott burt</td>\n",
       "      <td>#118fwy eb yosemite ave off-ramp remains close...</td>\n",
       "      <td>['118Fwy', 'SimiValley', 'LATraffic', 'KNXTraf...</td>\n",
       "      <td>KNX1070</td>\n",
       "      <td>1</td>\n",
       "      <td>1</td>\n",
       "    </tr>\n",
       "    <tr>\n",
       "      <th>6378</th>\n",
       "      <td>6463</td>\n",
       "      <td>Go511</td>\n",
       "      <td>sigalert in bellflower\\ni-605 south / sr-91 ea...</td>\n",
       "      <td>['2']</td>\n",
       "      <td>Go511</td>\n",
       "      <td>1</td>\n",
       "      <td>1</td>\n",
       "    </tr>\n",
       "    <tr>\n",
       "      <th>4036</th>\n",
       "      <td>4092</td>\n",
       "      <td>Caltrans District 7</td>\n",
       "      <td>on the eb 118 freeway in simi valley - the eb ...</td>\n",
       "      <td>[]</td>\n",
       "      <td>CaltransDist7</td>\n",
       "      <td>1</td>\n",
       "      <td>1</td>\n",
       "    </tr>\n",
       "    <tr>\n",
       "      <th>6356</th>\n",
       "      <td>6441</td>\n",
       "      <td>Go511</td>\n",
       "      <td>sigalert in norwalk \\ni-605 north / rosecrans ...</td>\n",
       "      <td>[]</td>\n",
       "      <td>Go511</td>\n",
       "      <td>1</td>\n",
       "      <td>1</td>\n",
       "    </tr>\n",
       "    <tr>\n",
       "      <th>4412</th>\n",
       "      <td>4469</td>\n",
       "      <td>The Local Malibu</td>\n",
       "      <td>brush fire | fs125 #calabasas | sb 101 freeway...</td>\n",
       "      <td>['Calabasas', 'OakFire', 'LACoFD']</td>\n",
       "      <td>CaltransDist7</td>\n",
       "      <td>1</td>\n",
       "      <td>1</td>\n",
       "    </tr>\n",
       "    <tr>\n",
       "      <th>6456</th>\n",
       "      <td>6541</td>\n",
       "      <td>Go511</td>\n",
       "      <td>sigalert in los angeles  \\ni-10 east / south v...</td>\n",
       "      <td>[]</td>\n",
       "      <td>Go511</td>\n",
       "      <td>1</td>\n",
       "      <td>1</td>\n",
       "    </tr>\n",
       "    <tr>\n",
       "      <th>6579</th>\n",
       "      <td>6664</td>\n",
       "      <td>Go511</td>\n",
       "      <td>traffic alert in manhattan beach\\nall lanes ar...</td>\n",
       "      <td>[]</td>\n",
       "      <td>Go511</td>\n",
       "      <td>1</td>\n",
       "      <td>1</td>\n",
       "    </tr>\n",
       "    <tr>\n",
       "      <th>6305</th>\n",
       "      <td>6390</td>\n",
       "      <td>Go511</td>\n",
       "      <td>event advisory: \\nthe 14th annual taste of sou...</td>\n",
       "      <td>[]</td>\n",
       "      <td>Go511</td>\n",
       "      <td>1</td>\n",
       "      <td>1</td>\n",
       "    </tr>\n",
       "    <tr>\n",
       "      <th>6542</th>\n",
       "      <td>6627</td>\n",
       "      <td>Go511</td>\n",
       "      <td>sigalert in calabasas us 101 east at las virge...</td>\n",
       "      <td>['4']</td>\n",
       "      <td>Go511</td>\n",
       "      <td>1</td>\n",
       "      <td>1</td>\n",
       "    </tr>\n",
       "    <tr>\n",
       "      <th>1294</th>\n",
       "      <td>1294</td>\n",
       "      <td>CALIFORNIA PIO</td>\n",
       "      <td>rt cal_fire \"rt lacofdpio: **update** 3rd alar...</td>\n",
       "      <td>['TickFire', 'CanyonCountry', 'LACoFD']</td>\n",
       "      <td>tickfire</td>\n",
       "      <td>1</td>\n",
       "      <td>1</td>\n",
       "    </tr>\n",
       "    <tr>\n",
       "      <th>6531</th>\n",
       "      <td>6616</td>\n",
       "      <td>Go511</td>\n",
       "      <td>#mariafire road closures\\nsanta paula \\n\\nlos ...</td>\n",
       "      <td>['MariaFire']</td>\n",
       "      <td>Go511</td>\n",
       "      <td>1</td>\n",
       "      <td>1</td>\n",
       "    </tr>\n",
       "    <tr>\n",
       "      <th>8227</th>\n",
       "      <td>8325</td>\n",
       "      <td>KNX 1070 NEWSRADIO</td>\n",
       "      <td>#sigalert - all lanes blocked - eb #60fwy at p...</td>\n",
       "      <td>['SIGALERT', '60fwy', 'KNXTraffic']</td>\n",
       "      <td>KNX1070</td>\n",
       "      <td>1</td>\n",
       "      <td>1</td>\n",
       "    </tr>\n",
       "    <tr>\n",
       "      <th>6352</th>\n",
       "      <td>6437</td>\n",
       "      <td>Go511</td>\n",
       "      <td>fire advisory in pacific palisades\\npalisades ...</td>\n",
       "      <td>[]</td>\n",
       "      <td>Go511</td>\n",
       "      <td>1</td>\n",
       "      <td>1</td>\n",
       "    </tr>\n",
       "    <tr>\n",
       "      <th>4023</th>\n",
       "      <td>4079</td>\n",
       "      <td>JoAnn @ ESAudio:)</td>\n",
       "      <td>\"#nb14 (#antelopevalleyfwy) - two right lanes ...</td>\n",
       "      <td>['NB14', 'AntelopeValleyFwy', 'SoledadCanyon',...</td>\n",
       "      <td>CaltransDist7</td>\n",
       "      <td>1</td>\n",
       "      <td>1</td>\n",
       "    </tr>\n",
       "    <tr>\n",
       "      <th>3060</th>\n",
       "      <td>3103</td>\n",
       "      <td>Michael Fleming</td>\n",
       "      <td>is this notice to keep sierra hwy closed until...</td>\n",
       "      <td>['abc7eyewitnesspic']</td>\n",
       "      <td>LACoFDPIO</td>\n",
       "      <td>1</td>\n",
       "      <td>1</td>\n",
       "    </tr>\n",
       "    <tr>\n",
       "      <th>2398</th>\n",
       "      <td>2415</td>\n",
       "      <td>L.A. County Fire Department</td>\n",
       "      <td>brush fire | fs119 | brea canyon rd &amp; 57 freew...</td>\n",
       "      <td>['DiamondBar', 'MetroNet', 'BreaFire']</td>\n",
       "      <td>LACoFDPIO</td>\n",
       "      <td>1</td>\n",
       "      <td>1</td>\n",
       "    </tr>\n",
       "    <tr>\n",
       "      <th>3357</th>\n",
       "      <td>3404</td>\n",
       "      <td>Caltrans District 7</td>\n",
       "      <td>nb 605 just south of valley blvd in industry -...</td>\n",
       "      <td>['LA']</td>\n",
       "      <td>CaltransDist7</td>\n",
       "      <td>1</td>\n",
       "      <td>1</td>\n",
       "    </tr>\n",
       "  </tbody>\n",
       "</table>\n",
       "</div>"
      ],
      "text/plain": [
       "      Unnamed: 0                     username  \\\n",
       "6572        6657                        Go511   \n",
       "4405        4462          Caltrans District 7   \n",
       "4388        4445          Caltrans District 7   \n",
       "9020        9125                   scott burt   \n",
       "6378        6463                        Go511   \n",
       "4036        4092          Caltrans District 7   \n",
       "6356        6441                        Go511   \n",
       "4412        4469             The Local Malibu   \n",
       "6456        6541                        Go511   \n",
       "6579        6664                        Go511   \n",
       "6305        6390                        Go511   \n",
       "6542        6627                        Go511   \n",
       "1294        1294               CALIFORNIA PIO   \n",
       "6531        6616                        Go511   \n",
       "8227        8325           KNX 1070 NEWSRADIO   \n",
       "6352        6437                        Go511   \n",
       "4023        4079            JoAnn @ ESAudio:)   \n",
       "3060        3103              Michael Fleming   \n",
       "2398        2415  L.A. County Fire Department   \n",
       "3357        3404          Caltrans District 7   \n",
       "\n",
       "                                                   text  \\\n",
       "6572  sigalert in fountain valley \\ni-405 north, jus...   \n",
       "4405  wb 210 from grand ave to citrus ave - the # 4 ...   \n",
       "4388  all caltrans planned lane closures for constru...   \n",
       "9020  #118fwy eb yosemite ave off-ramp remains close...   \n",
       "6378  sigalert in bellflower\\ni-605 south / sr-91 ea...   \n",
       "4036  on the eb 118 freeway in simi valley - the eb ...   \n",
       "6356  sigalert in norwalk \\ni-605 north / rosecrans ...   \n",
       "4412  brush fire | fs125 #calabasas | sb 101 freeway...   \n",
       "6456  sigalert in los angeles  \\ni-10 east / south v...   \n",
       "6579  traffic alert in manhattan beach\\nall lanes ar...   \n",
       "6305  event advisory: \\nthe 14th annual taste of sou...   \n",
       "6542  sigalert in calabasas us 101 east at las virge...   \n",
       "1294  rt cal_fire \"rt lacofdpio: **update** 3rd alar...   \n",
       "6531  #mariafire road closures\\nsanta paula \\n\\nlos ...   \n",
       "8227  #sigalert - all lanes blocked - eb #60fwy at p...   \n",
       "6352  fire advisory in pacific palisades\\npalisades ...   \n",
       "4023  \"#nb14 (#antelopevalleyfwy) - two right lanes ...   \n",
       "3060  is this notice to keep sierra hwy closed until...   \n",
       "2398  brush fire | fs119 | brea canyon rd & 57 freew...   \n",
       "3357  nb 605 just south of valley blvd in industry -...   \n",
       "\n",
       "                                               hashtags          query  \\\n",
       "6572                                         ['1', '2']          Go511   \n",
       "4405                                    ['Glendorapic']  CaltransDist7   \n",
       "4388                                                 []  CaltransDist7   \n",
       "9020  ['118Fwy', 'SimiValley', 'LATraffic', 'KNXTraf...        KNX1070   \n",
       "6378                                              ['2']          Go511   \n",
       "4036                                                 []  CaltransDist7   \n",
       "6356                                                 []          Go511   \n",
       "4412                 ['Calabasas', 'OakFire', 'LACoFD']  CaltransDist7   \n",
       "6456                                                 []          Go511   \n",
       "6579                                                 []          Go511   \n",
       "6305                                                 []          Go511   \n",
       "6542                                              ['4']          Go511   \n",
       "1294            ['TickFire', 'CanyonCountry', 'LACoFD']       tickfire   \n",
       "6531                                      ['MariaFire']          Go511   \n",
       "8227                ['SIGALERT', '60fwy', 'KNXTraffic']        KNX1070   \n",
       "6352                                                 []          Go511   \n",
       "4023  ['NB14', 'AntelopeValleyFwy', 'SoledadCanyon',...  CaltransDist7   \n",
       "3060                              ['abc7eyewitnesspic']      LACoFDPIO   \n",
       "2398             ['DiamondBar', 'MetroNet', 'BreaFire']      LACoFDPIO   \n",
       "3357                                             ['LA']  CaltransDist7   \n",
       "\n",
       "      is_road_closed  y_preds  \n",
       "6572               1        1  \n",
       "4405               1        1  \n",
       "4388               1        1  \n",
       "9020               1        1  \n",
       "6378               1        1  \n",
       "4036               1        1  \n",
       "6356               1        1  \n",
       "4412               1        1  \n",
       "6456               1        1  \n",
       "6579               1        1  \n",
       "6305               1        1  \n",
       "6542               1        1  \n",
       "1294               1        1  \n",
       "6531               1        1  \n",
       "8227               1        1  \n",
       "6352               1        1  \n",
       "4023               1        1  \n",
       "3060               1        1  \n",
       "2398               1        1  \n",
       "3357               1        1  "
      ]
     },
     "execution_count": 41,
     "metadata": {},
     "output_type": "execute_result"
    }
   ],
   "source": [
    "X_test_true_pos.iloc[40:60]"
   ]
  },
  {
   "cell_type": "code",
   "execution_count": 43,
   "metadata": {},
   "outputs": [
    {
     "data": {
      "text/plain": [
       "7060    #tickfire update\\n\\nsr-14 south between agua d...\n",
       "7616    #sigalert!!! sb #605fwy just past peck rd cras...\n",
       "6929    tick fire\\nall lanes closed in both directions...\n",
       "3440    nb i-5 all lanes scheduled to be closed norwal...\n",
       "3589    nb & sb i-5 scheduled to be closed from artesi...\n",
       "                              ...                        \n",
       "8157    #sigalert continues for the eb #60fwy past hac...\n",
       "8509    fire in #elsereno continues to burn and cause ...\n",
       "6641    closure alert \\nall lanes are closed in both d...\n",
       "6836    60 swarm \\nrepaving project lane and ramp clos...\n",
       "6487    traffic alert in pomona\\nsr-60 west at hwy 71/...\n",
       "Name: text, Length: 77, dtype: object"
      ]
     },
     "execution_count": 43,
     "metadata": {},
     "output_type": "execute_result"
    }
   ],
   "source": [
    "X_test_true_pos['text']"
   ]
  },
  {
   "cell_type": "code",
   "execution_count": 44,
   "metadata": {},
   "outputs": [],
   "source": [
    "road_closed_true = (x_test_df['is_road_closed'] == 1)\n",
    "road_closed_pred = (x_test_df['y_preds'] == 0)\n",
    "\n",
    "X_test_false_neg = x_test_df[road_closed_true & road_closed_pred]"
   ]
  },
  {
   "cell_type": "code",
   "execution_count": 45,
   "metadata": {},
   "outputs": [
    {
     "data": {
      "text/html": [
       "<div>\n",
       "<style scoped>\n",
       "    .dataframe tbody tr th:only-of-type {\n",
       "        vertical-align: middle;\n",
       "    }\n",
       "\n",
       "    .dataframe tbody tr th {\n",
       "        vertical-align: top;\n",
       "    }\n",
       "\n",
       "    .dataframe thead th {\n",
       "        text-align: right;\n",
       "    }\n",
       "</style>\n",
       "<table border=\"1\" class=\"dataframe\">\n",
       "  <thead>\n",
       "    <tr style=\"text-align: right;\">\n",
       "      <th></th>\n",
       "      <th>Unnamed: 0</th>\n",
       "      <th>username</th>\n",
       "      <th>text</th>\n",
       "      <th>hashtags</th>\n",
       "      <th>query</th>\n",
       "      <th>is_road_closed</th>\n",
       "      <th>y_preds</th>\n",
       "    </tr>\n",
       "  </thead>\n",
       "  <tbody>\n",
       "    <tr>\n",
       "      <th>8414</th>\n",
       "      <td>8514</td>\n",
       "      <td>Brian Douglas</td>\n",
       "      <td>the #fullertonfire is now burning at the brea ...</td>\n",
       "      <td>['FullertonFire']</td>\n",
       "      <td>KNX1070</td>\n",
       "      <td>1</td>\n",
       "      <td>0</td>\n",
       "    </tr>\n",
       "    <tr>\n",
       "      <th>6625</th>\n",
       "      <td>6710</td>\n",
       "      <td>Go511</td>\n",
       "      <td>traffic alert in topanga\\npacific coast hwy so...</td>\n",
       "      <td>[]</td>\n",
       "      <td>Go511</td>\n",
       "      <td>1</td>\n",
       "      <td>0</td>\n",
       "    </tr>\n",
       "    <tr>\n",
       "      <th>8265</th>\n",
       "      <td>8364</td>\n",
       "      <td>scott burt</td>\n",
       "      <td>@lafd pounced on a #brushfire in the #brentwoo...</td>\n",
       "      <td>['brushfire', 'Brentwood', 'LATraffic', 'KNXTr...</td>\n",
       "      <td>KNX1070</td>\n",
       "      <td>1</td>\n",
       "      <td>0</td>\n",
       "    </tr>\n",
       "    <tr>\n",
       "      <th>6418</th>\n",
       "      <td>6503</td>\n",
       "      <td>Go511</td>\n",
       "      <td>sigalert in moreno valley \\nsr-60 w/b &amp; e/b at...</td>\n",
       "      <td>[]</td>\n",
       "      <td>Go511</td>\n",
       "      <td>1</td>\n",
       "      <td>0</td>\n",
       "    </tr>\n",
       "    <tr>\n",
       "      <th>8283</th>\n",
       "      <td>8382</td>\n",
       "      <td>scott burt</td>\n",
       "      <td>@lafd pounced on a #brushfire in the #brentwoo...</td>\n",
       "      <td>['brushfire', 'Brentwood', 'LATraffic', 'KNXTr...</td>\n",
       "      <td>KNX1070</td>\n",
       "      <td>1</td>\n",
       "      <td>0</td>\n",
       "    </tr>\n",
       "    <tr>\n",
       "      <th>6846</th>\n",
       "      <td>6931</td>\n",
       "      <td>Go511</td>\n",
       "      <td>sigalert in hacienda heights\\nsr-60 west / hac...</td>\n",
       "      <td>[]</td>\n",
       "      <td>Go511</td>\n",
       "      <td>1</td>\n",
       "      <td>0</td>\n",
       "    </tr>\n",
       "    <tr>\n",
       "      <th>6979</th>\n",
       "      <td>7064</td>\n",
       "      <td>Go511</td>\n",
       "      <td>sigalert\\nla county, castaic \\ni-5 north near ...</td>\n",
       "      <td>[]</td>\n",
       "      <td>Go511</td>\n",
       "      <td>1</td>\n",
       "      <td>0</td>\n",
       "    </tr>\n",
       "    <tr>\n",
       "      <th>8672</th>\n",
       "      <td>8774</td>\n",
       "      <td>Brian Douglas</td>\n",
       "      <td>#sigalert!!! #santaana sb #5fwy at 17th st you...</td>\n",
       "      <td>['SIGALERT', 'SantaAna', '5fwy', 'knxtraffic']</td>\n",
       "      <td>KNX1070</td>\n",
       "      <td>1</td>\n",
       "      <td>0</td>\n",
       "    </tr>\n",
       "    <tr>\n",
       "      <th>6899</th>\n",
       "      <td>6984</td>\n",
       "      <td>Go511</td>\n",
       "      <td>traffic alert #easyfire\\nsr-118 between madera...</td>\n",
       "      <td>['EasyFire']</td>\n",
       "      <td>Go511</td>\n",
       "      <td>1</td>\n",
       "      <td>0</td>\n",
       "    </tr>\n",
       "    <tr>\n",
       "      <th>4056</th>\n",
       "      <td>4113</td>\n",
       "      <td>Stephanie Ferguson</td>\n",
       "      <td>when will sepulveda be opened?? the fire is no...</td>\n",
       "      <td>[]</td>\n",
       "      <td>CaltransDist7</td>\n",
       "      <td>1</td>\n",
       "      <td>0</td>\n",
       "    </tr>\n",
       "    <tr>\n",
       "      <th>7058</th>\n",
       "      <td>7143</td>\n",
       "      <td>Go511</td>\n",
       "      <td>traffic alert in pasadena\\ni-210 west at sierr...</td>\n",
       "      <td>[]</td>\n",
       "      <td>Go511</td>\n",
       "      <td>1</td>\n",
       "      <td>0</td>\n",
       "    </tr>\n",
       "    <tr>\n",
       "      <th>7034</th>\n",
       "      <td>7119</td>\n",
       "      <td>Go511</td>\n",
       "      <td>traffic alert in norwalk \\nsr-91 west at stude...</td>\n",
       "      <td>[]</td>\n",
       "      <td>Go511</td>\n",
       "      <td>1</td>\n",
       "      <td>0</td>\n",
       "    </tr>\n",
       "    <tr>\n",
       "      <th>4260</th>\n",
       "      <td>4317</td>\n",
       "      <td>Santa Clarita City</td>\n",
       "      <td>santa clarita road closures can be found at ht...</td>\n",
       "      <td>[]</td>\n",
       "      <td>CaltransDist7</td>\n",
       "      <td>1</td>\n",
       "      <td>0</td>\n",
       "    </tr>\n",
       "    <tr>\n",
       "      <th>8434</th>\n",
       "      <td>8535</td>\n",
       "      <td>Brian Douglas</td>\n",
       "      <td>#sigalert!!! continues for the nb #57fwy where...</td>\n",
       "      <td>['SIGALERT', '57fwy', 'knxtrafficpic']</td>\n",
       "      <td>KNX1070</td>\n",
       "      <td>1</td>\n",
       "      <td>0</td>\n",
       "    </tr>\n",
       "    <tr>\n",
       "      <th>4283</th>\n",
       "      <td>4340</td>\n",
       "      <td>Caltrans District 7</td>\n",
       "      <td>7:45 am update #tickfire closures: nb sr-14 is...</td>\n",
       "      <td>['TickFire']</td>\n",
       "      <td>CaltransDist7</td>\n",
       "      <td>1</td>\n",
       "      <td>0</td>\n",
       "    </tr>\n",
       "    <tr>\n",
       "      <th>9015</th>\n",
       "      <td>9120</td>\n",
       "      <td>Desmond Shaw</td>\n",
       "      <td>the #14fwy remains closed in both directions b...</td>\n",
       "      <td>['14fwy', 'TickFire', 'KNXTraffic']</td>\n",
       "      <td>KNX1070</td>\n",
       "      <td>1</td>\n",
       "      <td>0</td>\n",
       "    </tr>\n",
       "    <tr>\n",
       "      <th>6446</th>\n",
       "      <td>6531</td>\n",
       "      <td>Go511</td>\n",
       "      <td>traffic alert in los angeles\\ni-5 north at mai...</td>\n",
       "      <td>[]</td>\n",
       "      <td>Go511</td>\n",
       "      <td>1</td>\n",
       "      <td>0</td>\n",
       "    </tr>\n",
       "    <tr>\n",
       "      <th>3485</th>\n",
       "      <td>3534</td>\n",
       "      <td>Caltrans District 7</td>\n",
       "      <td>reminder! northbound i-710 is restricted to tw...</td>\n",
       "      <td>['BeWorkZoneAlertpic']</td>\n",
       "      <td>CaltransDist7</td>\n",
       "      <td>1</td>\n",
       "      <td>0</td>\n",
       "    </tr>\n",
       "    <tr>\n",
       "      <th>6462</th>\n",
       "      <td>6547</td>\n",
       "      <td>Go511</td>\n",
       "      <td>traffic alert in los angeles\\ni-5 north at mai...</td>\n",
       "      <td>[]</td>\n",
       "      <td>Go511</td>\n",
       "      <td>1</td>\n",
       "      <td>0</td>\n",
       "    </tr>\n",
       "    <tr>\n",
       "      <th>6889</th>\n",
       "      <td>6974</td>\n",
       "      <td>Go511</td>\n",
       "      <td>traffic hazard in moorpark\\ndefective traffic ...</td>\n",
       "      <td>[]</td>\n",
       "      <td>Go511</td>\n",
       "      <td>1</td>\n",
       "      <td>0</td>\n",
       "    </tr>\n",
       "  </tbody>\n",
       "</table>\n",
       "</div>"
      ],
      "text/plain": [
       "      Unnamed: 0             username  \\\n",
       "8414        8514        Brian Douglas   \n",
       "6625        6710                Go511   \n",
       "8265        8364           scott burt   \n",
       "6418        6503                Go511   \n",
       "8283        8382           scott burt   \n",
       "6846        6931                Go511   \n",
       "6979        7064                Go511   \n",
       "8672        8774        Brian Douglas   \n",
       "6899        6984                Go511   \n",
       "4056        4113   Stephanie Ferguson   \n",
       "7058        7143                Go511   \n",
       "7034        7119                Go511   \n",
       "4260        4317   Santa Clarita City   \n",
       "8434        8535        Brian Douglas   \n",
       "4283        4340  Caltrans District 7   \n",
       "9015        9120         Desmond Shaw   \n",
       "6446        6531                Go511   \n",
       "3485        3534  Caltrans District 7   \n",
       "6462        6547                Go511   \n",
       "6889        6974                Go511   \n",
       "\n",
       "                                                   text  \\\n",
       "8414  the #fullertonfire is now burning at the brea ...   \n",
       "6625  traffic alert in topanga\\npacific coast hwy so...   \n",
       "8265  @lafd pounced on a #brushfire in the #brentwoo...   \n",
       "6418  sigalert in moreno valley \\nsr-60 w/b & e/b at...   \n",
       "8283  @lafd pounced on a #brushfire in the #brentwoo...   \n",
       "6846  sigalert in hacienda heights\\nsr-60 west / hac...   \n",
       "6979  sigalert\\nla county, castaic \\ni-5 north near ...   \n",
       "8672  #sigalert!!! #santaana sb #5fwy at 17th st you...   \n",
       "6899  traffic alert #easyfire\\nsr-118 between madera...   \n",
       "4056  when will sepulveda be opened?? the fire is no...   \n",
       "7058  traffic alert in pasadena\\ni-210 west at sierr...   \n",
       "7034  traffic alert in norwalk \\nsr-91 west at stude...   \n",
       "4260  santa clarita road closures can be found at ht...   \n",
       "8434  #sigalert!!! continues for the nb #57fwy where...   \n",
       "4283  7:45 am update #tickfire closures: nb sr-14 is...   \n",
       "9015  the #14fwy remains closed in both directions b...   \n",
       "6446  traffic alert in los angeles\\ni-5 north at mai...   \n",
       "3485  reminder! northbound i-710 is restricted to tw...   \n",
       "6462  traffic alert in los angeles\\ni-5 north at mai...   \n",
       "6889  traffic hazard in moorpark\\ndefective traffic ...   \n",
       "\n",
       "                                               hashtags          query  \\\n",
       "8414                                  ['FullertonFire']        KNX1070   \n",
       "6625                                                 []          Go511   \n",
       "8265  ['brushfire', 'Brentwood', 'LATraffic', 'KNXTr...        KNX1070   \n",
       "6418                                                 []          Go511   \n",
       "8283  ['brushfire', 'Brentwood', 'LATraffic', 'KNXTr...        KNX1070   \n",
       "6846                                                 []          Go511   \n",
       "6979                                                 []          Go511   \n",
       "8672     ['SIGALERT', 'SantaAna', '5fwy', 'knxtraffic']        KNX1070   \n",
       "6899                                       ['EasyFire']          Go511   \n",
       "4056                                                 []  CaltransDist7   \n",
       "7058                                                 []          Go511   \n",
       "7034                                                 []          Go511   \n",
       "4260                                                 []  CaltransDist7   \n",
       "8434             ['SIGALERT', '57fwy', 'knxtrafficpic']        KNX1070   \n",
       "4283                                       ['TickFire']  CaltransDist7   \n",
       "9015                ['14fwy', 'TickFire', 'KNXTraffic']        KNX1070   \n",
       "6446                                                 []          Go511   \n",
       "3485                             ['BeWorkZoneAlertpic']  CaltransDist7   \n",
       "6462                                                 []          Go511   \n",
       "6889                                                 []          Go511   \n",
       "\n",
       "      is_road_closed  y_preds  \n",
       "8414               1        0  \n",
       "6625               1        0  \n",
       "8265               1        0  \n",
       "6418               1        0  \n",
       "8283               1        0  \n",
       "6846               1        0  \n",
       "6979               1        0  \n",
       "8672               1        0  \n",
       "6899               1        0  \n",
       "4056               1        0  \n",
       "7058               1        0  \n",
       "7034               1        0  \n",
       "4260               1        0  \n",
       "8434               1        0  \n",
       "4283               1        0  \n",
       "9015               1        0  \n",
       "6446               1        0  \n",
       "3485               1        0  \n",
       "6462               1        0  \n",
       "6889               1        0  "
      ]
     },
     "execution_count": 45,
     "metadata": {},
     "output_type": "execute_result"
    }
   ],
   "source": [
    "X_test_false_neg.head(20)"
   ]
  },
  {
   "cell_type": "code",
   "execution_count": 47,
   "metadata": {},
   "outputs": [
    {
     "data": {
      "text/plain": [
       "8414    the #fullertonfire is now burning at the brea ...\n",
       "6625    traffic alert in topanga\\npacific coast hwy so...\n",
       "8265    @lafd pounced on a #brushfire in the #brentwoo...\n",
       "6418    sigalert in moreno valley \\nsr-60 w/b & e/b at...\n",
       "8283    @lafd pounced on a #brushfire in the #brentwoo...\n",
       "6846    sigalert in hacienda heights\\nsr-60 west / hac...\n",
       "6979    sigalert\\nla county, castaic \\ni-5 north near ...\n",
       "8672    #sigalert!!! #santaana sb #5fwy at 17th st you...\n",
       "6899    traffic alert #easyfire\\nsr-118 between madera...\n",
       "4056    when will sepulveda be opened?? the fire is no...\n",
       "7058    traffic alert in pasadena\\ni-210 west at sierr...\n",
       "7034    traffic alert in norwalk \\nsr-91 west at stude...\n",
       "4260    santa clarita road closures can be found at ht...\n",
       "8434    #sigalert!!! continues for the nb #57fwy where...\n",
       "4283    7:45 am update #tickfire closures: nb sr-14 is...\n",
       "9015    the #14fwy remains closed in both directions b...\n",
       "6446    traffic alert in los angeles\\ni-5 north at mai...\n",
       "3485    reminder! northbound i-710 is restricted to tw...\n",
       "6462    traffic alert in los angeles\\ni-5 north at mai...\n",
       "6889    traffic hazard in moorpark\\ndefective traffic ...\n",
       "3465    reminder! northbound i-710 is restricted to tw...\n",
       "6399    sigalert in moreno valley \\nsr-60 w/b & e/b at...\n",
       "4076    alert: route 23 closed both directions from ar...\n",
       "1526    #tickfire \\nwhere is the fire now? i mean...ac...\n",
       "6958    sigalert in santa clarita\\nfire on sr-14 south...\n",
       "8784    a fatal crash on the 101 freeway in #encino, a...\n",
       "Name: text, dtype: object"
      ]
     },
     "execution_count": 47,
     "metadata": {},
     "output_type": "execute_result"
    }
   ],
   "source": [
    "X_test_false_neg['text']"
   ]
  },
  {
   "cell_type": "markdown",
   "metadata": {},
   "source": [
    "####  Type I Error (or False Positive) is a result that indicates that a given condition is present when it actually is not present. In our model, Type I errors would be incorrectly predicting the road was closed, when it is actually open. In our example this would cause less cars/traffic/people using a safe escape route. A low Type I error  value would mean less routes were incorrectly flagged as road being closed, therefore not allowing for the maximum the amount of escape routes. "
   ]
  },
  {
   "cell_type": "markdown",
   "metadata": {},
   "source": [
    "#### Type II Error (or False Negative) is a result that indicates that a given condition is not present when it actually is present. In our model, it would be incorrectly predicting the road was open, when it is actually closed. With this model we would want to minimize Type II errors, it could potentially be catastrophic to send a evacuee into a dangerous situation not to mention cause an increase in traffic. Unfortunately, our data and modeling indicate a relatively high level of false negatives. "
   ]
  },
  {
   "cell_type": "markdown",
   "metadata": {},
   "source": [
    "## CountVectorization/Decision Tree Model"
   ]
  },
  {
   "cell_type": "code",
   "execution_count": 48,
   "metadata": {},
   "outputs": [],
   "source": [
    "## Pipeline and parameters for model\n",
    "pipe_dt = Pipeline([\n",
    "    ('cvec', CountVectorizer()),\n",
    "    ('dt', DecisionTreeClassifier(random_state = 42))])\n",
    "\n",
    "params_dt = {\n",
    "    'cvec__stop_words' : ['english'],\n",
    "    'cvec__max_features': [2000, 4000],\n",
    "    'cvec__min_df': [2, 3],\n",
    "    'cvec__max_df': [.95],\n",
    "    'cvec__ngram_range': [(1,2)],\n",
    "    'dt__max_depth': [5, 10],\n",
    "    'dt__min_samples_split': [5, 10,],\n",
    "    'dt__min_samples_leaf': [2, 3, 5]\n",
    "                    }\n"
   ]
  },
  {
   "cell_type": "code",
   "execution_count": 49,
   "metadata": {},
   "outputs": [],
   "source": [
    "## Model gridsearch\n",
    "gs_dt = GridSearchCV(pipe_dt, # what object are we optimizing?\n",
    "                  params_dt, # what parameters values are we searching?\n",
    "                  cv=5) # 5-fold cross-validation."
   ]
  },
  {
   "cell_type": "code",
   "execution_count": 50,
   "metadata": {},
   "outputs": [
    {
     "data": {
      "text/plain": [
       "GridSearchCV(cv=5, error_score='raise-deprecating',\n",
       "             estimator=Pipeline(memory=None,\n",
       "                                steps=[('cvec',\n",
       "                                        CountVectorizer(analyzer='word',\n",
       "                                                        binary=False,\n",
       "                                                        decode_error='strict',\n",
       "                                                        dtype=<class 'numpy.int64'>,\n",
       "                                                        encoding='utf-8',\n",
       "                                                        input='content',\n",
       "                                                        lowercase=True,\n",
       "                                                        max_df=1.0,\n",
       "                                                        max_features=None,\n",
       "                                                        min_df=1,\n",
       "                                                        ngram_range=(1, 1),\n",
       "                                                        preprocessor=None,\n",
       "                                                        stop_words=None,\n",
       "                                                        strip_accents=None,\n",
       "                                                        tok...\n",
       "                                verbose=False),\n",
       "             iid='warn', n_jobs=None,\n",
       "             param_grid={'cvec__max_df': [0.95],\n",
       "                         'cvec__max_features': [2000, 4000],\n",
       "                         'cvec__min_df': [2, 3], 'cvec__ngram_range': [(1, 2)],\n",
       "                         'cvec__stop_words': ['english'],\n",
       "                         'dt__max_depth': [5, 10],\n",
       "                         'dt__min_samples_leaf': [2, 3, 5],\n",
       "                         'dt__min_samples_split': [5, 10]},\n",
       "             pre_dispatch='2*n_jobs', refit=True, return_train_score=False,\n",
       "             scoring=None, verbose=0)"
      ]
     },
     "execution_count": 50,
     "metadata": {},
     "output_type": "execute_result"
    }
   ],
   "source": [
    "# Fit GridSearch to training data.\n",
    "gs_dt.fit(X_train, y_train)"
   ]
  },
  {
   "cell_type": "code",
   "execution_count": 51,
   "metadata": {},
   "outputs": [
    {
     "data": {
      "text/plain": [
       "Pipeline(memory=None,\n",
       "         steps=[('cvec',\n",
       "                 CountVectorizer(analyzer='word', binary=False,\n",
       "                                 decode_error='strict',\n",
       "                                 dtype=<class 'numpy.int64'>, encoding='utf-8',\n",
       "                                 input='content', lowercase=True, max_df=0.95,\n",
       "                                 max_features=2000, min_df=3,\n",
       "                                 ngram_range=(1, 2), preprocessor=None,\n",
       "                                 stop_words='english', strip_accents=None,\n",
       "                                 token_pattern='(?u)\\\\b\\\\w\\\\w+\\\\b',\n",
       "                                 tokenizer=None, vocabulary=None)),\n",
       "                ('dt',\n",
       "                 DecisionTreeClassifier(class_weight=None, criterion='gini',\n",
       "                                        max_depth=10, max_features=None,\n",
       "                                        max_leaf_nodes=None,\n",
       "                                        min_impurity_decrease=0.0,\n",
       "                                        min_impurity_split=None,\n",
       "                                        min_samples_leaf=2, min_samples_split=5,\n",
       "                                        min_weight_fraction_leaf=0.0,\n",
       "                                        presort=False, random_state=42,\n",
       "                                        splitter='best'))],\n",
       "         verbose=False)"
      ]
     },
     "execution_count": 51,
     "metadata": {},
     "output_type": "execute_result"
    }
   ],
   "source": [
    "gs_dt.best_estimator_"
   ]
  },
  {
   "cell_type": "code",
   "execution_count": 52,
   "metadata": {},
   "outputs": [
    {
     "data": {
      "text/plain": [
       "0.9773026315789474"
      ]
     },
     "execution_count": 52,
     "metadata": {},
     "output_type": "execute_result"
    }
   ],
   "source": [
    "# What was the cross-validated score of the above decision tree?\n",
    "gs_dt.best_score_"
   ]
  },
  {
   "cell_type": "code",
   "execution_count": 53,
   "metadata": {},
   "outputs": [
    {
     "data": {
      "text/plain": [
       "0.9901315789473685"
      ]
     },
     "execution_count": 53,
     "metadata": {},
     "output_type": "execute_result"
    }
   ],
   "source": [
    "# Score model on training set.\n",
    "gs_dt.score(X_train, y_train)"
   ]
  },
  {
   "cell_type": "code",
   "execution_count": 54,
   "metadata": {},
   "outputs": [
    {
     "data": {
      "text/plain": [
       "0.9742904841402337"
      ]
     },
     "execution_count": 54,
     "metadata": {},
     "output_type": "execute_result"
    }
   ],
   "source": [
    "# Score model on testing set.\n",
    "gs_dt.score(X_test, y_test)"
   ]
  },
  {
   "cell_type": "code",
   "execution_count": 55,
   "metadata": {},
   "outputs": [],
   "source": [
    "preds_dt = gs_dt.best_estimator_.predict(X_test)"
   ]
  },
  {
   "cell_type": "code",
   "execution_count": 56,
   "metadata": {},
   "outputs": [
    {
     "name": "stdout",
     "output_type": "stream",
     "text": [
      "Accuracy Score: 0.9742904841402337\n"
     ]
    },
    {
     "data": {
      "text/html": [
       "<div>\n",
       "<style scoped>\n",
       "    .dataframe tbody tr th:only-of-type {\n",
       "        vertical-align: middle;\n",
       "    }\n",
       "\n",
       "    .dataframe tbody tr th {\n",
       "        vertical-align: top;\n",
       "    }\n",
       "\n",
       "    .dataframe thead th {\n",
       "        text-align: right;\n",
       "    }\n",
       "</style>\n",
       "<table border=\"1\" class=\"dataframe\">\n",
       "  <thead>\n",
       "    <tr style=\"text-align: right;\">\n",
       "      <th></th>\n",
       "      <th>Predicted open</th>\n",
       "      <th>Predicted is_road_closed</th>\n",
       "    </tr>\n",
       "  </thead>\n",
       "  <tbody>\n",
       "    <tr>\n",
       "      <th>Actual open</th>\n",
       "      <td>2872</td>\n",
       "      <td>20</td>\n",
       "    </tr>\n",
       "    <tr>\n",
       "      <th>Actual is_road_closed</th>\n",
       "      <td>57</td>\n",
       "      <td>46</td>\n",
       "    </tr>\n",
       "  </tbody>\n",
       "</table>\n",
       "</div>"
      ],
      "text/plain": [
       "                       Predicted open  Predicted is_road_closed\n",
       "Actual open                      2872                        20\n",
       "Actual is_road_closed              57                        46"
      ]
     },
     "execution_count": 56,
     "metadata": {},
     "output_type": "execute_result"
    }
   ],
   "source": [
    "## Model confusion matrix\n",
    "def nice_conmat(y_test, preds_dt, classes):\n",
    "    conmat = confusion_matrix(y_test, preds_dt)\n",
    "    \n",
    "    print(f'Accuracy Score: {accuracy_score(y_test, preds_dt)}')\n",
    "    return pd.DataFrame(conmat, columns=['Predicted ' +class_ for class_ in classes], \\\n",
    "                index=['Actual '+ class_ for class_ in classes])\n",
    "\n",
    "nice_conmat(y_test, preds_dt, ['open', 'is_road_closed'])"
   ]
  },
  {
   "cell_type": "markdown",
   "metadata": {},
   "source": [
    "## TFIDF/Decision Trees Model"
   ]
  },
  {
   "cell_type": "code",
   "execution_count": 57,
   "metadata": {},
   "outputs": [],
   "source": [
    "## Pipeline and parameters for model\n",
    "pipe_tfidf_dt = Pipeline([\n",
    "    ('tfidf', TfidfVectorizer()),\n",
    "    ('dt', DecisionTreeClassifier(random_state = 42))])\n",
    "\n",
    "params_tfidf_dt = {\n",
    "    'dt__max_depth': [5, 10],\n",
    "    'dt__min_samples_split': [5, 10,],\n",
    "    'dt__min_samples_leaf': [2, 3, 5]\n",
    "                    },"
   ]
  },
  {
   "cell_type": "code",
   "execution_count": 58,
   "metadata": {},
   "outputs": [],
   "source": [
    "## Model gridsearch\n",
    "gs_tfidf_dt = GridSearchCV(pipe_tfidf_dt, # what object are we optimizing?\n",
    "                  params_tfidf_dt, # what parameters values are we searching?\n",
    "                  cv=5) # 5-fold cross-validation."
   ]
  },
  {
   "cell_type": "code",
   "execution_count": 59,
   "metadata": {},
   "outputs": [
    {
     "data": {
      "text/plain": [
       "GridSearchCV(cv=5, error_score='raise-deprecating',\n",
       "             estimator=Pipeline(memory=None,\n",
       "                                steps=[('tfidf',\n",
       "                                        TfidfVectorizer(analyzer='word',\n",
       "                                                        binary=False,\n",
       "                                                        decode_error='strict',\n",
       "                                                        dtype=<class 'numpy.float64'>,\n",
       "                                                        encoding='utf-8',\n",
       "                                                        input='content',\n",
       "                                                        lowercase=True,\n",
       "                                                        max_df=1.0,\n",
       "                                                        max_features=None,\n",
       "                                                        min_df=1,\n",
       "                                                        ngram_range=(1, 1),\n",
       "                                                        norm='l2',\n",
       "                                                        preprocessor=None,\n",
       "                                                        smooth_idf=True,\n",
       "                                                        stop_word...\n",
       "                                                               min_impurity_split=None,\n",
       "                                                               min_samples_leaf=1,\n",
       "                                                               min_samples_split=2,\n",
       "                                                               min_weight_fraction_leaf=0.0,\n",
       "                                                               presort=False,\n",
       "                                                               random_state=42,\n",
       "                                                               splitter='best'))],\n",
       "                                verbose=False),\n",
       "             iid='warn', n_jobs=None,\n",
       "             param_grid=({'dt__max_depth': [5, 10],\n",
       "                          'dt__min_samples_leaf': [2, 3, 5],\n",
       "                          'dt__min_samples_split': [5, 10]},),\n",
       "             pre_dispatch='2*n_jobs', refit=True, return_train_score=False,\n",
       "             scoring=None, verbose=0)"
      ]
     },
     "execution_count": 59,
     "metadata": {},
     "output_type": "execute_result"
    }
   ],
   "source": [
    "# Fit GridSearch to training data.\n",
    "gs_tfidf_dt.fit(X_train, y_train)"
   ]
  },
  {
   "cell_type": "code",
   "execution_count": 60,
   "metadata": {},
   "outputs": [
    {
     "data": {
      "text/plain": [
       "0.9728618421052632"
      ]
     },
     "execution_count": 60,
     "metadata": {},
     "output_type": "execute_result"
    }
   ],
   "source": [
    "# What was the cross-validated score of the above decision tree?\n",
    "gs_tfidf_dt.best_score_"
   ]
  },
  {
   "cell_type": "code",
   "execution_count": 61,
   "metadata": {},
   "outputs": [
    {
     "data": {
      "text/plain": [
       "0.9896381578947369"
      ]
     },
     "execution_count": 61,
     "metadata": {},
     "output_type": "execute_result"
    }
   ],
   "source": [
    "# Score model on training set.\n",
    "gs_tfidf_dt.score(X_train, y_train)"
   ]
  },
  {
   "cell_type": "code",
   "execution_count": 62,
   "metadata": {},
   "outputs": [
    {
     "data": {
      "text/plain": [
       "0.9736227045075125"
      ]
     },
     "execution_count": 62,
     "metadata": {},
     "output_type": "execute_result"
    }
   ],
   "source": [
    "# Score model on testing set.\n",
    "gs_tfidf_dt.score(X_test, y_test)"
   ]
  },
  {
   "cell_type": "code",
   "execution_count": 63,
   "metadata": {},
   "outputs": [],
   "source": [
    "preds_tfidf_dt = gs_tfidf_dt.best_estimator_.predict(X_test)"
   ]
  },
  {
   "cell_type": "code",
   "execution_count": 64,
   "metadata": {},
   "outputs": [
    {
     "name": "stdout",
     "output_type": "stream",
     "text": [
      "Accuracy Score: 0.9736227045075125\n"
     ]
    },
    {
     "data": {
      "text/html": [
       "<div>\n",
       "<style scoped>\n",
       "    .dataframe tbody tr th:only-of-type {\n",
       "        vertical-align: middle;\n",
       "    }\n",
       "\n",
       "    .dataframe tbody tr th {\n",
       "        vertical-align: top;\n",
       "    }\n",
       "\n",
       "    .dataframe thead th {\n",
       "        text-align: right;\n",
       "    }\n",
       "</style>\n",
       "<table border=\"1\" class=\"dataframe\">\n",
       "  <thead>\n",
       "    <tr style=\"text-align: right;\">\n",
       "      <th></th>\n",
       "      <th>Predicted open</th>\n",
       "      <th>Predicted is_road_closed</th>\n",
       "    </tr>\n",
       "  </thead>\n",
       "  <tbody>\n",
       "    <tr>\n",
       "      <th>Actual open</th>\n",
       "      <td>2873</td>\n",
       "      <td>19</td>\n",
       "    </tr>\n",
       "    <tr>\n",
       "      <th>Actual is_road_closed</th>\n",
       "      <td>60</td>\n",
       "      <td>43</td>\n",
       "    </tr>\n",
       "  </tbody>\n",
       "</table>\n",
       "</div>"
      ],
      "text/plain": [
       "                       Predicted open  Predicted is_road_closed\n",
       "Actual open                      2873                        19\n",
       "Actual is_road_closed              60                        43"
      ]
     },
     "execution_count": 64,
     "metadata": {},
     "output_type": "execute_result"
    }
   ],
   "source": [
    "## Model confusion matrix\n",
    "def nice_conmat(y_test, preds_tfidf_dt, classes):\n",
    "    conmat = confusion_matrix(y_test, preds_tfidf_dt)\n",
    "    \n",
    "    print(f'Accuracy Score: {accuracy_score(y_test, preds_tfidf_dt)}')\n",
    "    return pd.DataFrame(conmat, columns=['Predicted ' +class_ for class_ in classes], \\\n",
    "                index=['Actual '+ class_ for class_ in classes])\n",
    "\n",
    "nice_conmat(y_test, preds_tfidf_dt, ['open', 'is_road_closed'])"
   ]
  },
  {
   "cell_type": "code",
   "execution_count": null,
   "metadata": {},
   "outputs": [],
   "source": []
  },
  {
   "cell_type": "markdown",
   "metadata": {},
   "source": [
    "## CountVectorization/Random Forest Model"
   ]
  },
  {
   "cell_type": "code",
   "execution_count": 65,
   "metadata": {},
   "outputs": [
    {
     "data": {
      "text/plain": [
       "GridSearchCV(cv=5, error_score='raise-deprecating',\n",
       "             estimator=Pipeline(memory=None,\n",
       "                                steps=[('cvec',\n",
       "                                        CountVectorizer(analyzer='word',\n",
       "                                                        binary=False,\n",
       "                                                        decode_error='strict',\n",
       "                                                        dtype=<class 'numpy.int64'>,\n",
       "                                                        encoding='utf-8',\n",
       "                                                        input='content',\n",
       "                                                        lowercase=True,\n",
       "                                                        max_df=1.0,\n",
       "                                                        max_features=None,\n",
       "                                                        min_df=1,\n",
       "                                                        ngram_range=(1, 1),\n",
       "                                                        preprocessor=None,\n",
       "                                                        stop_words=None,\n",
       "                                                        strip_accents=None,\n",
       "                                                        tok...\n",
       "                                verbose=False),\n",
       "             iid='warn', n_jobs=None,\n",
       "             param_grid={'cvec__max_df': [0.95],\n",
       "                         'cvec__max_features': [2000, 4000],\n",
       "                         'cvec__min_df': [2, 3], 'cvec__ngram_range': [(1, 2)],\n",
       "                         'cvec__stop_words': ['english'],\n",
       "                         'rf__max_depth': [None, 4],\n",
       "                         'rf__max_features': [None, 'auto'],\n",
       "                         'rf__n_estimators': [100, 125]},\n",
       "             pre_dispatch='2*n_jobs', refit=True, return_train_score=False,\n",
       "             scoring=None, verbose=0)"
      ]
     },
     "execution_count": 65,
     "metadata": {},
     "output_type": "execute_result"
    }
   ],
   "source": [
    "## Pipeline and parameters for model\n",
    "pipe_rf = Pipeline([\n",
    "    ('cvec', CountVectorizer()),\n",
    "    ( 'rf',  RandomForestClassifier(random_state =42))])\n",
    "rf_params = {\n",
    "    'cvec__stop_words' : ['english'],\n",
    "    'cvec__max_features': [2000, 4000],\n",
    "    'cvec__min_df': [2, 3],\n",
    "    'cvec__max_df': [.95],\n",
    "    'cvec__ngram_range': [(1,2)],\n",
    "    'rf__n_estimators' : [100,125],\n",
    "    'rf__max_depth' : [None, 4],\n",
    "    'rf__max_features' : [None, ## bagging\n",
    "                      'auto'] ## random forest\n",
    "}\n",
    "gs_rf = GridSearchCV(pipe_rf, rf_params, cv=5)\n",
    "gs_rf.fit(X_train, y_train)"
   ]
  },
  {
   "cell_type": "code",
   "execution_count": 66,
   "metadata": {},
   "outputs": [
    {
     "data": {
      "text/plain": [
       "0.9819078947368421"
      ]
     },
     "execution_count": 66,
     "metadata": {},
     "output_type": "execute_result"
    }
   ],
   "source": [
    "# What was the cross-validated score of the above decision tree?\n",
    "gs_rf.best_score_"
   ]
  },
  {
   "cell_type": "code",
   "execution_count": 67,
   "metadata": {},
   "outputs": [
    {
     "data": {
      "text/plain": [
       "1.0"
      ]
     },
     "execution_count": 67,
     "metadata": {},
     "output_type": "execute_result"
    }
   ],
   "source": [
    "# Score model on training set.\n",
    "gs_rf.score(X_train, y_train)"
   ]
  },
  {
   "cell_type": "code",
   "execution_count": 68,
   "metadata": {},
   "outputs": [
    {
     "data": {
      "text/plain": [
       "0.9846410684474124"
      ]
     },
     "execution_count": 68,
     "metadata": {},
     "output_type": "execute_result"
    }
   ],
   "source": [
    "# Score model on testing set.\n",
    "gs_rf.score(X_test, y_test)"
   ]
  },
  {
   "cell_type": "code",
   "execution_count": 69,
   "metadata": {},
   "outputs": [],
   "source": [
    "preds_rf = gs_rf.best_estimator_.predict(X_test)"
   ]
  },
  {
   "cell_type": "code",
   "execution_count": 70,
   "metadata": {},
   "outputs": [
    {
     "name": "stdout",
     "output_type": "stream",
     "text": [
      "Accuracy Score: 0.9846410684474124\n"
     ]
    },
    {
     "data": {
      "text/html": [
       "<div>\n",
       "<style scoped>\n",
       "    .dataframe tbody tr th:only-of-type {\n",
       "        vertical-align: middle;\n",
       "    }\n",
       "\n",
       "    .dataframe tbody tr th {\n",
       "        vertical-align: top;\n",
       "    }\n",
       "\n",
       "    .dataframe thead th {\n",
       "        text-align: right;\n",
       "    }\n",
       "</style>\n",
       "<table border=\"1\" class=\"dataframe\">\n",
       "  <thead>\n",
       "    <tr style=\"text-align: right;\">\n",
       "      <th></th>\n",
       "      <th>Predicted open</th>\n",
       "      <th>Predicted is_road_closed</th>\n",
       "    </tr>\n",
       "  </thead>\n",
       "  <tbody>\n",
       "    <tr>\n",
       "      <th>Actual open</th>\n",
       "      <td>2885</td>\n",
       "      <td>7</td>\n",
       "    </tr>\n",
       "    <tr>\n",
       "      <th>Actual is_road_closed</th>\n",
       "      <td>39</td>\n",
       "      <td>64</td>\n",
       "    </tr>\n",
       "  </tbody>\n",
       "</table>\n",
       "</div>"
      ],
      "text/plain": [
       "                       Predicted open  Predicted is_road_closed\n",
       "Actual open                      2885                         7\n",
       "Actual is_road_closed              39                        64"
      ]
     },
     "execution_count": 70,
     "metadata": {},
     "output_type": "execute_result"
    }
   ],
   "source": [
    "## Model confusion matrix\n",
    "def nice_conmat(y_test, preds_rf, classes):\n",
    "    conmat = confusion_matrix(y_test, preds_rf)\n",
    "    \n",
    "    print(f'Accuracy Score: {accuracy_score(y_test, preds_rf)}')\n",
    "    return pd.DataFrame(conmat, columns=['Predicted ' +class_ for class_ in classes], \\\n",
    "                index=['Actual '+ class_ for class_ in classes])\n",
    "\n",
    "nice_conmat(y_test, preds_rf, ['open', 'is_road_closed'])"
   ]
  },
  {
   "cell_type": "markdown",
   "metadata": {},
   "source": [
    "## TFIDF/Random Forest Model"
   ]
  },
  {
   "cell_type": "code",
   "execution_count": 71,
   "metadata": {},
   "outputs": [],
   "source": [
    "## Model pipeline\n",
    "pipe_tfidf_rf = Pipeline([\n",
    "    ('tfidf', TfidfVectorizer()),\n",
    "    ( 'rf',  RandomForestClassifier(random_state =42))])\n",
    "\n",
    "params_tfidf_rf = {\n",
    "    'rf__n_estimators' : [100,125],\n",
    "    'rf__max_depth' : [None, 4],\n",
    "    'rf__max_features' : [None, ## bagging\n",
    "                      'auto'] ## random forest \n",
    "},"
   ]
  },
  {
   "cell_type": "code",
   "execution_count": 72,
   "metadata": {},
   "outputs": [],
   "source": [
    "## Model gridsearch\n",
    "gs_tfidf_rf = GridSearchCV(pipe_tfidf_rf, # what object are we optimizing?\n",
    "                  params_tfidf_rf, # what parameters values are we searching?\n",
    "                  cv=5) # 5-fold cross-validation."
   ]
  },
  {
   "cell_type": "code",
   "execution_count": 73,
   "metadata": {},
   "outputs": [
    {
     "data": {
      "text/plain": [
       "GridSearchCV(cv=5, error_score='raise-deprecating',\n",
       "             estimator=Pipeline(memory=None,\n",
       "                                steps=[('tfidf',\n",
       "                                        TfidfVectorizer(analyzer='word',\n",
       "                                                        binary=False,\n",
       "                                                        decode_error='strict',\n",
       "                                                        dtype=<class 'numpy.float64'>,\n",
       "                                                        encoding='utf-8',\n",
       "                                                        input='content',\n",
       "                                                        lowercase=True,\n",
       "                                                        max_df=1.0,\n",
       "                                                        max_features=None,\n",
       "                                                        min_df=1,\n",
       "                                                        ngram_range=(1, 1),\n",
       "                                                        norm='l2',\n",
       "                                                        preprocessor=None,\n",
       "                                                        smooth_idf=True,\n",
       "                                                        stop_word...\n",
       "                                                               min_samples_split=2,\n",
       "                                                               min_weight_fraction_leaf=0.0,\n",
       "                                                               n_estimators='warn',\n",
       "                                                               n_jobs=None,\n",
       "                                                               oob_score=False,\n",
       "                                                               random_state=42,\n",
       "                                                               verbose=0,\n",
       "                                                               warm_start=False))],\n",
       "                                verbose=False),\n",
       "             iid='warn', n_jobs=None,\n",
       "             param_grid=({'rf__max_depth': [None, 4],\n",
       "                          'rf__max_features': [None, 'auto'],\n",
       "                          'rf__n_estimators': [100, 125]},),\n",
       "             pre_dispatch='2*n_jobs', refit=True, return_train_score=False,\n",
       "             scoring=None, verbose=0)"
      ]
     },
     "execution_count": 73,
     "metadata": {},
     "output_type": "execute_result"
    }
   ],
   "source": [
    "gs_tfidf_rf.fit(X_train, y_train)"
   ]
  },
  {
   "cell_type": "code",
   "execution_count": 74,
   "metadata": {},
   "outputs": [
    {
     "data": {
      "text/plain": [
       "0.9827302631578947"
      ]
     },
     "execution_count": 74,
     "metadata": {},
     "output_type": "execute_result"
    }
   ],
   "source": [
    "# What was the cross-validated score of the above decision tree?\n",
    "gs_tfidf_rf.best_score_"
   ]
  },
  {
   "cell_type": "code",
   "execution_count": 75,
   "metadata": {},
   "outputs": [
    {
     "data": {
      "text/plain": [
       "1.0"
      ]
     },
     "execution_count": 75,
     "metadata": {},
     "output_type": "execute_result"
    }
   ],
   "source": [
    "# Score model on training set.\n",
    "gs_tfidf_rf.score(X_train, y_train)"
   ]
  },
  {
   "cell_type": "code",
   "execution_count": 76,
   "metadata": {},
   "outputs": [
    {
     "data": {
      "text/plain": [
       "0.9819699499165275"
      ]
     },
     "execution_count": 76,
     "metadata": {},
     "output_type": "execute_result"
    }
   ],
   "source": [
    "# Score model on testing set.\n",
    "gs_tfidf_rf.score(X_test, y_test)"
   ]
  },
  {
   "cell_type": "code",
   "execution_count": 77,
   "metadata": {},
   "outputs": [],
   "source": [
    "preds_tfidf_rf = gs_tfidf_rf.best_estimator_.predict(X_test)"
   ]
  },
  {
   "cell_type": "code",
   "execution_count": 78,
   "metadata": {},
   "outputs": [
    {
     "name": "stdout",
     "output_type": "stream",
     "text": [
      "Accuracy Score: 0.9819699499165275\n"
     ]
    },
    {
     "data": {
      "text/html": [
       "<div>\n",
       "<style scoped>\n",
       "    .dataframe tbody tr th:only-of-type {\n",
       "        vertical-align: middle;\n",
       "    }\n",
       "\n",
       "    .dataframe tbody tr th {\n",
       "        vertical-align: top;\n",
       "    }\n",
       "\n",
       "    .dataframe thead th {\n",
       "        text-align: right;\n",
       "    }\n",
       "</style>\n",
       "<table border=\"1\" class=\"dataframe\">\n",
       "  <thead>\n",
       "    <tr style=\"text-align: right;\">\n",
       "      <th></th>\n",
       "      <th>Predicted open</th>\n",
       "      <th>Predicted is_road_closed</th>\n",
       "    </tr>\n",
       "  </thead>\n",
       "  <tbody>\n",
       "    <tr>\n",
       "      <th>Actual open</th>\n",
       "      <td>2884</td>\n",
       "      <td>8</td>\n",
       "    </tr>\n",
       "    <tr>\n",
       "      <th>Actual is_road_closed</th>\n",
       "      <td>46</td>\n",
       "      <td>57</td>\n",
       "    </tr>\n",
       "  </tbody>\n",
       "</table>\n",
       "</div>"
      ],
      "text/plain": [
       "                       Predicted open  Predicted is_road_closed\n",
       "Actual open                      2884                         8\n",
       "Actual is_road_closed              46                        57"
      ]
     },
     "execution_count": 78,
     "metadata": {},
     "output_type": "execute_result"
    }
   ],
   "source": [
    "## Model confusion maxtrix\n",
    "def nice_conmat(y_test, preds_tfidf_rf, classes):\n",
    "    conmat = confusion_matrix(y_test, preds_tfidf_rf)\n",
    "    \n",
    "    print(f'Accuracy Score: {accuracy_score(y_test, preds_tfidf_rf)}')\n",
    "    return pd.DataFrame(conmat, columns=['Predicted ' +class_ for class_ in classes], \\\n",
    "                index=['Actual '+ class_ for class_ in classes])\n",
    "\n",
    "nice_conmat(y_test, preds_tfidf_rf, ['open', 'is_road_closed'])"
   ]
  },
  {
   "cell_type": "code",
   "execution_count": null,
   "metadata": {},
   "outputs": [],
   "source": []
  }
 ],
 "metadata": {
  "kernelspec": {
   "display_name": "Python 3",
   "language": "python",
   "name": "python3"
  },
  "language_info": {
   "codemirror_mode": {
    "name": "ipython",
    "version": 3
   },
   "file_extension": ".py",
   "mimetype": "text/x-python",
   "name": "python",
   "nbconvert_exporter": "python",
   "pygments_lexer": "ipython3",
   "version": "3.7.4"
  }
 },
 "nbformat": 4,
 "nbformat_minor": 4
}
