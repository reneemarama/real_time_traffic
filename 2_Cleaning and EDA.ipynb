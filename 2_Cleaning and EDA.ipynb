{
 "cells": [
  {
   "cell_type": "code",
   "execution_count": 1,
   "metadata": {},
   "outputs": [
    {
     "name": "stderr",
     "output_type": "stream",
     "text": [
      "/Users/rwilkening/opt/anaconda3/lib/python3.7/site-packages/statsmodels/tools/_testing.py:19: FutureWarning: pandas.util.testing is deprecated. Use the functions in the public API at pandas.testing instead.\n",
      "  import pandas.util.testing as tm\n"
     ]
    }
   ],
   "source": [
    "import pandas as pd\n",
    "import nltk\n",
    "import numpy as np\n",
    "import regex as re\n",
    "import matplotlib.pyplot as plt\n",
    "import seaborn as sns\n",
    "%matplotlib inline\n",
    "\n",
    "from nltk.stem import WordNetLemmatizer\n",
    "from nltk.tokenize import RegexpTokenizer\n",
    "from nltk.stem.porter import PorterStemmer\n",
    "from sklearn.model_selection import train_test_split, GridSearchCV\n",
    "from sklearn.metrics import confusion_matrix, accuracy_score\n",
    "from sklearn.tree import DecisionTreeClassifier\n",
    "from sklearn.ensemble import RandomForestClassifier, ExtraTreesClassifier\n",
    "\n",
    "from sklearn.pipeline import Pipeline\n",
    "from sklearn.linear_model import LogisticRegression\n",
    "from sklearn.tree import DecisionTreeClassifier\n",
    "\n",
    "from sklearn.feature_extraction.text import CountVectorizer, TfidfVectorizer"
   ]
  },
  {
   "cell_type": "code",
   "execution_count": 2,
   "metadata": {},
   "outputs": [],
   "source": [
    "df = pd.read_csv('./Datasets/big_df.csv')"
   ]
  },
  {
   "cell_type": "markdown",
   "metadata": {},
   "source": [
    "### Road Closure Classification"
   ]
  },
  {
   "cell_type": "code",
   "execution_count": 3,
   "metadata": {},
   "outputs": [
    {
     "data": {
      "text/html": [
       "<div>\n",
       "<style scoped>\n",
       "    .dataframe tbody tr th:only-of-type {\n",
       "        vertical-align: middle;\n",
       "    }\n",
       "\n",
       "    .dataframe tbody tr th {\n",
       "        vertical-align: top;\n",
       "    }\n",
       "\n",
       "    .dataframe thead th {\n",
       "        text-align: right;\n",
       "    }\n",
       "</style>\n",
       "<table border=\"1\" class=\"dataframe\">\n",
       "  <thead>\n",
       "    <tr style=\"text-align: right;\">\n",
       "      <th></th>\n",
       "      <th>screen_name</th>\n",
       "      <th>username</th>\n",
       "      <th>user_id</th>\n",
       "      <th>tweet_id</th>\n",
       "      <th>tweet_url</th>\n",
       "      <th>timestamp</th>\n",
       "      <th>timestamp_epochs</th>\n",
       "      <th>text</th>\n",
       "      <th>text_html</th>\n",
       "      <th>links</th>\n",
       "      <th>...</th>\n",
       "      <th>img_urls</th>\n",
       "      <th>video_url</th>\n",
       "      <th>likes</th>\n",
       "      <th>retweets</th>\n",
       "      <th>replies</th>\n",
       "      <th>is_replied</th>\n",
       "      <th>is_reply_to</th>\n",
       "      <th>parent_tweet_id</th>\n",
       "      <th>reply_to_users</th>\n",
       "      <th>query</th>\n",
       "    </tr>\n",
       "  </thead>\n",
       "  <tbody>\n",
       "    <tr>\n",
       "      <th>0</th>\n",
       "      <td>EPCFIRM</td>\n",
       "      <td>EPCF #GreenNewDeal #SunriseMovement</td>\n",
       "      <td>836834627771850752</td>\n",
       "      <td>1188564512669962240</td>\n",
       "      <td>/EPCFIRM/status/1188564512669962240</td>\n",
       "      <td>2019-10-27 21:13:56</td>\n",
       "      <td>1572210836</td>\n",
       "      <td>Our hearts go out to Californians affected by ...</td>\n",
       "      <td>&lt;p class=\"TweetTextSize js-tweet-text tweet-te...</td>\n",
       "      <td>[]</td>\n",
       "      <td>...</td>\n",
       "      <td>['https://pbs.twimg.com/media/EH6hH4FVAAA6ZA_....</td>\n",
       "      <td>NaN</td>\n",
       "      <td>8</td>\n",
       "      <td>1</td>\n",
       "      <td>1</td>\n",
       "      <td>True</td>\n",
       "      <td>False</td>\n",
       "      <td>NaN</td>\n",
       "      <td>[]</td>\n",
       "      <td>saddleridgefire</td>\n",
       "    </tr>\n",
       "    <tr>\n",
       "      <th>1</th>\n",
       "      <td>jsingpubhealth</td>\n",
       "      <td>Jason Singson</td>\n",
       "      <td>3320904614</td>\n",
       "      <td>1188545671076298752</td>\n",
       "      <td>/jsingpubhealth/status/1188545671076298752</td>\n",
       "      <td>2019-10-27 19:59:04</td>\n",
       "      <td>1572206344</td>\n",
       "      <td>From the #SaddleridgeFire to the #KincadeFire,...</td>\n",
       "      <td>&lt;p class=\"TweetTextSize js-tweet-text tweet-te...</td>\n",
       "      <td>['https://twitter.com/CAgovernor/status/118852...</td>\n",
       "      <td>...</td>\n",
       "      <td>[]</td>\n",
       "      <td>NaN</td>\n",
       "      <td>1</td>\n",
       "      <td>0</td>\n",
       "      <td>0</td>\n",
       "      <td>False</td>\n",
       "      <td>False</td>\n",
       "      <td>NaN</td>\n",
       "      <td>[]</td>\n",
       "      <td>saddleridgefire</td>\n",
       "    </tr>\n",
       "    <tr>\n",
       "      <th>2</th>\n",
       "      <td>BrandyCGrote</td>\n",
       "      <td>Brandy Grote</td>\n",
       "      <td>898902973</td>\n",
       "      <td>1188517925503635456</td>\n",
       "      <td>/BrandyCGrote/status/1188517925503635456</td>\n",
       "      <td>2019-10-27 18:08:49</td>\n",
       "      <td>1572199729</td>\n",
       "      <td>Our #SaddleridgeFire leaped a 12 lane major fr...</td>\n",
       "      <td>&lt;p class=\"TweetTextSize js-tweet-text tweet-te...</td>\n",
       "      <td>[]</td>\n",
       "      <td>...</td>\n",
       "      <td>[]</td>\n",
       "      <td>NaN</td>\n",
       "      <td>1</td>\n",
       "      <td>1</td>\n",
       "      <td>0</td>\n",
       "      <td>False</td>\n",
       "      <td>True</td>\n",
       "      <td>1.188496e+18</td>\n",
       "      <td>[{'screen_name': 'BillMendocino', 'user_id': '...</td>\n",
       "      <td>saddleridgefire</td>\n",
       "    </tr>\n",
       "    <tr>\n",
       "      <th>3</th>\n",
       "      <td>mlzema</td>\n",
       "      <td>Mark In SoCal</td>\n",
       "      <td>18340526</td>\n",
       "      <td>1188515108562931714</td>\n",
       "      <td>/mlzema/status/1188515108562931714</td>\n",
       "      <td>2019-10-27 17:57:38</td>\n",
       "      <td>1572199058</td>\n",
       "      <td>Good Morning, Sam!\\nAll is well here. However,...</td>\n",
       "      <td>&lt;p class=\"TweetTextSize js-tweet-text tweet-te...</td>\n",
       "      <td>['https://twitter.com/Sam17970863/status/11885...</td>\n",
       "      <td>...</td>\n",
       "      <td>[]</td>\n",
       "      <td>NaN</td>\n",
       "      <td>1</td>\n",
       "      <td>0</td>\n",
       "      <td>0</td>\n",
       "      <td>False</td>\n",
       "      <td>False</td>\n",
       "      <td>NaN</td>\n",
       "      <td>[]</td>\n",
       "      <td>saddleridgefire</td>\n",
       "    </tr>\n",
       "    <tr>\n",
       "      <th>4</th>\n",
       "      <td>LVTIA</td>\n",
       "      <td>LVTIA</td>\n",
       "      <td>87142711</td>\n",
       "      <td>1188502337867829248</td>\n",
       "      <td>/LVTIA/status/1188502337867829248</td>\n",
       "      <td>2019-10-27 17:06:53</td>\n",
       "      <td>1572196013</td>\n",
       "      <td>Was your property or home damaged by the #Sadd...</td>\n",
       "      <td>&lt;p class=\"TweetTextSize js-tweet-text tweet-te...</td>\n",
       "      <td>['https://www.211la.org/fire-saddleridge']</td>\n",
       "      <td>...</td>\n",
       "      <td>[]</td>\n",
       "      <td>NaN</td>\n",
       "      <td>0</td>\n",
       "      <td>0</td>\n",
       "      <td>0</td>\n",
       "      <td>False</td>\n",
       "      <td>False</td>\n",
       "      <td>NaN</td>\n",
       "      <td>[]</td>\n",
       "      <td>saddleridgefire</td>\n",
       "    </tr>\n",
       "  </tbody>\n",
       "</table>\n",
       "<p>5 rows × 22 columns</p>\n",
       "</div>"
      ],
      "text/plain": [
       "      screen_name                             username             user_id  \\\n",
       "0         EPCFIRM  EPCF #GreenNewDeal #SunriseMovement  836834627771850752   \n",
       "1  jsingpubhealth                        Jason Singson          3320904614   \n",
       "2    BrandyCGrote                         Brandy Grote           898902973   \n",
       "3          mlzema                        Mark In SoCal            18340526   \n",
       "4           LVTIA                                LVTIA            87142711   \n",
       "\n",
       "              tweet_id                                   tweet_url  \\\n",
       "0  1188564512669962240         /EPCFIRM/status/1188564512669962240   \n",
       "1  1188545671076298752  /jsingpubhealth/status/1188545671076298752   \n",
       "2  1188517925503635456    /BrandyCGrote/status/1188517925503635456   \n",
       "3  1188515108562931714          /mlzema/status/1188515108562931714   \n",
       "4  1188502337867829248           /LVTIA/status/1188502337867829248   \n",
       "\n",
       "             timestamp  timestamp_epochs  \\\n",
       "0  2019-10-27 21:13:56        1572210836   \n",
       "1  2019-10-27 19:59:04        1572206344   \n",
       "2  2019-10-27 18:08:49        1572199729   \n",
       "3  2019-10-27 17:57:38        1572199058   \n",
       "4  2019-10-27 17:06:53        1572196013   \n",
       "\n",
       "                                                text  \\\n",
       "0  Our hearts go out to Californians affected by ...   \n",
       "1  From the #SaddleridgeFire to the #KincadeFire,...   \n",
       "2  Our #SaddleridgeFire leaped a 12 lane major fr...   \n",
       "3  Good Morning, Sam!\\nAll is well here. However,...   \n",
       "4  Was your property or home damaged by the #Sadd...   \n",
       "\n",
       "                                           text_html  \\\n",
       "0  <p class=\"TweetTextSize js-tweet-text tweet-te...   \n",
       "1  <p class=\"TweetTextSize js-tweet-text tweet-te...   \n",
       "2  <p class=\"TweetTextSize js-tweet-text tweet-te...   \n",
       "3  <p class=\"TweetTextSize js-tweet-text tweet-te...   \n",
       "4  <p class=\"TweetTextSize js-tweet-text tweet-te...   \n",
       "\n",
       "                                               links  ...  \\\n",
       "0                                                 []  ...   \n",
       "1  ['https://twitter.com/CAgovernor/status/118852...  ...   \n",
       "2                                                 []  ...   \n",
       "3  ['https://twitter.com/Sam17970863/status/11885...  ...   \n",
       "4         ['https://www.211la.org/fire-saddleridge']  ...   \n",
       "\n",
       "                                            img_urls  video_url likes  \\\n",
       "0  ['https://pbs.twimg.com/media/EH6hH4FVAAA6ZA_....        NaN     8   \n",
       "1                                                 []        NaN     1   \n",
       "2                                                 []        NaN     1   \n",
       "3                                                 []        NaN     1   \n",
       "4                                                 []        NaN     0   \n",
       "\n",
       "   retweets  replies  is_replied  is_reply_to  parent_tweet_id  \\\n",
       "0         1        1        True        False              NaN   \n",
       "1         0        0       False        False              NaN   \n",
       "2         1        0       False         True     1.188496e+18   \n",
       "3         0        0       False        False              NaN   \n",
       "4         0        0       False        False              NaN   \n",
       "\n",
       "                                      reply_to_users            query  \n",
       "0                                                 []  saddleridgefire  \n",
       "1                                                 []  saddleridgefire  \n",
       "2  [{'screen_name': 'BillMendocino', 'user_id': '...  saddleridgefire  \n",
       "3                                                 []  saddleridgefire  \n",
       "4                                                 []  saddleridgefire  \n",
       "\n",
       "[5 rows x 22 columns]"
      ]
     },
     "execution_count": 3,
     "metadata": {},
     "output_type": "execute_result"
    }
   ],
   "source": [
    "df.head(5)"
   ]
  },
  {
   "cell_type": "code",
   "execution_count": 4,
   "metadata": {},
   "outputs": [
    {
     "data": {
      "text/plain": [
       "Index(['screen_name', 'username', 'user_id', 'tweet_id', 'tweet_url',\n",
       "       'timestamp', 'timestamp_epochs', 'text', 'text_html', 'links',\n",
       "       'hashtags', 'has_media', 'img_urls', 'video_url', 'likes', 'retweets',\n",
       "       'replies', 'is_replied', 'is_reply_to', 'parent_tweet_id',\n",
       "       'reply_to_users', 'query'],\n",
       "      dtype='object')"
      ]
     },
     "execution_count": 4,
     "metadata": {},
     "output_type": "execute_result"
    }
   ],
   "source": [
    "df.columns"
   ]
  },
  {
   "cell_type": "markdown",
   "metadata": {},
   "source": [
    "### Viewing the query's with the most results"
   ]
  },
  {
   "cell_type": "code",
   "execution_count": 34,
   "metadata": {},
   "outputs": [
    {
     "data": {
      "image/png": "[encoded data removed]",
      "text/plain": [
       "<Figure size 432x288 with 1 Axes>"
      ]
     },
     "metadata": {
      "needs_background": "light"
     },
     "output_type": "display_data"
    }
   ],
   "source": [
    "df['query'].value_counts().plot(kind='barh');"
   ]
  },
  {
   "cell_type": "code",
   "execution_count": 35,
   "metadata": {},
   "outputs": [
    {
     "data": {
      "text/html": [
       "<div>\n",
       "<style scoped>\n",
       "    .dataframe tbody tr th:only-of-type {\n",
       "        vertical-align: middle;\n",
       "    }\n",
       "\n",
       "    .dataframe tbody tr th {\n",
       "        vertical-align: top;\n",
       "    }\n",
       "\n",
       "    .dataframe thead th {\n",
       "        text-align: right;\n",
       "    }\n",
       "</style>\n",
       "<table border=\"1\" class=\"dataframe\">\n",
       "  <thead>\n",
       "    <tr style=\"text-align: right;\">\n",
       "      <th></th>\n",
       "      <th>user_id</th>\n",
       "      <th>tweet_id</th>\n",
       "      <th>timestamp_epochs</th>\n",
       "      <th>video_url</th>\n",
       "      <th>likes</th>\n",
       "      <th>retweets</th>\n",
       "      <th>replies</th>\n",
       "      <th>parent_tweet_id</th>\n",
       "    </tr>\n",
       "  </thead>\n",
       "  <tbody>\n",
       "    <tr>\n",
       "      <th>count</th>\n",
       "      <td>9.180000e+03</td>\n",
       "      <td>9.180000e+03</td>\n",
       "      <td>9.180000e+03</td>\n",
       "      <td>0.0</td>\n",
       "      <td>9180.000000</td>\n",
       "      <td>9180.000000</td>\n",
       "      <td>9180.000000</td>\n",
       "      <td>3.591000e+03</td>\n",
       "    </tr>\n",
       "    <tr>\n",
       "      <th>mean</th>\n",
       "      <td>2.480952e+17</td>\n",
       "      <td>1.186864e+18</td>\n",
       "      <td>1.571805e+09</td>\n",
       "      <td>NaN</td>\n",
       "      <td>6.794336</td>\n",
       "      <td>2.592484</td>\n",
       "      <td>0.499891</td>\n",
       "      <td>1.186442e+18</td>\n",
       "    </tr>\n",
       "    <tr>\n",
       "      <th>std</th>\n",
       "      <td>4.284319e+17</td>\n",
       "      <td>2.723822e+15</td>\n",
       "      <td>6.494099e+05</td>\n",
       "      <td>NaN</td>\n",
       "      <td>55.376397</td>\n",
       "      <td>17.358898</td>\n",
       "      <td>5.527309</td>\n",
       "      <td>1.150514e+16</td>\n",
       "    </tr>\n",
       "    <tr>\n",
       "      <th>min</th>\n",
       "      <td>7.670000e+02</td>\n",
       "      <td>1.182083e+18</td>\n",
       "      <td>1.570666e+09</td>\n",
       "      <td>NaN</td>\n",
       "      <td>0.000000</td>\n",
       "      <td>0.000000</td>\n",
       "      <td>0.000000</td>\n",
       "      <td>7.278913e+17</td>\n",
       "    </tr>\n",
       "    <tr>\n",
       "      <th>25%</th>\n",
       "      <td>3.700991e+07</td>\n",
       "      <td>1.184353e+18</td>\n",
       "      <td>1.571207e+09</td>\n",
       "      <td>NaN</td>\n",
       "      <td>0.000000</td>\n",
       "      <td>0.000000</td>\n",
       "      <td>0.000000</td>\n",
       "      <td>1.184519e+18</td>\n",
       "    </tr>\n",
       "    <tr>\n",
       "      <th>50%</th>\n",
       "      <td>4.977324e+08</td>\n",
       "      <td>1.187003e+18</td>\n",
       "      <td>1.571839e+09</td>\n",
       "      <td>NaN</td>\n",
       "      <td>1.000000</td>\n",
       "      <td>0.000000</td>\n",
       "      <td>0.000000</td>\n",
       "      <td>1.187470e+18</td>\n",
       "    </tr>\n",
       "    <tr>\n",
       "      <th>75%</th>\n",
       "      <td>7.371190e+17</td>\n",
       "      <td>1.189245e+18</td>\n",
       "      <td>1.572373e+09</td>\n",
       "      <td>NaN</td>\n",
       "      <td>3.000000</td>\n",
       "      <td>1.000000</td>\n",
       "      <td>0.000000</td>\n",
       "      <td>1.189576e+18</td>\n",
       "    </tr>\n",
       "    <tr>\n",
       "      <th>max</th>\n",
       "      <td>1.190704e+18</td>\n",
       "      <td>1.191868e+18</td>\n",
       "      <td>1.572998e+09</td>\n",
       "      <td>NaN</td>\n",
       "      <td>2940.000000</td>\n",
       "      <td>747.000000</td>\n",
       "      <td>356.000000</td>\n",
       "      <td>1.191864e+18</td>\n",
       "    </tr>\n",
       "  </tbody>\n",
       "</table>\n",
       "</div>"
      ],
      "text/plain": [
       "            user_id      tweet_id  timestamp_epochs  video_url        likes  \\\n",
       "count  9.180000e+03  9.180000e+03      9.180000e+03        0.0  9180.000000   \n",
       "mean   2.480952e+17  1.186864e+18      1.571805e+09        NaN     6.794336   \n",
       "std    4.284319e+17  2.723822e+15      6.494099e+05        NaN    55.376397   \n",
       "min    7.670000e+02  1.182083e+18      1.570666e+09        NaN     0.000000   \n",
       "25%    3.700991e+07  1.184353e+18      1.571207e+09        NaN     0.000000   \n",
       "50%    4.977324e+08  1.187003e+18      1.571839e+09        NaN     1.000000   \n",
       "75%    7.371190e+17  1.189245e+18      1.572373e+09        NaN     3.000000   \n",
       "max    1.190704e+18  1.191868e+18      1.572998e+09        NaN  2940.000000   \n",
       "\n",
       "          retweets      replies  parent_tweet_id  \n",
       "count  9180.000000  9180.000000     3.591000e+03  \n",
       "mean      2.592484     0.499891     1.186442e+18  \n",
       "std      17.358898     5.527309     1.150514e+16  \n",
       "min       0.000000     0.000000     7.278913e+17  \n",
       "25%       0.000000     0.000000     1.184519e+18  \n",
       "50%       0.000000     0.000000     1.187470e+18  \n",
       "75%       1.000000     0.000000     1.189576e+18  \n",
       "max     747.000000   356.000000     1.191864e+18  "
      ]
     },
     "execution_count": 35,
     "metadata": {},
     "output_type": "execute_result"
    }
   ],
   "source": [
    "df.describe()"
   ]
  },
  {
   "cell_type": "markdown",
   "metadata": {},
   "source": [
    "#### Viewing a Sample of the text column"
   ]
  },
  {
   "cell_type": "code",
   "execution_count": 36,
   "metadata": {},
   "outputs": [
    {
     "data": {
      "text/plain": [
       "0       Our hearts go out to Californians affected by ...\n",
       "1       From the #SaddleridgeFire to the #KincadeFire,...\n",
       "2       Our #SaddleridgeFire leaped a 12 lane major fr...\n",
       "3       Good Morning, Sam!\\nAll is well here. However,...\n",
       "4       Was your property or home damaged by the #Sadd...\n",
       "                              ...                        \n",
       "9175    Former state lawmaker says he's got a plan to ...\n",
       "9176               Totally makes sense to do this midday \n",
       "9177    A Sanford, Maine mom says her 9-year-old birac...\n",
       "9178       I noticed it in Anaheim Hills, it looks crazy!\n",
       "9179    The copyright owners of the \"Charlie Brown Chr...\n",
       "Name: text, Length: 9180, dtype: object"
      ]
     },
     "execution_count": 36,
     "metadata": {},
     "output_type": "execute_result"
    }
   ],
   "source": [
    "df['text']"
   ]
  },
  {
   "cell_type": "code",
   "execution_count": 45,
   "metadata": {},
   "outputs": [],
   "source": [
    "## Drop unnecessary columns \n",
    "df_text_query = df.drop(columns= ['screen_name', 'user_id', 'tweet_id', 'tweet_url', 'timestamp', 'timestamp_epochs', 'text_html', 'links', 'has_media', 'img_urls', 'video_url', 'likes', 'retweets', 'replies', 'is_replied', 'is_reply_to', 'parent_tweet_id', 'reply_to_users'])"
   ]
  },
  {
   "cell_type": "markdown",
   "metadata": {},
   "source": [
    "### Check for Null Values"
   ]
  },
  {
   "cell_type": "code",
   "execution_count": 46,
   "metadata": {},
   "outputs": [
    {
     "data": {
      "text/plain": [
       "username      0\n",
       "text        105\n",
       "hashtags      0\n",
       "query         0\n",
       "dtype: int64"
      ]
     },
     "execution_count": 46,
     "metadata": {},
     "output_type": "execute_result"
    }
   ],
   "source": [
    "df_text_query.isnull().sum()"
   ]
  },
  {
   "cell_type": "code",
   "execution_count": 47,
   "metadata": {},
   "outputs": [],
   "source": [
    "df_text_query.dropna(axis=0, how='any', inplace=True)"
   ]
  },
  {
   "cell_type": "code",
   "execution_count": 48,
   "metadata": {},
   "outputs": [
    {
     "data": {
      "text/html": [
       "<div>\n",
       "<style scoped>\n",
       "    .dataframe tbody tr th:only-of-type {\n",
       "        vertical-align: middle;\n",
       "    }\n",
       "\n",
       "    .dataframe tbody tr th {\n",
       "        vertical-align: top;\n",
       "    }\n",
       "\n",
       "    .dataframe thead th {\n",
       "        text-align: right;\n",
       "    }\n",
       "</style>\n",
       "<table border=\"1\" class=\"dataframe\">\n",
       "  <thead>\n",
       "    <tr style=\"text-align: right;\">\n",
       "      <th></th>\n",
       "      <th>username</th>\n",
       "      <th>text</th>\n",
       "      <th>hashtags</th>\n",
       "      <th>query</th>\n",
       "    </tr>\n",
       "  </thead>\n",
       "  <tbody>\n",
       "    <tr>\n",
       "      <th>0</th>\n",
       "      <td>EPCF #GreenNewDeal #SunriseMovement</td>\n",
       "      <td>Our hearts go out to Californians affected by ...</td>\n",
       "      <td>['wildfires', 'ClimateChange', 'ClimateCrisis'...</td>\n",
       "      <td>saddleridgefire</td>\n",
       "    </tr>\n",
       "    <tr>\n",
       "      <th>1</th>\n",
       "      <td>Jason Singson</td>\n",
       "      <td>From the #SaddleridgeFire to the #KincadeFire,...</td>\n",
       "      <td>['SaddleridgeFire', 'KincadeFire']</td>\n",
       "      <td>saddleridgefire</td>\n",
       "    </tr>\n",
       "    <tr>\n",
       "      <th>2</th>\n",
       "      <td>Brandy Grote</td>\n",
       "      <td>Our #SaddleridgeFire leaped a 12 lane major fr...</td>\n",
       "      <td>['SaddleridgeFire']</td>\n",
       "      <td>saddleridgefire</td>\n",
       "    </tr>\n",
       "    <tr>\n",
       "      <th>3</th>\n",
       "      <td>Mark In SoCal</td>\n",
       "      <td>Good Morning, Sam!\\nAll is well here. However,...</td>\n",
       "      <td>['SaddleridgeFire']</td>\n",
       "      <td>saddleridgefire</td>\n",
       "    </tr>\n",
       "    <tr>\n",
       "      <th>4</th>\n",
       "      <td>LVTIA</td>\n",
       "      <td>Was your property or home damaged by the #Sadd...</td>\n",
       "      <td>['SaddleRidgeFire']</td>\n",
       "      <td>saddleridgefire</td>\n",
       "    </tr>\n",
       "  </tbody>\n",
       "</table>\n",
       "</div>"
      ],
      "text/plain": [
       "                              username  \\\n",
       "0  EPCF #GreenNewDeal #SunriseMovement   \n",
       "1                        Jason Singson   \n",
       "2                         Brandy Grote   \n",
       "3                        Mark In SoCal   \n",
       "4                                LVTIA   \n",
       "\n",
       "                                                text  \\\n",
       "0  Our hearts go out to Californians affected by ...   \n",
       "1  From the #SaddleridgeFire to the #KincadeFire,...   \n",
       "2  Our #SaddleridgeFire leaped a 12 lane major fr...   \n",
       "3  Good Morning, Sam!\\nAll is well here. However,...   \n",
       "4  Was your property or home damaged by the #Sadd...   \n",
       "\n",
       "                                            hashtags            query  \n",
       "0  ['wildfires', 'ClimateChange', 'ClimateCrisis'...  saddleridgefire  \n",
       "1                 ['SaddleridgeFire', 'KincadeFire']  saddleridgefire  \n",
       "2                                ['SaddleridgeFire']  saddleridgefire  \n",
       "3                                ['SaddleridgeFire']  saddleridgefire  \n",
       "4                                ['SaddleRidgeFire']  saddleridgefire  "
      ]
     },
     "execution_count": 48,
     "metadata": {},
     "output_type": "execute_result"
    }
   ],
   "source": [
    "df_text_query.head()"
   ]
  },
  {
   "cell_type": "code",
   "execution_count": 49,
   "metadata": {},
   "outputs": [
    {
     "data": {
      "text/plain": [
       "username    0\n",
       "text        0\n",
       "hashtags    0\n",
       "query       0\n",
       "dtype: int64"
      ]
     },
     "execution_count": 49,
     "metadata": {},
     "output_type": "execute_result"
    }
   ],
   "source": [
    "df_text_query.isnull().sum()"
   ]
  },
  {
   "cell_type": "code",
   "execution_count": 50,
   "metadata": {},
   "outputs": [
    {
     "data": {
      "text/plain": [
       "(9075, 4)"
      ]
     },
     "execution_count": 50,
     "metadata": {},
     "output_type": "execute_result"
    }
   ],
   "source": [
    "df_text_query.shape"
   ]
  },
  {
   "cell_type": "markdown",
   "metadata": {},
   "source": [
    "### Cleaning Tweets using RegEx"
   ]
  },
  {
   "cell_type": "code",
   "execution_count": 51,
   "metadata": {},
   "outputs": [],
   "source": [
    "## Lower case texts\n",
    "df_text_query['text'] = df_text_query['text'].str.lower()"
   ]
  },
  {
   "cell_type": "code",
   "execution_count": 52,
   "metadata": {},
   "outputs": [],
   "source": [
    "## Removing line breaks\n",
    "df_text_query['text'] = df_text_query['text'].map(lambda x: re.sub('\\/\\/', ' ', x)) "
   ]
  },
  {
   "cell_type": "code",
   "execution_count": 53,
   "metadata": {},
   "outputs": [],
   "source": [
    "## Removing Apostrophes\n",
    "df_text_query['text'] = df_text_query['text'].map(lambda x: re.sub('[\\\\][\\']', '', x))"
   ]
  },
  {
   "cell_type": "code",
   "execution_count": 54,
   "metadata": {},
   "outputs": [],
   "source": [
    "## Removing URLs\n",
    "df_text_query['text'] = df_text_query['text'].map(lambda x: re.sub('http[s]?:\\/\\/[^\\s]*', ' ', x))"
   ]
  },
  {
   "cell_type": "code",
   "execution_count": 55,
   "metadata": {},
   "outputs": [
    {
     "data": {
      "text/html": [
       "<div>\n",
       "<style scoped>\n",
       "    .dataframe tbody tr th:only-of-type {\n",
       "        vertical-align: middle;\n",
       "    }\n",
       "\n",
       "    .dataframe tbody tr th {\n",
       "        vertical-align: top;\n",
       "    }\n",
       "\n",
       "    .dataframe thead th {\n",
       "        text-align: right;\n",
       "    }\n",
       "</style>\n",
       "<table border=\"1\" class=\"dataframe\">\n",
       "  <thead>\n",
       "    <tr style=\"text-align: right;\">\n",
       "      <th></th>\n",
       "      <th>username</th>\n",
       "      <th>text</th>\n",
       "      <th>hashtags</th>\n",
       "      <th>query</th>\n",
       "    </tr>\n",
       "  </thead>\n",
       "  <tbody>\n",
       "    <tr>\n",
       "      <th>0</th>\n",
       "      <td>EPCF #GreenNewDeal #SunriseMovement</td>\n",
       "      <td>our hearts go out to californians affected by ...</td>\n",
       "      <td>['wildfires', 'ClimateChange', 'ClimateCrisis'...</td>\n",
       "      <td>saddleridgefire</td>\n",
       "    </tr>\n",
       "    <tr>\n",
       "      <th>1</th>\n",
       "      <td>Jason Singson</td>\n",
       "      <td>from the #saddleridgefire to the #kincadefire,...</td>\n",
       "      <td>['SaddleridgeFire', 'KincadeFire']</td>\n",
       "      <td>saddleridgefire</td>\n",
       "    </tr>\n",
       "    <tr>\n",
       "      <th>2</th>\n",
       "      <td>Brandy Grote</td>\n",
       "      <td>our #saddleridgefire leaped a 12 lane major fr...</td>\n",
       "      <td>['SaddleridgeFire']</td>\n",
       "      <td>saddleridgefire</td>\n",
       "    </tr>\n",
       "    <tr>\n",
       "      <th>3</th>\n",
       "      <td>Mark In SoCal</td>\n",
       "      <td>good morning, sam!\\nall is well here. however,...</td>\n",
       "      <td>['SaddleridgeFire']</td>\n",
       "      <td>saddleridgefire</td>\n",
       "    </tr>\n",
       "    <tr>\n",
       "      <th>4</th>\n",
       "      <td>LVTIA</td>\n",
       "      <td>was your property or home damaged by the #sadd...</td>\n",
       "      <td>['SaddleRidgeFire']</td>\n",
       "      <td>saddleridgefire</td>\n",
       "    </tr>\n",
       "  </tbody>\n",
       "</table>\n",
       "</div>"
      ],
      "text/plain": [
       "                              username  \\\n",
       "0  EPCF #GreenNewDeal #SunriseMovement   \n",
       "1                        Jason Singson   \n",
       "2                         Brandy Grote   \n",
       "3                        Mark In SoCal   \n",
       "4                                LVTIA   \n",
       "\n",
       "                                                text  \\\n",
       "0  our hearts go out to californians affected by ...   \n",
       "1  from the #saddleridgefire to the #kincadefire,...   \n",
       "2  our #saddleridgefire leaped a 12 lane major fr...   \n",
       "3  good morning, sam!\\nall is well here. however,...   \n",
       "4  was your property or home damaged by the #sadd...   \n",
       "\n",
       "                                            hashtags            query  \n",
       "0  ['wildfires', 'ClimateChange', 'ClimateCrisis'...  saddleridgefire  \n",
       "1                 ['SaddleridgeFire', 'KincadeFire']  saddleridgefire  \n",
       "2                                ['SaddleridgeFire']  saddleridgefire  \n",
       "3                                ['SaddleridgeFire']  saddleridgefire  \n",
       "4                                ['SaddleRidgeFire']  saddleridgefire  "
      ]
     },
     "execution_count": 55,
     "metadata": {},
     "output_type": "execute_result"
    }
   ],
   "source": [
    "df_text_query.head(5)"
   ]
  },
  {
   "cell_type": "markdown",
   "metadata": {},
   "source": [
    "### Road Closure Classification"
   ]
  },
  {
   "cell_type": "markdown",
   "metadata": {},
   "source": [
    "#### We want to determine if a road was open or closed. We achieved this by passing our dataframe through the filters we created"
   ]
  },
  {
   "cell_type": "code",
   "execution_count": 56,
   "metadata": {},
   "outputs": [],
   "source": [
    "# establish list of words to search for in dataframe\n",
    "road_keywords = ['road', 'st','rd', 'hwy', 'highway', 'ave', 'avenue', 'street', 'boulevard'\n",
    "                 'intersection', 'bridge', 'sr-', 'cr-', 'us-', 'i-', 'blvd']\n",
    "\n",
    "# list of words associated with road closures\n",
    "closed_keywords = ['closed', 'remains closed', 'shut down', 'backed up',\n",
    "                   'no travel', 'delay', 'blocked', 'delays',\n",
    "                   'disabled', 'traffic', 'fire', 'closures', 'closure']\n",
    "\n",
    "to_drop = [\"open\", \"opened\", \"lifted\", \"reopened\", \"clear\", \"cleared\"]"
   ]
  },
  {
   "cell_type": "code",
   "execution_count": 57,
   "metadata": {},
   "outputs": [],
   "source": [
    "df_text_query['is_road_closed']= df_text_query['text'].apply(lambda x: 1 if ((any(word in x.split() for word in road_keywords))\n",
    "                                                           & (any(word in x.split() for word in closed_keywords))\n",
    "                                                           & (not any(word in x.split() for word in to_drop))\n",
    "                                                          ) else 0)"
   ]
  },
  {
   "cell_type": "code",
   "execution_count": 58,
   "metadata": {},
   "outputs": [
    {
     "data": {
      "text/html": [
       "<div>\n",
       "<style scoped>\n",
       "    .dataframe tbody tr th:only-of-type {\n",
       "        vertical-align: middle;\n",
       "    }\n",
       "\n",
       "    .dataframe tbody tr th {\n",
       "        vertical-align: top;\n",
       "    }\n",
       "\n",
       "    .dataframe thead th {\n",
       "        text-align: right;\n",
       "    }\n",
       "</style>\n",
       "<table border=\"1\" class=\"dataframe\">\n",
       "  <thead>\n",
       "    <tr style=\"text-align: right;\">\n",
       "      <th></th>\n",
       "      <th>username</th>\n",
       "      <th>text</th>\n",
       "      <th>hashtags</th>\n",
       "      <th>query</th>\n",
       "      <th>is_road_closed</th>\n",
       "    </tr>\n",
       "  </thead>\n",
       "  <tbody>\n",
       "    <tr>\n",
       "      <th>0</th>\n",
       "      <td>EPCF #GreenNewDeal #SunriseMovement</td>\n",
       "      <td>our hearts go out to californians affected by ...</td>\n",
       "      <td>['wildfires', 'ClimateChange', 'ClimateCrisis'...</td>\n",
       "      <td>saddleridgefire</td>\n",
       "      <td>0</td>\n",
       "    </tr>\n",
       "    <tr>\n",
       "      <th>1</th>\n",
       "      <td>Jason Singson</td>\n",
       "      <td>from the #saddleridgefire to the #kincadefire,...</td>\n",
       "      <td>['SaddleridgeFire', 'KincadeFire']</td>\n",
       "      <td>saddleridgefire</td>\n",
       "      <td>0</td>\n",
       "    </tr>\n",
       "    <tr>\n",
       "      <th>2</th>\n",
       "      <td>Brandy Grote</td>\n",
       "      <td>our #saddleridgefire leaped a 12 lane major fr...</td>\n",
       "      <td>['SaddleridgeFire']</td>\n",
       "      <td>saddleridgefire</td>\n",
       "      <td>0</td>\n",
       "    </tr>\n",
       "    <tr>\n",
       "      <th>3</th>\n",
       "      <td>Mark In SoCal</td>\n",
       "      <td>good morning, sam!\\nall is well here. however,...</td>\n",
       "      <td>['SaddleridgeFire']</td>\n",
       "      <td>saddleridgefire</td>\n",
       "      <td>0</td>\n",
       "    </tr>\n",
       "    <tr>\n",
       "      <th>4</th>\n",
       "      <td>LVTIA</td>\n",
       "      <td>was your property or home damaged by the #sadd...</td>\n",
       "      <td>['SaddleRidgeFire']</td>\n",
       "      <td>saddleridgefire</td>\n",
       "      <td>0</td>\n",
       "    </tr>\n",
       "  </tbody>\n",
       "</table>\n",
       "</div>"
      ],
      "text/plain": [
       "                              username  \\\n",
       "0  EPCF #GreenNewDeal #SunriseMovement   \n",
       "1                        Jason Singson   \n",
       "2                         Brandy Grote   \n",
       "3                        Mark In SoCal   \n",
       "4                                LVTIA   \n",
       "\n",
       "                                                text  \\\n",
       "0  our hearts go out to californians affected by ...   \n",
       "1  from the #saddleridgefire to the #kincadefire,...   \n",
       "2  our #saddleridgefire leaped a 12 lane major fr...   \n",
       "3  good morning, sam!\\nall is well here. however,...   \n",
       "4  was your property or home damaged by the #sadd...   \n",
       "\n",
       "                                            hashtags            query  \\\n",
       "0  ['wildfires', 'ClimateChange', 'ClimateCrisis'...  saddleridgefire   \n",
       "1                 ['SaddleridgeFire', 'KincadeFire']  saddleridgefire   \n",
       "2                                ['SaddleridgeFire']  saddleridgefire   \n",
       "3                                ['SaddleridgeFire']  saddleridgefire   \n",
       "4                                ['SaddleRidgeFire']  saddleridgefire   \n",
       "\n",
       "   is_road_closed  \n",
       "0               0  \n",
       "1               0  \n",
       "2               0  \n",
       "3               0  \n",
       "4               0  "
      ]
     },
     "execution_count": 58,
     "metadata": {},
     "output_type": "execute_result"
    }
   ],
   "source": [
    "df_text_query.head()"
   ]
  },
  {
   "cell_type": "markdown",
   "metadata": {},
   "source": [
    "#### Baseline Comparison"
   ]
  },
  {
   "cell_type": "code",
   "execution_count": 59,
   "metadata": {},
   "outputs": [
    {
     "data": {
      "text/plain": [
       "0    8762\n",
       "1     313\n",
       "Name: is_road_closed, dtype: int64"
      ]
     },
     "execution_count": 59,
     "metadata": {},
     "output_type": "execute_result"
    }
   ],
   "source": [
    "df_text_query['is_road_closed'].value_counts()"
   ]
  },
  {
   "cell_type": "code",
   "execution_count": 60,
   "metadata": {},
   "outputs": [
    {
     "data": {
      "text/plain": [
       "0    0.96551\n",
       "1    0.03449\n",
       "Name: is_road_closed, dtype: float64"
      ]
     },
     "execution_count": 60,
     "metadata": {},
     "output_type": "execute_result"
    }
   ],
   "source": [
    "df_text_query['is_road_closed'].value_counts(normalize = True)"
   ]
  },
  {
   "cell_type": "markdown",
   "metadata": {},
   "source": [
    "### Viewing the count of each column based on if the road if open or closed"
   ]
  },
  {
   "cell_type": "code",
   "execution_count": 61,
   "metadata": {},
   "outputs": [
    {
     "data": {
      "text/html": [
       "<div>\n",
       "<style scoped>\n",
       "    .dataframe tbody tr th:only-of-type {\n",
       "        vertical-align: middle;\n",
       "    }\n",
       "\n",
       "    .dataframe tbody tr th {\n",
       "        vertical-align: top;\n",
       "    }\n",
       "\n",
       "    .dataframe thead th {\n",
       "        text-align: right;\n",
       "    }\n",
       "</style>\n",
       "<table border=\"1\" class=\"dataframe\">\n",
       "  <thead>\n",
       "    <tr style=\"text-align: right;\">\n",
       "      <th></th>\n",
       "      <th>username</th>\n",
       "      <th>text</th>\n",
       "      <th>hashtags</th>\n",
       "      <th>query</th>\n",
       "    </tr>\n",
       "    <tr>\n",
       "      <th>is_road_closed</th>\n",
       "      <th></th>\n",
       "      <th></th>\n",
       "      <th></th>\n",
       "      <th></th>\n",
       "    </tr>\n",
       "  </thead>\n",
       "  <tbody>\n",
       "    <tr>\n",
       "      <th>0</th>\n",
       "      <td>8762</td>\n",
       "      <td>8762</td>\n",
       "      <td>8762</td>\n",
       "      <td>8762</td>\n",
       "    </tr>\n",
       "    <tr>\n",
       "      <th>1</th>\n",
       "      <td>313</td>\n",
       "      <td>313</td>\n",
       "      <td>313</td>\n",
       "      <td>313</td>\n",
       "    </tr>\n",
       "  </tbody>\n",
       "</table>\n",
       "</div>"
      ],
      "text/plain": [
       "                username  text  hashtags  query\n",
       "is_road_closed                                 \n",
       "0                   8762  8762      8762   8762\n",
       "1                    313   313       313    313"
      ]
     },
     "execution_count": 61,
     "metadata": {},
     "output_type": "execute_result"
    }
   ],
   "source": [
    "df_text_query.groupby('is_road_closed').count()"
   ]
  },
  {
   "cell_type": "code",
   "execution_count": 62,
   "metadata": {},
   "outputs": [],
   "source": [
    "## assign road closed or open dataframes\n",
    "closed_road = df_text_query[df_text_query['is_road_closed'] == 1]\n",
    "open_road = df_text_query[df_text_query['is_road_closed'] == 0]"
   ]
  },
  {
   "cell_type": "code",
   "execution_count": 63,
   "metadata": {},
   "outputs": [
    {
     "data": {
      "text/plain": [
       "(313, 5)"
      ]
     },
     "execution_count": 63,
     "metadata": {},
     "output_type": "execute_result"
    }
   ],
   "source": [
    "closed_road.shape"
   ]
  },
  {
   "cell_type": "code",
   "execution_count": 64,
   "metadata": {},
   "outputs": [
    {
     "data": {
      "text/html": [
       "<div>\n",
       "<style scoped>\n",
       "    .dataframe tbody tr th:only-of-type {\n",
       "        vertical-align: middle;\n",
       "    }\n",
       "\n",
       "    .dataframe tbody tr th {\n",
       "        vertical-align: top;\n",
       "    }\n",
       "\n",
       "    .dataframe thead th {\n",
       "        text-align: right;\n",
       "    }\n",
       "</style>\n",
       "<table border=\"1\" class=\"dataframe\">\n",
       "  <thead>\n",
       "    <tr style=\"text-align: right;\">\n",
       "      <th></th>\n",
       "      <th>username</th>\n",
       "      <th>text</th>\n",
       "      <th>hashtags</th>\n",
       "      <th>query</th>\n",
       "      <th>is_road_closed</th>\n",
       "    </tr>\n",
       "  </thead>\n",
       "  <tbody>\n",
       "    <tr>\n",
       "      <th>272</th>\n",
       "      <td>News Source LA</td>\n",
       "      <td>@dwp blocked san fernando rd during the #saddl...</td>\n",
       "      <td>['SaddleRidgeFire']</td>\n",
       "      <td>saddleridgefire</td>\n",
       "      <td>1</td>\n",
       "    </tr>\n",
       "    <tr>\n",
       "      <th>281</th>\n",
       "      <td>News Source LA</td>\n",
       "      <td>we had the same thing from @dwp security on sa...</td>\n",
       "      <td>['SaddleRidgeFire']</td>\n",
       "      <td>saddleridgefire</td>\n",
       "      <td>1</td>\n",
       "    </tr>\n",
       "    <tr>\n",
       "      <th>502</th>\n",
       "      <td>Donald Lindsay</td>\n",
       "      <td>oh noes. #realfire in santa barbara co may hav...</td>\n",
       "      <td>['RealFire', 'CalFire', 'SaddleRidgeFire']</td>\n",
       "      <td>saddleridgefire</td>\n",
       "      <td>1</td>\n",
       "    </tr>\n",
       "    <tr>\n",
       "      <th>620</th>\n",
       "      <td>Allison McHaney</td>\n",
       "      <td>today across the street from olive vista middl...</td>\n",
       "      <td>['RedCross', 'Sylmar', 'SaddleridgeFire', 'Syl...</td>\n",
       "      <td>saddleridgefire</td>\n",
       "      <td>1</td>\n",
       "    </tr>\n",
       "    <tr>\n",
       "      <th>637</th>\n",
       "      <td>Allison McHaney</td>\n",
       "      <td>today across the street from olive vista middl...</td>\n",
       "      <td>['RedCross', 'Sylmar', 'SaddleridgeFire', 'Syl...</td>\n",
       "      <td>saddleridgefire</td>\n",
       "      <td>1</td>\n",
       "    </tr>\n",
       "  </tbody>\n",
       "</table>\n",
       "</div>"
      ],
      "text/plain": [
       "            username                                               text  \\\n",
       "272   News Source LA  @dwp blocked san fernando rd during the #saddl...   \n",
       "281   News Source LA  we had the same thing from @dwp security on sa...   \n",
       "502   Donald Lindsay  oh noes. #realfire in santa barbara co may hav...   \n",
       "620  Allison McHaney  today across the street from olive vista middl...   \n",
       "637  Allison McHaney  today across the street from olive vista middl...   \n",
       "\n",
       "                                              hashtags            query  \\\n",
       "272                                ['SaddleRidgeFire']  saddleridgefire   \n",
       "281                                ['SaddleRidgeFire']  saddleridgefire   \n",
       "502         ['RealFire', 'CalFire', 'SaddleRidgeFire']  saddleridgefire   \n",
       "620  ['RedCross', 'Sylmar', 'SaddleridgeFire', 'Syl...  saddleridgefire   \n",
       "637  ['RedCross', 'Sylmar', 'SaddleridgeFire', 'Syl...  saddleridgefire   \n",
       "\n",
       "     is_road_closed  \n",
       "272               1  \n",
       "281               1  \n",
       "502               1  \n",
       "620               1  \n",
       "637               1  "
      ]
     },
     "execution_count": 64,
     "metadata": {},
     "output_type": "execute_result"
    }
   ],
   "source": [
    "closed_road.head()"
   ]
  },
  {
   "cell_type": "code",
   "execution_count": 65,
   "metadata": {},
   "outputs": [
    {
     "data": {
      "text/plain": [
       "(8762, 5)"
      ]
     },
     "execution_count": 65,
     "metadata": {},
     "output_type": "execute_result"
    }
   ],
   "source": [
    "open_road.shape"
   ]
  },
  {
   "cell_type": "markdown",
   "metadata": {},
   "source": [
    "#### Viewing the hashtags for closed_roads"
   ]
  },
  {
   "cell_type": "code",
   "execution_count": 77,
   "metadata": {},
   "outputs": [
    {
     "data": {
      "text/plain": [
       "272                                   ['SaddleRidgeFire']\n",
       "281                                   ['SaddleRidgeFire']\n",
       "502            ['RealFire', 'CalFire', 'SaddleRidgeFire']\n",
       "620     ['RedCross', 'Sylmar', 'SaddleridgeFire', 'Syl...\n",
       "637     ['RedCross', 'Sylmar', 'SaddleridgeFire', 'Syl...\n",
       "                              ...                        \n",
       "9132           ['118Fwy', 'LATraffic', 'KNXTraffichttps']\n",
       "9138                         ['SigAlert', 'Fire', 'wind']\n",
       "9145    ['118Fwy', 'SimiValley', 'LATraffic', 'KNXTraf...\n",
       "9152           ['118Fwy', 'LATraffic', 'KNXTraffichttps']\n",
       "9158                         ['SigAlert', 'Fire', 'wind']\n",
       "Name: hashtags, Length: 313, dtype: object"
      ]
     },
     "execution_count": 77,
     "metadata": {},
     "output_type": "execute_result"
    }
   ],
   "source": [
    "closed_road['hashtags']"
   ]
  },
  {
   "cell_type": "markdown",
   "metadata": {},
   "source": [
    "#### Viewing the hashtags for open roads"
   ]
  },
  {
   "cell_type": "code",
   "execution_count": 78,
   "metadata": {},
   "outputs": [
    {
     "data": {
      "text/plain": [
       "0       ['wildfires', 'ClimateChange', 'ClimateCrisis'...\n",
       "1                      ['SaddleridgeFire', 'KincadeFire']\n",
       "2                                     ['SaddleridgeFire']\n",
       "3                                     ['SaddleridgeFire']\n",
       "4                                     ['SaddleRidgeFire']\n",
       "                              ...                        \n",
       "9175                                                   []\n",
       "9176                                                   []\n",
       "9177                                                   []\n",
       "9178                                                   []\n",
       "9179                                                   []\n",
       "Name: hashtags, Length: 8762, dtype: object"
      ]
     },
     "execution_count": 78,
     "metadata": {},
     "output_type": "execute_result"
    }
   ],
   "source": [
    "open_road['hashtags']"
   ]
  },
  {
   "cell_type": "markdown",
   "metadata": {},
   "source": [
    "#### Which handles tweeted the mode about road closures"
   ]
  },
  {
   "cell_type": "code",
   "execution_count": 66,
   "metadata": {},
   "outputs": [
    {
     "data": {
      "text/plain": [
       "Go511                  139\n",
       "Caltrans District 7     56\n",
       "Brian Douglas           19\n",
       "scott burt              12\n",
       "Desmond Shaw            11\n",
       "KNX 1070 NEWSRADIO       6\n",
       "Belen De Leon            3\n",
       "Name: username, dtype: int64"
      ]
     },
     "execution_count": 66,
     "metadata": {},
     "output_type": "execute_result"
    }
   ],
   "source": [
    "# find which handles tweeted the most about road closures\n",
    "closed_road['username'].value_counts().iloc()[0:7]"
   ]
  },
  {
   "cell_type": "code",
   "execution_count": 67,
   "metadata": {},
   "outputs": [
    {
     "data": {
      "image/png": "[encoded data removed]",
      "text/plain": [
       "<Figure size 864x576 with 1 Axes>"
      ]
     },
     "metadata": {
      "needs_background": "light"
     },
     "output_type": "display_data"
    }
   ],
   "source": [
    "plt.figure(figsize=(12, 8))\n",
    "closed_road['username'].value_counts(ascending=True).tail(7).plot(kind='barh', color='g')\n",
    "plt.title(\"Closed Roads: Top Accounts Providing Twitter Fire Data\", fontsize = 24)\n",
    "plt.xlabel(\"Number of Tweets\", fontsize=16)\n",
    "plt.ylabel(\"Accounts\", fontsize=16)\n",
    "plt.savefig('./Assets/top_accounts.png');"
   ]
  },
  {
   "cell_type": "code",
   "execution_count": 68,
   "metadata": {},
   "outputs": [
    {
     "data": {
      "text/plain": [
       "(313, 5)"
      ]
     },
     "execution_count": 68,
     "metadata": {},
     "output_type": "execute_result"
    }
   ],
   "source": [
    "closed_road.shape"
   ]
  },
  {
   "cell_type": "code",
   "execution_count": 69,
   "metadata": {},
   "outputs": [
    {
     "data": {
      "image/png": "[encoded data removed]",
      "text/plain": [
       "<Figure size 864x576 with 1 Axes>"
      ]
     },
     "metadata": {
      "needs_background": "light"
     },
     "output_type": "display_data"
    }
   ],
   "source": [
    "plt.figure(figsize=(12, 8))\n",
    "open_road['username'].value_counts(ascending=True).tail(7).plot(kind='barh', color='b')\n",
    "plt.title(\"Open Roads: Top Accounts Providing Twitter Fire Data\", fontsize = 24)\n",
    "plt.xlabel(\"Number of Tweets\", fontsize=16)\n",
    "plt.ylabel(\"Accounts\", fontsize=16)\n",
    "plt.savefig('./Assets/top_accounts.png');"
   ]
  },
  {
   "cell_type": "markdown",
   "metadata": {},
   "source": [
    "### Declaring a Tokenizer Function:"
   ]
  },
  {
   "cell_type": "code",
   "execution_count": 70,
   "metadata": {},
   "outputs": [],
   "source": [
    "tokenizer = RegexpTokenizer(r'\\s+', gaps=True)\n",
    "\n",
    "def tokenizing_function(df_col):\n",
    "\n",
    "    string = ''\n",
    "    \n",
    "    try:\n",
    "    \n",
    "        for post in df_col:\n",
    "            string += ' ' + post\n",
    "            \n",
    "    except:\n",
    "        pass\n",
    "    \n",
    "    all_tokens = tokenizer.tokenize(string)\n",
    "    \n",
    "    return all_tokens"
   ]
  },
  {
   "cell_type": "markdown",
   "metadata": {},
   "source": [
    "### Calling Tokenizer Function on `text` Column and Saving as Variable"
   ]
  },
  {
   "cell_type": "code",
   "execution_count": 71,
   "metadata": {},
   "outputs": [],
   "source": [
    "text_tokens = tokenizing_function(df['text'])"
   ]
  },
  {
   "cell_type": "markdown",
   "metadata": {},
   "source": [
    "### Declaring Count Vectorizer Function:"
   ]
  },
  {
   "cell_type": "code",
   "execution_count": 72,
   "metadata": {},
   "outputs": [],
   "source": [
    "cvec = CountVectorizer(stop_words= 'english', min_df=5)\n",
    "\n",
    "def cvec_function(df_col):\n",
    "    cvec_matrix = cvec.fit_transform(df_col)\n",
    "\n",
    "    #Convert to DataFrame\n",
    "    cvec_df = pd.DataFrame(cvec_matrix.toarray(),\n",
    "                          columns=cvec.get_feature_names())\n",
    "    return cvec_df"
   ]
  },
  {
   "cell_type": "markdown",
   "metadata": {},
   "source": [
    "### Calling the cvec_function with `text` column and saving the matrix as `text_cvec_df` variable"
   ]
  },
  {
   "cell_type": "code",
   "execution_count": 73,
   "metadata": {},
   "outputs": [
    {
     "data": {
      "text/html": [
       "<div>\n",
       "<style scoped>\n",
       "    .dataframe tbody tr th:only-of-type {\n",
       "        vertical-align: middle;\n",
       "    }\n",
       "\n",
       "    .dataframe tbody tr th {\n",
       "        vertical-align: top;\n",
       "    }\n",
       "\n",
       "    .dataframe thead th {\n",
       "        text-align: right;\n",
       "    }\n",
       "</style>\n",
       "<table border=\"1\" class=\"dataframe\">\n",
       "  <thead>\n",
       "    <tr style=\"text-align: right;\">\n",
       "      <th></th>\n",
       "      <th>101fwy</th>\n",
       "      <th>105fwy</th>\n",
       "      <th>10fwy</th>\n",
       "      <th>110fwy</th>\n",
       "      <th>118fwy</th>\n",
       "      <th>134fwy</th>\n",
       "      <th>14freeway</th>\n",
       "      <th>14fwy</th>\n",
       "      <th>1582</th>\n",
       "      <th>15fwy</th>\n",
       "      <th>...</th>\n",
       "      <th>westhollywood</th>\n",
       "      <th>westla</th>\n",
       "      <th>wevapewevote</th>\n",
       "      <th>wildfire</th>\n",
       "      <th>wildfirepic</th>\n",
       "      <th>wildfires</th>\n",
       "      <th>wolffire</th>\n",
       "      <th>woodlandhills</th>\n",
       "      <th>woolseyfire</th>\n",
       "      <th>yeswx</th>\n",
       "    </tr>\n",
       "  </thead>\n",
       "  <tbody>\n",
       "    <tr>\n",
       "      <th>0</th>\n",
       "      <td>0</td>\n",
       "      <td>0</td>\n",
       "      <td>0</td>\n",
       "      <td>0</td>\n",
       "      <td>0</td>\n",
       "      <td>0</td>\n",
       "      <td>0</td>\n",
       "      <td>0</td>\n",
       "      <td>0</td>\n",
       "      <td>0</td>\n",
       "      <td>...</td>\n",
       "      <td>0</td>\n",
       "      <td>0</td>\n",
       "      <td>0</td>\n",
       "      <td>0</td>\n",
       "      <td>0</td>\n",
       "      <td>1</td>\n",
       "      <td>0</td>\n",
       "      <td>0</td>\n",
       "      <td>0</td>\n",
       "      <td>0</td>\n",
       "    </tr>\n",
       "    <tr>\n",
       "      <th>1</th>\n",
       "      <td>0</td>\n",
       "      <td>0</td>\n",
       "      <td>0</td>\n",
       "      <td>0</td>\n",
       "      <td>0</td>\n",
       "      <td>0</td>\n",
       "      <td>0</td>\n",
       "      <td>0</td>\n",
       "      <td>0</td>\n",
       "      <td>0</td>\n",
       "      <td>...</td>\n",
       "      <td>0</td>\n",
       "      <td>0</td>\n",
       "      <td>0</td>\n",
       "      <td>0</td>\n",
       "      <td>0</td>\n",
       "      <td>0</td>\n",
       "      <td>0</td>\n",
       "      <td>0</td>\n",
       "      <td>0</td>\n",
       "      <td>0</td>\n",
       "    </tr>\n",
       "    <tr>\n",
       "      <th>2</th>\n",
       "      <td>0</td>\n",
       "      <td>0</td>\n",
       "      <td>0</td>\n",
       "      <td>0</td>\n",
       "      <td>0</td>\n",
       "      <td>0</td>\n",
       "      <td>0</td>\n",
       "      <td>0</td>\n",
       "      <td>0</td>\n",
       "      <td>0</td>\n",
       "      <td>...</td>\n",
       "      <td>0</td>\n",
       "      <td>0</td>\n",
       "      <td>0</td>\n",
       "      <td>0</td>\n",
       "      <td>0</td>\n",
       "      <td>0</td>\n",
       "      <td>0</td>\n",
       "      <td>0</td>\n",
       "      <td>0</td>\n",
       "      <td>0</td>\n",
       "    </tr>\n",
       "    <tr>\n",
       "      <th>3</th>\n",
       "      <td>0</td>\n",
       "      <td>0</td>\n",
       "      <td>0</td>\n",
       "      <td>0</td>\n",
       "      <td>0</td>\n",
       "      <td>0</td>\n",
       "      <td>0</td>\n",
       "      <td>0</td>\n",
       "      <td>0</td>\n",
       "      <td>0</td>\n",
       "      <td>...</td>\n",
       "      <td>0</td>\n",
       "      <td>0</td>\n",
       "      <td>0</td>\n",
       "      <td>0</td>\n",
       "      <td>0</td>\n",
       "      <td>0</td>\n",
       "      <td>0</td>\n",
       "      <td>0</td>\n",
       "      <td>0</td>\n",
       "      <td>0</td>\n",
       "    </tr>\n",
       "    <tr>\n",
       "      <th>4</th>\n",
       "      <td>0</td>\n",
       "      <td>0</td>\n",
       "      <td>0</td>\n",
       "      <td>0</td>\n",
       "      <td>0</td>\n",
       "      <td>0</td>\n",
       "      <td>0</td>\n",
       "      <td>0</td>\n",
       "      <td>0</td>\n",
       "      <td>0</td>\n",
       "      <td>...</td>\n",
       "      <td>0</td>\n",
       "      <td>0</td>\n",
       "      <td>0</td>\n",
       "      <td>0</td>\n",
       "      <td>0</td>\n",
       "      <td>0</td>\n",
       "      <td>0</td>\n",
       "      <td>0</td>\n",
       "      <td>0</td>\n",
       "      <td>0</td>\n",
       "    </tr>\n",
       "    <tr>\n",
       "      <th>...</th>\n",
       "      <td>...</td>\n",
       "      <td>...</td>\n",
       "      <td>...</td>\n",
       "      <td>...</td>\n",
       "      <td>...</td>\n",
       "      <td>...</td>\n",
       "      <td>...</td>\n",
       "      <td>...</td>\n",
       "      <td>...</td>\n",
       "      <td>...</td>\n",
       "      <td>...</td>\n",
       "      <td>...</td>\n",
       "      <td>...</td>\n",
       "      <td>...</td>\n",
       "      <td>...</td>\n",
       "      <td>...</td>\n",
       "      <td>...</td>\n",
       "      <td>...</td>\n",
       "      <td>...</td>\n",
       "      <td>...</td>\n",
       "      <td>...</td>\n",
       "    </tr>\n",
       "    <tr>\n",
       "      <th>9175</th>\n",
       "      <td>0</td>\n",
       "      <td>0</td>\n",
       "      <td>0</td>\n",
       "      <td>0</td>\n",
       "      <td>0</td>\n",
       "      <td>0</td>\n",
       "      <td>0</td>\n",
       "      <td>0</td>\n",
       "      <td>0</td>\n",
       "      <td>0</td>\n",
       "      <td>...</td>\n",
       "      <td>0</td>\n",
       "      <td>0</td>\n",
       "      <td>0</td>\n",
       "      <td>0</td>\n",
       "      <td>0</td>\n",
       "      <td>0</td>\n",
       "      <td>0</td>\n",
       "      <td>0</td>\n",
       "      <td>0</td>\n",
       "      <td>0</td>\n",
       "    </tr>\n",
       "    <tr>\n",
       "      <th>9176</th>\n",
       "      <td>0</td>\n",
       "      <td>0</td>\n",
       "      <td>0</td>\n",
       "      <td>0</td>\n",
       "      <td>0</td>\n",
       "      <td>0</td>\n",
       "      <td>0</td>\n",
       "      <td>0</td>\n",
       "      <td>0</td>\n",
       "      <td>0</td>\n",
       "      <td>...</td>\n",
       "      <td>0</td>\n",
       "      <td>0</td>\n",
       "      <td>0</td>\n",
       "      <td>0</td>\n",
       "      <td>0</td>\n",
       "      <td>0</td>\n",
       "      <td>0</td>\n",
       "      <td>0</td>\n",
       "      <td>0</td>\n",
       "      <td>0</td>\n",
       "    </tr>\n",
       "    <tr>\n",
       "      <th>9177</th>\n",
       "      <td>0</td>\n",
       "      <td>0</td>\n",
       "      <td>0</td>\n",
       "      <td>0</td>\n",
       "      <td>0</td>\n",
       "      <td>0</td>\n",
       "      <td>0</td>\n",
       "      <td>0</td>\n",
       "      <td>0</td>\n",
       "      <td>0</td>\n",
       "      <td>...</td>\n",
       "      <td>0</td>\n",
       "      <td>0</td>\n",
       "      <td>0</td>\n",
       "      <td>0</td>\n",
       "      <td>0</td>\n",
       "      <td>0</td>\n",
       "      <td>0</td>\n",
       "      <td>0</td>\n",
       "      <td>0</td>\n",
       "      <td>0</td>\n",
       "    </tr>\n",
       "    <tr>\n",
       "      <th>9178</th>\n",
       "      <td>0</td>\n",
       "      <td>0</td>\n",
       "      <td>0</td>\n",
       "      <td>0</td>\n",
       "      <td>0</td>\n",
       "      <td>0</td>\n",
       "      <td>0</td>\n",
       "      <td>0</td>\n",
       "      <td>0</td>\n",
       "      <td>0</td>\n",
       "      <td>...</td>\n",
       "      <td>0</td>\n",
       "      <td>0</td>\n",
       "      <td>0</td>\n",
       "      <td>0</td>\n",
       "      <td>0</td>\n",
       "      <td>0</td>\n",
       "      <td>0</td>\n",
       "      <td>0</td>\n",
       "      <td>0</td>\n",
       "      <td>0</td>\n",
       "    </tr>\n",
       "    <tr>\n",
       "      <th>9179</th>\n",
       "      <td>0</td>\n",
       "      <td>0</td>\n",
       "      <td>0</td>\n",
       "      <td>0</td>\n",
       "      <td>0</td>\n",
       "      <td>0</td>\n",
       "      <td>0</td>\n",
       "      <td>0</td>\n",
       "      <td>0</td>\n",
       "      <td>0</td>\n",
       "      <td>...</td>\n",
       "      <td>0</td>\n",
       "      <td>0</td>\n",
       "      <td>0</td>\n",
       "      <td>0</td>\n",
       "      <td>0</td>\n",
       "      <td>0</td>\n",
       "      <td>0</td>\n",
       "      <td>0</td>\n",
       "      <td>0</td>\n",
       "      <td>0</td>\n",
       "    </tr>\n",
       "  </tbody>\n",
       "</table>\n",
       "<p>9180 rows × 332 columns</p>\n",
       "</div>"
      ],
      "text/plain": [
       "      101fwy  105fwy  10fwy  110fwy  118fwy  134fwy  14freeway  14fwy  1582  \\\n",
       "0          0       0      0       0       0       0          0      0     0   \n",
       "1          0       0      0       0       0       0          0      0     0   \n",
       "2          0       0      0       0       0       0          0      0     0   \n",
       "3          0       0      0       0       0       0          0      0     0   \n",
       "4          0       0      0       0       0       0          0      0     0   \n",
       "...      ...     ...    ...     ...     ...     ...        ...    ...   ...   \n",
       "9175       0       0      0       0       0       0          0      0     0   \n",
       "9176       0       0      0       0       0       0          0      0     0   \n",
       "9177       0       0      0       0       0       0          0      0     0   \n",
       "9178       0       0      0       0       0       0          0      0     0   \n",
       "9179       0       0      0       0       0       0          0      0     0   \n",
       "\n",
       "      15fwy  ...  westhollywood  westla  wevapewevote  wildfire  wildfirepic  \\\n",
       "0         0  ...              0       0             0         0            0   \n",
       "1         0  ...              0       0             0         0            0   \n",
       "2         0  ...              0       0             0         0            0   \n",
       "3         0  ...              0       0             0         0            0   \n",
       "4         0  ...              0       0             0         0            0   \n",
       "...     ...  ...            ...     ...           ...       ...          ...   \n",
       "9175      0  ...              0       0             0         0            0   \n",
       "9176      0  ...              0       0             0         0            0   \n",
       "9177      0  ...              0       0             0         0            0   \n",
       "9178      0  ...              0       0             0         0            0   \n",
       "9179      0  ...              0       0             0         0            0   \n",
       "\n",
       "      wildfires  wolffire  woodlandhills  woolseyfire  yeswx  \n",
       "0             1         0              0            0      0  \n",
       "1             0         0              0            0      0  \n",
       "2             0         0              0            0      0  \n",
       "3             0         0              0            0      0  \n",
       "4             0         0              0            0      0  \n",
       "...         ...       ...            ...          ...    ...  \n",
       "9175          0         0              0            0      0  \n",
       "9176          0         0              0            0      0  \n",
       "9177          0         0              0            0      0  \n",
       "9178          0         0              0            0      0  \n",
       "9179          0         0              0            0      0  \n",
       "\n",
       "[9180 rows x 332 columns]"
      ]
     },
     "execution_count": 73,
     "metadata": {},
     "output_type": "execute_result"
    }
   ],
   "source": [
    "hash_cvec_df = cvec_function(df['hashtags'])\n",
    "hash_cvec_df"
   ]
  },
  {
   "cell_type": "markdown",
   "metadata": {},
   "source": [
    "### Viewing Top 50 Words in `text` column:"
   ]
  },
  {
   "cell_type": "code",
   "execution_count": 74,
   "metadata": {},
   "outputs": [
    {
     "data": {
      "text/plain": [
       "saddleridgefire        1390\n",
       "tickfire                777\n",
       "knxtraffic              377\n",
       "latraffic               285\n",
       "gettyfire               218\n",
       "kincadefire             189\n",
       "californiafires         112\n",
       "easyfire                111\n",
       "losangeles              101\n",
       "rt                       96\n",
       "sigalert                 94\n",
       "knxtrafficpic            90\n",
       "california               90\n",
       "wildfires                81\n",
       "5fwy                     76\n",
       "santaclarita             72\n",
       "sylmar                   71\n",
       "lacofd                   67\n",
       "palisadesfire            64\n",
       "porterranch              63\n",
       "ca25                     59\n",
       "wildfire                 58\n",
       "405fwy                   58\n",
       "101fwy                   56\n",
       "lafd                     53\n",
       "firefighters             52\n",
       "californiawildfires      50\n",
       "pulsepointconnected      49\n",
       "60fwy                    42\n",
       "605fwy                   42\n",
       "saddleridge              42\n",
       "110fwy                   41\n",
       "sandalwoodfire           39\n",
       "kincaidfire              39\n",
       "oakfire                  38\n",
       "oldwaterfire             36\n",
       "breaking                 36\n",
       "91fwy                    36\n",
       "brushfire                35\n",
       "cawx                     34\n",
       "calfire                  34\n",
       "la                       33\n",
       "granadahills             33\n",
       "caltrans                 32\n",
       "socal                    32\n",
       "sawdayfire               27\n",
       "simivalley               27\n",
       "caplesfire               26\n",
       "castaic                  26\n",
       "beworkzonealert          26\n",
       "dtype: int64"
      ]
     },
     "execution_count": 74,
     "metadata": {},
     "output_type": "execute_result"
    }
   ],
   "source": [
    "hash_cvec_df.sum().sort_values(ascending=False).head(50)"
   ]
  },
  {
   "cell_type": "markdown",
   "metadata": {},
   "source": [
    "### Exporting as CSV for Modeling"
   ]
  },
  {
   "cell_type": "code",
   "execution_count": 79,
   "metadata": {},
   "outputs": [],
   "source": [
    "df_text_query.to_csv('./Datasets/modeling_csv')"
   ]
  }
 ],
 "metadata": {
  "kernelspec": {
   "display_name": "Python 3",
   "language": "python",
   "name": "python3"
  },
  "language_info": {
   "codemirror_mode": {
    "name": "ipython",
    "version": 3
   },
   "file_extension": ".py",
   "mimetype": "text/x-python",
   "name": "python",
   "nbconvert_exporter": "python",
   "pygments_lexer": "ipython3",
   "version": "3.7.4"
  }
 },
 "nbformat": 4,
 "nbformat_minor": 4
}
