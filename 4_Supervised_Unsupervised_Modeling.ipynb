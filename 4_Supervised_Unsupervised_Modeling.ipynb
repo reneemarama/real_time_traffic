{
 "cells": [
  {
   "cell_type": "markdown",
   "metadata": {},
   "source": [
    "# Supervised and Unsupervised Modeling"
   ]
  },
  {
   "cell_type": "code",
   "execution_count": 426,
   "metadata": {},
   "outputs": [],
   "source": [
    "import pandas as pd\n",
    "import nltk\n",
    "import numpy as np\n",
    "import regex as re\n",
    "import matplotlib.pyplot as plt\n",
    "import seaborn as sns\n",
    "%matplotlib inline\n",
    "\n",
    "from nltk.stem import WordNetLemmatizer\n",
    "from nltk.tokenize import RegexpTokenizer\n",
    "from nltk.stem.porter import PorterStemmer\n",
    "from sklearn.model_selection import train_test_split, GridSearchCV\n",
    "from sklearn.metrics import confusion_matrix, accuracy_score\n",
    "\n",
    "from sklearn.pipeline import Pipeline\n",
    "from sklearn.linear_model import LogisticRegression\n",
    "from sklearn.tree import DecisionTreeClassifier\n",
    "\n",
    "from sklearn.feature_extraction.text import CountVectorizer, TfidfVectorizer"
   ]
  },
  {
   "cell_type": "code",
   "execution_count": 427,
   "metadata": {},
   "outputs": [],
   "source": [
    "df = pd.read_csv('./Datasets/big_df.csv')"
   ]
  },
  {
   "cell_type": "markdown",
   "metadata": {},
   "source": [
    "### Road Closure Classification"
   ]
  },
  {
   "cell_type": "code",
   "execution_count": 428,
   "metadata": {},
   "outputs": [
    {
     "data": {
      "text/html": [
       "<div>\n",
       "<style scoped>\n",
       "    .dataframe tbody tr th:only-of-type {\n",
       "        vertical-align: middle;\n",
       "    }\n",
       "\n",
       "    .dataframe tbody tr th {\n",
       "        vertical-align: top;\n",
       "    }\n",
       "\n",
       "    .dataframe thead th {\n",
       "        text-align: right;\n",
       "    }\n",
       "</style>\n",
       "<table border=\"1\" class=\"dataframe\">\n",
       "  <thead>\n",
       "    <tr style=\"text-align: right;\">\n",
       "      <th></th>\n",
       "      <th>screen_name</th>\n",
       "      <th>username</th>\n",
       "      <th>user_id</th>\n",
       "      <th>tweet_id</th>\n",
       "      <th>tweet_url</th>\n",
       "      <th>timestamp</th>\n",
       "      <th>timestamp_epochs</th>\n",
       "      <th>text</th>\n",
       "      <th>text_html</th>\n",
       "      <th>links</th>\n",
       "      <th>...</th>\n",
       "      <th>img_urls</th>\n",
       "      <th>video_url</th>\n",
       "      <th>likes</th>\n",
       "      <th>retweets</th>\n",
       "      <th>replies</th>\n",
       "      <th>is_replied</th>\n",
       "      <th>is_reply_to</th>\n",
       "      <th>parent_tweet_id</th>\n",
       "      <th>reply_to_users</th>\n",
       "      <th>query</th>\n",
       "    </tr>\n",
       "  </thead>\n",
       "  <tbody>\n",
       "    <tr>\n",
       "      <th>0</th>\n",
       "      <td>EPCFIRM</td>\n",
       "      <td>EPCF #GreenNewDeal #SunriseMovement</td>\n",
       "      <td>836834627771850752</td>\n",
       "      <td>1188564512669962240</td>\n",
       "      <td>/EPCFIRM/status/1188564512669962240</td>\n",
       "      <td>2019-10-27 21:13:56</td>\n",
       "      <td>1572210836</td>\n",
       "      <td>Our hearts go out to Californians affected by ...</td>\n",
       "      <td>&lt;p class=\"TweetTextSize js-tweet-text tweet-te...</td>\n",
       "      <td>[]</td>\n",
       "      <td>...</td>\n",
       "      <td>['https://pbs.twimg.com/media/EH6hH4FVAAA6ZA_....</td>\n",
       "      <td>NaN</td>\n",
       "      <td>8</td>\n",
       "      <td>1</td>\n",
       "      <td>1</td>\n",
       "      <td>True</td>\n",
       "      <td>False</td>\n",
       "      <td>NaN</td>\n",
       "      <td>[]</td>\n",
       "      <td>saddleridgefire</td>\n",
       "    </tr>\n",
       "    <tr>\n",
       "      <th>1</th>\n",
       "      <td>jsingpubhealth</td>\n",
       "      <td>Jason Singson</td>\n",
       "      <td>3320904614</td>\n",
       "      <td>1188545671076298752</td>\n",
       "      <td>/jsingpubhealth/status/1188545671076298752</td>\n",
       "      <td>2019-10-27 19:59:04</td>\n",
       "      <td>1572206344</td>\n",
       "      <td>From the #SaddleridgeFire to the #KincadeFire,...</td>\n",
       "      <td>&lt;p class=\"TweetTextSize js-tweet-text tweet-te...</td>\n",
       "      <td>['https://twitter.com/CAgovernor/status/118852...</td>\n",
       "      <td>...</td>\n",
       "      <td>[]</td>\n",
       "      <td>NaN</td>\n",
       "      <td>1</td>\n",
       "      <td>0</td>\n",
       "      <td>0</td>\n",
       "      <td>False</td>\n",
       "      <td>False</td>\n",
       "      <td>NaN</td>\n",
       "      <td>[]</td>\n",
       "      <td>saddleridgefire</td>\n",
       "    </tr>\n",
       "    <tr>\n",
       "      <th>2</th>\n",
       "      <td>BrandyCGrote</td>\n",
       "      <td>Brandy Grote</td>\n",
       "      <td>898902973</td>\n",
       "      <td>1188517925503635456</td>\n",
       "      <td>/BrandyCGrote/status/1188517925503635456</td>\n",
       "      <td>2019-10-27 18:08:49</td>\n",
       "      <td>1572199729</td>\n",
       "      <td>Our #SaddleridgeFire leaped a 12 lane major fr...</td>\n",
       "      <td>&lt;p class=\"TweetTextSize js-tweet-text tweet-te...</td>\n",
       "      <td>[]</td>\n",
       "      <td>...</td>\n",
       "      <td>[]</td>\n",
       "      <td>NaN</td>\n",
       "      <td>1</td>\n",
       "      <td>1</td>\n",
       "      <td>0</td>\n",
       "      <td>False</td>\n",
       "      <td>True</td>\n",
       "      <td>1.188496e+18</td>\n",
       "      <td>[{'screen_name': 'BillMendocino', 'user_id': '...</td>\n",
       "      <td>saddleridgefire</td>\n",
       "    </tr>\n",
       "    <tr>\n",
       "      <th>3</th>\n",
       "      <td>mlzema</td>\n",
       "      <td>Mark In SoCal</td>\n",
       "      <td>18340526</td>\n",
       "      <td>1188515108562931714</td>\n",
       "      <td>/mlzema/status/1188515108562931714</td>\n",
       "      <td>2019-10-27 17:57:38</td>\n",
       "      <td>1572199058</td>\n",
       "      <td>Good Morning, Sam!\\nAll is well here. However,...</td>\n",
       "      <td>&lt;p class=\"TweetTextSize js-tweet-text tweet-te...</td>\n",
       "      <td>['https://twitter.com/Sam17970863/status/11885...</td>\n",
       "      <td>...</td>\n",
       "      <td>[]</td>\n",
       "      <td>NaN</td>\n",
       "      <td>1</td>\n",
       "      <td>0</td>\n",
       "      <td>0</td>\n",
       "      <td>False</td>\n",
       "      <td>False</td>\n",
       "      <td>NaN</td>\n",
       "      <td>[]</td>\n",
       "      <td>saddleridgefire</td>\n",
       "    </tr>\n",
       "    <tr>\n",
       "      <th>4</th>\n",
       "      <td>LVTIA</td>\n",
       "      <td>LVTIA</td>\n",
       "      <td>87142711</td>\n",
       "      <td>1188502337867829248</td>\n",
       "      <td>/LVTIA/status/1188502337867829248</td>\n",
       "      <td>2019-10-27 17:06:53</td>\n",
       "      <td>1572196013</td>\n",
       "      <td>Was your property or home damaged by the #Sadd...</td>\n",
       "      <td>&lt;p class=\"TweetTextSize js-tweet-text tweet-te...</td>\n",
       "      <td>['https://www.211la.org/fire-saddleridge']</td>\n",
       "      <td>...</td>\n",
       "      <td>[]</td>\n",
       "      <td>NaN</td>\n",
       "      <td>0</td>\n",
       "      <td>0</td>\n",
       "      <td>0</td>\n",
       "      <td>False</td>\n",
       "      <td>False</td>\n",
       "      <td>NaN</td>\n",
       "      <td>[]</td>\n",
       "      <td>saddleridgefire</td>\n",
       "    </tr>\n",
       "  </tbody>\n",
       "</table>\n",
       "<p>5 rows × 22 columns</p>\n",
       "</div>"
      ],
      "text/plain": [
       "      screen_name                             username             user_id  \\\n",
       "0         EPCFIRM  EPCF #GreenNewDeal #SunriseMovement  836834627771850752   \n",
       "1  jsingpubhealth                        Jason Singson          3320904614   \n",
       "2    BrandyCGrote                         Brandy Grote           898902973   \n",
       "3          mlzema                        Mark In SoCal            18340526   \n",
       "4           LVTIA                                LVTIA            87142711   \n",
       "\n",
       "              tweet_id                                   tweet_url  \\\n",
       "0  1188564512669962240         /EPCFIRM/status/1188564512669962240   \n",
       "1  1188545671076298752  /jsingpubhealth/status/1188545671076298752   \n",
       "2  1188517925503635456    /BrandyCGrote/status/1188517925503635456   \n",
       "3  1188515108562931714          /mlzema/status/1188515108562931714   \n",
       "4  1188502337867829248           /LVTIA/status/1188502337867829248   \n",
       "\n",
       "             timestamp  timestamp_epochs  \\\n",
       "0  2019-10-27 21:13:56        1572210836   \n",
       "1  2019-10-27 19:59:04        1572206344   \n",
       "2  2019-10-27 18:08:49        1572199729   \n",
       "3  2019-10-27 17:57:38        1572199058   \n",
       "4  2019-10-27 17:06:53        1572196013   \n",
       "\n",
       "                                                text  \\\n",
       "0  Our hearts go out to Californians affected by ...   \n",
       "1  From the #SaddleridgeFire to the #KincadeFire,...   \n",
       "2  Our #SaddleridgeFire leaped a 12 lane major fr...   \n",
       "3  Good Morning, Sam!\\nAll is well here. However,...   \n",
       "4  Was your property or home damaged by the #Sadd...   \n",
       "\n",
       "                                           text_html  \\\n",
       "0  <p class=\"TweetTextSize js-tweet-text tweet-te...   \n",
       "1  <p class=\"TweetTextSize js-tweet-text tweet-te...   \n",
       "2  <p class=\"TweetTextSize js-tweet-text tweet-te...   \n",
       "3  <p class=\"TweetTextSize js-tweet-text tweet-te...   \n",
       "4  <p class=\"TweetTextSize js-tweet-text tweet-te...   \n",
       "\n",
       "                                               links  ...  \\\n",
       "0                                                 []  ...   \n",
       "1  ['https://twitter.com/CAgovernor/status/118852...  ...   \n",
       "2                                                 []  ...   \n",
       "3  ['https://twitter.com/Sam17970863/status/11885...  ...   \n",
       "4         ['https://www.211la.org/fire-saddleridge']  ...   \n",
       "\n",
       "                                            img_urls  video_url likes  \\\n",
       "0  ['https://pbs.twimg.com/media/EH6hH4FVAAA6ZA_....        NaN     8   \n",
       "1                                                 []        NaN     1   \n",
       "2                                                 []        NaN     1   \n",
       "3                                                 []        NaN     1   \n",
       "4                                                 []        NaN     0   \n",
       "\n",
       "   retweets  replies  is_replied  is_reply_to  parent_tweet_id  \\\n",
       "0         1        1        True        False              NaN   \n",
       "1         0        0       False        False              NaN   \n",
       "2         1        0       False         True     1.188496e+18   \n",
       "3         0        0       False        False              NaN   \n",
       "4         0        0       False        False              NaN   \n",
       "\n",
       "                                      reply_to_users            query  \n",
       "0                                                 []  saddleridgefire  \n",
       "1                                                 []  saddleridgefire  \n",
       "2  [{'screen_name': 'BillMendocino', 'user_id': '...  saddleridgefire  \n",
       "3                                                 []  saddleridgefire  \n",
       "4                                                 []  saddleridgefire  \n",
       "\n",
       "[5 rows x 22 columns]"
      ]
     },
     "execution_count": 428,
     "metadata": {},
     "output_type": "execute_result"
    }
   ],
   "source": [
    "df.head(5)"
   ]
  },
  {
   "cell_type": "code",
   "execution_count": 429,
   "metadata": {},
   "outputs": [
    {
     "data": {
      "text/plain": [
       "Index(['screen_name', 'username', 'user_id', 'tweet_id', 'tweet_url',\n",
       "       'timestamp', 'timestamp_epochs', 'text', 'text_html', 'links',\n",
       "       'hashtags', 'has_media', 'img_urls', 'video_url', 'likes', 'retweets',\n",
       "       'replies', 'is_replied', 'is_reply_to', 'parent_tweet_id',\n",
       "       'reply_to_users', 'query'],\n",
       "      dtype='object')"
      ]
     },
     "execution_count": 429,
     "metadata": {},
     "output_type": "execute_result"
    }
   ],
   "source": [
    "df.columns"
   ]
  },
  {
   "cell_type": "code",
   "execution_count": 430,
   "metadata": {},
   "outputs": [],
   "source": [
    "## Drop unnecessary columns \n",
    "df_text_query = df.drop(columns= ['screen_name', 'user_id', 'tweet_id', 'tweet_url', 'timestamp', 'timestamp_epochs', 'text_html', 'links', 'hashtags', 'has_media', 'img_urls', 'video_url', 'likes', 'retweets', 'replies', 'is_replied', 'is_reply_to', 'parent_tweet_id', 'reply_to_users'])"
   ]
  },
  {
   "cell_type": "markdown",
   "metadata": {},
   "source": [
    "### Check for Null Values"
   ]
  },
  {
   "cell_type": "code",
   "execution_count": 431,
   "metadata": {},
   "outputs": [
    {
     "data": {
      "text/plain": [
       "username      0\n",
       "text        105\n",
       "query         0\n",
       "dtype: int64"
      ]
     },
     "execution_count": 431,
     "metadata": {},
     "output_type": "execute_result"
    }
   ],
   "source": [
    "df_text_query.isnull().sum()"
   ]
  },
  {
   "cell_type": "code",
   "execution_count": 432,
   "metadata": {},
   "outputs": [],
   "source": [
    "df_text_query.dropna(axis=0, how='any', inplace=True)"
   ]
  },
  {
   "cell_type": "code",
   "execution_count": 433,
   "metadata": {},
   "outputs": [
    {
     "data": {
      "text/html": [
       "<div>\n",
       "<style scoped>\n",
       "    .dataframe tbody tr th:only-of-type {\n",
       "        vertical-align: middle;\n",
       "    }\n",
       "\n",
       "    .dataframe tbody tr th {\n",
       "        vertical-align: top;\n",
       "    }\n",
       "\n",
       "    .dataframe thead th {\n",
       "        text-align: right;\n",
       "    }\n",
       "</style>\n",
       "<table border=\"1\" class=\"dataframe\">\n",
       "  <thead>\n",
       "    <tr style=\"text-align: right;\">\n",
       "      <th></th>\n",
       "      <th>username</th>\n",
       "      <th>text</th>\n",
       "      <th>query</th>\n",
       "    </tr>\n",
       "  </thead>\n",
       "  <tbody>\n",
       "    <tr>\n",
       "      <th>0</th>\n",
       "      <td>EPCF #GreenNewDeal #SunriseMovement</td>\n",
       "      <td>Our hearts go out to Californians affected by ...</td>\n",
       "      <td>saddleridgefire</td>\n",
       "    </tr>\n",
       "    <tr>\n",
       "      <th>1</th>\n",
       "      <td>Jason Singson</td>\n",
       "      <td>From the #SaddleridgeFire to the #KincadeFire,...</td>\n",
       "      <td>saddleridgefire</td>\n",
       "    </tr>\n",
       "    <tr>\n",
       "      <th>2</th>\n",
       "      <td>Brandy Grote</td>\n",
       "      <td>Our #SaddleridgeFire leaped a 12 lane major fr...</td>\n",
       "      <td>saddleridgefire</td>\n",
       "    </tr>\n",
       "    <tr>\n",
       "      <th>3</th>\n",
       "      <td>Mark In SoCal</td>\n",
       "      <td>Good Morning, Sam!\\nAll is well here. However,...</td>\n",
       "      <td>saddleridgefire</td>\n",
       "    </tr>\n",
       "    <tr>\n",
       "      <th>4</th>\n",
       "      <td>LVTIA</td>\n",
       "      <td>Was your property or home damaged by the #Sadd...</td>\n",
       "      <td>saddleridgefire</td>\n",
       "    </tr>\n",
       "  </tbody>\n",
       "</table>\n",
       "</div>"
      ],
      "text/plain": [
       "                              username  \\\n",
       "0  EPCF #GreenNewDeal #SunriseMovement   \n",
       "1                        Jason Singson   \n",
       "2                         Brandy Grote   \n",
       "3                        Mark In SoCal   \n",
       "4                                LVTIA   \n",
       "\n",
       "                                                text            query  \n",
       "0  Our hearts go out to Californians affected by ...  saddleridgefire  \n",
       "1  From the #SaddleridgeFire to the #KincadeFire,...  saddleridgefire  \n",
       "2  Our #SaddleridgeFire leaped a 12 lane major fr...  saddleridgefire  \n",
       "3  Good Morning, Sam!\\nAll is well here. However,...  saddleridgefire  \n",
       "4  Was your property or home damaged by the #Sadd...  saddleridgefire  "
      ]
     },
     "execution_count": 433,
     "metadata": {},
     "output_type": "execute_result"
    }
   ],
   "source": [
    "df_text_query.head()"
   ]
  },
  {
   "cell_type": "code",
   "execution_count": 434,
   "metadata": {},
   "outputs": [
    {
     "data": {
      "text/plain": [
       "username    0\n",
       "text        0\n",
       "query       0\n",
       "dtype: int64"
      ]
     },
     "execution_count": 434,
     "metadata": {},
     "output_type": "execute_result"
    }
   ],
   "source": [
    "df_text_query.isnull().sum()"
   ]
  },
  {
   "cell_type": "code",
   "execution_count": 435,
   "metadata": {},
   "outputs": [
    {
     "data": {
      "text/plain": [
       "(9075, 3)"
      ]
     },
     "execution_count": 435,
     "metadata": {},
     "output_type": "execute_result"
    }
   ],
   "source": [
    "df_text_query.shape"
   ]
  },
  {
   "cell_type": "markdown",
   "metadata": {},
   "source": [
    "### Cleaning Tweets using RegEx"
   ]
  },
  {
   "cell_type": "code",
   "execution_count": 436,
   "metadata": {},
   "outputs": [],
   "source": [
    "## Lower case texts\n",
    "df_text_query['text'] = df_text_query['text'].str.lower()"
   ]
  },
  {
   "cell_type": "code",
   "execution_count": 437,
   "metadata": {},
   "outputs": [],
   "source": [
    "## Removing line breaks\n",
    "df_text_query['text'] = df_text_query['text'].map(lambda x: re.sub('\\/\\/', ' ', x)) "
   ]
  },
  {
   "cell_type": "code",
   "execution_count": 438,
   "metadata": {},
   "outputs": [],
   "source": [
    "## Removing Apostrophes\n",
    "df_text_query['text'] = df_text_query['text'].map(lambda x: re.sub('[\\\\][\\']', '', x))"
   ]
  },
  {
   "cell_type": "code",
   "execution_count": 439,
   "metadata": {},
   "outputs": [],
   "source": [
    "## Removing URLs\n",
    "df_text_query['text'] = df_text_query['text'].map(lambda x: re.sub('http[s]?:\\/\\/[^\\s]*', ' ', x))"
   ]
  },
  {
   "cell_type": "code",
   "execution_count": null,
   "metadata": {},
   "outputs": [],
   "source": []
  },
  {
   "cell_type": "code",
   "execution_count": 440,
   "metadata": {},
   "outputs": [
    {
     "data": {
      "text/html": [
       "<div>\n",
       "<style scoped>\n",
       "    .dataframe tbody tr th:only-of-type {\n",
       "        vertical-align: middle;\n",
       "    }\n",
       "\n",
       "    .dataframe tbody tr th {\n",
       "        vertical-align: top;\n",
       "    }\n",
       "\n",
       "    .dataframe thead th {\n",
       "        text-align: right;\n",
       "    }\n",
       "</style>\n",
       "<table border=\"1\" class=\"dataframe\">\n",
       "  <thead>\n",
       "    <tr style=\"text-align: right;\">\n",
       "      <th></th>\n",
       "      <th>username</th>\n",
       "      <th>text</th>\n",
       "      <th>query</th>\n",
       "    </tr>\n",
       "  </thead>\n",
       "  <tbody>\n",
       "    <tr>\n",
       "      <th>0</th>\n",
       "      <td>EPCF #GreenNewDeal #SunriseMovement</td>\n",
       "      <td>our hearts go out to californians affected by ...</td>\n",
       "      <td>saddleridgefire</td>\n",
       "    </tr>\n",
       "    <tr>\n",
       "      <th>1</th>\n",
       "      <td>Jason Singson</td>\n",
       "      <td>from the #saddleridgefire to the #kincadefire,...</td>\n",
       "      <td>saddleridgefire</td>\n",
       "    </tr>\n",
       "    <tr>\n",
       "      <th>2</th>\n",
       "      <td>Brandy Grote</td>\n",
       "      <td>our #saddleridgefire leaped a 12 lane major fr...</td>\n",
       "      <td>saddleridgefire</td>\n",
       "    </tr>\n",
       "    <tr>\n",
       "      <th>3</th>\n",
       "      <td>Mark In SoCal</td>\n",
       "      <td>good morning, sam!\\nall is well here. however,...</td>\n",
       "      <td>saddleridgefire</td>\n",
       "    </tr>\n",
       "    <tr>\n",
       "      <th>4</th>\n",
       "      <td>LVTIA</td>\n",
       "      <td>was your property or home damaged by the #sadd...</td>\n",
       "      <td>saddleridgefire</td>\n",
       "    </tr>\n",
       "  </tbody>\n",
       "</table>\n",
       "</div>"
      ],
      "text/plain": [
       "                              username  \\\n",
       "0  EPCF #GreenNewDeal #SunriseMovement   \n",
       "1                        Jason Singson   \n",
       "2                         Brandy Grote   \n",
       "3                        Mark In SoCal   \n",
       "4                                LVTIA   \n",
       "\n",
       "                                                text            query  \n",
       "0  our hearts go out to californians affected by ...  saddleridgefire  \n",
       "1  from the #saddleridgefire to the #kincadefire,...  saddleridgefire  \n",
       "2  our #saddleridgefire leaped a 12 lane major fr...  saddleridgefire  \n",
       "3  good morning, sam!\\nall is well here. however,...  saddleridgefire  \n",
       "4  was your property or home damaged by the #sadd...  saddleridgefire  "
      ]
     },
     "execution_count": 440,
     "metadata": {},
     "output_type": "execute_result"
    }
   ],
   "source": [
    "df_text_query.head(5)"
   ]
  },
  {
   "cell_type": "markdown",
   "metadata": {},
   "source": [
    "### Road Closure Classification"
   ]
  },
  {
   "cell_type": "markdown",
   "metadata": {},
   "source": [
    "#### We want to determine if a road was open or closed. We achieved this by passing our dataframe through the filters we created"
   ]
  },
  {
   "cell_type": "code",
   "execution_count": 441,
   "metadata": {},
   "outputs": [],
   "source": [
    "# establish list of words to search for in dataframe\n",
    "road_keywords = ['road', 'st','rd', 'hwy', 'highway', 'ave', 'avenue', 'street', 'boulevard'\n",
    "                 'intersection', 'bridge', 'sr-', 'cr-', 'us-', 'i-', 'blvd']\n",
    "\n",
    "# list of words associated with road closures\n",
    "closed_keywords = ['closed', 'remains closed', 'shut down', 'backed up',\n",
    "                   'no travel', 'delay', 'blocked', 'delays',\n",
    "                   'disabled', 'traffic', 'fire', 'closures', 'closure']\n",
    "\n",
    "to_drop = [\"open\", \"opened\", \"lifted\", \"reopened\", \"clear\", \"cleared\"]"
   ]
  },
  {
   "cell_type": "code",
   "execution_count": 442,
   "metadata": {},
   "outputs": [],
   "source": [
    "df_text_query['is_road_closed']= df_text_query['text'].apply(lambda x: 1 if ((any(word in x.split() for word in road_keywords))\n",
    "                                                           & (any(word in x.split() for word in closed_keywords))\n",
    "                                                           & (not any(word in x.split() for word in to_drop))\n",
    "                                                          ) else 0)"
   ]
  },
  {
   "cell_type": "code",
   "execution_count": 443,
   "metadata": {},
   "outputs": [
    {
     "data": {
      "text/html": [
       "<div>\n",
       "<style scoped>\n",
       "    .dataframe tbody tr th:only-of-type {\n",
       "        vertical-align: middle;\n",
       "    }\n",
       "\n",
       "    .dataframe tbody tr th {\n",
       "        vertical-align: top;\n",
       "    }\n",
       "\n",
       "    .dataframe thead th {\n",
       "        text-align: right;\n",
       "    }\n",
       "</style>\n",
       "<table border=\"1\" class=\"dataframe\">\n",
       "  <thead>\n",
       "    <tr style=\"text-align: right;\">\n",
       "      <th></th>\n",
       "      <th>username</th>\n",
       "      <th>text</th>\n",
       "      <th>query</th>\n",
       "      <th>is_road_closed</th>\n",
       "    </tr>\n",
       "  </thead>\n",
       "  <tbody>\n",
       "    <tr>\n",
       "      <th>0</th>\n",
       "      <td>EPCF #GreenNewDeal #SunriseMovement</td>\n",
       "      <td>our hearts go out to californians affected by ...</td>\n",
       "      <td>saddleridgefire</td>\n",
       "      <td>0</td>\n",
       "    </tr>\n",
       "    <tr>\n",
       "      <th>1</th>\n",
       "      <td>Jason Singson</td>\n",
       "      <td>from the #saddleridgefire to the #kincadefire,...</td>\n",
       "      <td>saddleridgefire</td>\n",
       "      <td>0</td>\n",
       "    </tr>\n",
       "    <tr>\n",
       "      <th>2</th>\n",
       "      <td>Brandy Grote</td>\n",
       "      <td>our #saddleridgefire leaped a 12 lane major fr...</td>\n",
       "      <td>saddleridgefire</td>\n",
       "      <td>0</td>\n",
       "    </tr>\n",
       "    <tr>\n",
       "      <th>3</th>\n",
       "      <td>Mark In SoCal</td>\n",
       "      <td>good morning, sam!\\nall is well here. however,...</td>\n",
       "      <td>saddleridgefire</td>\n",
       "      <td>0</td>\n",
       "    </tr>\n",
       "    <tr>\n",
       "      <th>4</th>\n",
       "      <td>LVTIA</td>\n",
       "      <td>was your property or home damaged by the #sadd...</td>\n",
       "      <td>saddleridgefire</td>\n",
       "      <td>0</td>\n",
       "    </tr>\n",
       "  </tbody>\n",
       "</table>\n",
       "</div>"
      ],
      "text/plain": [
       "                              username  \\\n",
       "0  EPCF #GreenNewDeal #SunriseMovement   \n",
       "1                        Jason Singson   \n",
       "2                         Brandy Grote   \n",
       "3                        Mark In SoCal   \n",
       "4                                LVTIA   \n",
       "\n",
       "                                                text            query  \\\n",
       "0  our hearts go out to californians affected by ...  saddleridgefire   \n",
       "1  from the #saddleridgefire to the #kincadefire,...  saddleridgefire   \n",
       "2  our #saddleridgefire leaped a 12 lane major fr...  saddleridgefire   \n",
       "3  good morning, sam!\\nall is well here. however,...  saddleridgefire   \n",
       "4  was your property or home damaged by the #sadd...  saddleridgefire   \n",
       "\n",
       "   is_road_closed  \n",
       "0               0  \n",
       "1               0  \n",
       "2               0  \n",
       "3               0  \n",
       "4               0  "
      ]
     },
     "execution_count": 443,
     "metadata": {},
     "output_type": "execute_result"
    }
   ],
   "source": [
    "df_text_query.head()"
   ]
  },
  {
   "cell_type": "code",
   "execution_count": null,
   "metadata": {},
   "outputs": [],
   "source": []
  },
  {
   "cell_type": "code",
   "execution_count": null,
   "metadata": {},
   "outputs": [],
   "source": []
  },
  {
   "cell_type": "code",
   "execution_count": null,
   "metadata": {},
   "outputs": [],
   "source": []
  },
  {
   "cell_type": "code",
   "execution_count": null,
   "metadata": {},
   "outputs": [],
   "source": []
  },
  {
   "cell_type": "code",
   "execution_count": null,
   "metadata": {},
   "outputs": [],
   "source": []
  },
  {
   "cell_type": "code",
   "execution_count": null,
   "metadata": {},
   "outputs": [],
   "source": []
  },
  {
   "cell_type": "markdown",
   "metadata": {},
   "source": [
    "#### Baseline Comparison"
   ]
  },
  {
   "cell_type": "code",
   "execution_count": 444,
   "metadata": {},
   "outputs": [
    {
     "data": {
      "text/plain": [
       "0    8762\n",
       "1     313\n",
       "Name: is_road_closed, dtype: int64"
      ]
     },
     "execution_count": 444,
     "metadata": {},
     "output_type": "execute_result"
    }
   ],
   "source": [
    "df_text_query['is_road_closed'].value_counts()"
   ]
  },
  {
   "cell_type": "code",
   "execution_count": 445,
   "metadata": {},
   "outputs": [
    {
     "data": {
      "text/plain": [
       "0    0.96551\n",
       "1    0.03449\n",
       "Name: is_road_closed, dtype: float64"
      ]
     },
     "execution_count": 445,
     "metadata": {},
     "output_type": "execute_result"
    }
   ],
   "source": [
    "df_text_query['is_road_closed'].value_counts(normalize = True)"
   ]
  },
  {
   "cell_type": "code",
   "execution_count": 446,
   "metadata": {},
   "outputs": [],
   "source": [
    "## assign road closed or open dataframes\n",
    "closed_road = df_text_query[df_text_query['is_road_closed'] == 1]\n",
    "open_road = df_text_query[df_text_query['is_road_closed'] == 0]"
   ]
  },
  {
   "cell_type": "code",
   "execution_count": 447,
   "metadata": {},
   "outputs": [
    {
     "data": {
      "text/plain": [
       "(313, 4)"
      ]
     },
     "execution_count": 447,
     "metadata": {},
     "output_type": "execute_result"
    }
   ],
   "source": [
    "closed_road.shape"
   ]
  },
  {
   "cell_type": "code",
   "execution_count": 448,
   "metadata": {},
   "outputs": [
    {
     "data": {
      "text/html": [
       "<div>\n",
       "<style scoped>\n",
       "    .dataframe tbody tr th:only-of-type {\n",
       "        vertical-align: middle;\n",
       "    }\n",
       "\n",
       "    .dataframe tbody tr th {\n",
       "        vertical-align: top;\n",
       "    }\n",
       "\n",
       "    .dataframe thead th {\n",
       "        text-align: right;\n",
       "    }\n",
       "</style>\n",
       "<table border=\"1\" class=\"dataframe\">\n",
       "  <thead>\n",
       "    <tr style=\"text-align: right;\">\n",
       "      <th></th>\n",
       "      <th>username</th>\n",
       "      <th>text</th>\n",
       "      <th>query</th>\n",
       "      <th>is_road_closed</th>\n",
       "    </tr>\n",
       "  </thead>\n",
       "  <tbody>\n",
       "    <tr>\n",
       "      <th>272</th>\n",
       "      <td>News Source LA</td>\n",
       "      <td>@dwp blocked san fernando rd during the #saddl...</td>\n",
       "      <td>saddleridgefire</td>\n",
       "      <td>1</td>\n",
       "    </tr>\n",
       "    <tr>\n",
       "      <th>281</th>\n",
       "      <td>News Source LA</td>\n",
       "      <td>we had the same thing from @dwp security on sa...</td>\n",
       "      <td>saddleridgefire</td>\n",
       "      <td>1</td>\n",
       "    </tr>\n",
       "    <tr>\n",
       "      <th>502</th>\n",
       "      <td>Donald Lindsay</td>\n",
       "      <td>oh noes. #realfire in santa barbara co may hav...</td>\n",
       "      <td>saddleridgefire</td>\n",
       "      <td>1</td>\n",
       "    </tr>\n",
       "    <tr>\n",
       "      <th>620</th>\n",
       "      <td>Allison McHaney</td>\n",
       "      <td>today across the street from olive vista middl...</td>\n",
       "      <td>saddleridgefire</td>\n",
       "      <td>1</td>\n",
       "    </tr>\n",
       "    <tr>\n",
       "      <th>637</th>\n",
       "      <td>Allison McHaney</td>\n",
       "      <td>today across the street from olive vista middl...</td>\n",
       "      <td>saddleridgefire</td>\n",
       "      <td>1</td>\n",
       "    </tr>\n",
       "  </tbody>\n",
       "</table>\n",
       "</div>"
      ],
      "text/plain": [
       "            username                                               text  \\\n",
       "272   News Source LA  @dwp blocked san fernando rd during the #saddl...   \n",
       "281   News Source LA  we had the same thing from @dwp security on sa...   \n",
       "502   Donald Lindsay  oh noes. #realfire in santa barbara co may hav...   \n",
       "620  Allison McHaney  today across the street from olive vista middl...   \n",
       "637  Allison McHaney  today across the street from olive vista middl...   \n",
       "\n",
       "               query  is_road_closed  \n",
       "272  saddleridgefire               1  \n",
       "281  saddleridgefire               1  \n",
       "502  saddleridgefire               1  \n",
       "620  saddleridgefire               1  \n",
       "637  saddleridgefire               1  "
      ]
     },
     "execution_count": 448,
     "metadata": {},
     "output_type": "execute_result"
    }
   ],
   "source": [
    "closed_road.head()"
   ]
  },
  {
   "cell_type": "code",
   "execution_count": 449,
   "metadata": {},
   "outputs": [
    {
     "data": {
      "text/plain": [
       "(8762, 4)"
      ]
     },
     "execution_count": 449,
     "metadata": {},
     "output_type": "execute_result"
    }
   ],
   "source": [
    "open_road.shape"
   ]
  },
  {
   "cell_type": "code",
   "execution_count": 450,
   "metadata": {},
   "outputs": [
    {
     "data": {
      "text/plain": [
       "Go511                                  139\n",
       "Caltrans District 7                     56\n",
       "Brian Douglas                           19\n",
       "scott burt                              12\n",
       "Desmond Shaw                            11\n",
       "KNX 1070 NEWSRADIO                       6\n",
       "DENISE FONDO                             3\n",
       "Spectrum News 1 SoCal                    3\n",
       "Belen De Leon                            3\n",
       "TCEP                                     2\n",
       "Jeannette johnson                        2\n",
       "Ventura Co. Sheriff                      2\n",
       "Michael Fleming                          2\n",
       "CHP - Inland Communications              2\n",
       "Justin Bonney Real Estate                2\n",
       "News Source LA                           2\n",
       "Mkelly                                   2\n",
       "Fullerton Road Grade Separation          2\n",
       "EMS Daily                                2\n",
       "Los Angeles Traffic                      2\n",
       "BoardwalkFunCenter                       2\n",
       "Allison McHaney                          2\n",
       "JoAnn Bush                               2\n",
       "JoAnn @ ESAudio:)                        2\n",
       "QuakeFactor                              1\n",
       "Donald Lindsay                           1\n",
       "Kelvin Washington                        1\n",
       "Pete Demetriou                           1\n",
       "Rudy                                     1\n",
       "MC                                       1\n",
       "D 🌊🌊🌊🎻🎼                                  1\n",
       "Stephanie Ferguson                       1\n",
       "Angelina 🥂🍷🍻🎉                            1\n",
       "SCV 🚁🚔🚨                                  1\n",
       "Bonni Moschetti 🌴🏳️‍🌈                    1\n",
       "The Local Malibu                         1\n",
       "Angeles_NF                               1\n",
       "Aldo Canepa                              1\n",
       "RangerRick ن                             1\n",
       "Rachel Reilly                            1\n",
       "Thenonprofit                             1\n",
       "Red Cross Los Angeles                    1\n",
       "David Valenta                            1\n",
       "L.A. County Fire Department              1\n",
       "CA Fire Scanner                          1\n",
       "claud 🐘❤️🇺🇸                              1\n",
       "CEDR Digital Corps                       1\n",
       "Los Angeles County                       1\n",
       "Betty C. Jung                            1\n",
       "Alicia Rogers                            1\n",
       "Santa Clarita City                       1\n",
       "#DEFENDtheUNBORN ! 👶👣👼🌹🥀🎵🎶✝️⛪🙏♥️😎🇺🇸      1\n",
       "CALIFORNIA PIO                           1\n",
       "Michael F. Ballard                       1\n",
       "Moran Nachum                             1\n",
       "Name: username, dtype: int64"
      ]
     },
     "execution_count": 450,
     "metadata": {},
     "output_type": "execute_result"
    }
   ],
   "source": [
    "# find which handles tweeted the most about road closures\n",
    "closed_road['username'].value_counts()"
   ]
  },
  {
   "cell_type": "code",
   "execution_count": 451,
   "metadata": {},
   "outputs": [
    {
     "data": {
      "text/plain": [
       "(313, 4)"
      ]
     },
     "execution_count": 451,
     "metadata": {},
     "output_type": "execute_result"
    }
   ],
   "source": [
    "closed_road.shape"
   ]
  },
  {
   "cell_type": "markdown",
   "metadata": {},
   "source": [
    "## Declaring a Tokenizer Function:"
   ]
  },
  {
   "cell_type": "code",
   "execution_count": 452,
   "metadata": {},
   "outputs": [],
   "source": [
    "tokenizer = RegexpTokenizer(r'\\s+', gaps=True)\n",
    "\n",
    "def tokenizing_function(df_col):\n",
    "\n",
    "    string = ''\n",
    "    \n",
    "    try:\n",
    "    \n",
    "        for post in df_col:\n",
    "            string += ' ' + post\n",
    "            \n",
    "    except:\n",
    "        pass\n",
    "    \n",
    "    all_tokens = tokenizer.tokenize(string)\n",
    "    \n",
    "    return all_tokens"
   ]
  },
  {
   "cell_type": "markdown",
   "metadata": {},
   "source": [
    "### Calling Tokenizer Function on `text` Column and Saving as Variable"
   ]
  },
  {
   "cell_type": "code",
   "execution_count": 481,
   "metadata": {},
   "outputs": [],
   "source": [
    "text_tokens = tokenizing_function(df['text'])"
   ]
  },
  {
   "cell_type": "markdown",
   "metadata": {},
   "source": [
    "## Declaring Count Vectorizer Function:"
   ]
  },
  {
   "cell_type": "code",
   "execution_count": 454,
   "metadata": {},
   "outputs": [],
   "source": [
    "cvec = CountVectorizer(stop_words= 'english', min_df=5)\n",
    "\n",
    "def cvec_function(df_col):\n",
    "    cvec_matrix = cvec.fit_transform(df_col)\n",
    "\n",
    "    #Convert to DataFrame\n",
    "    cvec_df = pd.DataFrame(cvec_matrix.toarray(),\n",
    "                          columns=cvec.get_feature_names())\n",
    "    return cvec_df"
   ]
  },
  {
   "cell_type": "markdown",
   "metadata": {},
   "source": [
    "### Calling the cvec_function with `text` column and saving the matrix as `text_cvec_df` variable"
   ]
  },
  {
   "cell_type": "code",
   "execution_count": 455,
   "metadata": {},
   "outputs": [
    {
     "data": {
      "text/html": [
       "<div>\n",
       "<style scoped>\n",
       "    .dataframe tbody tr th:only-of-type {\n",
       "        vertical-align: middle;\n",
       "    }\n",
       "\n",
       "    .dataframe tbody tr th {\n",
       "        vertical-align: top;\n",
       "    }\n",
       "\n",
       "    .dataframe thead th {\n",
       "        text-align: right;\n",
       "    }\n",
       "</style>\n",
       "<table border=\"1\" class=\"dataframe\">\n",
       "  <thead>\n",
       "    <tr style=\"text-align: right;\">\n",
       "      <th></th>\n",
       "      <th>101fwy</th>\n",
       "      <th>105fwy</th>\n",
       "      <th>10fwy</th>\n",
       "      <th>110fwy</th>\n",
       "      <th>118fwy</th>\n",
       "      <th>134fwy</th>\n",
       "      <th>14freeway</th>\n",
       "      <th>14fwy</th>\n",
       "      <th>1582</th>\n",
       "      <th>15fwy</th>\n",
       "      <th>...</th>\n",
       "      <th>westhollywood</th>\n",
       "      <th>westla</th>\n",
       "      <th>wevapewevote</th>\n",
       "      <th>wildfire</th>\n",
       "      <th>wildfirepic</th>\n",
       "      <th>wildfires</th>\n",
       "      <th>wolffire</th>\n",
       "      <th>woodlandhills</th>\n",
       "      <th>woolseyfire</th>\n",
       "      <th>yeswx</th>\n",
       "    </tr>\n",
       "  </thead>\n",
       "  <tbody>\n",
       "    <tr>\n",
       "      <th>0</th>\n",
       "      <td>0</td>\n",
       "      <td>0</td>\n",
       "      <td>0</td>\n",
       "      <td>0</td>\n",
       "      <td>0</td>\n",
       "      <td>0</td>\n",
       "      <td>0</td>\n",
       "      <td>0</td>\n",
       "      <td>0</td>\n",
       "      <td>0</td>\n",
       "      <td>...</td>\n",
       "      <td>0</td>\n",
       "      <td>0</td>\n",
       "      <td>0</td>\n",
       "      <td>0</td>\n",
       "      <td>0</td>\n",
       "      <td>1</td>\n",
       "      <td>0</td>\n",
       "      <td>0</td>\n",
       "      <td>0</td>\n",
       "      <td>0</td>\n",
       "    </tr>\n",
       "    <tr>\n",
       "      <th>1</th>\n",
       "      <td>0</td>\n",
       "      <td>0</td>\n",
       "      <td>0</td>\n",
       "      <td>0</td>\n",
       "      <td>0</td>\n",
       "      <td>0</td>\n",
       "      <td>0</td>\n",
       "      <td>0</td>\n",
       "      <td>0</td>\n",
       "      <td>0</td>\n",
       "      <td>...</td>\n",
       "      <td>0</td>\n",
       "      <td>0</td>\n",
       "      <td>0</td>\n",
       "      <td>0</td>\n",
       "      <td>0</td>\n",
       "      <td>0</td>\n",
       "      <td>0</td>\n",
       "      <td>0</td>\n",
       "      <td>0</td>\n",
       "      <td>0</td>\n",
       "    </tr>\n",
       "    <tr>\n",
       "      <th>2</th>\n",
       "      <td>0</td>\n",
       "      <td>0</td>\n",
       "      <td>0</td>\n",
       "      <td>0</td>\n",
       "      <td>0</td>\n",
       "      <td>0</td>\n",
       "      <td>0</td>\n",
       "      <td>0</td>\n",
       "      <td>0</td>\n",
       "      <td>0</td>\n",
       "      <td>...</td>\n",
       "      <td>0</td>\n",
       "      <td>0</td>\n",
       "      <td>0</td>\n",
       "      <td>0</td>\n",
       "      <td>0</td>\n",
       "      <td>0</td>\n",
       "      <td>0</td>\n",
       "      <td>0</td>\n",
       "      <td>0</td>\n",
       "      <td>0</td>\n",
       "    </tr>\n",
       "    <tr>\n",
       "      <th>3</th>\n",
       "      <td>0</td>\n",
       "      <td>0</td>\n",
       "      <td>0</td>\n",
       "      <td>0</td>\n",
       "      <td>0</td>\n",
       "      <td>0</td>\n",
       "      <td>0</td>\n",
       "      <td>0</td>\n",
       "      <td>0</td>\n",
       "      <td>0</td>\n",
       "      <td>...</td>\n",
       "      <td>0</td>\n",
       "      <td>0</td>\n",
       "      <td>0</td>\n",
       "      <td>0</td>\n",
       "      <td>0</td>\n",
       "      <td>0</td>\n",
       "      <td>0</td>\n",
       "      <td>0</td>\n",
       "      <td>0</td>\n",
       "      <td>0</td>\n",
       "    </tr>\n",
       "    <tr>\n",
       "      <th>4</th>\n",
       "      <td>0</td>\n",
       "      <td>0</td>\n",
       "      <td>0</td>\n",
       "      <td>0</td>\n",
       "      <td>0</td>\n",
       "      <td>0</td>\n",
       "      <td>0</td>\n",
       "      <td>0</td>\n",
       "      <td>0</td>\n",
       "      <td>0</td>\n",
       "      <td>...</td>\n",
       "      <td>0</td>\n",
       "      <td>0</td>\n",
       "      <td>0</td>\n",
       "      <td>0</td>\n",
       "      <td>0</td>\n",
       "      <td>0</td>\n",
       "      <td>0</td>\n",
       "      <td>0</td>\n",
       "      <td>0</td>\n",
       "      <td>0</td>\n",
       "    </tr>\n",
       "    <tr>\n",
       "      <th>...</th>\n",
       "      <td>...</td>\n",
       "      <td>...</td>\n",
       "      <td>...</td>\n",
       "      <td>...</td>\n",
       "      <td>...</td>\n",
       "      <td>...</td>\n",
       "      <td>...</td>\n",
       "      <td>...</td>\n",
       "      <td>...</td>\n",
       "      <td>...</td>\n",
       "      <td>...</td>\n",
       "      <td>...</td>\n",
       "      <td>...</td>\n",
       "      <td>...</td>\n",
       "      <td>...</td>\n",
       "      <td>...</td>\n",
       "      <td>...</td>\n",
       "      <td>...</td>\n",
       "      <td>...</td>\n",
       "      <td>...</td>\n",
       "      <td>...</td>\n",
       "    </tr>\n",
       "    <tr>\n",
       "      <th>9175</th>\n",
       "      <td>0</td>\n",
       "      <td>0</td>\n",
       "      <td>0</td>\n",
       "      <td>0</td>\n",
       "      <td>0</td>\n",
       "      <td>0</td>\n",
       "      <td>0</td>\n",
       "      <td>0</td>\n",
       "      <td>0</td>\n",
       "      <td>0</td>\n",
       "      <td>...</td>\n",
       "      <td>0</td>\n",
       "      <td>0</td>\n",
       "      <td>0</td>\n",
       "      <td>0</td>\n",
       "      <td>0</td>\n",
       "      <td>0</td>\n",
       "      <td>0</td>\n",
       "      <td>0</td>\n",
       "      <td>0</td>\n",
       "      <td>0</td>\n",
       "    </tr>\n",
       "    <tr>\n",
       "      <th>9176</th>\n",
       "      <td>0</td>\n",
       "      <td>0</td>\n",
       "      <td>0</td>\n",
       "      <td>0</td>\n",
       "      <td>0</td>\n",
       "      <td>0</td>\n",
       "      <td>0</td>\n",
       "      <td>0</td>\n",
       "      <td>0</td>\n",
       "      <td>0</td>\n",
       "      <td>...</td>\n",
       "      <td>0</td>\n",
       "      <td>0</td>\n",
       "      <td>0</td>\n",
       "      <td>0</td>\n",
       "      <td>0</td>\n",
       "      <td>0</td>\n",
       "      <td>0</td>\n",
       "      <td>0</td>\n",
       "      <td>0</td>\n",
       "      <td>0</td>\n",
       "    </tr>\n",
       "    <tr>\n",
       "      <th>9177</th>\n",
       "      <td>0</td>\n",
       "      <td>0</td>\n",
       "      <td>0</td>\n",
       "      <td>0</td>\n",
       "      <td>0</td>\n",
       "      <td>0</td>\n",
       "      <td>0</td>\n",
       "      <td>0</td>\n",
       "      <td>0</td>\n",
       "      <td>0</td>\n",
       "      <td>...</td>\n",
       "      <td>0</td>\n",
       "      <td>0</td>\n",
       "      <td>0</td>\n",
       "      <td>0</td>\n",
       "      <td>0</td>\n",
       "      <td>0</td>\n",
       "      <td>0</td>\n",
       "      <td>0</td>\n",
       "      <td>0</td>\n",
       "      <td>0</td>\n",
       "    </tr>\n",
       "    <tr>\n",
       "      <th>9178</th>\n",
       "      <td>0</td>\n",
       "      <td>0</td>\n",
       "      <td>0</td>\n",
       "      <td>0</td>\n",
       "      <td>0</td>\n",
       "      <td>0</td>\n",
       "      <td>0</td>\n",
       "      <td>0</td>\n",
       "      <td>0</td>\n",
       "      <td>0</td>\n",
       "      <td>...</td>\n",
       "      <td>0</td>\n",
       "      <td>0</td>\n",
       "      <td>0</td>\n",
       "      <td>0</td>\n",
       "      <td>0</td>\n",
       "      <td>0</td>\n",
       "      <td>0</td>\n",
       "      <td>0</td>\n",
       "      <td>0</td>\n",
       "      <td>0</td>\n",
       "    </tr>\n",
       "    <tr>\n",
       "      <th>9179</th>\n",
       "      <td>0</td>\n",
       "      <td>0</td>\n",
       "      <td>0</td>\n",
       "      <td>0</td>\n",
       "      <td>0</td>\n",
       "      <td>0</td>\n",
       "      <td>0</td>\n",
       "      <td>0</td>\n",
       "      <td>0</td>\n",
       "      <td>0</td>\n",
       "      <td>...</td>\n",
       "      <td>0</td>\n",
       "      <td>0</td>\n",
       "      <td>0</td>\n",
       "      <td>0</td>\n",
       "      <td>0</td>\n",
       "      <td>0</td>\n",
       "      <td>0</td>\n",
       "      <td>0</td>\n",
       "      <td>0</td>\n",
       "      <td>0</td>\n",
       "    </tr>\n",
       "  </tbody>\n",
       "</table>\n",
       "<p>9180 rows × 332 columns</p>\n",
       "</div>"
      ],
      "text/plain": [
       "      101fwy  105fwy  10fwy  110fwy  118fwy  134fwy  14freeway  14fwy  1582  \\\n",
       "0          0       0      0       0       0       0          0      0     0   \n",
       "1          0       0      0       0       0       0          0      0     0   \n",
       "2          0       0      0       0       0       0          0      0     0   \n",
       "3          0       0      0       0       0       0          0      0     0   \n",
       "4          0       0      0       0       0       0          0      0     0   \n",
       "...      ...     ...    ...     ...     ...     ...        ...    ...   ...   \n",
       "9175       0       0      0       0       0       0          0      0     0   \n",
       "9176       0       0      0       0       0       0          0      0     0   \n",
       "9177       0       0      0       0       0       0          0      0     0   \n",
       "9178       0       0      0       0       0       0          0      0     0   \n",
       "9179       0       0      0       0       0       0          0      0     0   \n",
       "\n",
       "      15fwy  ...  westhollywood  westla  wevapewevote  wildfire  wildfirepic  \\\n",
       "0         0  ...              0       0             0         0            0   \n",
       "1         0  ...              0       0             0         0            0   \n",
       "2         0  ...              0       0             0         0            0   \n",
       "3         0  ...              0       0             0         0            0   \n",
       "4         0  ...              0       0             0         0            0   \n",
       "...     ...  ...            ...     ...           ...       ...          ...   \n",
       "9175      0  ...              0       0             0         0            0   \n",
       "9176      0  ...              0       0             0         0            0   \n",
       "9177      0  ...              0       0             0         0            0   \n",
       "9178      0  ...              0       0             0         0            0   \n",
       "9179      0  ...              0       0             0         0            0   \n",
       "\n",
       "      wildfires  wolffire  woodlandhills  woolseyfire  yeswx  \n",
       "0             1         0              0            0      0  \n",
       "1             0         0              0            0      0  \n",
       "2             0         0              0            0      0  \n",
       "3             0         0              0            0      0  \n",
       "4             0         0              0            0      0  \n",
       "...         ...       ...            ...          ...    ...  \n",
       "9175          0         0              0            0      0  \n",
       "9176          0         0              0            0      0  \n",
       "9177          0         0              0            0      0  \n",
       "9178          0         0              0            0      0  \n",
       "9179          0         0              0            0      0  \n",
       "\n",
       "[9180 rows x 332 columns]"
      ]
     },
     "execution_count": 455,
     "metadata": {},
     "output_type": "execute_result"
    }
   ],
   "source": [
    "hash_cvec_df = cvec_function(df['hashtags'])\n",
    "hash_cvec_df"
   ]
  },
  {
   "cell_type": "markdown",
   "metadata": {},
   "source": [
    "### Viewing Top 50 Words in `text` column:"
   ]
  },
  {
   "cell_type": "code",
   "execution_count": 456,
   "metadata": {},
   "outputs": [
    {
     "data": {
      "text/plain": [
       "saddleridgefire        1390\n",
       "tickfire                777\n",
       "knxtraffic              377\n",
       "latraffic               285\n",
       "gettyfire               218\n",
       "kincadefire             189\n",
       "californiafires         112\n",
       "easyfire                111\n",
       "losangeles              101\n",
       "rt                       96\n",
       "sigalert                 94\n",
       "knxtrafficpic            90\n",
       "california               90\n",
       "wildfires                81\n",
       "5fwy                     76\n",
       "santaclarita             72\n",
       "sylmar                   71\n",
       "lacofd                   67\n",
       "palisadesfire            64\n",
       "porterranch              63\n",
       "ca25                     59\n",
       "wildfire                 58\n",
       "405fwy                   58\n",
       "101fwy                   56\n",
       "lafd                     53\n",
       "firefighters             52\n",
       "californiawildfires      50\n",
       "pulsepointconnected      49\n",
       "60fwy                    42\n",
       "605fwy                   42\n",
       "saddleridge              42\n",
       "110fwy                   41\n",
       "sandalwoodfire           39\n",
       "kincaidfire              39\n",
       "oakfire                  38\n",
       "oldwaterfire             36\n",
       "breaking                 36\n",
       "91fwy                    36\n",
       "brushfire                35\n",
       "cawx                     34\n",
       "calfire                  34\n",
       "la                       33\n",
       "granadahills             33\n",
       "caltrans                 32\n",
       "socal                    32\n",
       "sawdayfire               27\n",
       "simivalley               27\n",
       "caplesfire               26\n",
       "castaic                  26\n",
       "beworkzonealert          26\n",
       "dtype: int64"
      ]
     },
     "execution_count": 456,
     "metadata": {},
     "output_type": "execute_result"
    }
   ],
   "source": [
    "hash_cvec_df.sum().sort_values(ascending=False).head(50)"
   ]
  },
  {
   "cell_type": "markdown",
   "metadata": {},
   "source": [
    "### Setting up data for modeling"
   ]
  },
  {
   "cell_type": "code",
   "execution_count": 457,
   "metadata": {},
   "outputs": [],
   "source": [
    "X = df_text_query['text']\n",
    "y = df_text_query['is_road_closed']"
   ]
  },
  {
   "cell_type": "code",
   "execution_count": 458,
   "metadata": {},
   "outputs": [
    {
     "data": {
      "text/plain": [
       "dtype('O')"
      ]
     },
     "execution_count": 458,
     "metadata": {},
     "output_type": "execute_result"
    }
   ],
   "source": [
    "X.dtypes"
   ]
  },
  {
   "cell_type": "code",
   "execution_count": 459,
   "metadata": {},
   "outputs": [
    {
     "data": {
      "text/plain": [
       "dtype('int64')"
      ]
     },
     "execution_count": 459,
     "metadata": {},
     "output_type": "execute_result"
    }
   ],
   "source": [
    "y.dtypes"
   ]
  },
  {
   "cell_type": "code",
   "execution_count": 460,
   "metadata": {},
   "outputs": [],
   "source": [
    "## Train, test and split the data\n",
    "X_train, X_test, y_train, y_test = train_test_split(X,\n",
    "                                                    y,\n",
    "                                                    test_size=0.33,\n",
    "                                                    stratify=y,\n",
    "                                                    random_state=42)"
   ]
  },
  {
   "cell_type": "code",
   "execution_count": 461,
   "metadata": {},
   "outputs": [
    {
     "data": {
      "text/plain": [
       "0    2892\n",
       "1     103\n",
       "Name: is_road_closed, dtype: int64"
      ]
     },
     "execution_count": 461,
     "metadata": {},
     "output_type": "execute_result"
    }
   ],
   "source": [
    "## Baseline Predictions\n",
    "y_test.value_counts()"
   ]
  },
  {
   "cell_type": "code",
   "execution_count": 482,
   "metadata": {},
   "outputs": [
    {
     "data": {
      "text/plain": [
       "0    0.965609\n",
       "1    0.034391\n",
       "Name: is_road_closed, dtype: float64"
      ]
     },
     "execution_count": 482,
     "metadata": {},
     "output_type": "execute_result"
    }
   ],
   "source": [
    "y_test.value_counts(normalize=True)"
   ]
  },
  {
   "cell_type": "code",
   "execution_count": 462,
   "metadata": {},
   "outputs": [],
   "source": []
  },
  {
   "cell_type": "markdown",
   "metadata": {},
   "source": [
    "## CountVectorization/Logistic Regression Model"
   ]
  },
  {
   "cell_type": "code",
   "execution_count": 464,
   "metadata": {},
   "outputs": [],
   "source": [
    "pipe = Pipeline([\n",
    "    ('cvec', CountVectorizer()),\n",
    "    ('logreg', LogisticRegression(solver = 'lbfgs'))\n",
    "])\n",
    "\n",
    "params = {\n",
    "    'cvec__stop_words' : [None, 'english'],\n",
    "    'logreg__penalty' : ['none','l2'],\n",
    "    'cvec__max_features': [2000, 3000, 4000, 5000],\n",
    "    'cvec__min_df': [2, 3],\n",
    "    'cvec__max_df': [.9, .95],\n",
    "    'cvec__ngram_range': [(1,1), (1,2)]\n",
    "}"
   ]
  },
  {
   "cell_type": "code",
   "execution_count": 465,
   "metadata": {},
   "outputs": [],
   "source": [
    "gs = GridSearchCV(pipe, # what object are we optimizing?\n",
    "                  params, # what parameters values are we searching?\n",
    "                  cv=5) # 5-fold cross-validation."
   ]
  },
  {
   "cell_type": "code",
   "execution_count": 466,
   "metadata": {},
   "outputs": [
    {
     "data": {
      "text/plain": [
       "GridSearchCV(cv=5, error_score='raise-deprecating',\n",
       "             estimator=Pipeline(memory=None,\n",
       "                                steps=[('cvec',\n",
       "                                        CountVectorizer(analyzer='word',\n",
       "                                                        binary=False,\n",
       "                                                        decode_error='strict',\n",
       "                                                        dtype=<class 'numpy.int64'>,\n",
       "                                                        encoding='utf-8',\n",
       "                                                        input='content',\n",
       "                                                        lowercase=True,\n",
       "                                                        max_df=1.0,\n",
       "                                                        max_features=None,\n",
       "                                                        min_df=1,\n",
       "                                                        ngram_range=(1, 1),\n",
       "                                                        preprocessor=None,\n",
       "                                                        stop_words=None,\n",
       "                                                        strip_accents=None,\n",
       "                                                        tok...\n",
       "                                                           verbose=0,\n",
       "                                                           warm_start=False))],\n",
       "                                verbose=False),\n",
       "             iid='warn', n_jobs=None,\n",
       "             param_grid={'cvec__max_df': [0.9, 0.95],\n",
       "                         'cvec__max_features': [2000, 3000, 4000, 5000],\n",
       "                         'cvec__min_df': [2, 3],\n",
       "                         'cvec__ngram_range': [(1, 1), (1, 2)],\n",
       "                         'cvec__stop_words': [None, 'english'],\n",
       "                         'logreg__penalty': ['none', 'l2']},\n",
       "             pre_dispatch='2*n_jobs', refit=True, return_train_score=False,\n",
       "             scoring=None, verbose=0)"
      ]
     },
     "execution_count": 466,
     "metadata": {},
     "output_type": "execute_result"
    }
   ],
   "source": [
    "# Fit GridSearch to training data.\n",
    "gs.fit(X_train, y_train)"
   ]
  },
  {
   "cell_type": "code",
   "execution_count": 467,
   "metadata": {},
   "outputs": [],
   "source": [
    "# Save best model as gs_model.\n",
    "gs_model = gs.best_estimator_"
   ]
  },
  {
   "cell_type": "code",
   "execution_count": 468,
   "metadata": {},
   "outputs": [
    {
     "data": {
      "text/plain": [
       "0.9993421052631579"
      ]
     },
     "execution_count": 468,
     "metadata": {},
     "output_type": "execute_result"
    }
   ],
   "source": [
    "# Score model on training set.\n",
    "gs_model.score(X_train, y_train)"
   ]
  },
  {
   "cell_type": "code",
   "execution_count": 469,
   "metadata": {},
   "outputs": [
    {
     "data": {
      "text/plain": [
       "0.9863105175292154"
      ]
     },
     "execution_count": 469,
     "metadata": {},
     "output_type": "execute_result"
    }
   ],
   "source": [
    "# Score model on testing set.\n",
    "gs_model.score(X_test, y_test)"
   ]
  },
  {
   "cell_type": "code",
   "execution_count": 470,
   "metadata": {},
   "outputs": [],
   "source": [
    "preds = gs.best_estimator_.predict(X_test)"
   ]
  },
  {
   "cell_type": "markdown",
   "metadata": {},
   "source": [
    "#### Look at the coefficients of CountVectorization/Logistic Model"
   ]
  },
  {
   "cell_type": "code",
   "execution_count": 487,
   "metadata": {},
   "outputs": [],
   "source": [
    "# look at the coefficients\n",
    "coefs = gs.best_estimator_.named_steps['logreg'].coef_[0]\n",
    "features = gs.best_estimator_.named_steps['cvec'].get_feature_names()"
   ]
  },
  {
   "cell_type": "code",
   "execution_count": 488,
   "metadata": {},
   "outputs": [],
   "source": [
    "coef_df = pd.DataFrame({'features' : features,\n",
    "             'coefficients': coefs})"
   ]
  },
  {
   "cell_type": "code",
   "execution_count": 489,
   "metadata": {},
   "outputs": [
    {
     "data": {
      "text/html": [
       "<div>\n",
       "<style scoped>\n",
       "    .dataframe tbody tr th:only-of-type {\n",
       "        vertical-align: middle;\n",
       "    }\n",
       "\n",
       "    .dataframe tbody tr th {\n",
       "        vertical-align: top;\n",
       "    }\n",
       "\n",
       "    .dataframe thead th {\n",
       "        text-align: right;\n",
       "    }\n",
       "</style>\n",
       "<table border=\"1\" class=\"dataframe\">\n",
       "  <thead>\n",
       "    <tr style=\"text-align: right;\">\n",
       "      <th></th>\n",
       "      <th>features</th>\n",
       "      <th>coefficients</th>\n",
       "    </tr>\n",
       "  </thead>\n",
       "  <tbody>\n",
       "    <tr>\n",
       "      <th>3567</th>\n",
       "      <td>road</td>\n",
       "      <td>2.615889</td>\n",
       "    </tr>\n",
       "    <tr>\n",
       "      <th>3569</th>\n",
       "      <td>road closures</td>\n",
       "      <td>1.678941</td>\n",
       "    </tr>\n",
       "    <tr>\n",
       "      <th>1107</th>\n",
       "      <td>closures</td>\n",
       "      <td>1.657915</td>\n",
       "    </tr>\n",
       "    <tr>\n",
       "      <th>2147</th>\n",
       "      <td>hwy</td>\n",
       "      <td>1.527241</td>\n",
       "    </tr>\n",
       "    <tr>\n",
       "      <th>661</th>\n",
       "      <td>avenue</td>\n",
       "      <td>1.439073</td>\n",
       "    </tr>\n",
       "    <tr>\n",
       "      <th>...</th>\n",
       "      <td>...</td>\n",
       "      <td>...</td>\n",
       "    </tr>\n",
       "    <tr>\n",
       "      <th>2464</th>\n",
       "      <td>la</td>\n",
       "      <td>-0.688243</td>\n",
       "    </tr>\n",
       "    <tr>\n",
       "      <th>3887</th>\n",
       "      <td>south near</td>\n",
       "      <td>-0.722229</td>\n",
       "    </tr>\n",
       "    <tr>\n",
       "      <th>1538</th>\n",
       "      <td>escondido</td>\n",
       "      <td>-0.738734</td>\n",
       "    </tr>\n",
       "    <tr>\n",
       "      <th>3105</th>\n",
       "      <td>open</td>\n",
       "      <td>-0.782942</td>\n",
       "    </tr>\n",
       "    <tr>\n",
       "      <th>2930</th>\n",
       "      <td>north at</td>\n",
       "      <td>-0.803113</td>\n",
       "    </tr>\n",
       "  </tbody>\n",
       "</table>\n",
       "<p>5000 rows × 2 columns</p>\n",
       "</div>"
      ],
      "text/plain": [
       "           features  coefficients\n",
       "3567           road      2.615889\n",
       "3569  road closures      1.678941\n",
       "1107       closures      1.657915\n",
       "2147            hwy      1.527241\n",
       "661          avenue      1.439073\n",
       "...             ...           ...\n",
       "2464             la     -0.688243\n",
       "3887     south near     -0.722229\n",
       "1538      escondido     -0.738734\n",
       "3105           open     -0.782942\n",
       "2930       north at     -0.803113\n",
       "\n",
       "[5000 rows x 2 columns]"
      ]
     },
     "execution_count": 489,
     "metadata": {},
     "output_type": "execute_result"
    }
   ],
   "source": [
    "coef_df.sort_values('coefficients', ascending = False)"
   ]
  },
  {
   "cell_type": "markdown",
   "metadata": {},
   "source": [
    "#### Evaluation and Confusion Matrix of CountVectorization/Logistic Regression Model"
   ]
  },
  {
   "cell_type": "code",
   "execution_count": 471,
   "metadata": {},
   "outputs": [
    {
     "name": "stdout",
     "output_type": "stream",
     "text": [
      "Accuracy Score: 0.9863105175292154\n"
     ]
    },
    {
     "data": {
      "text/html": [
       "<div>\n",
       "<style scoped>\n",
       "    .dataframe tbody tr th:only-of-type {\n",
       "        vertical-align: middle;\n",
       "    }\n",
       "\n",
       "    .dataframe tbody tr th {\n",
       "        vertical-align: top;\n",
       "    }\n",
       "\n",
       "    .dataframe thead th {\n",
       "        text-align: right;\n",
       "    }\n",
       "</style>\n",
       "<table border=\"1\" class=\"dataframe\">\n",
       "  <thead>\n",
       "    <tr style=\"text-align: right;\">\n",
       "      <th></th>\n",
       "      <th>Predicted open</th>\n",
       "      <th>Predicted is_road_closed</th>\n",
       "    </tr>\n",
       "  </thead>\n",
       "  <tbody>\n",
       "    <tr>\n",
       "      <th>Actual open</th>\n",
       "      <td>2886</td>\n",
       "      <td>6</td>\n",
       "    </tr>\n",
       "    <tr>\n",
       "      <th>Actual is_road_closed</th>\n",
       "      <td>35</td>\n",
       "      <td>68</td>\n",
       "    </tr>\n",
       "  </tbody>\n",
       "</table>\n",
       "</div>"
      ],
      "text/plain": [
       "                       Predicted open  Predicted is_road_closed\n",
       "Actual open                      2886                         6\n",
       "Actual is_road_closed              35                        68"
      ]
     },
     "execution_count": 471,
     "metadata": {},
     "output_type": "execute_result"
    }
   ],
   "source": [
    "def nice_conmat(y_test, preds, classes):\n",
    "    conmat = confusion_matrix(y_test, preds)\n",
    "    \n",
    "    print(f'Accuracy Score: {accuracy_score(y_test, preds)}')\n",
    "    return pd.DataFrame(conmat, columns=['Predicted ' +class_ for class_ in classes], \\\n",
    "                index=['Actual '+ class_ for class_ in classes])\n",
    "\n",
    "nice_conmat(y_test, preds, ['open', 'is_road_closed'])"
   ]
  },
  {
   "cell_type": "code",
   "execution_count": 483,
   "metadata": {},
   "outputs": [],
   "source": [
    "TN = 2886\n",
    "FN = 35\n",
    "FP = 6\n",
    "TP = 68"
   ]
  },
  {
   "cell_type": "code",
   "execution_count": 485,
   "metadata": {},
   "outputs": [
    {
     "data": {
      "text/plain": [
       "0.6601941747572816"
      ]
     },
     "execution_count": 485,
     "metadata": {},
     "output_type": "execute_result"
    }
   ],
   "source": [
    "# Recall / Sensitivity for CountVect/LogReg\n",
    "TP / (TP + FN)"
   ]
  },
  {
   "cell_type": "code",
   "execution_count": 486,
   "metadata": {},
   "outputs": [
    {
     "data": {
      "text/plain": [
       "0.9979253112033195"
      ]
     },
     "execution_count": 486,
     "metadata": {},
     "output_type": "execute_result"
    }
   ],
   "source": [
    "# Specificity for CountVect/LogReg\n",
    "TN / (FP + TN)"
   ]
  },
  {
   "cell_type": "markdown",
   "metadata": {},
   "source": [
    "#### Type I Error (or False Positive) is a result that indicates that a given condition is present when it actually is not present. In our model, it would be incorrectly predicting the road was closed, when it is actually open. In our example this would cause less cars/traffic/people using a safe escape route. A low FP value would mean less routes were incorrectly flagged as road being closed, maximizing the amount of escape routes. "
   ]
  },
  {
   "cell_type": "markdown",
   "metadata": {},
   "source": [
    "#### Type II Error (or False Negative) is a result that indicates that a given condition is not present when it actually is present. In our model, it would be incorrectly predicting the road was open, when it is actually closed. With this model we would want to minimize Type II errors, it could potentially be catastrophic to send a evacuee into a dangerous situation not to mention cause an increase in traffic. Unfortunately, our data and modeling indicate a relatively high level of false negatives. "
   ]
  },
  {
   "cell_type": "markdown",
   "metadata": {},
   "source": [
    "## TFIDF/Logistic Regression Model"
   ]
  },
  {
   "cell_type": "code",
   "execution_count": 472,
   "metadata": {},
   "outputs": [],
   "source": [
    "pipe_v2 = Pipeline([\n",
    "    ('tfidf', TfidfVectorizer()),\n",
    "    ('logreg', LogisticRegression(solver = 'lbfgs'))\n",
    "])\n",
    "\n",
    "params_2 = {\n",
    "    'logreg__penalty' : ['none','l2'],\n",
    "}"
   ]
  },
  {
   "cell_type": "code",
   "execution_count": 473,
   "metadata": {},
   "outputs": [],
   "source": [
    "gs_2 = GridSearchCV(pipe_v2, # what object are we optimizing?\n",
    "                  params_2, # what parameters values are we searching?\n",
    "                  cv=5) # 5-fold cross-validation."
   ]
  },
  {
   "cell_type": "code",
   "execution_count": 474,
   "metadata": {},
   "outputs": [
    {
     "data": {
      "text/plain": [
       "GridSearchCV(cv=5, error_score='raise-deprecating',\n",
       "             estimator=Pipeline(memory=None,\n",
       "                                steps=[('tfidf',\n",
       "                                        TfidfVectorizer(analyzer='word',\n",
       "                                                        binary=False,\n",
       "                                                        decode_error='strict',\n",
       "                                                        dtype=<class 'numpy.float64'>,\n",
       "                                                        encoding='utf-8',\n",
       "                                                        input='content',\n",
       "                                                        lowercase=True,\n",
       "                                                        max_df=1.0,\n",
       "                                                        max_features=None,\n",
       "                                                        min_df=1,\n",
       "                                                        ngram_range=(1, 1),\n",
       "                                                        norm='l2',\n",
       "                                                        preprocessor=None,\n",
       "                                                        smooth_idf=True,\n",
       "                                                        stop_word...\n",
       "                                                           fit_intercept=True,\n",
       "                                                           intercept_scaling=1,\n",
       "                                                           l1_ratio=None,\n",
       "                                                           max_iter=100,\n",
       "                                                           multi_class='warn',\n",
       "                                                           n_jobs=None,\n",
       "                                                           penalty='l2',\n",
       "                                                           random_state=None,\n",
       "                                                           solver='lbfgs',\n",
       "                                                           tol=0.0001,\n",
       "                                                           verbose=0,\n",
       "                                                           warm_start=False))],\n",
       "                                verbose=False),\n",
       "             iid='warn', n_jobs=None,\n",
       "             param_grid={'logreg__penalty': ['none', 'l2']},\n",
       "             pre_dispatch='2*n_jobs', refit=True, return_train_score=False,\n",
       "             scoring=None, verbose=0)"
      ]
     },
     "execution_count": 474,
     "metadata": {},
     "output_type": "execute_result"
    }
   ],
   "source": [
    "# Fit GridSearch to training data.\n",
    "gs_2.fit(X_train, y_train)"
   ]
  },
  {
   "cell_type": "code",
   "execution_count": 475,
   "metadata": {},
   "outputs": [],
   "source": [
    "# Save best model as gs_model.\n",
    "gs_2_model = gs_2.best_estimator_"
   ]
  },
  {
   "cell_type": "code",
   "execution_count": 476,
   "metadata": {},
   "outputs": [
    {
     "data": {
      "text/plain": [
       "1.0"
      ]
     },
     "execution_count": 476,
     "metadata": {},
     "output_type": "execute_result"
    }
   ],
   "source": [
    "# Score model on training set.\n",
    "gs_2_model.score(X_train, y_train)"
   ]
  },
  {
   "cell_type": "code",
   "execution_count": 477,
   "metadata": {},
   "outputs": [
    {
     "data": {
      "text/plain": [
       "0.9853088480801335"
      ]
     },
     "execution_count": 477,
     "metadata": {},
     "output_type": "execute_result"
    }
   ],
   "source": [
    "# Score model on testing set.\n",
    "gs_2_model.score(X_test, y_test)"
   ]
  },
  {
   "cell_type": "code",
   "execution_count": 490,
   "metadata": {},
   "outputs": [],
   "source": [
    "preds_tfidf = gs_2.best_estimator_.predict(X_test)"
   ]
  },
  {
   "cell_type": "code",
   "execution_count": 493,
   "metadata": {},
   "outputs": [
    {
     "name": "stdout",
     "output_type": "stream",
     "text": [
      "Accuracy Score: 0.9853088480801335\n"
     ]
    },
    {
     "data": {
      "text/html": [
       "<div>\n",
       "<style scoped>\n",
       "    .dataframe tbody tr th:only-of-type {\n",
       "        vertical-align: middle;\n",
       "    }\n",
       "\n",
       "    .dataframe tbody tr th {\n",
       "        vertical-align: top;\n",
       "    }\n",
       "\n",
       "    .dataframe thead th {\n",
       "        text-align: right;\n",
       "    }\n",
       "</style>\n",
       "<table border=\"1\" class=\"dataframe\">\n",
       "  <thead>\n",
       "    <tr style=\"text-align: right;\">\n",
       "      <th></th>\n",
       "      <th>Predicted open</th>\n",
       "      <th>Predicted is_road_closed</th>\n",
       "    </tr>\n",
       "  </thead>\n",
       "  <tbody>\n",
       "    <tr>\n",
       "      <th>Actual open</th>\n",
       "      <td>2874</td>\n",
       "      <td>18</td>\n",
       "    </tr>\n",
       "    <tr>\n",
       "      <th>Actual is_road_closed</th>\n",
       "      <td>26</td>\n",
       "      <td>77</td>\n",
       "    </tr>\n",
       "  </tbody>\n",
       "</table>\n",
       "</div>"
      ],
      "text/plain": [
       "                       Predicted open  Predicted is_road_closed\n",
       "Actual open                      2874                        18\n",
       "Actual is_road_closed              26                        77"
      ]
     },
     "execution_count": 493,
     "metadata": {},
     "output_type": "execute_result"
    }
   ],
   "source": [
    "def nice_conmat(y_test, preds_tfidf, classes):\n",
    "    conmat = confusion_matrix(y_test, preds_tfidf)\n",
    "    \n",
    "    print(f'Accuracy Score: {accuracy_score(y_test, preds_tfidf)}')\n",
    "    return pd.DataFrame(conmat, columns=['Predicted ' +class_ for class_ in classes], \\\n",
    "                index=['Actual '+ class_ for class_ in classes])\n",
    "\n",
    "nice_conmat(y_test, preds_tfidf, ['open', 'is_road_closed'])"
   ]
  },
  {
   "cell_type": "code",
   "execution_count": 495,
   "metadata": {},
   "outputs": [],
   "source": [
    "TN_tfidf = 2874\n",
    "FN_tfidf = 26\n",
    "FP_tfidf = 18\n",
    "TP_tfidf = 77"
   ]
  },
  {
   "cell_type": "code",
   "execution_count": 496,
   "metadata": {},
   "outputs": [
    {
     "data": {
      "text/plain": [
       "0.7475728155339806"
      ]
     },
     "execution_count": 496,
     "metadata": {},
     "output_type": "execute_result"
    }
   ],
   "source": [
    "# Recall / Sensitivity for TFIDFt/LogReg\n",
    "TP_tfidf / (TP_tfidf + FN_tfidf)"
   ]
  },
  {
   "cell_type": "code",
   "execution_count": 497,
   "metadata": {},
   "outputs": [
    {
     "data": {
      "text/plain": [
       "0.9937759336099585"
      ]
     },
     "execution_count": 497,
     "metadata": {},
     "output_type": "execute_result"
    }
   ],
   "source": [
    "# Specificity for TFIDF/LogReg\n",
    "TN_tfidf / (FP_tfidf + TN_tfidf)"
   ]
  },
  {
   "cell_type": "markdown",
   "metadata": {},
   "source": [
    "## Filtering True Positives"
   ]
  },
  {
   "cell_type": "code",
   "execution_count": 498,
   "metadata": {},
   "outputs": [
    {
     "data": {
      "text/html": [
       "<div>\n",
       "<style scoped>\n",
       "    .dataframe tbody tr th:only-of-type {\n",
       "        vertical-align: middle;\n",
       "    }\n",
       "\n",
       "    .dataframe tbody tr th {\n",
       "        vertical-align: top;\n",
       "    }\n",
       "\n",
       "    .dataframe thead th {\n",
       "        text-align: right;\n",
       "    }\n",
       "</style>\n",
       "<table border=\"1\" class=\"dataframe\">\n",
       "  <thead>\n",
       "    <tr style=\"text-align: right;\">\n",
       "      <th></th>\n",
       "      <th>username</th>\n",
       "      <th>text</th>\n",
       "      <th>query</th>\n",
       "      <th>is_road_closed</th>\n",
       "    </tr>\n",
       "  </thead>\n",
       "  <tbody>\n",
       "    <tr>\n",
       "      <th>0</th>\n",
       "      <td>EPCF #GreenNewDeal #SunriseMovement</td>\n",
       "      <td>our hearts go out to californians affected by ...</td>\n",
       "      <td>saddleridgefire</td>\n",
       "      <td>0</td>\n",
       "    </tr>\n",
       "    <tr>\n",
       "      <th>1</th>\n",
       "      <td>Jason Singson</td>\n",
       "      <td>from the #saddleridgefire to the #kincadefire,...</td>\n",
       "      <td>saddleridgefire</td>\n",
       "      <td>0</td>\n",
       "    </tr>\n",
       "    <tr>\n",
       "      <th>2</th>\n",
       "      <td>Brandy Grote</td>\n",
       "      <td>our #saddleridgefire leaped a 12 lane major fr...</td>\n",
       "      <td>saddleridgefire</td>\n",
       "      <td>0</td>\n",
       "    </tr>\n",
       "    <tr>\n",
       "      <th>3</th>\n",
       "      <td>Mark In SoCal</td>\n",
       "      <td>good morning, sam!\\nall is well here. however,...</td>\n",
       "      <td>saddleridgefire</td>\n",
       "      <td>0</td>\n",
       "    </tr>\n",
       "    <tr>\n",
       "      <th>4</th>\n",
       "      <td>LVTIA</td>\n",
       "      <td>was your property or home damaged by the #sadd...</td>\n",
       "      <td>saddleridgefire</td>\n",
       "      <td>0</td>\n",
       "    </tr>\n",
       "    <tr>\n",
       "      <th>...</th>\n",
       "      <td>...</td>\n",
       "      <td>...</td>\n",
       "      <td>...</td>\n",
       "      <td>...</td>\n",
       "    </tr>\n",
       "    <tr>\n",
       "      <th>9175</th>\n",
       "      <td>Claudia Peschiutta</td>\n",
       "      <td>former state lawmaker says hes got a plan to c...</td>\n",
       "      <td>KNX1070</td>\n",
       "      <td>0</td>\n",
       "    </tr>\n",
       "    <tr>\n",
       "      <th>9176</th>\n",
       "      <td>Eden</td>\n",
       "      <td>totally makes sense to do this midday</td>\n",
       "      <td>KNX1070</td>\n",
       "      <td>0</td>\n",
       "    </tr>\n",
       "    <tr>\n",
       "      <th>9177</th>\n",
       "      <td>KNX 1070 NEWSRADIO</td>\n",
       "      <td>a sanford, maine mom says her 9-year-old birac...</td>\n",
       "      <td>KNX1070</td>\n",
       "      <td>0</td>\n",
       "    </tr>\n",
       "    <tr>\n",
       "      <th>9178</th>\n",
       "      <td>Andy</td>\n",
       "      <td>i noticed it in anaheim hills, it looks crazy!</td>\n",
       "      <td>KNX1070</td>\n",
       "      <td>0</td>\n",
       "    </tr>\n",
       "    <tr>\n",
       "      <th>9179</th>\n",
       "      <td>KNX 1070 NEWSRADIO</td>\n",
       "      <td>the copyright owners of the \"charlie brown chr...</td>\n",
       "      <td>KNX1070</td>\n",
       "      <td>0</td>\n",
       "    </tr>\n",
       "  </tbody>\n",
       "</table>\n",
       "<p>9075 rows × 4 columns</p>\n",
       "</div>"
      ],
      "text/plain": [
       "                                 username  \\\n",
       "0     EPCF #GreenNewDeal #SunriseMovement   \n",
       "1                           Jason Singson   \n",
       "2                            Brandy Grote   \n",
       "3                           Mark In SoCal   \n",
       "4                                   LVTIA   \n",
       "...                                   ...   \n",
       "9175                   Claudia Peschiutta   \n",
       "9176                                 Eden   \n",
       "9177                   KNX 1070 NEWSRADIO   \n",
       "9178                                 Andy   \n",
       "9179                   KNX 1070 NEWSRADIO   \n",
       "\n",
       "                                                   text            query  \\\n",
       "0     our hearts go out to californians affected by ...  saddleridgefire   \n",
       "1     from the #saddleridgefire to the #kincadefire,...  saddleridgefire   \n",
       "2     our #saddleridgefire leaped a 12 lane major fr...  saddleridgefire   \n",
       "3     good morning, sam!\\nall is well here. however,...  saddleridgefire   \n",
       "4     was your property or home damaged by the #sadd...  saddleridgefire   \n",
       "...                                                 ...              ...   \n",
       "9175  former state lawmaker says hes got a plan to c...          KNX1070   \n",
       "9176             totally makes sense to do this midday           KNX1070   \n",
       "9177  a sanford, maine mom says her 9-year-old birac...          KNX1070   \n",
       "9178     i noticed it in anaheim hills, it looks crazy!          KNX1070   \n",
       "9179  the copyright owners of the \"charlie brown chr...          KNX1070   \n",
       "\n",
       "      is_road_closed  \n",
       "0                  0  \n",
       "1                  0  \n",
       "2                  0  \n",
       "3                  0  \n",
       "4                  0  \n",
       "...              ...  \n",
       "9175               0  \n",
       "9176               0  \n",
       "9177               0  \n",
       "9178               0  \n",
       "9179               0  \n",
       "\n",
       "[9075 rows x 4 columns]"
      ]
     },
     "execution_count": 498,
     "metadata": {},
     "output_type": "execute_result"
    }
   ],
   "source": [
    "df_text_query"
   ]
  },
  {
   "cell_type": "code",
   "execution_count": 500,
   "metadata": {},
   "outputs": [
    {
     "data": {
      "text/plain": [
       "2995"
      ]
     },
     "execution_count": 500,
     "metadata": {},
     "output_type": "execute_result"
    }
   ],
   "source": [
    "len(preds_tfidf)"
   ]
  },
  {
   "cell_type": "code",
   "execution_count": 504,
   "metadata": {},
   "outputs": [],
   "source": [
    "x_test_indices = list(X_test.index)"
   ]
  },
  {
   "cell_type": "code",
   "execution_count": 507,
   "metadata": {},
   "outputs": [
    {
     "data": {
      "text/html": [
       "<div>\n",
       "<style scoped>\n",
       "    .dataframe tbody tr th:only-of-type {\n",
       "        vertical-align: middle;\n",
       "    }\n",
       "\n",
       "    .dataframe tbody tr th {\n",
       "        vertical-align: top;\n",
       "    }\n",
       "\n",
       "    .dataframe thead th {\n",
       "        text-align: right;\n",
       "    }\n",
       "</style>\n",
       "<table border=\"1\" class=\"dataframe\">\n",
       "  <thead>\n",
       "    <tr style=\"text-align: right;\">\n",
       "      <th></th>\n",
       "      <th>username</th>\n",
       "      <th>text</th>\n",
       "      <th>query</th>\n",
       "      <th>is_road_closed</th>\n",
       "    </tr>\n",
       "  </thead>\n",
       "  <tbody>\n",
       "    <tr>\n",
       "      <th>8433</th>\n",
       "      <td>KNX 1070 NEWSRADIO</td>\n",
       "      <td>watch video of alanis morissette sharing her n...</td>\n",
       "      <td>KNX1070</td>\n",
       "      <td>0</td>\n",
       "    </tr>\n",
       "    <tr>\n",
       "      <th>6162</th>\n",
       "      <td>LACoFD Incident Alerts</td>\n",
       "      <td>they’re engines equipped with cafs (compressed...</td>\n",
       "      <td>LACoFD911</td>\n",
       "      <td>0</td>\n",
       "    </tr>\n",
       "    <tr>\n",
       "      <th>7271</th>\n",
       "      <td>Brian Douglas</td>\n",
       "      <td>brush fire burning in the ventura riverbed has...</td>\n",
       "      <td>KNX1070</td>\n",
       "      <td>0</td>\n",
       "    </tr>\n",
       "    <tr>\n",
       "      <th>1724</th>\n",
       "      <td>AJ Tenney</td>\n",
       "      <td>lost out on two days of work due to the #tickf...</td>\n",
       "      <td>tickfire</td>\n",
       "      <td>0</td>\n",
       "    </tr>\n",
       "    <tr>\n",
       "      <th>394</th>\n",
       "      <td>AI6YR</td>\n",
       "      <td>#tickfire some confusion over the 23121 coltra...</td>\n",
       "      <td>saddleridgefire</td>\n",
       "      <td>0</td>\n",
       "    </tr>\n",
       "  </tbody>\n",
       "</table>\n",
       "</div>"
      ],
      "text/plain": [
       "                    username  \\\n",
       "8433      KNX 1070 NEWSRADIO   \n",
       "6162  LACoFD Incident Alerts   \n",
       "7271           Brian Douglas   \n",
       "1724               AJ Tenney   \n",
       "394                    AI6YR   \n",
       "\n",
       "                                                   text            query  \\\n",
       "8433  watch video of alanis morissette sharing her n...          KNX1070   \n",
       "6162  they’re engines equipped with cafs (compressed...        LACoFD911   \n",
       "7271  brush fire burning in the ventura riverbed has...          KNX1070   \n",
       "1724  lost out on two days of work due to the #tickf...         tickfire   \n",
       "394   #tickfire some confusion over the 23121 coltra...  saddleridgefire   \n",
       "\n",
       "      is_road_closed  \n",
       "8433               0  \n",
       "6162               0  \n",
       "7271               0  \n",
       "1724               0  \n",
       "394                0  "
      ]
     },
     "execution_count": 507,
     "metadata": {},
     "output_type": "execute_result"
    }
   ],
   "source": [
    "x_test_df = df_text_query.loc[x_test_indices, :]\n",
    "x_test_df.head()"
   ]
  },
  {
   "cell_type": "code",
   "execution_count": 508,
   "metadata": {},
   "outputs": [],
   "source": [
    "x_test_df['y_preds'] = preds_tfidf"
   ]
  },
  {
   "cell_type": "code",
   "execution_count": 511,
   "metadata": {},
   "outputs": [],
   "source": [
    "road_closed_true = (x_test_df['is_road_closed'] == 1)\n",
    "road_closed_pred = (x_test_df['y_preds'] == 1)\n",
    "\n",
    "X_test_true_pos = x_test_df[road_closed_true & road_closed_pred]"
   ]
  },
  {
   "cell_type": "code",
   "execution_count": 519,
   "metadata": {},
   "outputs": [
    {
     "data": {
      "text/html": [
       "<div>\n",
       "<style scoped>\n",
       "    .dataframe tbody tr th:only-of-type {\n",
       "        vertical-align: middle;\n",
       "    }\n",
       "\n",
       "    .dataframe tbody tr th {\n",
       "        vertical-align: top;\n",
       "    }\n",
       "\n",
       "    .dataframe thead th {\n",
       "        text-align: right;\n",
       "    }\n",
       "</style>\n",
       "<table border=\"1\" class=\"dataframe\">\n",
       "  <thead>\n",
       "    <tr style=\"text-align: right;\">\n",
       "      <th></th>\n",
       "      <th>username</th>\n",
       "      <th>text</th>\n",
       "      <th>query</th>\n",
       "      <th>is_road_closed</th>\n",
       "      <th>y_preds</th>\n",
       "    </tr>\n",
       "  </thead>\n",
       "  <tbody>\n",
       "    <tr>\n",
       "      <th>7145</th>\n",
       "      <td>Go511</td>\n",
       "      <td>#tickfire update\\n\\nsr-14 south between agua d...</td>\n",
       "      <td>Go511</td>\n",
       "      <td>1</td>\n",
       "      <td>1</td>\n",
       "    </tr>\n",
       "    <tr>\n",
       "      <th>7708</th>\n",
       "      <td>Brian Douglas</td>\n",
       "      <td>#sigalert!!! sb #605fwy just past peck rd cras...</td>\n",
       "      <td>KNX1070</td>\n",
       "      <td>1</td>\n",
       "      <td>1</td>\n",
       "    </tr>\n",
       "    <tr>\n",
       "      <th>7014</th>\n",
       "      <td>Go511</td>\n",
       "      <td>tick fire\\nall lanes closed in both directions...</td>\n",
       "      <td>Go511</td>\n",
       "      <td>1</td>\n",
       "      <td>1</td>\n",
       "    </tr>\n",
       "    <tr>\n",
       "      <th>3489</th>\n",
       "      <td>Caltrans District 7</td>\n",
       "      <td>nb i-5 all lanes scheduled to be closed norwal...</td>\n",
       "      <td>CaltransDist7</td>\n",
       "      <td>1</td>\n",
       "      <td>1</td>\n",
       "    </tr>\n",
       "    <tr>\n",
       "      <th>3640</th>\n",
       "      <td>Caltrans District 7</td>\n",
       "      <td>nb &amp; sb i-5 scheduled to be closed from artesi...</td>\n",
       "      <td>CaltransDist7</td>\n",
       "      <td>1</td>\n",
       "      <td>1</td>\n",
       "    </tr>\n",
       "    <tr>\n",
       "      <th>4062</th>\n",
       "      <td>JoAnn @ ESAudio:)</td>\n",
       "      <td>\"#nb14 (#antelopevalleyfwy) - two right lanes ...</td>\n",
       "      <td>CaltransDist7</td>\n",
       "      <td>1</td>\n",
       "      <td>1</td>\n",
       "    </tr>\n",
       "    <tr>\n",
       "      <th>8580</th>\n",
       "      <td>Desmond Shaw</td>\n",
       "      <td>the ripple effect from the closures on the #sa...</td>\n",
       "      <td>KNX1070</td>\n",
       "      <td>1</td>\n",
       "      <td>1</td>\n",
       "    </tr>\n",
       "    <tr>\n",
       "      <th>6957</th>\n",
       "      <td>Go511</td>\n",
       "      <td>#easyfire closure update:\\n\\n-sr-23 in both di...</td>\n",
       "      <td>Go511</td>\n",
       "      <td>1</td>\n",
       "      <td>1</td>\n",
       "    </tr>\n",
       "    <tr>\n",
       "      <th>6978</th>\n",
       "      <td>Go511</td>\n",
       "      <td>#easyfire closure updates\\n\\non &amp; off-ramps:\\n...</td>\n",
       "      <td>Go511</td>\n",
       "      <td>1</td>\n",
       "      <td>1</td>\n",
       "    </tr>\n",
       "    <tr>\n",
       "      <th>4488</th>\n",
       "      <td>Caltrans District 7</td>\n",
       "      <td>for current highway closures and traffic condi...</td>\n",
       "      <td>CaltransDist7</td>\n",
       "      <td>1</td>\n",
       "      <td>1</td>\n",
       "    </tr>\n",
       "    <tr>\n",
       "      <th>4346</th>\n",
       "      <td>CEDR Digital Corps</td>\n",
       "      <td>#losangeles road closures in place for #tickfi...</td>\n",
       "      <td>CaltransDist7</td>\n",
       "      <td>1</td>\n",
       "      <td>1</td>\n",
       "    </tr>\n",
       "    <tr>\n",
       "      <th>3699</th>\n",
       "      <td>Caltrans District 7</td>\n",
       "      <td>traffic advisory: right lane of wb i-10 from a...</td>\n",
       "      <td>CaltransDist7</td>\n",
       "      <td>1</td>\n",
       "      <td>1</td>\n",
       "    </tr>\n",
       "    <tr>\n",
       "      <th>6432</th>\n",
       "      <td>Go511</td>\n",
       "      <td>traffic alert in westminster\\nsr-22 east, just...</td>\n",
       "      <td>Go511</td>\n",
       "      <td>1</td>\n",
       "      <td>1</td>\n",
       "    </tr>\n",
       "    <tr>\n",
       "      <th>6736</th>\n",
       "      <td>Go511</td>\n",
       "      <td>sigalert \\nla county, monterey park\\ni-710 nor...</td>\n",
       "      <td>Go511</td>\n",
       "      <td>1</td>\n",
       "      <td>1</td>\n",
       "    </tr>\n",
       "    <tr>\n",
       "      <th>6744</th>\n",
       "      <td>Go511</td>\n",
       "      <td>closure alert \\nall lanes are closed in both d...</td>\n",
       "      <td>Go511</td>\n",
       "      <td>1</td>\n",
       "      <td>1</td>\n",
       "    </tr>\n",
       "    <tr>\n",
       "      <th>9152</th>\n",
       "      <td>scott burt</td>\n",
       "      <td>#118fwy eb yosemite ave off-ramp closed with a...</td>\n",
       "      <td>KNX1070</td>\n",
       "      <td>1</td>\n",
       "      <td>1</td>\n",
       "    </tr>\n",
       "    <tr>\n",
       "      <th>8273</th>\n",
       "      <td>Brian Douglas</td>\n",
       "      <td>#sigalert continues for the eb #60fwy past hac...</td>\n",
       "      <td>KNX1070</td>\n",
       "      <td>1</td>\n",
       "      <td>1</td>\n",
       "    </tr>\n",
       "    <tr>\n",
       "      <th>6727</th>\n",
       "      <td>Go511</td>\n",
       "      <td>all lanes closed in both directions i-5 betwee...</td>\n",
       "      <td>Go511</td>\n",
       "      <td>1</td>\n",
       "      <td>1</td>\n",
       "    </tr>\n",
       "    <tr>\n",
       "      <th>3447</th>\n",
       "      <td>Los Angeles Traffic</td>\n",
       "      <td>full freeway closure thru #eastla south 710 cl...</td>\n",
       "      <td>CaltransDist7</td>\n",
       "      <td>1</td>\n",
       "      <td>1</td>\n",
       "    </tr>\n",
       "    <tr>\n",
       "      <th>6668</th>\n",
       "      <td>Go511</td>\n",
       "      <td>sigalert in sylmar\\ni-5 south, just north of r...</td>\n",
       "      <td>Go511</td>\n",
       "      <td>1</td>\n",
       "      <td>1</td>\n",
       "    </tr>\n",
       "  </tbody>\n",
       "</table>\n",
       "</div>"
      ],
      "text/plain": [
       "                 username                                               text  \\\n",
       "7145                Go511  #tickfire update\\n\\nsr-14 south between agua d...   \n",
       "7708        Brian Douglas  #sigalert!!! sb #605fwy just past peck rd cras...   \n",
       "7014                Go511  tick fire\\nall lanes closed in both directions...   \n",
       "3489  Caltrans District 7  nb i-5 all lanes scheduled to be closed norwal...   \n",
       "3640  Caltrans District 7  nb & sb i-5 scheduled to be closed from artesi...   \n",
       "4062    JoAnn @ ESAudio:)  \"#nb14 (#antelopevalleyfwy) - two right lanes ...   \n",
       "8580         Desmond Shaw  the ripple effect from the closures on the #sa...   \n",
       "6957                Go511  #easyfire closure update:\\n\\n-sr-23 in both di...   \n",
       "6978                Go511  #easyfire closure updates\\n\\non & off-ramps:\\n...   \n",
       "4488  Caltrans District 7  for current highway closures and traffic condi...   \n",
       "4346   CEDR Digital Corps  #losangeles road closures in place for #tickfi...   \n",
       "3699  Caltrans District 7  traffic advisory: right lane of wb i-10 from a...   \n",
       "6432                Go511  traffic alert in westminster\\nsr-22 east, just...   \n",
       "6736                Go511  sigalert \\nla county, monterey park\\ni-710 nor...   \n",
       "6744                Go511  closure alert \\nall lanes are closed in both d...   \n",
       "9152           scott burt  #118fwy eb yosemite ave off-ramp closed with a...   \n",
       "8273        Brian Douglas  #sigalert continues for the eb #60fwy past hac...   \n",
       "6727                Go511  all lanes closed in both directions i-5 betwee...   \n",
       "3447  Los Angeles Traffic  full freeway closure thru #eastla south 710 cl...   \n",
       "6668                Go511  sigalert in sylmar\\ni-5 south, just north of r...   \n",
       "\n",
       "              query  is_road_closed  y_preds  \n",
       "7145          Go511               1        1  \n",
       "7708        KNX1070               1        1  \n",
       "7014          Go511               1        1  \n",
       "3489  CaltransDist7               1        1  \n",
       "3640  CaltransDist7               1        1  \n",
       "4062  CaltransDist7               1        1  \n",
       "8580        KNX1070               1        1  \n",
       "6957          Go511               1        1  \n",
       "6978          Go511               1        1  \n",
       "4488  CaltransDist7               1        1  \n",
       "4346  CaltransDist7               1        1  \n",
       "3699  CaltransDist7               1        1  \n",
       "6432          Go511               1        1  \n",
       "6736          Go511               1        1  \n",
       "6744          Go511               1        1  \n",
       "9152        KNX1070               1        1  \n",
       "8273        KNX1070               1        1  \n",
       "6727          Go511               1        1  \n",
       "3447  CaltransDist7               1        1  \n",
       "6668          Go511               1        1  "
      ]
     },
     "execution_count": 519,
     "metadata": {},
     "output_type": "execute_result"
    }
   ],
   "source": [
    "X_test_true_pos.head(20)"
   ]
  },
  {
   "cell_type": "code",
   "execution_count": 514,
   "metadata": {},
   "outputs": [
    {
     "data": {
      "text/plain": [
       "'#tickfire update\\n\\nsr-14 south between agua dulce canyon rd and soledad canyon rd,  the right lane is shutdown for an unknown duration. expect delays up to 2 hrs.\\n\\nstop and go traffic through the closure. all northbound lanes have been re-opened.'"
      ]
     },
     "execution_count": 514,
     "metadata": {},
     "output_type": "execute_result"
    }
   ],
   "source": [
    "X_test_true_pos['text'][7145]"
   ]
  },
  {
   "cell_type": "code",
   "execution_count": 516,
   "metadata": {},
   "outputs": [
    {
     "data": {
      "text/plain": [
       "'#sigalert!!! sb #605fwy just past peck rd crash has the 2 left lns blocked with a jam up starting at the 10.  @knx1070 #knxtraffic @caltransdist7pic.twitter.com/qfnmqzvdlp'"
      ]
     },
     "execution_count": 516,
     "metadata": {},
     "output_type": "execute_result"
    }
   ],
   "source": [
    "X_test_true_pos['text'][7708]"
   ]
  },
  {
   "cell_type": "code",
   "execution_count": 517,
   "metadata": {},
   "outputs": [
    {
     "data": {
      "text/plain": [
       "'tick fire\\nall lanes closed in both directions on the sr-14 between golden valley rd and agua dulce cyn rd.\\n\\nsand cyn closed between sierra hwy and soledad cyn rd \\n\\nvasquez cyn rd closed between sierra hwy and bouquet cyn rd \\n\\nsierra hwy closed between sand cyn rd and davenport rd'"
      ]
     },
     "execution_count": 517,
     "metadata": {},
     "output_type": "execute_result"
    }
   ],
   "source": [
    "X_test_true_pos['text'][7014]"
   ]
  },
  {
   "cell_type": "code",
   "execution_count": 520,
   "metadata": {},
   "outputs": [
    {
     "data": {
      "text/plain": [
       "'nb i-5 all lanes scheduled to be closed norwalk bl to i-605 night of tue 11/5 & again night of wed 11/6. may repeat night of thursday 11/7. to construct falsework (temporary frame support) for 2nd half of new bridge over nb lanes. for more go to \\nhttp: tinyurl.com/y57nyafo\\xa0pic.twitter.com/dwwaefvxlh'"
      ]
     },
     "execution_count": 520,
     "metadata": {},
     "output_type": "execute_result"
    }
   ],
   "source": [
    "X_test_true_pos['text'][3489]"
   ]
  },
  {
   "cell_type": "code",
   "execution_count": 522,
   "metadata": {},
   "outputs": [
    {
     "data": {
      "text/plain": [
       "'nb & sb i-5 scheduled to be closed from artesia bl to carmenita rd from 11pm to 5am each night from tue night 10/22 thru the night of fri 10/25. demolition of 2nd half of old valley view av bridge. for more details go to \\nhttp: tinyurl.com/yxfgt6nc\\xa0 http: my5la.com\\xa0pic.twitter.com/un9csivlwm'"
      ]
     },
     "execution_count": 522,
     "metadata": {},
     "output_type": "execute_result"
    }
   ],
   "source": [
    "X_test_true_pos['text'][3640]"
   ]
  },
  {
   "cell_type": "code",
   "execution_count": 523,
   "metadata": {},
   "outputs": [
    {
     "data": {
      "text/plain": [
       "'\"#nb14 (#antelopevalleyfwy) - two right lanes are closed south of #soledadcanyon rd due to brushfire, #soledadfire;\\n\\navoid the area, expect delays!\"\\n\\n@caltransdist7\\n#losangeles #ca #socal #cafires #traffic'"
      ]
     },
     "execution_count": 523,
     "metadata": {},
     "output_type": "execute_result"
    }
   ],
   "source": [
    "X_test_true_pos['text'][4062]"
   ]
  },
  {
   "cell_type": "code",
   "execution_count": 524,
   "metadata": {},
   "outputs": [
    {
     "data": {
      "text/plain": [
       "'the ripple effect from the closures on the #saddleridgefire is incredible...massive delays into the cajon pass on both sides of the #15fwy, eastbound pearblossom highway getting bad and the kramer junction (395/58)is now jammed as well @knx1070 https: app.radio.com/social-download-knx-1070-newsradio\\xa0…'"
      ]
     },
     "execution_count": 524,
     "metadata": {},
     "output_type": "execute_result"
    }
   ],
   "source": [
    "X_test_true_pos['text'][8580]"
   ]
  },
  {
   "cell_type": "code",
   "execution_count": 525,
   "metadata": {},
   "outputs": [
    {
     "data": {
      "text/plain": [
       "'#easyfire closure update:\\n\\n-sr-23 in both directions between avenida de los arboles in thousand oaks\\xa0and los angeles ave. in moorpark\\n\\n-sr-118 east off/on ramp at yosemite avenue in simi valley closed until approximately 4pm.'"
      ]
     },
     "execution_count": 525,
     "metadata": {},
     "output_type": "execute_result"
    }
   ],
   "source": [
    "X_test_true_pos['text'][6957]"
   ]
  },
  {
   "cell_type": "code",
   "execution_count": null,
   "metadata": {},
   "outputs": [],
   "source": []
  }
 ],
 "metadata": {
  "kernelspec": {
   "display_name": "Python 3",
   "language": "python",
   "name": "python3"
  },
  "language_info": {
   "codemirror_mode": {
    "name": "ipython",
    "version": 3
   },
   "file_extension": ".py",
   "mimetype": "text/x-python",
   "name": "python",
   "nbconvert_exporter": "python",
   "pygments_lexer": "ipython3",
   "version": "3.7.4"
  }
 },
 "nbformat": 4,
 "nbformat_minor": 4
}
